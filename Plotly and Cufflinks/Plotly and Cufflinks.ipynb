{
 "cells": [
  {
   "cell_type": "markdown",
   "metadata": {},
   "source": [
    "## Installation\n",
    "    pip install plotly\n",
    "    pip install cufflinks\n",
    "\n",
    "## Imports and Set-up"
   ]
  },
  {
   "cell_type": "code",
   "execution_count": 1,
   "metadata": {},
   "outputs": [],
   "source": [
    "import pandas as pd\n",
    "import numpy as np\n",
    "%matplotlib inline"
   ]
  },
  {
   "cell_type": "code",
   "execution_count": 6,
   "metadata": {},
   "outputs": [
    {
     "name": "stdout",
     "output_type": "stream",
     "text": [
      "4.6.0\n"
     ]
    }
   ],
   "source": [
    "from plotly import __version__\n",
    "from plotly.offline import download_plotlyjs, init_notebook_mode, plot, iplot #plotly şirketi online olarak da destek verebiliyor. ancak biz offline çalışacağız\n",
    "import chart_studio.plotly as py\n",
    "\n",
    "\n",
    "print(__version__) # requires version >= 1.9.0"
   ]
  },
  {
   "cell_type": "code",
   "execution_count": 7,
   "metadata": {},
   "outputs": [],
   "source": [
    "import cufflinks as cf"
   ]
  },
  {
   "cell_type": "code",
   "execution_count": 8,
   "metadata": {},
   "outputs": [
    {
     "data": {
      "text/html": [
       "        <script type=\"text/javascript\">\n",
       "        window.PlotlyConfig = {MathJaxConfig: 'local'};\n",
       "        if (window.MathJax) {MathJax.Hub.Config({SVG: {font: \"STIX-Web\"}});}\n",
       "        if (typeof require !== 'undefined') {\n",
       "        require.undef(\"plotly\");\n",
       "        requirejs.config({\n",
       "            paths: {\n",
       "                'plotly': ['https://cdn.plot.ly/plotly-latest.min']\n",
       "            }\n",
       "        });\n",
       "        require(['plotly'], function(Plotly) {\n",
       "            window._Plotly = Plotly;\n",
       "        });\n",
       "        }\n",
       "        </script>\n",
       "        "
      ]
     },
     "metadata": {},
     "output_type": "display_data"
    }
   ],
   "source": [
    "# For Notebooks\n",
    "init_notebook_mode(connected=True) #pandas ve pythonı javascripte bağlar"
   ]
  },
  {
   "cell_type": "code",
   "execution_count": 11,
   "metadata": {},
   "outputs": [
    {
     "data": {
      "text/html": [
       "        <script type=\"text/javascript\">\n",
       "        window.PlotlyConfig = {MathJaxConfig: 'local'};\n",
       "        if (window.MathJax) {MathJax.Hub.Config({SVG: {font: \"STIX-Web\"}});}\n",
       "        if (typeof require !== 'undefined') {\n",
       "        require.undef(\"plotly\");\n",
       "        requirejs.config({\n",
       "            paths: {\n",
       "                'plotly': ['https://cdn.plot.ly/plotly-latest.min']\n",
       "            }\n",
       "        });\n",
       "        require(['plotly'], function(Plotly) {\n",
       "            window._Plotly = Plotly;\n",
       "        });\n",
       "        }\n",
       "        </script>\n",
       "        "
      ]
     },
     "metadata": {},
     "output_type": "display_data"
    }
   ],
   "source": [
    "# For offline use\n",
    "cf.go_offline() #cufflinksi offline kullanacağız"
   ]
  },
  {
   "cell_type": "markdown",
   "metadata": {},
   "source": [
    "### Fake Data"
   ]
  },
  {
   "cell_type": "code",
   "execution_count": 14,
   "metadata": {},
   "outputs": [],
   "source": [
    "df = pd.DataFrame(np.random.randn(100,4),columns='A B C D'.split()) #normal dağılımla 100 satır 4 sütun oluşturduk"
   ]
  },
  {
   "cell_type": "code",
   "execution_count": 15,
   "metadata": {},
   "outputs": [
    {
     "data": {
      "text/html": [
       "<div>\n",
       "<style scoped>\n",
       "    .dataframe tbody tr th:only-of-type {\n",
       "        vertical-align: middle;\n",
       "    }\n",
       "\n",
       "    .dataframe tbody tr th {\n",
       "        vertical-align: top;\n",
       "    }\n",
       "\n",
       "    .dataframe thead th {\n",
       "        text-align: right;\n",
       "    }\n",
       "</style>\n",
       "<table border=\"1\" class=\"dataframe\">\n",
       "  <thead>\n",
       "    <tr style=\"text-align: right;\">\n",
       "      <th></th>\n",
       "      <th>A</th>\n",
       "      <th>B</th>\n",
       "      <th>C</th>\n",
       "      <th>D</th>\n",
       "    </tr>\n",
       "  </thead>\n",
       "  <tbody>\n",
       "    <tr>\n",
       "      <td>0</td>\n",
       "      <td>-0.822488</td>\n",
       "      <td>-0.105164</td>\n",
       "      <td>1.057444</td>\n",
       "      <td>0.379878</td>\n",
       "    </tr>\n",
       "    <tr>\n",
       "      <td>1</td>\n",
       "      <td>-0.104711</td>\n",
       "      <td>1.005338</td>\n",
       "      <td>1.492156</td>\n",
       "      <td>0.532564</td>\n",
       "    </tr>\n",
       "    <tr>\n",
       "      <td>2</td>\n",
       "      <td>-2.769584</td>\n",
       "      <td>0.771136</td>\n",
       "      <td>-1.766149</td>\n",
       "      <td>-1.889194</td>\n",
       "    </tr>\n",
       "    <tr>\n",
       "      <td>3</td>\n",
       "      <td>-2.242416</td>\n",
       "      <td>-0.958536</td>\n",
       "      <td>0.546803</td>\n",
       "      <td>-0.034448</td>\n",
       "    </tr>\n",
       "    <tr>\n",
       "      <td>4</td>\n",
       "      <td>0.490203</td>\n",
       "      <td>1.413792</td>\n",
       "      <td>-0.470265</td>\n",
       "      <td>1.410407</td>\n",
       "    </tr>\n",
       "  </tbody>\n",
       "</table>\n",
       "</div>"
      ],
      "text/plain": [
       "          A         B         C         D\n",
       "0 -0.822488 -0.105164  1.057444  0.379878\n",
       "1 -0.104711  1.005338  1.492156  0.532564\n",
       "2 -2.769584  0.771136 -1.766149 -1.889194\n",
       "3 -2.242416 -0.958536  0.546803 -0.034448\n",
       "4  0.490203  1.413792 -0.470265  1.410407"
      ]
     },
     "execution_count": 15,
     "metadata": {},
     "output_type": "execute_result"
    }
   ],
   "source": [
    "df.head()"
   ]
  },
  {
   "cell_type": "code",
   "execution_count": 16,
   "metadata": {},
   "outputs": [],
   "source": [
    "df2 = pd.DataFrame({'Category':['A','B','C'],'Values':[32,43,50]})"
   ]
  },
  {
   "cell_type": "code",
   "execution_count": 17,
   "metadata": {},
   "outputs": [
    {
     "data": {
      "text/html": [
       "<div>\n",
       "<style scoped>\n",
       "    .dataframe tbody tr th:only-of-type {\n",
       "        vertical-align: middle;\n",
       "    }\n",
       "\n",
       "    .dataframe tbody tr th {\n",
       "        vertical-align: top;\n",
       "    }\n",
       "\n",
       "    .dataframe thead th {\n",
       "        text-align: right;\n",
       "    }\n",
       "</style>\n",
       "<table border=\"1\" class=\"dataframe\">\n",
       "  <thead>\n",
       "    <tr style=\"text-align: right;\">\n",
       "      <th></th>\n",
       "      <th>Category</th>\n",
       "      <th>Values</th>\n",
       "    </tr>\n",
       "  </thead>\n",
       "  <tbody>\n",
       "    <tr>\n",
       "      <td>0</td>\n",
       "      <td>A</td>\n",
       "      <td>32</td>\n",
       "    </tr>\n",
       "    <tr>\n",
       "      <td>1</td>\n",
       "      <td>B</td>\n",
       "      <td>43</td>\n",
       "    </tr>\n",
       "    <tr>\n",
       "      <td>2</td>\n",
       "      <td>C</td>\n",
       "      <td>50</td>\n",
       "    </tr>\n",
       "  </tbody>\n",
       "</table>\n",
       "</div>"
      ],
      "text/plain": [
       "  Category  Values\n",
       "0        A      32\n",
       "1        B      43\n",
       "2        C      50"
      ]
     },
     "execution_count": 17,
     "metadata": {},
     "output_type": "execute_result"
    }
   ],
   "source": [
    "df2.head()"
   ]
  },
  {
   "cell_type": "code",
   "execution_count": 18,
   "metadata": {
    "scrolled": true
   },
   "outputs": [
    {
     "data": {
      "text/plain": [
       "<matplotlib.axes._subplots.AxesSubplot at 0xe91e488>"
      ]
     },
     "execution_count": 18,
     "metadata": {},
     "output_type": "execute_result"
    },
    {
     "data": {
      "image/png": "[encoded data removed]",
      "text/plain": [
       "<Figure size 432x288 with 1 Axes>"
      ]
     },
     "metadata": {
      "needs_background": "light"
     },
     "output_type": "display_data"
    }
   ],
   "source": [
    "df.plot()"
   ]
  },
  {
   "cell_type": "code",
   "execution_count": 20,
   "metadata": {},
   "outputs": [
    {
     "data": {
      "application/vnd.plotly.v1+json": {
       "config": {
        "linkText": "Export to plot.ly",
        "plotlyServerURL": "https://plot.ly",
        "showLink": true
       },
       "data": [
        {
         "line": {
          "color": "rgba(255, 153, 51, 1.0)",
          "dash": "solid",
          "shape": "linear",
          "width": 1.3
         },
         "mode": "lines",
         "name": "A",
         "text": "",
         "type": "scatter",
         "x": [
          0,
          1,
          2,
          3,
          4,
          5,
          6,
          7,
          8,
          9,
          10,
          11,
          12,
          13,
          14,
          15,
          16,
          17,
          18,
          19,
          20,
          21,
          22,
          23,
          24,
          25,
          26,
          27,
          28,
          29,
          30,
          31,
          32,
          33,
          34,
          35,
          36,
          37,
          38,
          39,
          40,
          41,
          42,
          43,
          44,
          45,
          46,
          47,
          48,
          49,
          50,
          51,
          52,
          53,
          54,
          55,
          56,
          57,
          58,
          59,
          60,
          61,
          62,
          63,
          64,
          65,
          66,
          67,
          68,
          69,
          70,
          71,
          72,
          73,
          74,
          75,
          76,
          77,
          78,
          79,
          80,
          81,
          82,
          83,
          84,
          85,
          86,
          87,
          88,
          89,
          90,
          91,
          92,
          93,
          94,
          95,
          96,
          97,
          98,
          99
         ],
         "y": [
          -0.8224878330406368,
          -0.10471106442069328,
          -2.769584391084238,
          -2.2424162672391885,
          0.490203066976595,
          2.8691407911563673,
          -0.0803435729235115,
          -0.12115858301628984,
          1.0499603993850388,
          1.1283694551511767,
          1.8380934783110614,
          0.4645233310960621,
          -0.3486835398494006,
          0.9664744927848891,
          -0.33835704495058144,
          -1.28473461375488,
          1.7985504608251153,
          1.1553157661273779,
          0.4134915078299442,
          0.7475612530709317,
          0.4201660768259774,
          0.07722115747936044,
          1.0221609726299972,
          -1.077323357084743,
          -0.34977897732417185,
          1.3733646137384052,
          -0.15833165590252143,
          1.4947517994373962,
          -0.38989674078583964,
          -0.5243134691725355,
          -1.097052749096775,
          1.054960626543361,
          1.5146706425888474,
          0.40891220981344617,
          -0.03669418351965464,
          -0.13067256359666868,
          -1.3643656789650926,
          1.3642052302623737,
          0.3013624226546742,
          -1.604831448237099,
          1.9936387069916879,
          -0.7344022390099565,
          -1.0909182813824605,
          0.7899232933086707,
          -0.7888330616466801,
          0.24423391011295395,
          -1.433561400695055,
          -0.8051710423228607,
          1.3878930883952874,
          -0.23677373547589425,
          1.4198942689724774,
          -0.8583559909421177,
          -0.5094931311348392,
          -0.29723488125835085,
          1.4666563744515433,
          -0.5961247866543091,
          0.38967071033631834,
          0.9968517939347469,
          -1.2518718953723809,
          0.25183778792382366,
          0.6679256901564015,
          0.996754273254323,
          0.12748412059035386,
          -0.3186507334386617,
          0.8058549264472583,
          0.793026285047879,
          0.2345960517139365,
          0.42175178151213183,
          -1.9211488472442586,
          0.1219224349688401,
          0.05176320596206913,
          -0.3497984577725166,
          0.456054887712555,
          0.07617950164554171,
          1.3404993482278846,
          0.14392955845017877,
          -1.138648683092966,
          1.494168391233162,
          0.029884199072675432,
          -0.10405794060352479,
          -0.28770790124207524,
          -1.4419491390038417,
          0.5682946601649805,
          0.21954096821881025,
          -0.16217288802578836,
          0.9521454603349894,
          0.13231876090108707,
          0.12117149081466017,
          -0.9367090923602004,
          1.264286886996742,
          1.9986274543811504,
          0.6872677252241897,
          0.23490617405340217,
          0.1779749622995297,
          0.20027271975265543,
          -1.7896732465301717,
          -0.38825505562436735,
          0.6518389289274054,
          1.4429880702473201,
          1.085490258313375
         ]
        },
        {
         "line": {
          "color": "rgba(55, 128, 191, 1.0)",
          "dash": "solid",
          "shape": "linear",
          "width": 1.3
         },
         "mode": "lines",
         "name": "B",
         "text": "",
         "type": "scatter",
         "x": [
          0,
          1,
          2,
          3,
          4,
          5,
          6,
          7,
          8,
          9,
          10,
          11,
          12,
          13,
          14,
          15,
          16,
          17,
          18,
          19,
          20,
          21,
          22,
          23,
          24,
          25,
          26,
          27,
          28,
          29,
          30,
          31,
          32,
          33,
          34,
          35,
          36,
          37,
          38,
          39,
          40,
          41,
          42,
          43,
          44,
          45,
          46,
          47,
          48,
          49,
          50,
          51,
          52,
          53,
          54,
          55,
          56,
          57,
          58,
          59,
          60,
          61,
          62,
          63,
          64,
          65,
          66,
          67,
          68,
          69,
          70,
          71,
          72,
          73,
          74,
          75,
          76,
          77,
          78,
          79,
          80,
          81,
          82,
          83,
          84,
          85,
          86,
          87,
          88,
          89,
          90,
          91,
          92,
          93,
          94,
          95,
          96,
          97,
          98,
          99
         ],
         "y": [
          -0.10516366801878904,
          1.0053383313461546,
          0.7711355623806072,
          -0.9585361003596985,
          1.413791782075609,
          -0.011999672475143592,
          -0.2332276829472234,
          0.9994963176647628,
          0.8010134369014502,
          -0.462304224009063,
          1.1184462932071981,
          -0.589992861130369,
          -2.407485278886959,
          -0.7466993868046775,
          -0.4473733557949075,
          0.3805477134400745,
          2.336840387236904,
          0.43387049430242997,
          0.8152523192214589,
          0.6089888934661134,
          -1.526454646964997,
          -1.3206012488138623,
          -1.0431640274931064,
          0.7749127003189561,
          -0.2493808914655523,
          1.458109788045986,
          1.4404921519603873,
          -0.9441221138653232,
          0.2732931046600395,
          0.670748994079489,
          1.2851525315752468,
          -1.7303505300847168,
          0.2564344283676181,
          1.0512380697522659,
          0.7990793338822009,
          -0.8273449445815736,
          -0.13302628947133086,
          1.151813367457789,
          -0.8116827986139052,
          0.16250672924139484,
          0.6119741800924526,
          -0.12623253101768572,
          -0.645412471356651,
          0.21225836348979263,
          0.9828919578145259,
          -1.0640505904153608,
          0.8606516119398787,
          -0.03836903085700935,
          -1.029494471649252,
          1.5927070980793128,
          0.345091231227057,
          0.19380779779508553,
          -1.2171439092573397,
          -1.1221298763480816,
          -0.71548838463745,
          0.8618914945926935,
          0.8709948734880736,
          1.3214572814137557,
          0.3656583698395165,
          -1.0611358360980878,
          2.6045600811046117,
          0.29786624169468395,
          -1.2181968397107135,
          0.005947039893275675,
          -0.9217262323903322,
          0.43250191129540305,
          -2.059956112643729,
          -0.24783647778024964,
          -0.825755005236759,
          0.5104517899980096,
          0.7756766680790673,
          -0.6948728890863228,
          0.10526112030629592,
          0.595048497478357,
          -0.9684246545495997,
          0.9805904389899971,
          -0.5150824233574389,
          -1.8701413759264716,
          0.045707577044487815,
          -1.1812227615164517,
          -0.47919058861042635,
          0.2020800241922994,
          -1.0295277726875516,
          -0.8007147666280858,
          -1.1849668586810944,
          -1.8499115869420633,
          -0.5969137115751699,
          1.48710606342048,
          0.5010826710528153,
          0.23312570917424857,
          0.4466191745148875,
          -0.7773227430247127,
          0.05908523285531262,
          -0.411275094211949,
          -1.090825864124665,
          0.2214935949606966,
          1.3352016027920028,
          -0.11906672568050544,
          -1.7799645711470489,
          1.4945027836142082
         ]
        },
        {
         "line": {
          "color": "rgba(50, 171, 96, 1.0)",
          "dash": "solid",
          "shape": "linear",
          "width": 1.3
         },
         "mode": "lines",
         "name": "C",
         "text": "",
         "type": "scatter",
         "x": [
          0,
          1,
          2,
          3,
          4,
          5,
          6,
          7,
          8,
          9,
          10,
          11,
          12,
          13,
          14,
          15,
          16,
          17,
          18,
          19,
          20,
          21,
          22,
          23,
          24,
          25,
          26,
          27,
          28,
          29,
          30,
          31,
          32,
          33,
          34,
          35,
          36,
          37,
          38,
          39,
          40,
          41,
          42,
          43,
          44,
          45,
          46,
          47,
          48,
          49,
          50,
          51,
          52,
          53,
          54,
          55,
          56,
          57,
          58,
          59,
          60,
          61,
          62,
          63,
          64,
          65,
          66,
          67,
          68,
          69,
          70,
          71,
          72,
          73,
          74,
          75,
          76,
          77,
          78,
          79,
          80,
          81,
          82,
          83,
          84,
          85,
          86,
          87,
          88,
          89,
          90,
          91,
          92,
          93,
          94,
          95,
          96,
          97,
          98,
          99
         ],
         "y": [
          1.0574435496930406,
          1.4921564787890202,
          -1.7661487698322937,
          0.5468034187042222,
          -0.47026472549686354,
          0.028866797470123048,
          0.3139952672131217,
          1.0668782081292985,
          0.09238728722526235,
          0.283247834274512,
          0.4487993866836888,
          0.9132713227316623,
          0.008592406413361182,
          -0.7173373816876694,
          -0.037214402351031156,
          -2.8949439095111407,
          0.4140767599284732,
          -1.3715577493217457,
          1.2411017703319136,
          -0.7750902687746185,
          -1.3369518346870932,
          -1.1874007524465737,
          0.3681246871113735,
          -0.29296405505946915,
          -0.4120491294340162,
          -0.6393549290429247,
          -1.6252105983283975,
          -1.3122854422321009,
          -1.9360909602917662,
          1.2027910029886157,
          -0.4518326104029993,
          -2.29567896659763,
          -2.2027365357952218,
          -0.9495835357613918,
          -0.7322557769196346,
          -0.9241767204331726,
          0.5631995965443728,
          -0.6312706493382001,
          1.024196030529535,
          0.4297610318922039,
          -0.7504142855157657,
          1.0706424815592872,
          -0.31772007630060434,
          0.6705110936808703,
          0.4534108865873891,
          1.5475342889743962,
          0.3660711004823217,
          1.2934499121707412,
          0.7491633869777687,
          0.09037087793335094,
          0.3709638152711295,
          -1.351420359786962,
          -0.4203974223630586,
          0.18498829849810838,
          -1.6876380183562545,
          -1.131961576340599,
          -0.6104901531877899,
          -2.2658956080934023,
          -0.186352790636565,
          1.9137723635641175,
          0.13508744155143304,
          1.0159023595649985,
          -1.8165198631533503,
          0.29210575387975946,
          -2.520194559655417,
          0.2127339800838521,
          0.6223598055465379,
          0.5766940739463821,
          1.355567983001298,
          -0.4679608448477689,
          -0.4400613901138157,
          -1.3310223817525753,
          -0.8755271323754789,
          0.6197069606377154,
          1.4410149209822796,
          -0.14775880614740602,
          -1.1989896338434585,
          0.8030412590191057,
          0.11810621881639764,
          1.705029039681729,
          -2.009349513148917,
          -1.1579539361380786,
          -0.21682015326728335,
          0.018930436667645812,
          -0.31797119351666403,
          -0.8411642149311813,
          0.3495781033263939,
          -0.9349822805499162,
          -0.3114537226336073,
          -0.27159842048918575,
          0.8369615864242455,
          0.7858872047734048,
          -1.7845289249109602,
          1.0115271820947205,
          0.11688723804189248,
          0.4384478782073346,
          0.008889099217462877,
          -1.2107890685045604,
          -0.4071907027266032,
          0.6536957941340616
         ]
        },
        {
         "line": {
          "color": "rgba(128, 0, 128, 1.0)",
          "dash": "solid",
          "shape": "linear",
          "width": 1.3
         },
         "mode": "lines",
         "name": "D",
         "text": "",
         "type": "scatter",
         "x": [
          0,
          1,
          2,
          3,
          4,
          5,
          6,
          7,
          8,
          9,
          10,
          11,
          12,
          13,
          14,
          15,
          16,
          17,
          18,
          19,
          20,
          21,
          22,
          23,
          24,
          25,
          26,
          27,
          28,
          29,
          30,
          31,
          32,
          33,
          34,
          35,
          36,
          37,
          38,
          39,
          40,
          41,
          42,
          43,
          44,
          45,
          46,
          47,
          48,
          49,
          50,
          51,
          52,
          53,
          54,
          55,
          56,
          57,
          58,
          59,
          60,
          61,
          62,
          63,
          64,
          65,
          66,
          67,
          68,
          69,
          70,
          71,
          72,
          73,
          74,
          75,
          76,
          77,
          78,
          79,
          80,
          81,
          82,
          83,
          84,
          85,
          86,
          87,
          88,
          89,
          90,
          91,
          92,
          93,
          94,
          95,
          96,
          97,
          98,
          99
         ],
         "y": [
          0.3798783138869394,
          0.5325642324025878,
          -1.8891938479625277,
          -0.03444831396935892,
          1.4104072642934369,
          -0.3503592139676249,
          -0.4518190931196363,
          -0.3526980962729689,
          -0.13644755472497294,
          0.956469914017513,
          0.2766338633851785,
          0.48679215566673106,
          0.6305138639396141,
          0.670662053678759,
          0.17246341882456473,
          1.6896887579244286,
          -0.09568047093000441,
          0.37002779584454143,
          -0.5889076792874218,
          -0.993264289903829,
          0.032929627729489694,
          2.459806536192735,
          -0.5300658412981611,
          -0.5462519759274664,
          2.2185127174957526,
          -1.2873566015766316,
          1.1085631311275275,
          0.7540336592440204,
          -2.405117365648385,
          0.7519527988408649,
          0.960740272412522,
          0.6661987152882016,
          0.09604344180668174,
          0.19791457794456077,
          -0.5767798450403657,
          -0.6094379212386503,
          0.9635133288340161,
          -0.1916057929549026,
          0.2822548631386541,
          -0.39170312163360355,
          1.0553270001104484,
          -0.8883354765977708,
          0.14339533089131373,
          1.4340419022520996,
          1.5387313432423801,
          -0.4491124148977889,
          0.24097568616595325,
          -1.0952678381537415,
          -1.3070247606070595,
          0.3665277479805535,
          -0.2783540192377507,
          0.629501823076368,
          0.6849483439792226,
          -0.5315032934853802,
          1.0444660828634182,
          1.538436301126394,
          0.4319327354213975,
          -0.14084430545192075,
          1.7219787146097316,
          1.3972112919116941,
          -0.20272716886416664,
          0.07143726678942765,
          -0.363681910844145,
          -1.5668551317424237,
          0.378403314966072,
          0.43504543706164983,
          -0.10889111832006396,
          -0.791434625542699,
          1.6099239399808436,
          0.5452652674536136,
          -1.4854687171382646,
          0.8676730513097982,
          1.1204485778757485,
          0.6843594944768051,
          -0.7510865824027254,
          -0.2332906102221231,
          0.8787493888412986,
          0.6480584613902357,
          -0.42944843729204674,
          1.1820664129266354,
          -0.3372464499840548,
          0.9756828395663479,
          -0.4664566749827974,
          0.619425782469263,
          0.7089529472891641,
          -0.5008345898697598,
          0.9463043227431527,
          -0.011880002448478146,
          0.23520814180111044,
          -0.18531967636238048,
          0.03318441552433788,
          -0.6339369120426261,
          -0.3350870887531984,
          0.5644887956088116,
          0.6160211323302354,
          0.6940017094073261,
          -0.14109006224355106,
          0.8750595947946054,
          0.4015732140810989,
          -0.5021013131557769
         ]
        }
       ],
       "layout": {
        "legend": {
         "bgcolor": "#F5F6F9",
         "font": {
          "color": "#4D5663"
         }
        },
        "paper_bgcolor": "#F5F6F9",
        "plot_bgcolor": "#F5F6F9",
        "template": {
         "data": {
          "bar": [
           {
            "error_x": {
             "color": "#2a3f5f"
            },
            "error_y": {
             "color": "#2a3f5f"
            },
            "marker": {
             "line": {
              "color": "#E5ECF6",
              "width": 0.5
             }
            },
            "type": "bar"
           }
          ],
          "barpolar": [
           {
            "marker": {
             "line": {
              "color": "#E5ECF6",
              "width": 0.5
             }
            },
            "type": "barpolar"
           }
          ],
          "carpet": [
           {
            "aaxis": {
             "endlinecolor": "#2a3f5f",
             "gridcolor": "white",
             "linecolor": "white",
             "minorgridcolor": "white",
             "startlinecolor": "#2a3f5f"
            },
            "baxis": {
             "endlinecolor": "#2a3f5f",
             "gridcolor": "white",
             "linecolor": "white",
             "minorgridcolor": "white",
             "startlinecolor": "#2a3f5f"
            },
            "type": "carpet"
           }
          ],
          "choropleth": [
           {
            "colorbar": {
             "outlinewidth": 0,
             "ticks": ""
            },
            "type": "choropleth"
           }
          ],
          "contour": [
           {
            "colorbar": {
             "outlinewidth": 0,
             "ticks": ""
            },
            "colorscale": [
             [
              0,
              "#0d0887"
             ],
             [
              0.1111111111111111,
              "#46039f"
             ],
             [
              0.2222222222222222,
              "#7201a8"
             ],
             [
              0.3333333333333333,
              "#9c179e"
             ],
             [
              0.4444444444444444,
              "#bd3786"
             ],
             [
              0.5555555555555556,
              "#d8576b"
             ],
             [
              0.6666666666666666,
              "#ed7953"
             ],
             [
              0.7777777777777778,
              "#fb9f3a"
             ],
             [
              0.8888888888888888,
              "#fdca26"
             ],
             [
              1,
              "#f0f921"
             ]
            ],
            "type": "contour"
           }
          ],
          "contourcarpet": [
           {
            "colorbar": {
             "outlinewidth": 0,
             "ticks": ""
            },
            "type": "contourcarpet"
           }
          ],
          "heatmap": [
           {
            "colorbar": {
             "outlinewidth": 0,
             "ticks": ""
            },
            "colorscale": [
             [
              0,
              "#0d0887"
             ],
             [
              0.1111111111111111,
              "#46039f"
             ],
             [
              0.2222222222222222,
              "#7201a8"
             ],
             [
              0.3333333333333333,
              "#9c179e"
             ],
             [
              0.4444444444444444,
              "#bd3786"
             ],
             [
              0.5555555555555556,
              "#d8576b"
             ],
             [
              0.6666666666666666,
              "#ed7953"
             ],
             [
              0.7777777777777778,
              "#fb9f3a"
             ],
             [
              0.8888888888888888,
              "#fdca26"
             ],
             [
              1,
              "#f0f921"
             ]
            ],
            "type": "heatmap"
           }
          ],
          "heatmapgl": [
           {
            "colorbar": {
             "outlinewidth": 0,
             "ticks": ""
            },
            "colorscale": [
             [
              0,
              "#0d0887"
             ],
             [
              0.1111111111111111,
              "#46039f"
             ],
             [
              0.2222222222222222,
              "#7201a8"
             ],
             [
              0.3333333333333333,
              "#9c179e"
             ],
             [
              0.4444444444444444,
              "#bd3786"
             ],
             [
              0.5555555555555556,
              "#d8576b"
             ],
             [
              0.6666666666666666,
              "#ed7953"
             ],
             [
              0.7777777777777778,
              "#fb9f3a"
             ],
             [
              0.8888888888888888,
              "#fdca26"
             ],
             [
              1,
              "#f0f921"
             ]
            ],
            "type": "heatmapgl"
           }
          ],
          "histogram": [
           {
            "marker": {
             "colorbar": {
              "outlinewidth": 0,
              "ticks": ""
             }
            },
            "type": "histogram"
           }
          ],
          "histogram2d": [
           {
            "colorbar": {
             "outlinewidth": 0,
             "ticks": ""
            },
            "colorscale": [
             [
              0,
              "#0d0887"
             ],
             [
              0.1111111111111111,
              "#46039f"
             ],
             [
              0.2222222222222222,
              "#7201a8"
             ],
             [
              0.3333333333333333,
              "#9c179e"
             ],
             [
              0.4444444444444444,
              "#bd3786"
             ],
             [
              0.5555555555555556,
              "#d8576b"
             ],
             [
              0.6666666666666666,
              "#ed7953"
             ],
             [
              0.7777777777777778,
              "#fb9f3a"
             ],
             [
              0.8888888888888888,
              "#fdca26"
             ],
             [
              1,
              "#f0f921"
             ]
            ],
            "type": "histogram2d"
           }
          ],
          "histogram2dcontour": [
           {
            "colorbar": {
             "outlinewidth": 0,
             "ticks": ""
            },
            "colorscale": [
             [
              0,
              "#0d0887"
             ],
             [
              0.1111111111111111,
              "#46039f"
             ],
             [
              0.2222222222222222,
              "#7201a8"
             ],
             [
              0.3333333333333333,
              "#9c179e"
             ],
             [
              0.4444444444444444,
              "#bd3786"
             ],
             [
              0.5555555555555556,
              "#d8576b"
             ],
             [
              0.6666666666666666,
              "#ed7953"
             ],
             [
              0.7777777777777778,
              "#fb9f3a"
             ],
             [
              0.8888888888888888,
              "#fdca26"
             ],
             [
              1,
              "#f0f921"
             ]
            ],
            "type": "histogram2dcontour"
           }
          ],
          "mesh3d": [
           {
            "colorbar": {
             "outlinewidth": 0,
             "ticks": ""
            },
            "type": "mesh3d"
           }
          ],
          "parcoords": [
           {
            "line": {
             "colorbar": {
              "outlinewidth": 0,
              "ticks": ""
             }
            },
            "type": "parcoords"
           }
          ],
          "pie": [
           {
            "automargin": true,
            "type": "pie"
           }
          ],
          "scatter": [
           {
            "marker": {
             "colorbar": {
              "outlinewidth": 0,
              "ticks": ""
             }
            },
            "type": "scatter"
           }
          ],
          "scatter3d": [
           {
            "line": {
             "colorbar": {
              "outlinewidth": 0,
              "ticks": ""
             }
            },
            "marker": {
             "colorbar": {
              "outlinewidth": 0,
              "ticks": ""
             }
            },
            "type": "scatter3d"
           }
          ],
          "scattercarpet": [
           {
            "marker": {
             "colorbar": {
              "outlinewidth": 0,
              "ticks": ""
             }
            },
            "type": "scattercarpet"
           }
          ],
          "scattergeo": [
           {
            "marker": {
             "colorbar": {
              "outlinewidth": 0,
              "ticks": ""
             }
            },
            "type": "scattergeo"
           }
          ],
          "scattergl": [
           {
            "marker": {
             "colorbar": {
              "outlinewidth": 0,
              "ticks": ""
             }
            },
            "type": "scattergl"
           }
          ],
          "scattermapbox": [
           {
            "marker": {
             "colorbar": {
              "outlinewidth": 0,
              "ticks": ""
             }
            },
            "type": "scattermapbox"
           }
          ],
          "scatterpolar": [
           {
            "marker": {
             "colorbar": {
              "outlinewidth": 0,
              "ticks": ""
             }
            },
            "type": "scatterpolar"
           }
          ],
          "scatterpolargl": [
           {
            "marker": {
             "colorbar": {
              "outlinewidth": 0,
              "ticks": ""
             }
            },
            "type": "scatterpolargl"
           }
          ],
          "scatterternary": [
           {
            "marker": {
             "colorbar": {
              "outlinewidth": 0,
              "ticks": ""
             }
            },
            "type": "scatterternary"
           }
          ],
          "surface": [
           {
            "colorbar": {
             "outlinewidth": 0,
             "ticks": ""
            },
            "colorscale": [
             [
              0,
              "#0d0887"
             ],
             [
              0.1111111111111111,
              "#46039f"
             ],
             [
              0.2222222222222222,
              "#7201a8"
             ],
             [
              0.3333333333333333,
              "#9c179e"
             ],
             [
              0.4444444444444444,
              "#bd3786"
             ],
             [
              0.5555555555555556,
              "#d8576b"
             ],
             [
              0.6666666666666666,
              "#ed7953"
             ],
             [
              0.7777777777777778,
              "#fb9f3a"
             ],
             [
              0.8888888888888888,
              "#fdca26"
             ],
             [
              1,
              "#f0f921"
             ]
            ],
            "type": "surface"
           }
          ],
          "table": [
           {
            "cells": {
             "fill": {
              "color": "#EBF0F8"
             },
             "line": {
              "color": "white"
             }
            },
            "header": {
             "fill": {
              "color": "#C8D4E3"
             },
             "line": {
              "color": "white"
             }
            },
            "type": "table"
           }
          ]
         },
         "layout": {
          "annotationdefaults": {
           "arrowcolor": "#2a3f5f",
           "arrowhead": 0,
           "arrowwidth": 1
          },
          "coloraxis": {
           "colorbar": {
            "outlinewidth": 0,
            "ticks": ""
           }
          },
          "colorscale": {
           "diverging": [
            [
             0,
             "#8e0152"
            ],
            [
             0.1,
             "#c51b7d"
            ],
            [
             0.2,
             "#de77ae"
            ],
            [
             0.3,
             "#f1b6da"
            ],
            [
             0.4,
             "#fde0ef"
            ],
            [
             0.5,
             "#f7f7f7"
            ],
            [
             0.6,
             "#e6f5d0"
            ],
            [
             0.7,
             "#b8e186"
            ],
            [
             0.8,
             "#7fbc41"
            ],
            [
             0.9,
             "#4d9221"
            ],
            [
             1,
             "#276419"
            ]
           ],
           "sequential": [
            [
             0,
             "#0d0887"
            ],
            [
             0.1111111111111111,
             "#46039f"
            ],
            [
             0.2222222222222222,
             "#7201a8"
            ],
            [
             0.3333333333333333,
             "#9c179e"
            ],
            [
             0.4444444444444444,
             "#bd3786"
            ],
            [
             0.5555555555555556,
             "#d8576b"
            ],
            [
             0.6666666666666666,
             "#ed7953"
            ],
            [
             0.7777777777777778,
             "#fb9f3a"
            ],
            [
             0.8888888888888888,
             "#fdca26"
            ],
            [
             1,
             "#f0f921"
            ]
           ],
           "sequentialminus": [
            [
             0,
             "#0d0887"
            ],
            [
             0.1111111111111111,
             "#46039f"
            ],
            [
             0.2222222222222222,
             "#7201a8"
            ],
            [
             0.3333333333333333,
             "#9c179e"
            ],
            [
             0.4444444444444444,
             "#bd3786"
            ],
            [
             0.5555555555555556,
             "#d8576b"
            ],
            [
             0.6666666666666666,
             "#ed7953"
            ],
            [
             0.7777777777777778,
             "#fb9f3a"
            ],
            [
             0.8888888888888888,
             "#fdca26"
            ],
            [
             1,
             "#f0f921"
            ]
           ]
          },
          "colorway": [
           "#636efa",
           "#EF553B",
           "#00cc96",
           "#ab63fa",
           "#FFA15A",
           "#19d3f3",
           "#FF6692",
           "#B6E880",
           "#FF97FF",
           "#FECB52"
          ],
          "font": {
           "color": "#2a3f5f"
          },
          "geo": {
           "bgcolor": "white",
           "lakecolor": "white",
           "landcolor": "#E5ECF6",
           "showlakes": true,
           "showland": true,
           "subunitcolor": "white"
          },
          "hoverlabel": {
           "align": "left"
          },
          "hovermode": "closest",
          "mapbox": {
           "style": "light"
          },
          "paper_bgcolor": "white",
          "plot_bgcolor": "#E5ECF6",
          "polar": {
           "angularaxis": {
            "gridcolor": "white",
            "linecolor": "white",
            "ticks": ""
           },
           "bgcolor": "#E5ECF6",
           "radialaxis": {
            "gridcolor": "white",
            "linecolor": "white",
            "ticks": ""
           }
          },
          "scene": {
           "xaxis": {
            "backgroundcolor": "#E5ECF6",
            "gridcolor": "white",
            "gridwidth": 2,
            "linecolor": "white",
            "showbackground": true,
            "ticks": "",
            "zerolinecolor": "white"
           },
           "yaxis": {
            "backgroundcolor": "#E5ECF6",
            "gridcolor": "white",
            "gridwidth": 2,
            "linecolor": "white",
            "showbackground": true,
            "ticks": "",
            "zerolinecolor": "white"
           },
           "zaxis": {
            "backgroundcolor": "#E5ECF6",
            "gridcolor": "white",
            "gridwidth": 2,
            "linecolor": "white",
            "showbackground": true,
            "ticks": "",
            "zerolinecolor": "white"
           }
          },
          "shapedefaults": {
           "line": {
            "color": "#2a3f5f"
           }
          },
          "ternary": {
           "aaxis": {
            "gridcolor": "white",
            "linecolor": "white",
            "ticks": ""
           },
           "baxis": {
            "gridcolor": "white",
            "linecolor": "white",
            "ticks": ""
           },
           "bgcolor": "#E5ECF6",
           "caxis": {
            "gridcolor": "white",
            "linecolor": "white",
            "ticks": ""
           }
          },
          "title": {
           "x": 0.05
          },
          "xaxis": {
           "automargin": true,
           "gridcolor": "white",
           "linecolor": "white",
           "ticks": "",
           "title": {
            "standoff": 15
           },
           "zerolinecolor": "white",
           "zerolinewidth": 2
          },
          "yaxis": {
           "automargin": true,
           "gridcolor": "white",
           "linecolor": "white",
           "ticks": "",
           "title": {
            "standoff": 15
           },
           "zerolinecolor": "white",
           "zerolinewidth": 2
          }
         }
        },
        "title": {
         "font": {
          "color": "#4D5663"
         }
        },
        "xaxis": {
         "gridcolor": "#E1E5ED",
         "showgrid": true,
         "tickfont": {
          "color": "#4D5663"
         },
         "title": {
          "font": {
           "color": "#4D5663"
          },
          "text": ""
         },
         "zerolinecolor": "#E1E5ED"
        },
        "yaxis": {
         "gridcolor": "#E1E5ED",
         "showgrid": true,
         "tickfont": {
          "color": "#4D5663"
         },
         "title": {
          "font": {
           "color": "#4D5663"
          },
          "text": ""
         },
         "zerolinecolor": "#E1E5ED"
        }
       }
      },
      "text/html": [
       "<div>\n",
       "        \n",
       "        \n",
       "            <div id=\"cee329a1-0f89-4659-9bff-c9f317c0fb90\" class=\"plotly-graph-div\" style=\"height:525px; width:100%;\"></div>\n",
       "            <script type=\"text/javascript\">\n",
       "                require([\"plotly\"], function(Plotly) {\n",
       "                    window.PLOTLYENV=window.PLOTLYENV || {};\n",
       "                    window.PLOTLYENV.BASE_URL='https://plot.ly';\n",
       "                    \n",
       "                if (document.getElementById(\"cee329a1-0f89-4659-9bff-c9f317c0fb90\")) {\n",
       "                    Plotly.newPlot(\n",
       "                        'cee329a1-0f89-4659-9bff-c9f317c0fb90',\n",
       "                        [{\"line\": {\"color\": \"rgba(255, 153, 51, 1.0)\", \"dash\": \"solid\", \"shape\": \"linear\", \"width\": 1.3}, \"mode\": \"lines\", \"name\": \"A\", \"text\": \"\", \"type\": \"scatter\", \"x\": [0, 1, 2, 3, 4, 5, 6, 7, 8, 9, 10, 11, 12, 13, 14, 15, 16, 17, 18, 19, 20, 21, 22, 23, 24, 25, 26, 27, 28, 29, 30, 31, 32, 33, 34, 35, 36, 37, 38, 39, 40, 41, 42, 43, 44, 45, 46, 47, 48, 49, 50, 51, 52, 53, 54, 55, 56, 57, 58, 59, 60, 61, 62, 63, 64, 65, 66, 67, 68, 69, 70, 71, 72, 73, 74, 75, 76, 77, 78, 79, 80, 81, 82, 83, 84, 85, 86, 87, 88, 89, 90, 91, 92, 93, 94, 95, 96, 97, 98, 99], \"y\": [-0.8224878330406368, -0.10471106442069328, -2.769584391084238, -2.2424162672391885, 0.490203066976595, 2.8691407911563673, -0.0803435729235115, -0.12115858301628984, 1.0499603993850388, 1.1283694551511767, 1.8380934783110614, 0.4645233310960621, -0.3486835398494006, 0.9664744927848891, -0.33835704495058144, -1.28473461375488, 1.7985504608251153, 1.1553157661273779, 0.4134915078299442, 0.7475612530709317, 0.4201660768259774, 0.07722115747936044, 1.0221609726299972, -1.077323357084743, -0.34977897732417185, 1.3733646137384052, -0.15833165590252143, 1.4947517994373962, -0.38989674078583964, -0.5243134691725355, -1.097052749096775, 1.054960626543361, 1.5146706425888474, 0.40891220981344617, -0.03669418351965464, -0.13067256359666868, -1.3643656789650926, 1.3642052302623737, 0.3013624226546742, -1.604831448237099, 1.9936387069916879, -0.7344022390099565, -1.0909182813824605, 0.7899232933086707, -0.7888330616466801, 0.24423391011295395, -1.433561400695055, -0.8051710423228607, 1.3878930883952874, -0.23677373547589425, 1.4198942689724774, -0.8583559909421177, -0.5094931311348392, -0.29723488125835085, 1.4666563744515433, -0.5961247866543091, 0.38967071033631834, 0.9968517939347469, -1.2518718953723809, 0.25183778792382366, 0.6679256901564015, 0.996754273254323, 0.12748412059035386, -0.3186507334386617, 0.8058549264472583, 0.793026285047879, 0.2345960517139365, 0.42175178151213183, -1.9211488472442586, 0.1219224349688401, 0.05176320596206913, -0.3497984577725166, 0.456054887712555, 0.07617950164554171, 1.3404993482278846, 0.14392955845017877, -1.138648683092966, 1.494168391233162, 0.029884199072675432, -0.10405794060352479, -0.28770790124207524, -1.4419491390038417, 0.5682946601649805, 0.21954096821881025, -0.16217288802578836, 0.9521454603349894, 0.13231876090108707, 0.12117149081466017, -0.9367090923602004, 1.264286886996742, 1.9986274543811504, 0.6872677252241897, 0.23490617405340217, 0.1779749622995297, 0.20027271975265543, -1.7896732465301717, -0.38825505562436735, 0.6518389289274054, 1.4429880702473201, 1.085490258313375]}, {\"line\": {\"color\": \"rgba(55, 128, 191, 1.0)\", \"dash\": \"solid\", \"shape\": \"linear\", \"width\": 1.3}, \"mode\": \"lines\", \"name\": \"B\", \"text\": \"\", \"type\": \"scatter\", \"x\": [0, 1, 2, 3, 4, 5, 6, 7, 8, 9, 10, 11, 12, 13, 14, 15, 16, 17, 18, 19, 20, 21, 22, 23, 24, 25, 26, 27, 28, 29, 30, 31, 32, 33, 34, 35, 36, 37, 38, 39, 40, 41, 42, 43, 44, 45, 46, 47, 48, 49, 50, 51, 52, 53, 54, 55, 56, 57, 58, 59, 60, 61, 62, 63, 64, 65, 66, 67, 68, 69, 70, 71, 72, 73, 74, 75, 76, 77, 78, 79, 80, 81, 82, 83, 84, 85, 86, 87, 88, 89, 90, 91, 92, 93, 94, 95, 96, 97, 98, 99], \"y\": [-0.10516366801878904, 1.0053383313461546, 0.7711355623806072, -0.9585361003596985, 1.413791782075609, -0.011999672475143592, -0.2332276829472234, 0.9994963176647628, 0.8010134369014502, -0.462304224009063, 1.1184462932071981, -0.589992861130369, -2.407485278886959, -0.7466993868046775, -0.4473733557949075, 0.3805477134400745, 2.336840387236904, 0.43387049430242997, 0.8152523192214589, 0.6089888934661134, -1.526454646964997, -1.3206012488138623, -1.0431640274931064, 0.7749127003189561, -0.2493808914655523, 1.458109788045986, 1.4404921519603873, -0.9441221138653232, 0.2732931046600395, 0.670748994079489, 1.2851525315752468, -1.7303505300847168, 0.2564344283676181, 1.0512380697522659, 0.7990793338822009, -0.8273449445815736, -0.13302628947133086, 1.151813367457789, -0.8116827986139052, 0.16250672924139484, 0.6119741800924526, -0.12623253101768572, -0.645412471356651, 0.21225836348979263, 0.9828919578145259, -1.0640505904153608, 0.8606516119398787, -0.03836903085700935, -1.029494471649252, 1.5927070980793128, 0.345091231227057, 0.19380779779508553, -1.2171439092573397, -1.1221298763480816, -0.71548838463745, 0.8618914945926935, 0.8709948734880736, 1.3214572814137557, 0.3656583698395165, -1.0611358360980878, 2.6045600811046117, 0.29786624169468395, -1.2181968397107135, 0.005947039893275675, -0.9217262323903322, 0.43250191129540305, -2.059956112643729, -0.24783647778024964, -0.825755005236759, 0.5104517899980096, 0.7756766680790673, -0.6948728890863228, 0.10526112030629592, 0.595048497478357, -0.9684246545495997, 0.9805904389899971, -0.5150824233574389, -1.8701413759264716, 0.045707577044487815, -1.1812227615164517, -0.47919058861042635, 0.2020800241922994, -1.0295277726875516, -0.8007147666280858, -1.1849668586810944, -1.8499115869420633, -0.5969137115751699, 1.48710606342048, 0.5010826710528153, 0.23312570917424857, 0.4466191745148875, -0.7773227430247127, 0.05908523285531262, -0.411275094211949, -1.090825864124665, 0.2214935949606966, 1.3352016027920028, -0.11906672568050544, -1.7799645711470489, 1.4945027836142082]}, {\"line\": {\"color\": \"rgba(50, 171, 96, 1.0)\", \"dash\": \"solid\", \"shape\": \"linear\", \"width\": 1.3}, \"mode\": \"lines\", \"name\": \"C\", \"text\": \"\", \"type\": \"scatter\", \"x\": [0, 1, 2, 3, 4, 5, 6, 7, 8, 9, 10, 11, 12, 13, 14, 15, 16, 17, 18, 19, 20, 21, 22, 23, 24, 25, 26, 27, 28, 29, 30, 31, 32, 33, 34, 35, 36, 37, 38, 39, 40, 41, 42, 43, 44, 45, 46, 47, 48, 49, 50, 51, 52, 53, 54, 55, 56, 57, 58, 59, 60, 61, 62, 63, 64, 65, 66, 67, 68, 69, 70, 71, 72, 73, 74, 75, 76, 77, 78, 79, 80, 81, 82, 83, 84, 85, 86, 87, 88, 89, 90, 91, 92, 93, 94, 95, 96, 97, 98, 99], \"y\": [1.0574435496930406, 1.4921564787890202, -1.7661487698322937, 0.5468034187042222, -0.47026472549686354, 0.028866797470123048, 0.3139952672131217, 1.0668782081292985, 0.09238728722526235, 0.283247834274512, 0.4487993866836888, 0.9132713227316623, 0.008592406413361182, -0.7173373816876694, -0.037214402351031156, -2.8949439095111407, 0.4140767599284732, -1.3715577493217457, 1.2411017703319136, -0.7750902687746185, -1.3369518346870932, -1.1874007524465737, 0.3681246871113735, -0.29296405505946915, -0.4120491294340162, -0.6393549290429247, -1.6252105983283975, -1.3122854422321009, -1.9360909602917662, 1.2027910029886157, -0.4518326104029993, -2.29567896659763, -2.2027365357952218, -0.9495835357613918, -0.7322557769196346, -0.9241767204331726, 0.5631995965443728, -0.6312706493382001, 1.024196030529535, 0.4297610318922039, -0.7504142855157657, 1.0706424815592872, -0.31772007630060434, 0.6705110936808703, 0.4534108865873891, 1.5475342889743962, 0.3660711004823217, 1.2934499121707412, 0.7491633869777687, 0.09037087793335094, 0.3709638152711295, -1.351420359786962, -0.4203974223630586, 0.18498829849810838, -1.6876380183562545, -1.131961576340599, -0.6104901531877899, -2.2658956080934023, -0.186352790636565, 1.9137723635641175, 0.13508744155143304, 1.0159023595649985, -1.8165198631533503, 0.29210575387975946, -2.520194559655417, 0.2127339800838521, 0.6223598055465379, 0.5766940739463821, 1.355567983001298, -0.4679608448477689, -0.4400613901138157, -1.3310223817525753, -0.8755271323754789, 0.6197069606377154, 1.4410149209822796, -0.14775880614740602, -1.1989896338434585, 0.8030412590191057, 0.11810621881639764, 1.705029039681729, -2.009349513148917, -1.1579539361380786, -0.21682015326728335, 0.018930436667645812, -0.31797119351666403, -0.8411642149311813, 0.3495781033263939, -0.9349822805499162, -0.3114537226336073, -0.27159842048918575, 0.8369615864242455, 0.7858872047734048, -1.7845289249109602, 1.0115271820947205, 0.11688723804189248, 0.4384478782073346, 0.008889099217462877, -1.2107890685045604, -0.4071907027266032, 0.6536957941340616]}, {\"line\": {\"color\": \"rgba(128, 0, 128, 1.0)\", \"dash\": \"solid\", \"shape\": \"linear\", \"width\": 1.3}, \"mode\": \"lines\", \"name\": \"D\", \"text\": \"\", \"type\": \"scatter\", \"x\": [0, 1, 2, 3, 4, 5, 6, 7, 8, 9, 10, 11, 12, 13, 14, 15, 16, 17, 18, 19, 20, 21, 22, 23, 24, 25, 26, 27, 28, 29, 30, 31, 32, 33, 34, 35, 36, 37, 38, 39, 40, 41, 42, 43, 44, 45, 46, 47, 48, 49, 50, 51, 52, 53, 54, 55, 56, 57, 58, 59, 60, 61, 62, 63, 64, 65, 66, 67, 68, 69, 70, 71, 72, 73, 74, 75, 76, 77, 78, 79, 80, 81, 82, 83, 84, 85, 86, 87, 88, 89, 90, 91, 92, 93, 94, 95, 96, 97, 98, 99], \"y\": [0.3798783138869394, 0.5325642324025878, -1.8891938479625277, -0.03444831396935892, 1.4104072642934369, -0.3503592139676249, -0.4518190931196363, -0.3526980962729689, -0.13644755472497294, 0.956469914017513, 0.2766338633851785, 0.48679215566673106, 0.6305138639396141, 0.670662053678759, 0.17246341882456473, 1.6896887579244286, -0.09568047093000441, 0.37002779584454143, -0.5889076792874218, -0.993264289903829, 0.032929627729489694, 2.459806536192735, -0.5300658412981611, -0.5462519759274664, 2.2185127174957526, -1.2873566015766316, 1.1085631311275275, 0.7540336592440204, -2.405117365648385, 0.7519527988408649, 0.960740272412522, 0.6661987152882016, 0.09604344180668174, 0.19791457794456077, -0.5767798450403657, -0.6094379212386503, 0.9635133288340161, -0.1916057929549026, 0.2822548631386541, -0.39170312163360355, 1.0553270001104484, -0.8883354765977708, 0.14339533089131373, 1.4340419022520996, 1.5387313432423801, -0.4491124148977889, 0.24097568616595325, -1.0952678381537415, -1.3070247606070595, 0.3665277479805535, -0.2783540192377507, 0.629501823076368, 0.6849483439792226, -0.5315032934853802, 1.0444660828634182, 1.538436301126394, 0.4319327354213975, -0.14084430545192075, 1.7219787146097316, 1.3972112919116941, -0.20272716886416664, 0.07143726678942765, -0.363681910844145, -1.5668551317424237, 0.378403314966072, 0.43504543706164983, -0.10889111832006396, -0.791434625542699, 1.6099239399808436, 0.5452652674536136, -1.4854687171382646, 0.8676730513097982, 1.1204485778757485, 0.6843594944768051, -0.7510865824027254, -0.2332906102221231, 0.8787493888412986, 0.6480584613902357, -0.42944843729204674, 1.1820664129266354, -0.3372464499840548, 0.9756828395663479, -0.4664566749827974, 0.619425782469263, 0.7089529472891641, -0.5008345898697598, 0.9463043227431527, -0.011880002448478146, 0.23520814180111044, -0.18531967636238048, 0.03318441552433788, -0.6339369120426261, -0.3350870887531984, 0.5644887956088116, 0.6160211323302354, 0.6940017094073261, -0.14109006224355106, 0.8750595947946054, 0.4015732140810989, -0.5021013131557769]}],\n",
       "                        {\"legend\": {\"bgcolor\": \"#F5F6F9\", \"font\": {\"color\": \"#4D5663\"}}, \"paper_bgcolor\": \"#F5F6F9\", \"plot_bgcolor\": \"#F5F6F9\", \"template\": {\"data\": {\"bar\": [{\"error_x\": {\"color\": \"#2a3f5f\"}, \"error_y\": {\"color\": \"#2a3f5f\"}, \"marker\": {\"line\": {\"color\": \"#E5ECF6\", \"width\": 0.5}}, \"type\": \"bar\"}], \"barpolar\": [{\"marker\": {\"line\": {\"color\": \"#E5ECF6\", \"width\": 0.5}}, \"type\": \"barpolar\"}], \"carpet\": [{\"aaxis\": {\"endlinecolor\": \"#2a3f5f\", \"gridcolor\": \"white\", \"linecolor\": \"white\", \"minorgridcolor\": \"white\", \"startlinecolor\": \"#2a3f5f\"}, \"baxis\": {\"endlinecolor\": \"#2a3f5f\", \"gridcolor\": \"white\", \"linecolor\": \"white\", \"minorgridcolor\": \"white\", \"startlinecolor\": \"#2a3f5f\"}, \"type\": \"carpet\"}], \"choropleth\": [{\"colorbar\": {\"outlinewidth\": 0, \"ticks\": \"\"}, \"type\": \"choropleth\"}], \"contour\": [{\"colorbar\": {\"outlinewidth\": 0, \"ticks\": \"\"}, \"colorscale\": [[0.0, \"#0d0887\"], [0.1111111111111111, \"#46039f\"], [0.2222222222222222, \"#7201a8\"], [0.3333333333333333, \"#9c179e\"], [0.4444444444444444, \"#bd3786\"], [0.5555555555555556, \"#d8576b\"], [0.6666666666666666, \"#ed7953\"], [0.7777777777777778, \"#fb9f3a\"], [0.8888888888888888, \"#fdca26\"], [1.0, \"#f0f921\"]], \"type\": \"contour\"}], \"contourcarpet\": [{\"colorbar\": {\"outlinewidth\": 0, \"ticks\": \"\"}, \"type\": \"contourcarpet\"}], \"heatmap\": [{\"colorbar\": {\"outlinewidth\": 0, \"ticks\": \"\"}, \"colorscale\": [[0.0, \"#0d0887\"], [0.1111111111111111, \"#46039f\"], [0.2222222222222222, \"#7201a8\"], [0.3333333333333333, \"#9c179e\"], [0.4444444444444444, \"#bd3786\"], [0.5555555555555556, \"#d8576b\"], [0.6666666666666666, \"#ed7953\"], [0.7777777777777778, \"#fb9f3a\"], [0.8888888888888888, \"#fdca26\"], [1.0, \"#f0f921\"]], \"type\": \"heatmap\"}], \"heatmapgl\": [{\"colorbar\": {\"outlinewidth\": 0, \"ticks\": \"\"}, \"colorscale\": [[0.0, \"#0d0887\"], [0.1111111111111111, \"#46039f\"], [0.2222222222222222, \"#7201a8\"], [0.3333333333333333, \"#9c179e\"], [0.4444444444444444, \"#bd3786\"], [0.5555555555555556, \"#d8576b\"], [0.6666666666666666, \"#ed7953\"], [0.7777777777777778, \"#fb9f3a\"], [0.8888888888888888, \"#fdca26\"], [1.0, \"#f0f921\"]], \"type\": \"heatmapgl\"}], \"histogram\": [{\"marker\": {\"colorbar\": {\"outlinewidth\": 0, \"ticks\": \"\"}}, \"type\": \"histogram\"}], \"histogram2d\": [{\"colorbar\": {\"outlinewidth\": 0, \"ticks\": \"\"}, \"colorscale\": [[0.0, \"#0d0887\"], [0.1111111111111111, \"#46039f\"], [0.2222222222222222, \"#7201a8\"], [0.3333333333333333, \"#9c179e\"], [0.4444444444444444, \"#bd3786\"], [0.5555555555555556, \"#d8576b\"], [0.6666666666666666, \"#ed7953\"], [0.7777777777777778, \"#fb9f3a\"], [0.8888888888888888, \"#fdca26\"], [1.0, \"#f0f921\"]], \"type\": \"histogram2d\"}], \"histogram2dcontour\": [{\"colorbar\": {\"outlinewidth\": 0, \"ticks\": \"\"}, \"colorscale\": [[0.0, \"#0d0887\"], [0.1111111111111111, \"#46039f\"], [0.2222222222222222, \"#7201a8\"], [0.3333333333333333, \"#9c179e\"], [0.4444444444444444, \"#bd3786\"], [0.5555555555555556, \"#d8576b\"], [0.6666666666666666, \"#ed7953\"], [0.7777777777777778, \"#fb9f3a\"], [0.8888888888888888, \"#fdca26\"], [1.0, \"#f0f921\"]], \"type\": \"histogram2dcontour\"}], \"mesh3d\": [{\"colorbar\": {\"outlinewidth\": 0, \"ticks\": \"\"}, \"type\": \"mesh3d\"}], \"parcoords\": [{\"line\": {\"colorbar\": {\"outlinewidth\": 0, \"ticks\": \"\"}}, \"type\": \"parcoords\"}], \"pie\": [{\"automargin\": true, \"type\": \"pie\"}], \"scatter\": [{\"marker\": {\"colorbar\": {\"outlinewidth\": 0, \"ticks\": \"\"}}, \"type\": \"scatter\"}], \"scatter3d\": [{\"line\": {\"colorbar\": {\"outlinewidth\": 0, \"ticks\": \"\"}}, \"marker\": {\"colorbar\": {\"outlinewidth\": 0, \"ticks\": \"\"}}, \"type\": \"scatter3d\"}], \"scattercarpet\": [{\"marker\": {\"colorbar\": {\"outlinewidth\": 0, \"ticks\": \"\"}}, \"type\": \"scattercarpet\"}], \"scattergeo\": [{\"marker\": {\"colorbar\": {\"outlinewidth\": 0, \"ticks\": \"\"}}, \"type\": \"scattergeo\"}], \"scattergl\": [{\"marker\": {\"colorbar\": {\"outlinewidth\": 0, \"ticks\": \"\"}}, \"type\": \"scattergl\"}], \"scattermapbox\": [{\"marker\": {\"colorbar\": {\"outlinewidth\": 0, \"ticks\": \"\"}}, \"type\": \"scattermapbox\"}], \"scatterpolar\": [{\"marker\": {\"colorbar\": {\"outlinewidth\": 0, \"ticks\": \"\"}}, \"type\": \"scatterpolar\"}], \"scatterpolargl\": [{\"marker\": {\"colorbar\": {\"outlinewidth\": 0, \"ticks\": \"\"}}, \"type\": \"scatterpolargl\"}], \"scatterternary\": [{\"marker\": {\"colorbar\": {\"outlinewidth\": 0, \"ticks\": \"\"}}, \"type\": \"scatterternary\"}], \"surface\": [{\"colorbar\": {\"outlinewidth\": 0, \"ticks\": \"\"}, \"colorscale\": [[0.0, \"#0d0887\"], [0.1111111111111111, \"#46039f\"], [0.2222222222222222, \"#7201a8\"], [0.3333333333333333, \"#9c179e\"], [0.4444444444444444, \"#bd3786\"], [0.5555555555555556, \"#d8576b\"], [0.6666666666666666, \"#ed7953\"], [0.7777777777777778, \"#fb9f3a\"], [0.8888888888888888, \"#fdca26\"], [1.0, \"#f0f921\"]], \"type\": \"surface\"}], \"table\": [{\"cells\": {\"fill\": {\"color\": \"#EBF0F8\"}, \"line\": {\"color\": \"white\"}}, \"header\": {\"fill\": {\"color\": \"#C8D4E3\"}, \"line\": {\"color\": \"white\"}}, \"type\": \"table\"}]}, \"layout\": {\"annotationdefaults\": {\"arrowcolor\": \"#2a3f5f\", \"arrowhead\": 0, \"arrowwidth\": 1}, \"coloraxis\": {\"colorbar\": {\"outlinewidth\": 0, \"ticks\": \"\"}}, \"colorscale\": {\"diverging\": [[0, \"#8e0152\"], [0.1, \"#c51b7d\"], [0.2, \"#de77ae\"], [0.3, \"#f1b6da\"], [0.4, \"#fde0ef\"], [0.5, \"#f7f7f7\"], [0.6, \"#e6f5d0\"], [0.7, \"#b8e186\"], [0.8, \"#7fbc41\"], [0.9, \"#4d9221\"], [1, \"#276419\"]], \"sequential\": [[0.0, \"#0d0887\"], [0.1111111111111111, \"#46039f\"], [0.2222222222222222, \"#7201a8\"], [0.3333333333333333, \"#9c179e\"], [0.4444444444444444, \"#bd3786\"], [0.5555555555555556, \"#d8576b\"], [0.6666666666666666, \"#ed7953\"], [0.7777777777777778, \"#fb9f3a\"], [0.8888888888888888, \"#fdca26\"], [1.0, \"#f0f921\"]], \"sequentialminus\": [[0.0, \"#0d0887\"], [0.1111111111111111, \"#46039f\"], [0.2222222222222222, \"#7201a8\"], [0.3333333333333333, \"#9c179e\"], [0.4444444444444444, \"#bd3786\"], [0.5555555555555556, \"#d8576b\"], [0.6666666666666666, \"#ed7953\"], [0.7777777777777778, \"#fb9f3a\"], [0.8888888888888888, \"#fdca26\"], [1.0, \"#f0f921\"]]}, \"colorway\": [\"#636efa\", \"#EF553B\", \"#00cc96\", \"#ab63fa\", \"#FFA15A\", \"#19d3f3\", \"#FF6692\", \"#B6E880\", \"#FF97FF\", \"#FECB52\"], \"font\": {\"color\": \"#2a3f5f\"}, \"geo\": {\"bgcolor\": \"white\", \"lakecolor\": \"white\", \"landcolor\": \"#E5ECF6\", \"showlakes\": true, \"showland\": true, \"subunitcolor\": \"white\"}, \"hoverlabel\": {\"align\": \"left\"}, \"hovermode\": \"closest\", \"mapbox\": {\"style\": \"light\"}, \"paper_bgcolor\": \"white\", \"plot_bgcolor\": \"#E5ECF6\", \"polar\": {\"angularaxis\": {\"gridcolor\": \"white\", \"linecolor\": \"white\", \"ticks\": \"\"}, \"bgcolor\": \"#E5ECF6\", \"radialaxis\": {\"gridcolor\": \"white\", \"linecolor\": \"white\", \"ticks\": \"\"}}, \"scene\": {\"xaxis\": {\"backgroundcolor\": \"#E5ECF6\", \"gridcolor\": \"white\", \"gridwidth\": 2, \"linecolor\": \"white\", \"showbackground\": true, \"ticks\": \"\", \"zerolinecolor\": \"white\"}, \"yaxis\": {\"backgroundcolor\": \"#E5ECF6\", \"gridcolor\": \"white\", \"gridwidth\": 2, \"linecolor\": \"white\", \"showbackground\": true, \"ticks\": \"\", \"zerolinecolor\": \"white\"}, \"zaxis\": {\"backgroundcolor\": \"#E5ECF6\", \"gridcolor\": \"white\", \"gridwidth\": 2, \"linecolor\": \"white\", \"showbackground\": true, \"ticks\": \"\", \"zerolinecolor\": \"white\"}}, \"shapedefaults\": {\"line\": {\"color\": \"#2a3f5f\"}}, \"ternary\": {\"aaxis\": {\"gridcolor\": \"white\", \"linecolor\": \"white\", \"ticks\": \"\"}, \"baxis\": {\"gridcolor\": \"white\", \"linecolor\": \"white\", \"ticks\": \"\"}, \"bgcolor\": \"#E5ECF6\", \"caxis\": {\"gridcolor\": \"white\", \"linecolor\": \"white\", \"ticks\": \"\"}}, \"title\": {\"x\": 0.05}, \"xaxis\": {\"automargin\": true, \"gridcolor\": \"white\", \"linecolor\": \"white\", \"ticks\": \"\", \"title\": {\"standoff\": 15}, \"zerolinecolor\": \"white\", \"zerolinewidth\": 2}, \"yaxis\": {\"automargin\": true, \"gridcolor\": \"white\", \"linecolor\": \"white\", \"ticks\": \"\", \"title\": {\"standoff\": 15}, \"zerolinecolor\": \"white\", \"zerolinewidth\": 2}}}, \"title\": {\"font\": {\"color\": \"#4D5663\"}}, \"xaxis\": {\"gridcolor\": \"#E1E5ED\", \"showgrid\": true, \"tickfont\": {\"color\": \"#4D5663\"}, \"title\": {\"font\": {\"color\": \"#4D5663\"}, \"text\": \"\"}, \"zerolinecolor\": \"#E1E5ED\"}, \"yaxis\": {\"gridcolor\": \"#E1E5ED\", \"showgrid\": true, \"tickfont\": {\"color\": \"#4D5663\"}, \"title\": {\"font\": {\"color\": \"#4D5663\"}, \"text\": \"\"}, \"zerolinecolor\": \"#E1E5ED\"}},\n",
       "                        {\"showLink\": true, \"linkText\": \"Export to plot.ly\", \"plotlyServerURL\": \"https://plot.ly\", \"responsive\": true}\n",
       "                    ).then(function(){\n",
       "                            \n",
       "var gd = document.getElementById('cee329a1-0f89-4659-9bff-c9f317c0fb90');\n",
       "var x = new MutationObserver(function (mutations, observer) {{\n",
       "        var display = window.getComputedStyle(gd).display;\n",
       "        if (!display || display === 'none') {{\n",
       "            console.log([gd, 'removed!']);\n",
       "            Plotly.purge(gd);\n",
       "            observer.disconnect();\n",
       "        }}\n",
       "}});\n",
       "\n",
       "// Listen for the removal of the full notebook cells\n",
       "var notebookContainer = gd.closest('#notebook-container');\n",
       "if (notebookContainer) {{\n",
       "    x.observe(notebookContainer, {childList: true});\n",
       "}}\n",
       "\n",
       "// Listen for the clearing of the current output cell\n",
       "var outputEl = gd.closest('.output');\n",
       "if (outputEl) {{\n",
       "    x.observe(outputEl, {childList: true});\n",
       "}}\n",
       "\n",
       "                        })\n",
       "                };\n",
       "                });\n",
       "            </script>\n",
       "        </div>"
      ]
     },
     "metadata": {},
     "output_type": "display_data"
    }
   ],
   "source": [
    "df.iplot() #tablo içerisinde zoom yapabiliyoruz \n",
    "# sağdan sütunlara tıklayarak istediğimizi silip istediğimizi gösterebiliyoruz"
   ]
  },
  {
   "cell_type": "markdown",
   "metadata": {},
   "source": [
    "## Using Cufflinks and iplot()\n",
    "\n",
    "* scatter\n",
    "* bar\n",
    "* box\n",
    "* spread\n",
    "* ratio\n",
    "* heatmap\n",
    "* surface\n",
    "* histogram\n",
    "* bubble"
   ]
  },
  {
   "cell_type": "markdown",
   "metadata": {},
   "source": [
    "## Scatter"
   ]
  },
  {
   "cell_type": "code",
   "execution_count": 21,
   "metadata": {},
   "outputs": [
    {
     "data": {
      "application/vnd.plotly.v1+json": {
       "config": {
        "linkText": "Export to plot.ly",
        "plotlyServerURL": "https://plot.ly",
        "showLink": true
       },
       "data": [
        {
         "line": {
          "color": "rgba(255, 153, 51, 1.0)",
          "dash": "solid",
          "shape": "linear",
          "width": 1.3
         },
         "marker": {
          "size": 10,
          "symbol": "circle"
         },
         "mode": "markers",
         "name": "B",
         "text": "",
         "type": "scatter",
         "x": [
          -0.8224878330406368,
          -0.10471106442069328,
          -2.769584391084238,
          -2.2424162672391885,
          0.490203066976595,
          2.8691407911563673,
          -0.0803435729235115,
          -0.12115858301628984,
          1.0499603993850388,
          1.1283694551511767,
          1.8380934783110614,
          0.4645233310960621,
          -0.3486835398494006,
          0.9664744927848891,
          -0.33835704495058144,
          -1.28473461375488,
          1.7985504608251153,
          1.1553157661273779,
          0.4134915078299442,
          0.7475612530709317,
          0.4201660768259774,
          0.07722115747936044,
          1.0221609726299972,
          -1.077323357084743,
          -0.34977897732417185,
          1.3733646137384052,
          -0.15833165590252143,
          1.4947517994373962,
          -0.38989674078583964,
          -0.5243134691725355,
          -1.097052749096775,
          1.054960626543361,
          1.5146706425888474,
          0.40891220981344617,
          -0.03669418351965464,
          -0.13067256359666868,
          -1.3643656789650926,
          1.3642052302623737,
          0.3013624226546742,
          -1.604831448237099,
          1.9936387069916879,
          -0.7344022390099565,
          -1.0909182813824605,
          0.7899232933086707,
          -0.7888330616466801,
          0.24423391011295395,
          -1.433561400695055,
          -0.8051710423228607,
          1.3878930883952874,
          -0.23677373547589425,
          1.4198942689724774,
          -0.8583559909421177,
          -0.5094931311348392,
          -0.29723488125835085,
          1.4666563744515433,
          -0.5961247866543091,
          0.38967071033631834,
          0.9968517939347469,
          -1.2518718953723809,
          0.25183778792382366,
          0.6679256901564015,
          0.996754273254323,
          0.12748412059035386,
          -0.3186507334386617,
          0.8058549264472583,
          0.793026285047879,
          0.2345960517139365,
          0.42175178151213183,
          -1.9211488472442586,
          0.1219224349688401,
          0.05176320596206913,
          -0.3497984577725166,
          0.456054887712555,
          0.07617950164554171,
          1.3404993482278846,
          0.14392955845017877,
          -1.138648683092966,
          1.494168391233162,
          0.029884199072675432,
          -0.10405794060352479,
          -0.28770790124207524,
          -1.4419491390038417,
          0.5682946601649805,
          0.21954096821881025,
          -0.16217288802578836,
          0.9521454603349894,
          0.13231876090108707,
          0.12117149081466017,
          -0.9367090923602004,
          1.264286886996742,
          1.9986274543811504,
          0.6872677252241897,
          0.23490617405340217,
          0.1779749622995297,
          0.20027271975265543,
          -1.7896732465301717,
          -0.38825505562436735,
          0.6518389289274054,
          1.4429880702473201,
          1.085490258313375
         ],
         "y": [
          -0.10516366801878904,
          1.0053383313461546,
          0.7711355623806072,
          -0.9585361003596985,
          1.413791782075609,
          -0.011999672475143592,
          -0.2332276829472234,
          0.9994963176647628,
          0.8010134369014502,
          -0.462304224009063,
          1.1184462932071981,
          -0.589992861130369,
          -2.407485278886959,
          -0.7466993868046775,
          -0.4473733557949075,
          0.3805477134400745,
          2.336840387236904,
          0.43387049430242997,
          0.8152523192214589,
          0.6089888934661134,
          -1.526454646964997,
          -1.3206012488138623,
          -1.0431640274931064,
          0.7749127003189561,
          -0.2493808914655523,
          1.458109788045986,
          1.4404921519603873,
          -0.9441221138653232,
          0.2732931046600395,
          0.670748994079489,
          1.2851525315752468,
          -1.7303505300847168,
          0.2564344283676181,
          1.0512380697522659,
          0.7990793338822009,
          -0.8273449445815736,
          -0.13302628947133086,
          1.151813367457789,
          -0.8116827986139052,
          0.16250672924139484,
          0.6119741800924526,
          -0.12623253101768572,
          -0.645412471356651,
          0.21225836348979263,
          0.9828919578145259,
          -1.0640505904153608,
          0.8606516119398787,
          -0.03836903085700935,
          -1.029494471649252,
          1.5927070980793128,
          0.345091231227057,
          0.19380779779508553,
          -1.2171439092573397,
          -1.1221298763480816,
          -0.71548838463745,
          0.8618914945926935,
          0.8709948734880736,
          1.3214572814137557,
          0.3656583698395165,
          -1.0611358360980878,
          2.6045600811046117,
          0.29786624169468395,
          -1.2181968397107135,
          0.005947039893275675,
          -0.9217262323903322,
          0.43250191129540305,
          -2.059956112643729,
          -0.24783647778024964,
          -0.825755005236759,
          0.5104517899980096,
          0.7756766680790673,
          -0.6948728890863228,
          0.10526112030629592,
          0.595048497478357,
          -0.9684246545495997,
          0.9805904389899971,
          -0.5150824233574389,
          -1.8701413759264716,
          0.045707577044487815,
          -1.1812227615164517,
          -0.47919058861042635,
          0.2020800241922994,
          -1.0295277726875516,
          -0.8007147666280858,
          -1.1849668586810944,
          -1.8499115869420633,
          -0.5969137115751699,
          1.48710606342048,
          0.5010826710528153,
          0.23312570917424857,
          0.4466191745148875,
          -0.7773227430247127,
          0.05908523285531262,
          -0.411275094211949,
          -1.090825864124665,
          0.2214935949606966,
          1.3352016027920028,
          -0.11906672568050544,
          -1.7799645711470489,
          1.4945027836142082
         ]
        }
       ],
       "layout": {
        "legend": {
         "bgcolor": "#F5F6F9",
         "font": {
          "color": "#4D5663"
         }
        },
        "paper_bgcolor": "#F5F6F9",
        "plot_bgcolor": "#F5F6F9",
        "template": {
         "data": {
          "bar": [
           {
            "error_x": {
             "color": "#2a3f5f"
            },
            "error_y": {
             "color": "#2a3f5f"
            },
            "marker": {
             "line": {
              "color": "#E5ECF6",
              "width": 0.5
             }
            },
            "type": "bar"
           }
          ],
          "barpolar": [
           {
            "marker": {
             "line": {
              "color": "#E5ECF6",
              "width": 0.5
             }
            },
            "type": "barpolar"
           }
          ],
          "carpet": [
           {
            "aaxis": {
             "endlinecolor": "#2a3f5f",
             "gridcolor": "white",
             "linecolor": "white",
             "minorgridcolor": "white",
             "startlinecolor": "#2a3f5f"
            },
            "baxis": {
             "endlinecolor": "#2a3f5f",
             "gridcolor": "white",
             "linecolor": "white",
             "minorgridcolor": "white",
             "startlinecolor": "#2a3f5f"
            },
            "type": "carpet"
           }
          ],
          "choropleth": [
           {
            "colorbar": {
             "outlinewidth": 0,
             "ticks": ""
            },
            "type": "choropleth"
           }
          ],
          "contour": [
           {
            "colorbar": {
             "outlinewidth": 0,
             "ticks": ""
            },
            "colorscale": [
             [
              0,
              "#0d0887"
             ],
             [
              0.1111111111111111,
              "#46039f"
             ],
             [
              0.2222222222222222,
              "#7201a8"
             ],
             [
              0.3333333333333333,
              "#9c179e"
             ],
             [
              0.4444444444444444,
              "#bd3786"
             ],
             [
              0.5555555555555556,
              "#d8576b"
             ],
             [
              0.6666666666666666,
              "#ed7953"
             ],
             [
              0.7777777777777778,
              "#fb9f3a"
             ],
             [
              0.8888888888888888,
              "#fdca26"
             ],
             [
              1,
              "#f0f921"
             ]
            ],
            "type": "contour"
           }
          ],
          "contourcarpet": [
           {
            "colorbar": {
             "outlinewidth": 0,
             "ticks": ""
            },
            "type": "contourcarpet"
           }
          ],
          "heatmap": [
           {
            "colorbar": {
             "outlinewidth": 0,
             "ticks": ""
            },
            "colorscale": [
             [
              0,
              "#0d0887"
             ],
             [
              0.1111111111111111,
              "#46039f"
             ],
             [
              0.2222222222222222,
              "#7201a8"
             ],
             [
              0.3333333333333333,
              "#9c179e"
             ],
             [
              0.4444444444444444,
              "#bd3786"
             ],
             [
              0.5555555555555556,
              "#d8576b"
             ],
             [
              0.6666666666666666,
              "#ed7953"
             ],
             [
              0.7777777777777778,
              "#fb9f3a"
             ],
             [
              0.8888888888888888,
              "#fdca26"
             ],
             [
              1,
              "#f0f921"
             ]
            ],
            "type": "heatmap"
           }
          ],
          "heatmapgl": [
           {
            "colorbar": {
             "outlinewidth": 0,
             "ticks": ""
            },
            "colorscale": [
             [
              0,
              "#0d0887"
             ],
             [
              0.1111111111111111,
              "#46039f"
             ],
             [
              0.2222222222222222,
              "#7201a8"
             ],
             [
              0.3333333333333333,
              "#9c179e"
             ],
             [
              0.4444444444444444,
              "#bd3786"
             ],
             [
              0.5555555555555556,
              "#d8576b"
             ],
             [
              0.6666666666666666,
              "#ed7953"
             ],
             [
              0.7777777777777778,
              "#fb9f3a"
             ],
             [
              0.8888888888888888,
              "#fdca26"
             ],
             [
              1,
              "#f0f921"
             ]
            ],
            "type": "heatmapgl"
           }
          ],
          "histogram": [
           {
            "marker": {
             "colorbar": {
              "outlinewidth": 0,
              "ticks": ""
             }
            },
            "type": "histogram"
           }
          ],
          "histogram2d": [
           {
            "colorbar": {
             "outlinewidth": 0,
             "ticks": ""
            },
            "colorscale": [
             [
              0,
              "#0d0887"
             ],
             [
              0.1111111111111111,
              "#46039f"
             ],
             [
              0.2222222222222222,
              "#7201a8"
             ],
             [
              0.3333333333333333,
              "#9c179e"
             ],
             [
              0.4444444444444444,
              "#bd3786"
             ],
             [
              0.5555555555555556,
              "#d8576b"
             ],
             [
              0.6666666666666666,
              "#ed7953"
             ],
             [
              0.7777777777777778,
              "#fb9f3a"
             ],
             [
              0.8888888888888888,
              "#fdca26"
             ],
             [
              1,
              "#f0f921"
             ]
            ],
            "type": "histogram2d"
           }
          ],
          "histogram2dcontour": [
           {
            "colorbar": {
             "outlinewidth": 0,
             "ticks": ""
            },
            "colorscale": [
             [
              0,
              "#0d0887"
             ],
             [
              0.1111111111111111,
              "#46039f"
             ],
             [
              0.2222222222222222,
              "#7201a8"
             ],
             [
              0.3333333333333333,
              "#9c179e"
             ],
             [
              0.4444444444444444,
              "#bd3786"
             ],
             [
              0.5555555555555556,
              "#d8576b"
             ],
             [
              0.6666666666666666,
              "#ed7953"
             ],
             [
              0.7777777777777778,
              "#fb9f3a"
             ],
             [
              0.8888888888888888,
              "#fdca26"
             ],
             [
              1,
              "#f0f921"
             ]
            ],
            "type": "histogram2dcontour"
           }
          ],
          "mesh3d": [
           {
            "colorbar": {
             "outlinewidth": 0,
             "ticks": ""
            },
            "type": "mesh3d"
           }
          ],
          "parcoords": [
           {
            "line": {
             "colorbar": {
              "outlinewidth": 0,
              "ticks": ""
             }
            },
            "type": "parcoords"
           }
          ],
          "pie": [
           {
            "automargin": true,
            "type": "pie"
           }
          ],
          "scatter": [
           {
            "marker": {
             "colorbar": {
              "outlinewidth": 0,
              "ticks": ""
             }
            },
            "type": "scatter"
           }
          ],
          "scatter3d": [
           {
            "line": {
             "colorbar": {
              "outlinewidth": 0,
              "ticks": ""
             }
            },
            "marker": {
             "colorbar": {
              "outlinewidth": 0,
              "ticks": ""
             }
            },
            "type": "scatter3d"
           }
          ],
          "scattercarpet": [
           {
            "marker": {
             "colorbar": {
              "outlinewidth": 0,
              "ticks": ""
             }
            },
            "type": "scattercarpet"
           }
          ],
          "scattergeo": [
           {
            "marker": {
             "colorbar": {
              "outlinewidth": 0,
              "ticks": ""
             }
            },
            "type": "scattergeo"
           }
          ],
          "scattergl": [
           {
            "marker": {
             "colorbar": {
              "outlinewidth": 0,
              "ticks": ""
             }
            },
            "type": "scattergl"
           }
          ],
          "scattermapbox": [
           {
            "marker": {
             "colorbar": {
              "outlinewidth": 0,
              "ticks": ""
             }
            },
            "type": "scattermapbox"
           }
          ],
          "scatterpolar": [
           {
            "marker": {
             "colorbar": {
              "outlinewidth": 0,
              "ticks": ""
             }
            },
            "type": "scatterpolar"
           }
          ],
          "scatterpolargl": [
           {
            "marker": {
             "colorbar": {
              "outlinewidth": 0,
              "ticks": ""
             }
            },
            "type": "scatterpolargl"
           }
          ],
          "scatterternary": [
           {
            "marker": {
             "colorbar": {
              "outlinewidth": 0,
              "ticks": ""
             }
            },
            "type": "scatterternary"
           }
          ],
          "surface": [
           {
            "colorbar": {
             "outlinewidth": 0,
             "ticks": ""
            },
            "colorscale": [
             [
              0,
              "#0d0887"
             ],
             [
              0.1111111111111111,
              "#46039f"
             ],
             [
              0.2222222222222222,
              "#7201a8"
             ],
             [
              0.3333333333333333,
              "#9c179e"
             ],
             [
              0.4444444444444444,
              "#bd3786"
             ],
             [
              0.5555555555555556,
              "#d8576b"
             ],
             [
              0.6666666666666666,
              "#ed7953"
             ],
             [
              0.7777777777777778,
              "#fb9f3a"
             ],
             [
              0.8888888888888888,
              "#fdca26"
             ],
             [
              1,
              "#f0f921"
             ]
            ],
            "type": "surface"
           }
          ],
          "table": [
           {
            "cells": {
             "fill": {
              "color": "#EBF0F8"
             },
             "line": {
              "color": "white"
             }
            },
            "header": {
             "fill": {
              "color": "#C8D4E3"
             },
             "line": {
              "color": "white"
             }
            },
            "type": "table"
           }
          ]
         },
         "layout": {
          "annotationdefaults": {
           "arrowcolor": "#2a3f5f",
           "arrowhead": 0,
           "arrowwidth": 1
          },
          "coloraxis": {
           "colorbar": {
            "outlinewidth": 0,
            "ticks": ""
           }
          },
          "colorscale": {
           "diverging": [
            [
             0,
             "#8e0152"
            ],
            [
             0.1,
             "#c51b7d"
            ],
            [
             0.2,
             "#de77ae"
            ],
            [
             0.3,
             "#f1b6da"
            ],
            [
             0.4,
             "#fde0ef"
            ],
            [
             0.5,
             "#f7f7f7"
            ],
            [
             0.6,
             "#e6f5d0"
            ],
            [
             0.7,
             "#b8e186"
            ],
            [
             0.8,
             "#7fbc41"
            ],
            [
             0.9,
             "#4d9221"
            ],
            [
             1,
             "#276419"
            ]
           ],
           "sequential": [
            [
             0,
             "#0d0887"
            ],
            [
             0.1111111111111111,
             "#46039f"
            ],
            [
             0.2222222222222222,
             "#7201a8"
            ],
            [
             0.3333333333333333,
             "#9c179e"
            ],
            [
             0.4444444444444444,
             "#bd3786"
            ],
            [
             0.5555555555555556,
             "#d8576b"
            ],
            [
             0.6666666666666666,
             "#ed7953"
            ],
            [
             0.7777777777777778,
             "#fb9f3a"
            ],
            [
             0.8888888888888888,
             "#fdca26"
            ],
            [
             1,
             "#f0f921"
            ]
           ],
           "sequentialminus": [
            [
             0,
             "#0d0887"
            ],
            [
             0.1111111111111111,
             "#46039f"
            ],
            [
             0.2222222222222222,
             "#7201a8"
            ],
            [
             0.3333333333333333,
             "#9c179e"
            ],
            [
             0.4444444444444444,
             "#bd3786"
            ],
            [
             0.5555555555555556,
             "#d8576b"
            ],
            [
             0.6666666666666666,
             "#ed7953"
            ],
            [
             0.7777777777777778,
             "#fb9f3a"
            ],
            [
             0.8888888888888888,
             "#fdca26"
            ],
            [
             1,
             "#f0f921"
            ]
           ]
          },
          "colorway": [
           "#636efa",
           "#EF553B",
           "#00cc96",
           "#ab63fa",
           "#FFA15A",
           "#19d3f3",
           "#FF6692",
           "#B6E880",
           "#FF97FF",
           "#FECB52"
          ],
          "font": {
           "color": "#2a3f5f"
          },
          "geo": {
           "bgcolor": "white",
           "lakecolor": "white",
           "landcolor": "#E5ECF6",
           "showlakes": true,
           "showland": true,
           "subunitcolor": "white"
          },
          "hoverlabel": {
           "align": "left"
          },
          "hovermode": "closest",
          "mapbox": {
           "style": "light"
          },
          "paper_bgcolor": "white",
          "plot_bgcolor": "#E5ECF6",
          "polar": {
           "angularaxis": {
            "gridcolor": "white",
            "linecolor": "white",
            "ticks": ""
           },
           "bgcolor": "#E5ECF6",
           "radialaxis": {
            "gridcolor": "white",
            "linecolor": "white",
            "ticks": ""
           }
          },
          "scene": {
           "xaxis": {
            "backgroundcolor": "#E5ECF6",
            "gridcolor": "white",
            "gridwidth": 2,
            "linecolor": "white",
            "showbackground": true,
            "ticks": "",
            "zerolinecolor": "white"
           },
           "yaxis": {
            "backgroundcolor": "#E5ECF6",
            "gridcolor": "white",
            "gridwidth": 2,
            "linecolor": "white",
            "showbackground": true,
            "ticks": "",
            "zerolinecolor": "white"
           },
           "zaxis": {
            "backgroundcolor": "#E5ECF6",
            "gridcolor": "white",
            "gridwidth": 2,
            "linecolor": "white",
            "showbackground": true,
            "ticks": "",
            "zerolinecolor": "white"
           }
          },
          "shapedefaults": {
           "line": {
            "color": "#2a3f5f"
           }
          },
          "ternary": {
           "aaxis": {
            "gridcolor": "white",
            "linecolor": "white",
            "ticks": ""
           },
           "baxis": {
            "gridcolor": "white",
            "linecolor": "white",
            "ticks": ""
           },
           "bgcolor": "#E5ECF6",
           "caxis": {
            "gridcolor": "white",
            "linecolor": "white",
            "ticks": ""
           }
          },
          "title": {
           "x": 0.05
          },
          "xaxis": {
           "automargin": true,
           "gridcolor": "white",
           "linecolor": "white",
           "ticks": "",
           "title": {
            "standoff": 15
           },
           "zerolinecolor": "white",
           "zerolinewidth": 2
          },
          "yaxis": {
           "automargin": true,
           "gridcolor": "white",
           "linecolor": "white",
           "ticks": "",
           "title": {
            "standoff": 15
           },
           "zerolinecolor": "white",
           "zerolinewidth": 2
          }
         }
        },
        "title": {
         "font": {
          "color": "#4D5663"
         }
        },
        "xaxis": {
         "gridcolor": "#E1E5ED",
         "showgrid": true,
         "tickfont": {
          "color": "#4D5663"
         },
         "title": {
          "font": {
           "color": "#4D5663"
          },
          "text": ""
         },
         "zerolinecolor": "#E1E5ED"
        },
        "yaxis": {
         "gridcolor": "#E1E5ED",
         "showgrid": true,
         "tickfont": {
          "color": "#4D5663"
         },
         "title": {
          "font": {
           "color": "#4D5663"
          },
          "text": ""
         },
         "zerolinecolor": "#E1E5ED"
        }
       }
      },
      "text/html": [
       "<div>\n",
       "        \n",
       "        \n",
       "            <div id=\"6e6a4f06-6f18-4023-8e69-faf458a50218\" class=\"plotly-graph-div\" style=\"height:525px; width:100%;\"></div>\n",
       "            <script type=\"text/javascript\">\n",
       "                require([\"plotly\"], function(Plotly) {\n",
       "                    window.PLOTLYENV=window.PLOTLYENV || {};\n",
       "                    window.PLOTLYENV.BASE_URL='https://plot.ly';\n",
       "                    \n",
       "                if (document.getElementById(\"6e6a4f06-6f18-4023-8e69-faf458a50218\")) {\n",
       "                    Plotly.newPlot(\n",
       "                        '6e6a4f06-6f18-4023-8e69-faf458a50218',\n",
       "                        [{\"line\": {\"color\": \"rgba(255, 153, 51, 1.0)\", \"dash\": \"solid\", \"shape\": \"linear\", \"width\": 1.3}, \"marker\": {\"size\": 10, \"symbol\": \"circle\"}, \"mode\": \"markers\", \"name\": \"B\", \"text\": \"\", \"type\": \"scatter\", \"x\": [-0.8224878330406368, -0.10471106442069328, -2.769584391084238, -2.2424162672391885, 0.490203066976595, 2.8691407911563673, -0.0803435729235115, -0.12115858301628984, 1.0499603993850388, 1.1283694551511767, 1.8380934783110614, 0.4645233310960621, -0.3486835398494006, 0.9664744927848891, -0.33835704495058144, -1.28473461375488, 1.7985504608251153, 1.1553157661273779, 0.4134915078299442, 0.7475612530709317, 0.4201660768259774, 0.07722115747936044, 1.0221609726299972, -1.077323357084743, -0.34977897732417185, 1.3733646137384052, -0.15833165590252143, 1.4947517994373962, -0.38989674078583964, -0.5243134691725355, -1.097052749096775, 1.054960626543361, 1.5146706425888474, 0.40891220981344617, -0.03669418351965464, -0.13067256359666868, -1.3643656789650926, 1.3642052302623737, 0.3013624226546742, -1.604831448237099, 1.9936387069916879, -0.7344022390099565, -1.0909182813824605, 0.7899232933086707, -0.7888330616466801, 0.24423391011295395, -1.433561400695055, -0.8051710423228607, 1.3878930883952874, -0.23677373547589425, 1.4198942689724774, -0.8583559909421177, -0.5094931311348392, -0.29723488125835085, 1.4666563744515433, -0.5961247866543091, 0.38967071033631834, 0.9968517939347469, -1.2518718953723809, 0.25183778792382366, 0.6679256901564015, 0.996754273254323, 0.12748412059035386, -0.3186507334386617, 0.8058549264472583, 0.793026285047879, 0.2345960517139365, 0.42175178151213183, -1.9211488472442586, 0.1219224349688401, 0.05176320596206913, -0.3497984577725166, 0.456054887712555, 0.07617950164554171, 1.3404993482278846, 0.14392955845017877, -1.138648683092966, 1.494168391233162, 0.029884199072675432, -0.10405794060352479, -0.28770790124207524, -1.4419491390038417, 0.5682946601649805, 0.21954096821881025, -0.16217288802578836, 0.9521454603349894, 0.13231876090108707, 0.12117149081466017, -0.9367090923602004, 1.264286886996742, 1.9986274543811504, 0.6872677252241897, 0.23490617405340217, 0.1779749622995297, 0.20027271975265543, -1.7896732465301717, -0.38825505562436735, 0.6518389289274054, 1.4429880702473201, 1.085490258313375], \"y\": [-0.10516366801878904, 1.0053383313461546, 0.7711355623806072, -0.9585361003596985, 1.413791782075609, -0.011999672475143592, -0.2332276829472234, 0.9994963176647628, 0.8010134369014502, -0.462304224009063, 1.1184462932071981, -0.589992861130369, -2.407485278886959, -0.7466993868046775, -0.4473733557949075, 0.3805477134400745, 2.336840387236904, 0.43387049430242997, 0.8152523192214589, 0.6089888934661134, -1.526454646964997, -1.3206012488138623, -1.0431640274931064, 0.7749127003189561, -0.2493808914655523, 1.458109788045986, 1.4404921519603873, -0.9441221138653232, 0.2732931046600395, 0.670748994079489, 1.2851525315752468, -1.7303505300847168, 0.2564344283676181, 1.0512380697522659, 0.7990793338822009, -0.8273449445815736, -0.13302628947133086, 1.151813367457789, -0.8116827986139052, 0.16250672924139484, 0.6119741800924526, -0.12623253101768572, -0.645412471356651, 0.21225836348979263, 0.9828919578145259, -1.0640505904153608, 0.8606516119398787, -0.03836903085700935, -1.029494471649252, 1.5927070980793128, 0.345091231227057, 0.19380779779508553, -1.2171439092573397, -1.1221298763480816, -0.71548838463745, 0.8618914945926935, 0.8709948734880736, 1.3214572814137557, 0.3656583698395165, -1.0611358360980878, 2.6045600811046117, 0.29786624169468395, -1.2181968397107135, 0.005947039893275675, -0.9217262323903322, 0.43250191129540305, -2.059956112643729, -0.24783647778024964, -0.825755005236759, 0.5104517899980096, 0.7756766680790673, -0.6948728890863228, 0.10526112030629592, 0.595048497478357, -0.9684246545495997, 0.9805904389899971, -0.5150824233574389, -1.8701413759264716, 0.045707577044487815, -1.1812227615164517, -0.47919058861042635, 0.2020800241922994, -1.0295277726875516, -0.8007147666280858, -1.1849668586810944, -1.8499115869420633, -0.5969137115751699, 1.48710606342048, 0.5010826710528153, 0.23312570917424857, 0.4466191745148875, -0.7773227430247127, 0.05908523285531262, -0.411275094211949, -1.090825864124665, 0.2214935949606966, 1.3352016027920028, -0.11906672568050544, -1.7799645711470489, 1.4945027836142082]}],\n",
       "                        {\"legend\": {\"bgcolor\": \"#F5F6F9\", \"font\": {\"color\": \"#4D5663\"}}, \"paper_bgcolor\": \"#F5F6F9\", \"plot_bgcolor\": \"#F5F6F9\", \"template\": {\"data\": {\"bar\": [{\"error_x\": {\"color\": \"#2a3f5f\"}, \"error_y\": {\"color\": \"#2a3f5f\"}, \"marker\": {\"line\": {\"color\": \"#E5ECF6\", \"width\": 0.5}}, \"type\": \"bar\"}], \"barpolar\": [{\"marker\": {\"line\": {\"color\": \"#E5ECF6\", \"width\": 0.5}}, \"type\": \"barpolar\"}], \"carpet\": [{\"aaxis\": {\"endlinecolor\": \"#2a3f5f\", \"gridcolor\": \"white\", \"linecolor\": \"white\", \"minorgridcolor\": \"white\", \"startlinecolor\": \"#2a3f5f\"}, \"baxis\": {\"endlinecolor\": \"#2a3f5f\", \"gridcolor\": \"white\", \"linecolor\": \"white\", \"minorgridcolor\": \"white\", \"startlinecolor\": \"#2a3f5f\"}, \"type\": \"carpet\"}], \"choropleth\": [{\"colorbar\": {\"outlinewidth\": 0, \"ticks\": \"\"}, \"type\": \"choropleth\"}], \"contour\": [{\"colorbar\": {\"outlinewidth\": 0, \"ticks\": \"\"}, \"colorscale\": [[0.0, \"#0d0887\"], [0.1111111111111111, \"#46039f\"], [0.2222222222222222, \"#7201a8\"], [0.3333333333333333, \"#9c179e\"], [0.4444444444444444, \"#bd3786\"], [0.5555555555555556, \"#d8576b\"], [0.6666666666666666, \"#ed7953\"], [0.7777777777777778, \"#fb9f3a\"], [0.8888888888888888, \"#fdca26\"], [1.0, \"#f0f921\"]], \"type\": \"contour\"}], \"contourcarpet\": [{\"colorbar\": {\"outlinewidth\": 0, \"ticks\": \"\"}, \"type\": \"contourcarpet\"}], \"heatmap\": [{\"colorbar\": {\"outlinewidth\": 0, \"ticks\": \"\"}, \"colorscale\": [[0.0, \"#0d0887\"], [0.1111111111111111, \"#46039f\"], [0.2222222222222222, \"#7201a8\"], [0.3333333333333333, \"#9c179e\"], [0.4444444444444444, \"#bd3786\"], [0.5555555555555556, \"#d8576b\"], [0.6666666666666666, \"#ed7953\"], [0.7777777777777778, \"#fb9f3a\"], [0.8888888888888888, \"#fdca26\"], [1.0, \"#f0f921\"]], \"type\": \"heatmap\"}], \"heatmapgl\": [{\"colorbar\": {\"outlinewidth\": 0, \"ticks\": \"\"}, \"colorscale\": [[0.0, \"#0d0887\"], [0.1111111111111111, \"#46039f\"], [0.2222222222222222, \"#7201a8\"], [0.3333333333333333, \"#9c179e\"], [0.4444444444444444, \"#bd3786\"], [0.5555555555555556, \"#d8576b\"], [0.6666666666666666, \"#ed7953\"], [0.7777777777777778, \"#fb9f3a\"], [0.8888888888888888, \"#fdca26\"], [1.0, \"#f0f921\"]], \"type\": \"heatmapgl\"}], \"histogram\": [{\"marker\": {\"colorbar\": {\"outlinewidth\": 0, \"ticks\": \"\"}}, \"type\": \"histogram\"}], \"histogram2d\": [{\"colorbar\": {\"outlinewidth\": 0, \"ticks\": \"\"}, \"colorscale\": [[0.0, \"#0d0887\"], [0.1111111111111111, \"#46039f\"], [0.2222222222222222, \"#7201a8\"], [0.3333333333333333, \"#9c179e\"], [0.4444444444444444, \"#bd3786\"], [0.5555555555555556, \"#d8576b\"], [0.6666666666666666, \"#ed7953\"], [0.7777777777777778, \"#fb9f3a\"], [0.8888888888888888, \"#fdca26\"], [1.0, \"#f0f921\"]], \"type\": \"histogram2d\"}], \"histogram2dcontour\": [{\"colorbar\": {\"outlinewidth\": 0, \"ticks\": \"\"}, \"colorscale\": [[0.0, \"#0d0887\"], [0.1111111111111111, \"#46039f\"], [0.2222222222222222, \"#7201a8\"], [0.3333333333333333, \"#9c179e\"], [0.4444444444444444, \"#bd3786\"], [0.5555555555555556, \"#d8576b\"], [0.6666666666666666, \"#ed7953\"], [0.7777777777777778, \"#fb9f3a\"], [0.8888888888888888, \"#fdca26\"], [1.0, \"#f0f921\"]], \"type\": \"histogram2dcontour\"}], \"mesh3d\": [{\"colorbar\": {\"outlinewidth\": 0, \"ticks\": \"\"}, \"type\": \"mesh3d\"}], \"parcoords\": [{\"line\": {\"colorbar\": {\"outlinewidth\": 0, \"ticks\": \"\"}}, \"type\": \"parcoords\"}], \"pie\": [{\"automargin\": true, \"type\": \"pie\"}], \"scatter\": [{\"marker\": {\"colorbar\": {\"outlinewidth\": 0, \"ticks\": \"\"}}, \"type\": \"scatter\"}], \"scatter3d\": [{\"line\": {\"colorbar\": {\"outlinewidth\": 0, \"ticks\": \"\"}}, \"marker\": {\"colorbar\": {\"outlinewidth\": 0, \"ticks\": \"\"}}, \"type\": \"scatter3d\"}], \"scattercarpet\": [{\"marker\": {\"colorbar\": {\"outlinewidth\": 0, \"ticks\": \"\"}}, \"type\": \"scattercarpet\"}], \"scattergeo\": [{\"marker\": {\"colorbar\": {\"outlinewidth\": 0, \"ticks\": \"\"}}, \"type\": \"scattergeo\"}], \"scattergl\": [{\"marker\": {\"colorbar\": {\"outlinewidth\": 0, \"ticks\": \"\"}}, \"type\": \"scattergl\"}], \"scattermapbox\": [{\"marker\": {\"colorbar\": {\"outlinewidth\": 0, \"ticks\": \"\"}}, \"type\": \"scattermapbox\"}], \"scatterpolar\": [{\"marker\": {\"colorbar\": {\"outlinewidth\": 0, \"ticks\": \"\"}}, \"type\": \"scatterpolar\"}], \"scatterpolargl\": [{\"marker\": {\"colorbar\": {\"outlinewidth\": 0, \"ticks\": \"\"}}, \"type\": \"scatterpolargl\"}], \"scatterternary\": [{\"marker\": {\"colorbar\": {\"outlinewidth\": 0, \"ticks\": \"\"}}, \"type\": \"scatterternary\"}], \"surface\": [{\"colorbar\": {\"outlinewidth\": 0, \"ticks\": \"\"}, \"colorscale\": [[0.0, \"#0d0887\"], [0.1111111111111111, \"#46039f\"], [0.2222222222222222, \"#7201a8\"], [0.3333333333333333, \"#9c179e\"], [0.4444444444444444, \"#bd3786\"], [0.5555555555555556, \"#d8576b\"], [0.6666666666666666, \"#ed7953\"], [0.7777777777777778, \"#fb9f3a\"], [0.8888888888888888, \"#fdca26\"], [1.0, \"#f0f921\"]], \"type\": \"surface\"}], \"table\": [{\"cells\": {\"fill\": {\"color\": \"#EBF0F8\"}, \"line\": {\"color\": \"white\"}}, \"header\": {\"fill\": {\"color\": \"#C8D4E3\"}, \"line\": {\"color\": \"white\"}}, \"type\": \"table\"}]}, \"layout\": {\"annotationdefaults\": {\"arrowcolor\": \"#2a3f5f\", \"arrowhead\": 0, \"arrowwidth\": 1}, \"coloraxis\": {\"colorbar\": {\"outlinewidth\": 0, \"ticks\": \"\"}}, \"colorscale\": {\"diverging\": [[0, \"#8e0152\"], [0.1, \"#c51b7d\"], [0.2, \"#de77ae\"], [0.3, \"#f1b6da\"], [0.4, \"#fde0ef\"], [0.5, \"#f7f7f7\"], [0.6, \"#e6f5d0\"], [0.7, \"#b8e186\"], [0.8, \"#7fbc41\"], [0.9, \"#4d9221\"], [1, \"#276419\"]], \"sequential\": [[0.0, \"#0d0887\"], [0.1111111111111111, \"#46039f\"], [0.2222222222222222, \"#7201a8\"], [0.3333333333333333, \"#9c179e\"], [0.4444444444444444, \"#bd3786\"], [0.5555555555555556, \"#d8576b\"], [0.6666666666666666, \"#ed7953\"], [0.7777777777777778, \"#fb9f3a\"], [0.8888888888888888, \"#fdca26\"], [1.0, \"#f0f921\"]], \"sequentialminus\": [[0.0, \"#0d0887\"], [0.1111111111111111, \"#46039f\"], [0.2222222222222222, \"#7201a8\"], [0.3333333333333333, \"#9c179e\"], [0.4444444444444444, \"#bd3786\"], [0.5555555555555556, \"#d8576b\"], [0.6666666666666666, \"#ed7953\"], [0.7777777777777778, \"#fb9f3a\"], [0.8888888888888888, \"#fdca26\"], [1.0, \"#f0f921\"]]}, \"colorway\": [\"#636efa\", \"#EF553B\", \"#00cc96\", \"#ab63fa\", \"#FFA15A\", \"#19d3f3\", \"#FF6692\", \"#B6E880\", \"#FF97FF\", \"#FECB52\"], \"font\": {\"color\": \"#2a3f5f\"}, \"geo\": {\"bgcolor\": \"white\", \"lakecolor\": \"white\", \"landcolor\": \"#E5ECF6\", \"showlakes\": true, \"showland\": true, \"subunitcolor\": \"white\"}, \"hoverlabel\": {\"align\": \"left\"}, \"hovermode\": \"closest\", \"mapbox\": {\"style\": \"light\"}, \"paper_bgcolor\": \"white\", \"plot_bgcolor\": \"#E5ECF6\", \"polar\": {\"angularaxis\": {\"gridcolor\": \"white\", \"linecolor\": \"white\", \"ticks\": \"\"}, \"bgcolor\": \"#E5ECF6\", \"radialaxis\": {\"gridcolor\": \"white\", \"linecolor\": \"white\", \"ticks\": \"\"}}, \"scene\": {\"xaxis\": {\"backgroundcolor\": \"#E5ECF6\", \"gridcolor\": \"white\", \"gridwidth\": 2, \"linecolor\": \"white\", \"showbackground\": true, \"ticks\": \"\", \"zerolinecolor\": \"white\"}, \"yaxis\": {\"backgroundcolor\": \"#E5ECF6\", \"gridcolor\": \"white\", \"gridwidth\": 2, \"linecolor\": \"white\", \"showbackground\": true, \"ticks\": \"\", \"zerolinecolor\": \"white\"}, \"zaxis\": {\"backgroundcolor\": \"#E5ECF6\", \"gridcolor\": \"white\", \"gridwidth\": 2, \"linecolor\": \"white\", \"showbackground\": true, \"ticks\": \"\", \"zerolinecolor\": \"white\"}}, \"shapedefaults\": {\"line\": {\"color\": \"#2a3f5f\"}}, \"ternary\": {\"aaxis\": {\"gridcolor\": \"white\", \"linecolor\": \"white\", \"ticks\": \"\"}, \"baxis\": {\"gridcolor\": \"white\", \"linecolor\": \"white\", \"ticks\": \"\"}, \"bgcolor\": \"#E5ECF6\", \"caxis\": {\"gridcolor\": \"white\", \"linecolor\": \"white\", \"ticks\": \"\"}}, \"title\": {\"x\": 0.05}, \"xaxis\": {\"automargin\": true, \"gridcolor\": \"white\", \"linecolor\": \"white\", \"ticks\": \"\", \"title\": {\"standoff\": 15}, \"zerolinecolor\": \"white\", \"zerolinewidth\": 2}, \"yaxis\": {\"automargin\": true, \"gridcolor\": \"white\", \"linecolor\": \"white\", \"ticks\": \"\", \"title\": {\"standoff\": 15}, \"zerolinecolor\": \"white\", \"zerolinewidth\": 2}}}, \"title\": {\"font\": {\"color\": \"#4D5663\"}}, \"xaxis\": {\"gridcolor\": \"#E1E5ED\", \"showgrid\": true, \"tickfont\": {\"color\": \"#4D5663\"}, \"title\": {\"font\": {\"color\": \"#4D5663\"}, \"text\": \"\"}, \"zerolinecolor\": \"#E1E5ED\"}, \"yaxis\": {\"gridcolor\": \"#E1E5ED\", \"showgrid\": true, \"tickfont\": {\"color\": \"#4D5663\"}, \"title\": {\"font\": {\"color\": \"#4D5663\"}, \"text\": \"\"}, \"zerolinecolor\": \"#E1E5ED\"}},\n",
       "                        {\"showLink\": true, \"linkText\": \"Export to plot.ly\", \"plotlyServerURL\": \"https://plot.ly\", \"responsive\": true}\n",
       "                    ).then(function(){\n",
       "                            \n",
       "var gd = document.getElementById('6e6a4f06-6f18-4023-8e69-faf458a50218');\n",
       "var x = new MutationObserver(function (mutations, observer) {{\n",
       "        var display = window.getComputedStyle(gd).display;\n",
       "        if (!display || display === 'none') {{\n",
       "            console.log([gd, 'removed!']);\n",
       "            Plotly.purge(gd);\n",
       "            observer.disconnect();\n",
       "        }}\n",
       "}});\n",
       "\n",
       "// Listen for the removal of the full notebook cells\n",
       "var notebookContainer = gd.closest('#notebook-container');\n",
       "if (notebookContainer) {{\n",
       "    x.observe(notebookContainer, {childList: true});\n",
       "}}\n",
       "\n",
       "// Listen for the clearing of the current output cell\n",
       "var outputEl = gd.closest('.output');\n",
       "if (outputEl) {{\n",
       "    x.observe(outputEl, {childList: true});\n",
       "}}\n",
       "\n",
       "                        })\n",
       "                };\n",
       "                });\n",
       "            </script>\n",
       "        </div>"
      ]
     },
     "metadata": {},
     "output_type": "display_data"
    }
   ],
   "source": [
    "df.iplot(kind='scatter',x='A',y='B',mode='markers',size=10) #node yazmazsak noktaları birleştiren çizgiler çıkarır"
   ]
  },
  {
   "cell_type": "markdown",
   "metadata": {},
   "source": [
    "## Bar Plots"
   ]
  },
  {
   "cell_type": "code",
   "execution_count": 22,
   "metadata": {},
   "outputs": [
    {
     "data": {
      "application/vnd.plotly.v1+json": {
       "config": {
        "linkText": "Export to plot.ly",
        "plotlyServerURL": "https://plot.ly",
        "showLink": true
       },
       "data": [
        {
         "marker": {
          "color": "rgba(255, 153, 51, 0.6)",
          "line": {
           "color": "rgba(255, 153, 51, 1.0)",
           "width": 1
          }
         },
         "name": "Values",
         "orientation": "v",
         "text": "",
         "type": "bar",
         "x": [
          "A",
          "B",
          "C"
         ],
         "y": [
          32,
          43,
          50
         ]
        }
       ],
       "layout": {
        "legend": {
         "bgcolor": "#F5F6F9",
         "font": {
          "color": "#4D5663"
         }
        },
        "paper_bgcolor": "#F5F6F9",
        "plot_bgcolor": "#F5F6F9",
        "template": {
         "data": {
          "bar": [
           {
            "error_x": {
             "color": "#2a3f5f"
            },
            "error_y": {
             "color": "#2a3f5f"
            },
            "marker": {
             "line": {
              "color": "#E5ECF6",
              "width": 0.5
             }
            },
            "type": "bar"
           }
          ],
          "barpolar": [
           {
            "marker": {
             "line": {
              "color": "#E5ECF6",
              "width": 0.5
             }
            },
            "type": "barpolar"
           }
          ],
          "carpet": [
           {
            "aaxis": {
             "endlinecolor": "#2a3f5f",
             "gridcolor": "white",
             "linecolor": "white",
             "minorgridcolor": "white",
             "startlinecolor": "#2a3f5f"
            },
            "baxis": {
             "endlinecolor": "#2a3f5f",
             "gridcolor": "white",
             "linecolor": "white",
             "minorgridcolor": "white",
             "startlinecolor": "#2a3f5f"
            },
            "type": "carpet"
           }
          ],
          "choropleth": [
           {
            "colorbar": {
             "outlinewidth": 0,
             "ticks": ""
            },
            "type": "choropleth"
           }
          ],
          "contour": [
           {
            "colorbar": {
             "outlinewidth": 0,
             "ticks": ""
            },
            "colorscale": [
             [
              0,
              "#0d0887"
             ],
             [
              0.1111111111111111,
              "#46039f"
             ],
             [
              0.2222222222222222,
              "#7201a8"
             ],
             [
              0.3333333333333333,
              "#9c179e"
             ],
             [
              0.4444444444444444,
              "#bd3786"
             ],
             [
              0.5555555555555556,
              "#d8576b"
             ],
             [
              0.6666666666666666,
              "#ed7953"
             ],
             [
              0.7777777777777778,
              "#fb9f3a"
             ],
             [
              0.8888888888888888,
              "#fdca26"
             ],
             [
              1,
              "#f0f921"
             ]
            ],
            "type": "contour"
           }
          ],
          "contourcarpet": [
           {
            "colorbar": {
             "outlinewidth": 0,
             "ticks": ""
            },
            "type": "contourcarpet"
           }
          ],
          "heatmap": [
           {
            "colorbar": {
             "outlinewidth": 0,
             "ticks": ""
            },
            "colorscale": [
             [
              0,
              "#0d0887"
             ],
             [
              0.1111111111111111,
              "#46039f"
             ],
             [
              0.2222222222222222,
              "#7201a8"
             ],
             [
              0.3333333333333333,
              "#9c179e"
             ],
             [
              0.4444444444444444,
              "#bd3786"
             ],
             [
              0.5555555555555556,
              "#d8576b"
             ],
             [
              0.6666666666666666,
              "#ed7953"
             ],
             [
              0.7777777777777778,
              "#fb9f3a"
             ],
             [
              0.8888888888888888,
              "#fdca26"
             ],
             [
              1,
              "#f0f921"
             ]
            ],
            "type": "heatmap"
           }
          ],
          "heatmapgl": [
           {
            "colorbar": {
             "outlinewidth": 0,
             "ticks": ""
            },
            "colorscale": [
             [
              0,
              "#0d0887"
             ],
             [
              0.1111111111111111,
              "#46039f"
             ],
             [
              0.2222222222222222,
              "#7201a8"
             ],
             [
              0.3333333333333333,
              "#9c179e"
             ],
             [
              0.4444444444444444,
              "#bd3786"
             ],
             [
              0.5555555555555556,
              "#d8576b"
             ],
             [
              0.6666666666666666,
              "#ed7953"
             ],
             [
              0.7777777777777778,
              "#fb9f3a"
             ],
             [
              0.8888888888888888,
              "#fdca26"
             ],
             [
              1,
              "#f0f921"
             ]
            ],
            "type": "heatmapgl"
           }
          ],
          "histogram": [
           {
            "marker": {
             "colorbar": {
              "outlinewidth": 0,
              "ticks": ""
             }
            },
            "type": "histogram"
           }
          ],
          "histogram2d": [
           {
            "colorbar": {
             "outlinewidth": 0,
             "ticks": ""
            },
            "colorscale": [
             [
              0,
              "#0d0887"
             ],
             [
              0.1111111111111111,
              "#46039f"
             ],
             [
              0.2222222222222222,
              "#7201a8"
             ],
             [
              0.3333333333333333,
              "#9c179e"
             ],
             [
              0.4444444444444444,
              "#bd3786"
             ],
             [
              0.5555555555555556,
              "#d8576b"
             ],
             [
              0.6666666666666666,
              "#ed7953"
             ],
             [
              0.7777777777777778,
              "#fb9f3a"
             ],
             [
              0.8888888888888888,
              "#fdca26"
             ],
             [
              1,
              "#f0f921"
             ]
            ],
            "type": "histogram2d"
           }
          ],
          "histogram2dcontour": [
           {
            "colorbar": {
             "outlinewidth": 0,
             "ticks": ""
            },
            "colorscale": [
             [
              0,
              "#0d0887"
             ],
             [
              0.1111111111111111,
              "#46039f"
             ],
             [
              0.2222222222222222,
              "#7201a8"
             ],
             [
              0.3333333333333333,
              "#9c179e"
             ],
             [
              0.4444444444444444,
              "#bd3786"
             ],
             [
              0.5555555555555556,
              "#d8576b"
             ],
             [
              0.6666666666666666,
              "#ed7953"
             ],
             [
              0.7777777777777778,
              "#fb9f3a"
             ],
             [
              0.8888888888888888,
              "#fdca26"
             ],
             [
              1,
              "#f0f921"
             ]
            ],
            "type": "histogram2dcontour"
           }
          ],
          "mesh3d": [
           {
            "colorbar": {
             "outlinewidth": 0,
             "ticks": ""
            },
            "type": "mesh3d"
           }
          ],
          "parcoords": [
           {
            "line": {
             "colorbar": {
              "outlinewidth": 0,
              "ticks": ""
             }
            },
            "type": "parcoords"
           }
          ],
          "pie": [
           {
            "automargin": true,
            "type": "pie"
           }
          ],
          "scatter": [
           {
            "marker": {
             "colorbar": {
              "outlinewidth": 0,
              "ticks": ""
             }
            },
            "type": "scatter"
           }
          ],
          "scatter3d": [
           {
            "line": {
             "colorbar": {
              "outlinewidth": 0,
              "ticks": ""
             }
            },
            "marker": {
             "colorbar": {
              "outlinewidth": 0,
              "ticks": ""
             }
            },
            "type": "scatter3d"
           }
          ],
          "scattercarpet": [
           {
            "marker": {
             "colorbar": {
              "outlinewidth": 0,
              "ticks": ""
             }
            },
            "type": "scattercarpet"
           }
          ],
          "scattergeo": [
           {
            "marker": {
             "colorbar": {
              "outlinewidth": 0,
              "ticks": ""
             }
            },
            "type": "scattergeo"
           }
          ],
          "scattergl": [
           {
            "marker": {
             "colorbar": {
              "outlinewidth": 0,
              "ticks": ""
             }
            },
            "type": "scattergl"
           }
          ],
          "scattermapbox": [
           {
            "marker": {
             "colorbar": {
              "outlinewidth": 0,
              "ticks": ""
             }
            },
            "type": "scattermapbox"
           }
          ],
          "scatterpolar": [
           {
            "marker": {
             "colorbar": {
              "outlinewidth": 0,
              "ticks": ""
             }
            },
            "type": "scatterpolar"
           }
          ],
          "scatterpolargl": [
           {
            "marker": {
             "colorbar": {
              "outlinewidth": 0,
              "ticks": ""
             }
            },
            "type": "scatterpolargl"
           }
          ],
          "scatterternary": [
           {
            "marker": {
             "colorbar": {
              "outlinewidth": 0,
              "ticks": ""
             }
            },
            "type": "scatterternary"
           }
          ],
          "surface": [
           {
            "colorbar": {
             "outlinewidth": 0,
             "ticks": ""
            },
            "colorscale": [
             [
              0,
              "#0d0887"
             ],
             [
              0.1111111111111111,
              "#46039f"
             ],
             [
              0.2222222222222222,
              "#7201a8"
             ],
             [
              0.3333333333333333,
              "#9c179e"
             ],
             [
              0.4444444444444444,
              "#bd3786"
             ],
             [
              0.5555555555555556,
              "#d8576b"
             ],
             [
              0.6666666666666666,
              "#ed7953"
             ],
             [
              0.7777777777777778,
              "#fb9f3a"
             ],
             [
              0.8888888888888888,
              "#fdca26"
             ],
             [
              1,
              "#f0f921"
             ]
            ],
            "type": "surface"
           }
          ],
          "table": [
           {
            "cells": {
             "fill": {
              "color": "#EBF0F8"
             },
             "line": {
              "color": "white"
             }
            },
            "header": {
             "fill": {
              "color": "#C8D4E3"
             },
             "line": {
              "color": "white"
             }
            },
            "type": "table"
           }
          ]
         },
         "layout": {
          "annotationdefaults": {
           "arrowcolor": "#2a3f5f",
           "arrowhead": 0,
           "arrowwidth": 1
          },
          "coloraxis": {
           "colorbar": {
            "outlinewidth": 0,
            "ticks": ""
           }
          },
          "colorscale": {
           "diverging": [
            [
             0,
             "#8e0152"
            ],
            [
             0.1,
             "#c51b7d"
            ],
            [
             0.2,
             "#de77ae"
            ],
            [
             0.3,
             "#f1b6da"
            ],
            [
             0.4,
             "#fde0ef"
            ],
            [
             0.5,
             "#f7f7f7"
            ],
            [
             0.6,
             "#e6f5d0"
            ],
            [
             0.7,
             "#b8e186"
            ],
            [
             0.8,
             "#7fbc41"
            ],
            [
             0.9,
             "#4d9221"
            ],
            [
             1,
             "#276419"
            ]
           ],
           "sequential": [
            [
             0,
             "#0d0887"
            ],
            [
             0.1111111111111111,
             "#46039f"
            ],
            [
             0.2222222222222222,
             "#7201a8"
            ],
            [
             0.3333333333333333,
             "#9c179e"
            ],
            [
             0.4444444444444444,
             "#bd3786"
            ],
            [
             0.5555555555555556,
             "#d8576b"
            ],
            [
             0.6666666666666666,
             "#ed7953"
            ],
            [
             0.7777777777777778,
             "#fb9f3a"
            ],
            [
             0.8888888888888888,
             "#fdca26"
            ],
            [
             1,
             "#f0f921"
            ]
           ],
           "sequentialminus": [
            [
             0,
             "#0d0887"
            ],
            [
             0.1111111111111111,
             "#46039f"
            ],
            [
             0.2222222222222222,
             "#7201a8"
            ],
            [
             0.3333333333333333,
             "#9c179e"
            ],
            [
             0.4444444444444444,
             "#bd3786"
            ],
            [
             0.5555555555555556,
             "#d8576b"
            ],
            [
             0.6666666666666666,
             "#ed7953"
            ],
            [
             0.7777777777777778,
             "#fb9f3a"
            ],
            [
             0.8888888888888888,
             "#fdca26"
            ],
            [
             1,
             "#f0f921"
            ]
           ]
          },
          "colorway": [
           "#636efa",
           "#EF553B",
           "#00cc96",
           "#ab63fa",
           "#FFA15A",
           "#19d3f3",
           "#FF6692",
           "#B6E880",
           "#FF97FF",
           "#FECB52"
          ],
          "font": {
           "color": "#2a3f5f"
          },
          "geo": {
           "bgcolor": "white",
           "lakecolor": "white",
           "landcolor": "#E5ECF6",
           "showlakes": true,
           "showland": true,
           "subunitcolor": "white"
          },
          "hoverlabel": {
           "align": "left"
          },
          "hovermode": "closest",
          "mapbox": {
           "style": "light"
          },
          "paper_bgcolor": "white",
          "plot_bgcolor": "#E5ECF6",
          "polar": {
           "angularaxis": {
            "gridcolor": "white",
            "linecolor": "white",
            "ticks": ""
           },
           "bgcolor": "#E5ECF6",
           "radialaxis": {
            "gridcolor": "white",
            "linecolor": "white",
            "ticks": ""
           }
          },
          "scene": {
           "xaxis": {
            "backgroundcolor": "#E5ECF6",
            "gridcolor": "white",
            "gridwidth": 2,
            "linecolor": "white",
            "showbackground": true,
            "ticks": "",
            "zerolinecolor": "white"
           },
           "yaxis": {
            "backgroundcolor": "#E5ECF6",
            "gridcolor": "white",
            "gridwidth": 2,
            "linecolor": "white",
            "showbackground": true,
            "ticks": "",
            "zerolinecolor": "white"
           },
           "zaxis": {
            "backgroundcolor": "#E5ECF6",
            "gridcolor": "white",
            "gridwidth": 2,
            "linecolor": "white",
            "showbackground": true,
            "ticks": "",
            "zerolinecolor": "white"
           }
          },
          "shapedefaults": {
           "line": {
            "color": "#2a3f5f"
           }
          },
          "ternary": {
           "aaxis": {
            "gridcolor": "white",
            "linecolor": "white",
            "ticks": ""
           },
           "baxis": {
            "gridcolor": "white",
            "linecolor": "white",
            "ticks": ""
           },
           "bgcolor": "#E5ECF6",
           "caxis": {
            "gridcolor": "white",
            "linecolor": "white",
            "ticks": ""
           }
          },
          "title": {
           "x": 0.05
          },
          "xaxis": {
           "automargin": true,
           "gridcolor": "white",
           "linecolor": "white",
           "ticks": "",
           "title": {
            "standoff": 15
           },
           "zerolinecolor": "white",
           "zerolinewidth": 2
          },
          "yaxis": {
           "automargin": true,
           "gridcolor": "white",
           "linecolor": "white",
           "ticks": "",
           "title": {
            "standoff": 15
           },
           "zerolinecolor": "white",
           "zerolinewidth": 2
          }
         }
        },
        "title": {
         "font": {
          "color": "#4D5663"
         }
        },
        "xaxis": {
         "gridcolor": "#E1E5ED",
         "showgrid": true,
         "tickfont": {
          "color": "#4D5663"
         },
         "title": {
          "font": {
           "color": "#4D5663"
          },
          "text": ""
         },
         "zerolinecolor": "#E1E5ED"
        },
        "yaxis": {
         "gridcolor": "#E1E5ED",
         "showgrid": true,
         "tickfont": {
          "color": "#4D5663"
         },
         "title": {
          "font": {
           "color": "#4D5663"
          },
          "text": ""
         },
         "zerolinecolor": "#E1E5ED"
        }
       }
      },
      "text/html": [
       "<div>\n",
       "        \n",
       "        \n",
       "            <div id=\"beae42f1-ea41-4022-9bd2-df4847d3633b\" class=\"plotly-graph-div\" style=\"height:525px; width:100%;\"></div>\n",
       "            <script type=\"text/javascript\">\n",
       "                require([\"plotly\"], function(Plotly) {\n",
       "                    window.PLOTLYENV=window.PLOTLYENV || {};\n",
       "                    window.PLOTLYENV.BASE_URL='https://plot.ly';\n",
       "                    \n",
       "                if (document.getElementById(\"beae42f1-ea41-4022-9bd2-df4847d3633b\")) {\n",
       "                    Plotly.newPlot(\n",
       "                        'beae42f1-ea41-4022-9bd2-df4847d3633b',\n",
       "                        [{\"marker\": {\"color\": \"rgba(255, 153, 51, 0.6)\", \"line\": {\"color\": \"rgba(255, 153, 51, 1.0)\", \"width\": 1}}, \"name\": \"Values\", \"orientation\": \"v\", \"text\": \"\", \"type\": \"bar\", \"x\": [\"A\", \"B\", \"C\"], \"y\": [32, 43, 50]}],\n",
       "                        {\"legend\": {\"bgcolor\": \"#F5F6F9\", \"font\": {\"color\": \"#4D5663\"}}, \"paper_bgcolor\": \"#F5F6F9\", \"plot_bgcolor\": \"#F5F6F9\", \"template\": {\"data\": {\"bar\": [{\"error_x\": {\"color\": \"#2a3f5f\"}, \"error_y\": {\"color\": \"#2a3f5f\"}, \"marker\": {\"line\": {\"color\": \"#E5ECF6\", \"width\": 0.5}}, \"type\": \"bar\"}], \"barpolar\": [{\"marker\": {\"line\": {\"color\": \"#E5ECF6\", \"width\": 0.5}}, \"type\": \"barpolar\"}], \"carpet\": [{\"aaxis\": {\"endlinecolor\": \"#2a3f5f\", \"gridcolor\": \"white\", \"linecolor\": \"white\", \"minorgridcolor\": \"white\", \"startlinecolor\": \"#2a3f5f\"}, \"baxis\": {\"endlinecolor\": \"#2a3f5f\", \"gridcolor\": \"white\", \"linecolor\": \"white\", \"minorgridcolor\": \"white\", \"startlinecolor\": \"#2a3f5f\"}, \"type\": \"carpet\"}], \"choropleth\": [{\"colorbar\": {\"outlinewidth\": 0, \"ticks\": \"\"}, \"type\": \"choropleth\"}], \"contour\": [{\"colorbar\": {\"outlinewidth\": 0, \"ticks\": \"\"}, \"colorscale\": [[0.0, \"#0d0887\"], [0.1111111111111111, \"#46039f\"], [0.2222222222222222, \"#7201a8\"], [0.3333333333333333, \"#9c179e\"], [0.4444444444444444, \"#bd3786\"], [0.5555555555555556, \"#d8576b\"], [0.6666666666666666, \"#ed7953\"], [0.7777777777777778, \"#fb9f3a\"], [0.8888888888888888, \"#fdca26\"], [1.0, \"#f0f921\"]], \"type\": \"contour\"}], \"contourcarpet\": [{\"colorbar\": {\"outlinewidth\": 0, \"ticks\": \"\"}, \"type\": \"contourcarpet\"}], \"heatmap\": [{\"colorbar\": {\"outlinewidth\": 0, \"ticks\": \"\"}, \"colorscale\": [[0.0, \"#0d0887\"], [0.1111111111111111, \"#46039f\"], [0.2222222222222222, \"#7201a8\"], [0.3333333333333333, \"#9c179e\"], [0.4444444444444444, \"#bd3786\"], [0.5555555555555556, \"#d8576b\"], [0.6666666666666666, \"#ed7953\"], [0.7777777777777778, \"#fb9f3a\"], [0.8888888888888888, \"#fdca26\"], [1.0, \"#f0f921\"]], \"type\": \"heatmap\"}], \"heatmapgl\": [{\"colorbar\": {\"outlinewidth\": 0, \"ticks\": \"\"}, \"colorscale\": [[0.0, \"#0d0887\"], [0.1111111111111111, \"#46039f\"], [0.2222222222222222, \"#7201a8\"], [0.3333333333333333, \"#9c179e\"], [0.4444444444444444, \"#bd3786\"], [0.5555555555555556, \"#d8576b\"], [0.6666666666666666, \"#ed7953\"], [0.7777777777777778, \"#fb9f3a\"], [0.8888888888888888, \"#fdca26\"], [1.0, \"#f0f921\"]], \"type\": \"heatmapgl\"}], \"histogram\": [{\"marker\": {\"colorbar\": {\"outlinewidth\": 0, \"ticks\": \"\"}}, \"type\": \"histogram\"}], \"histogram2d\": [{\"colorbar\": {\"outlinewidth\": 0, \"ticks\": \"\"}, \"colorscale\": [[0.0, \"#0d0887\"], [0.1111111111111111, \"#46039f\"], [0.2222222222222222, \"#7201a8\"], [0.3333333333333333, \"#9c179e\"], [0.4444444444444444, \"#bd3786\"], [0.5555555555555556, \"#d8576b\"], [0.6666666666666666, \"#ed7953\"], [0.7777777777777778, \"#fb9f3a\"], [0.8888888888888888, \"#fdca26\"], [1.0, \"#f0f921\"]], \"type\": \"histogram2d\"}], \"histogram2dcontour\": [{\"colorbar\": {\"outlinewidth\": 0, \"ticks\": \"\"}, \"colorscale\": [[0.0, \"#0d0887\"], [0.1111111111111111, \"#46039f\"], [0.2222222222222222, \"#7201a8\"], [0.3333333333333333, \"#9c179e\"], [0.4444444444444444, \"#bd3786\"], [0.5555555555555556, \"#d8576b\"], [0.6666666666666666, \"#ed7953\"], [0.7777777777777778, \"#fb9f3a\"], [0.8888888888888888, \"#fdca26\"], [1.0, \"#f0f921\"]], \"type\": \"histogram2dcontour\"}], \"mesh3d\": [{\"colorbar\": {\"outlinewidth\": 0, \"ticks\": \"\"}, \"type\": \"mesh3d\"}], \"parcoords\": [{\"line\": {\"colorbar\": {\"outlinewidth\": 0, \"ticks\": \"\"}}, \"type\": \"parcoords\"}], \"pie\": [{\"automargin\": true, \"type\": \"pie\"}], \"scatter\": [{\"marker\": {\"colorbar\": {\"outlinewidth\": 0, \"ticks\": \"\"}}, \"type\": \"scatter\"}], \"scatter3d\": [{\"line\": {\"colorbar\": {\"outlinewidth\": 0, \"ticks\": \"\"}}, \"marker\": {\"colorbar\": {\"outlinewidth\": 0, \"ticks\": \"\"}}, \"type\": \"scatter3d\"}], \"scattercarpet\": [{\"marker\": {\"colorbar\": {\"outlinewidth\": 0, \"ticks\": \"\"}}, \"type\": \"scattercarpet\"}], \"scattergeo\": [{\"marker\": {\"colorbar\": {\"outlinewidth\": 0, \"ticks\": \"\"}}, \"type\": \"scattergeo\"}], \"scattergl\": [{\"marker\": {\"colorbar\": {\"outlinewidth\": 0, \"ticks\": \"\"}}, \"type\": \"scattergl\"}], \"scattermapbox\": [{\"marker\": {\"colorbar\": {\"outlinewidth\": 0, \"ticks\": \"\"}}, \"type\": \"scattermapbox\"}], \"scatterpolar\": [{\"marker\": {\"colorbar\": {\"outlinewidth\": 0, \"ticks\": \"\"}}, \"type\": \"scatterpolar\"}], \"scatterpolargl\": [{\"marker\": {\"colorbar\": {\"outlinewidth\": 0, \"ticks\": \"\"}}, \"type\": \"scatterpolargl\"}], \"scatterternary\": [{\"marker\": {\"colorbar\": {\"outlinewidth\": 0, \"ticks\": \"\"}}, \"type\": \"scatterternary\"}], \"surface\": [{\"colorbar\": {\"outlinewidth\": 0, \"ticks\": \"\"}, \"colorscale\": [[0.0, \"#0d0887\"], [0.1111111111111111, \"#46039f\"], [0.2222222222222222, \"#7201a8\"], [0.3333333333333333, \"#9c179e\"], [0.4444444444444444, \"#bd3786\"], [0.5555555555555556, \"#d8576b\"], [0.6666666666666666, \"#ed7953\"], [0.7777777777777778, \"#fb9f3a\"], [0.8888888888888888, \"#fdca26\"], [1.0, \"#f0f921\"]], \"type\": \"surface\"}], \"table\": [{\"cells\": {\"fill\": {\"color\": \"#EBF0F8\"}, \"line\": {\"color\": \"white\"}}, \"header\": {\"fill\": {\"color\": \"#C8D4E3\"}, \"line\": {\"color\": \"white\"}}, \"type\": \"table\"}]}, \"layout\": {\"annotationdefaults\": {\"arrowcolor\": \"#2a3f5f\", \"arrowhead\": 0, \"arrowwidth\": 1}, \"coloraxis\": {\"colorbar\": {\"outlinewidth\": 0, \"ticks\": \"\"}}, \"colorscale\": {\"diverging\": [[0, \"#8e0152\"], [0.1, \"#c51b7d\"], [0.2, \"#de77ae\"], [0.3, \"#f1b6da\"], [0.4, \"#fde0ef\"], [0.5, \"#f7f7f7\"], [0.6, \"#e6f5d0\"], [0.7, \"#b8e186\"], [0.8, \"#7fbc41\"], [0.9, \"#4d9221\"], [1, \"#276419\"]], \"sequential\": [[0.0, \"#0d0887\"], [0.1111111111111111, \"#46039f\"], [0.2222222222222222, \"#7201a8\"], [0.3333333333333333, \"#9c179e\"], [0.4444444444444444, \"#bd3786\"], [0.5555555555555556, \"#d8576b\"], [0.6666666666666666, \"#ed7953\"], [0.7777777777777778, \"#fb9f3a\"], [0.8888888888888888, \"#fdca26\"], [1.0, \"#f0f921\"]], \"sequentialminus\": [[0.0, \"#0d0887\"], [0.1111111111111111, \"#46039f\"], [0.2222222222222222, \"#7201a8\"], [0.3333333333333333, \"#9c179e\"], [0.4444444444444444, \"#bd3786\"], [0.5555555555555556, \"#d8576b\"], [0.6666666666666666, \"#ed7953\"], [0.7777777777777778, \"#fb9f3a\"], [0.8888888888888888, \"#fdca26\"], [1.0, \"#f0f921\"]]}, \"colorway\": [\"#636efa\", \"#EF553B\", \"#00cc96\", \"#ab63fa\", \"#FFA15A\", \"#19d3f3\", \"#FF6692\", \"#B6E880\", \"#FF97FF\", \"#FECB52\"], \"font\": {\"color\": \"#2a3f5f\"}, \"geo\": {\"bgcolor\": \"white\", \"lakecolor\": \"white\", \"landcolor\": \"#E5ECF6\", \"showlakes\": true, \"showland\": true, \"subunitcolor\": \"white\"}, \"hoverlabel\": {\"align\": \"left\"}, \"hovermode\": \"closest\", \"mapbox\": {\"style\": \"light\"}, \"paper_bgcolor\": \"white\", \"plot_bgcolor\": \"#E5ECF6\", \"polar\": {\"angularaxis\": {\"gridcolor\": \"white\", \"linecolor\": \"white\", \"ticks\": \"\"}, \"bgcolor\": \"#E5ECF6\", \"radialaxis\": {\"gridcolor\": \"white\", \"linecolor\": \"white\", \"ticks\": \"\"}}, \"scene\": {\"xaxis\": {\"backgroundcolor\": \"#E5ECF6\", \"gridcolor\": \"white\", \"gridwidth\": 2, \"linecolor\": \"white\", \"showbackground\": true, \"ticks\": \"\", \"zerolinecolor\": \"white\"}, \"yaxis\": {\"backgroundcolor\": \"#E5ECF6\", \"gridcolor\": \"white\", \"gridwidth\": 2, \"linecolor\": \"white\", \"showbackground\": true, \"ticks\": \"\", \"zerolinecolor\": \"white\"}, \"zaxis\": {\"backgroundcolor\": \"#E5ECF6\", \"gridcolor\": \"white\", \"gridwidth\": 2, \"linecolor\": \"white\", \"showbackground\": true, \"ticks\": \"\", \"zerolinecolor\": \"white\"}}, \"shapedefaults\": {\"line\": {\"color\": \"#2a3f5f\"}}, \"ternary\": {\"aaxis\": {\"gridcolor\": \"white\", \"linecolor\": \"white\", \"ticks\": \"\"}, \"baxis\": {\"gridcolor\": \"white\", \"linecolor\": \"white\", \"ticks\": \"\"}, \"bgcolor\": \"#E5ECF6\", \"caxis\": {\"gridcolor\": \"white\", \"linecolor\": \"white\", \"ticks\": \"\"}}, \"title\": {\"x\": 0.05}, \"xaxis\": {\"automargin\": true, \"gridcolor\": \"white\", \"linecolor\": \"white\", \"ticks\": \"\", \"title\": {\"standoff\": 15}, \"zerolinecolor\": \"white\", \"zerolinewidth\": 2}, \"yaxis\": {\"automargin\": true, \"gridcolor\": \"white\", \"linecolor\": \"white\", \"ticks\": \"\", \"title\": {\"standoff\": 15}, \"zerolinecolor\": \"white\", \"zerolinewidth\": 2}}}, \"title\": {\"font\": {\"color\": \"#4D5663\"}}, \"xaxis\": {\"gridcolor\": \"#E1E5ED\", \"showgrid\": true, \"tickfont\": {\"color\": \"#4D5663\"}, \"title\": {\"font\": {\"color\": \"#4D5663\"}, \"text\": \"\"}, \"zerolinecolor\": \"#E1E5ED\"}, \"yaxis\": {\"gridcolor\": \"#E1E5ED\", \"showgrid\": true, \"tickfont\": {\"color\": \"#4D5663\"}, \"title\": {\"font\": {\"color\": \"#4D5663\"}, \"text\": \"\"}, \"zerolinecolor\": \"#E1E5ED\"}},\n",
       "                        {\"showLink\": true, \"linkText\": \"Export to plot.ly\", \"plotlyServerURL\": \"https://plot.ly\", \"responsive\": true}\n",
       "                    ).then(function(){\n",
       "                            \n",
       "var gd = document.getElementById('beae42f1-ea41-4022-9bd2-df4847d3633b');\n",
       "var x = new MutationObserver(function (mutations, observer) {{\n",
       "        var display = window.getComputedStyle(gd).display;\n",
       "        if (!display || display === 'none') {{\n",
       "            console.log([gd, 'removed!']);\n",
       "            Plotly.purge(gd);\n",
       "            observer.disconnect();\n",
       "        }}\n",
       "}});\n",
       "\n",
       "// Listen for the removal of the full notebook cells\n",
       "var notebookContainer = gd.closest('#notebook-container');\n",
       "if (notebookContainer) {{\n",
       "    x.observe(notebookContainer, {childList: true});\n",
       "}}\n",
       "\n",
       "// Listen for the clearing of the current output cell\n",
       "var outputEl = gd.closest('.output');\n",
       "if (outputEl) {{\n",
       "    x.observe(outputEl, {childList: true});\n",
       "}}\n",
       "\n",
       "                        })\n",
       "                };\n",
       "                });\n",
       "            </script>\n",
       "        </div>"
      ]
     },
     "metadata": {},
     "output_type": "display_data"
    }
   ],
   "source": [
    "df2.iplot(kind='bar',x='Category',y='Values')"
   ]
  },
  {
   "cell_type": "code",
   "execution_count": 24,
   "metadata": {},
   "outputs": [
    {
     "data": {
      "application/vnd.plotly.v1+json": {
       "config": {
        "linkText": "Export to plot.ly",
        "plotlyServerURL": "https://plot.ly",
        "showLink": true
       },
       "data": [
        {
         "marker": {
          "color": "rgba(255, 153, 51, 0.6)",
          "line": {
           "color": "rgba(255, 153, 51, 1.0)",
           "width": 1
          }
         },
         "name": "None",
         "orientation": "v",
         "text": "",
         "type": "bar",
         "x": [
          "A",
          "B",
          "C",
          "D"
         ],
         "y": [
          100,
          100,
          100,
          100
         ]
        }
       ],
       "layout": {
        "legend": {
         "bgcolor": "#F5F6F9",
         "font": {
          "color": "#4D5663"
         }
        },
        "paper_bgcolor": "#F5F6F9",
        "plot_bgcolor": "#F5F6F9",
        "template": {
         "data": {
          "bar": [
           {
            "error_x": {
             "color": "#2a3f5f"
            },
            "error_y": {
             "color": "#2a3f5f"
            },
            "marker": {
             "line": {
              "color": "#E5ECF6",
              "width": 0.5
             }
            },
            "type": "bar"
           }
          ],
          "barpolar": [
           {
            "marker": {
             "line": {
              "color": "#E5ECF6",
              "width": 0.5
             }
            },
            "type": "barpolar"
           }
          ],
          "carpet": [
           {
            "aaxis": {
             "endlinecolor": "#2a3f5f",
             "gridcolor": "white",
             "linecolor": "white",
             "minorgridcolor": "white",
             "startlinecolor": "#2a3f5f"
            },
            "baxis": {
             "endlinecolor": "#2a3f5f",
             "gridcolor": "white",
             "linecolor": "white",
             "minorgridcolor": "white",
             "startlinecolor": "#2a3f5f"
            },
            "type": "carpet"
           }
          ],
          "choropleth": [
           {
            "colorbar": {
             "outlinewidth": 0,
             "ticks": ""
            },
            "type": "choropleth"
           }
          ],
          "contour": [
           {
            "colorbar": {
             "outlinewidth": 0,
             "ticks": ""
            },
            "colorscale": [
             [
              0,
              "#0d0887"
             ],
             [
              0.1111111111111111,
              "#46039f"
             ],
             [
              0.2222222222222222,
              "#7201a8"
             ],
             [
              0.3333333333333333,
              "#9c179e"
             ],
             [
              0.4444444444444444,
              "#bd3786"
             ],
             [
              0.5555555555555556,
              "#d8576b"
             ],
             [
              0.6666666666666666,
              "#ed7953"
             ],
             [
              0.7777777777777778,
              "#fb9f3a"
             ],
             [
              0.8888888888888888,
              "#fdca26"
             ],
             [
              1,
              "#f0f921"
             ]
            ],
            "type": "contour"
           }
          ],
          "contourcarpet": [
           {
            "colorbar": {
             "outlinewidth": 0,
             "ticks": ""
            },
            "type": "contourcarpet"
           }
          ],
          "heatmap": [
           {
            "colorbar": {
             "outlinewidth": 0,
             "ticks": ""
            },
            "colorscale": [
             [
              0,
              "#0d0887"
             ],
             [
              0.1111111111111111,
              "#46039f"
             ],
             [
              0.2222222222222222,
              "#7201a8"
             ],
             [
              0.3333333333333333,
              "#9c179e"
             ],
             [
              0.4444444444444444,
              "#bd3786"
             ],
             [
              0.5555555555555556,
              "#d8576b"
             ],
             [
              0.6666666666666666,
              "#ed7953"
             ],
             [
              0.7777777777777778,
              "#fb9f3a"
             ],
             [
              0.8888888888888888,
              "#fdca26"
             ],
             [
              1,
              "#f0f921"
             ]
            ],
            "type": "heatmap"
           }
          ],
          "heatmapgl": [
           {
            "colorbar": {
             "outlinewidth": 0,
             "ticks": ""
            },
            "colorscale": [
             [
              0,
              "#0d0887"
             ],
             [
              0.1111111111111111,
              "#46039f"
             ],
             [
              0.2222222222222222,
              "#7201a8"
             ],
             [
              0.3333333333333333,
              "#9c179e"
             ],
             [
              0.4444444444444444,
              "#bd3786"
             ],
             [
              0.5555555555555556,
              "#d8576b"
             ],
             [
              0.6666666666666666,
              "#ed7953"
             ],
             [
              0.7777777777777778,
              "#fb9f3a"
             ],
             [
              0.8888888888888888,
              "#fdca26"
             ],
             [
              1,
              "#f0f921"
             ]
            ],
            "type": "heatmapgl"
           }
          ],
          "histogram": [
           {
            "marker": {
             "colorbar": {
              "outlinewidth": 0,
              "ticks": ""
             }
            },
            "type": "histogram"
           }
          ],
          "histogram2d": [
           {
            "colorbar": {
             "outlinewidth": 0,
             "ticks": ""
            },
            "colorscale": [
             [
              0,
              "#0d0887"
             ],
             [
              0.1111111111111111,
              "#46039f"
             ],
             [
              0.2222222222222222,
              "#7201a8"
             ],
             [
              0.3333333333333333,
              "#9c179e"
             ],
             [
              0.4444444444444444,
              "#bd3786"
             ],
             [
              0.5555555555555556,
              "#d8576b"
             ],
             [
              0.6666666666666666,
              "#ed7953"
             ],
             [
              0.7777777777777778,
              "#fb9f3a"
             ],
             [
              0.8888888888888888,
              "#fdca26"
             ],
             [
              1,
              "#f0f921"
             ]
            ],
            "type": "histogram2d"
           }
          ],
          "histogram2dcontour": [
           {
            "colorbar": {
             "outlinewidth": 0,
             "ticks": ""
            },
            "colorscale": [
             [
              0,
              "#0d0887"
             ],
             [
              0.1111111111111111,
              "#46039f"
             ],
             [
              0.2222222222222222,
              "#7201a8"
             ],
             [
              0.3333333333333333,
              "#9c179e"
             ],
             [
              0.4444444444444444,
              "#bd3786"
             ],
             [
              0.5555555555555556,
              "#d8576b"
             ],
             [
              0.6666666666666666,
              "#ed7953"
             ],
             [
              0.7777777777777778,
              "#fb9f3a"
             ],
             [
              0.8888888888888888,
              "#fdca26"
             ],
             [
              1,
              "#f0f921"
             ]
            ],
            "type": "histogram2dcontour"
           }
          ],
          "mesh3d": [
           {
            "colorbar": {
             "outlinewidth": 0,
             "ticks": ""
            },
            "type": "mesh3d"
           }
          ],
          "parcoords": [
           {
            "line": {
             "colorbar": {
              "outlinewidth": 0,
              "ticks": ""
             }
            },
            "type": "parcoords"
           }
          ],
          "pie": [
           {
            "automargin": true,
            "type": "pie"
           }
          ],
          "scatter": [
           {
            "marker": {
             "colorbar": {
              "outlinewidth": 0,
              "ticks": ""
             }
            },
            "type": "scatter"
           }
          ],
          "scatter3d": [
           {
            "line": {
             "colorbar": {
              "outlinewidth": 0,
              "ticks": ""
             }
            },
            "marker": {
             "colorbar": {
              "outlinewidth": 0,
              "ticks": ""
             }
            },
            "type": "scatter3d"
           }
          ],
          "scattercarpet": [
           {
            "marker": {
             "colorbar": {
              "outlinewidth": 0,
              "ticks": ""
             }
            },
            "type": "scattercarpet"
           }
          ],
          "scattergeo": [
           {
            "marker": {
             "colorbar": {
              "outlinewidth": 0,
              "ticks": ""
             }
            },
            "type": "scattergeo"
           }
          ],
          "scattergl": [
           {
            "marker": {
             "colorbar": {
              "outlinewidth": 0,
              "ticks": ""
             }
            },
            "type": "scattergl"
           }
          ],
          "scattermapbox": [
           {
            "marker": {
             "colorbar": {
              "outlinewidth": 0,
              "ticks": ""
             }
            },
            "type": "scattermapbox"
           }
          ],
          "scatterpolar": [
           {
            "marker": {
             "colorbar": {
              "outlinewidth": 0,
              "ticks": ""
             }
            },
            "type": "scatterpolar"
           }
          ],
          "scatterpolargl": [
           {
            "marker": {
             "colorbar": {
              "outlinewidth": 0,
              "ticks": ""
             }
            },
            "type": "scatterpolargl"
           }
          ],
          "scatterternary": [
           {
            "marker": {
             "colorbar": {
              "outlinewidth": 0,
              "ticks": ""
             }
            },
            "type": "scatterternary"
           }
          ],
          "surface": [
           {
            "colorbar": {
             "outlinewidth": 0,
             "ticks": ""
            },
            "colorscale": [
             [
              0,
              "#0d0887"
             ],
             [
              0.1111111111111111,
              "#46039f"
             ],
             [
              0.2222222222222222,
              "#7201a8"
             ],
             [
              0.3333333333333333,
              "#9c179e"
             ],
             [
              0.4444444444444444,
              "#bd3786"
             ],
             [
              0.5555555555555556,
              "#d8576b"
             ],
             [
              0.6666666666666666,
              "#ed7953"
             ],
             [
              0.7777777777777778,
              "#fb9f3a"
             ],
             [
              0.8888888888888888,
              "#fdca26"
             ],
             [
              1,
              "#f0f921"
             ]
            ],
            "type": "surface"
           }
          ],
          "table": [
           {
            "cells": {
             "fill": {
              "color": "#EBF0F8"
             },
             "line": {
              "color": "white"
             }
            },
            "header": {
             "fill": {
              "color": "#C8D4E3"
             },
             "line": {
              "color": "white"
             }
            },
            "type": "table"
           }
          ]
         },
         "layout": {
          "annotationdefaults": {
           "arrowcolor": "#2a3f5f",
           "arrowhead": 0,
           "arrowwidth": 1
          },
          "coloraxis": {
           "colorbar": {
            "outlinewidth": 0,
            "ticks": ""
           }
          },
          "colorscale": {
           "diverging": [
            [
             0,
             "#8e0152"
            ],
            [
             0.1,
             "#c51b7d"
            ],
            [
             0.2,
             "#de77ae"
            ],
            [
             0.3,
             "#f1b6da"
            ],
            [
             0.4,
             "#fde0ef"
            ],
            [
             0.5,
             "#f7f7f7"
            ],
            [
             0.6,
             "#e6f5d0"
            ],
            [
             0.7,
             "#b8e186"
            ],
            [
             0.8,
             "#7fbc41"
            ],
            [
             0.9,
             "#4d9221"
            ],
            [
             1,
             "#276419"
            ]
           ],
           "sequential": [
            [
             0,
             "#0d0887"
            ],
            [
             0.1111111111111111,
             "#46039f"
            ],
            [
             0.2222222222222222,
             "#7201a8"
            ],
            [
             0.3333333333333333,
             "#9c179e"
            ],
            [
             0.4444444444444444,
             "#bd3786"
            ],
            [
             0.5555555555555556,
             "#d8576b"
            ],
            [
             0.6666666666666666,
             "#ed7953"
            ],
            [
             0.7777777777777778,
             "#fb9f3a"
            ],
            [
             0.8888888888888888,
             "#fdca26"
            ],
            [
             1,
             "#f0f921"
            ]
           ],
           "sequentialminus": [
            [
             0,
             "#0d0887"
            ],
            [
             0.1111111111111111,
             "#46039f"
            ],
            [
             0.2222222222222222,
             "#7201a8"
            ],
            [
             0.3333333333333333,
             "#9c179e"
            ],
            [
             0.4444444444444444,
             "#bd3786"
            ],
            [
             0.5555555555555556,
             "#d8576b"
            ],
            [
             0.6666666666666666,
             "#ed7953"
            ],
            [
             0.7777777777777778,
             "#fb9f3a"
            ],
            [
             0.8888888888888888,
             "#fdca26"
            ],
            [
             1,
             "#f0f921"
            ]
           ]
          },
          "colorway": [
           "#636efa",
           "#EF553B",
           "#00cc96",
           "#ab63fa",
           "#FFA15A",
           "#19d3f3",
           "#FF6692",
           "#B6E880",
           "#FF97FF",
           "#FECB52"
          ],
          "font": {
           "color": "#2a3f5f"
          },
          "geo": {
           "bgcolor": "white",
           "lakecolor": "white",
           "landcolor": "#E5ECF6",
           "showlakes": true,
           "showland": true,
           "subunitcolor": "white"
          },
          "hoverlabel": {
           "align": "left"
          },
          "hovermode": "closest",
          "mapbox": {
           "style": "light"
          },
          "paper_bgcolor": "white",
          "plot_bgcolor": "#E5ECF6",
          "polar": {
           "angularaxis": {
            "gridcolor": "white",
            "linecolor": "white",
            "ticks": ""
           },
           "bgcolor": "#E5ECF6",
           "radialaxis": {
            "gridcolor": "white",
            "linecolor": "white",
            "ticks": ""
           }
          },
          "scene": {
           "xaxis": {
            "backgroundcolor": "#E5ECF6",
            "gridcolor": "white",
            "gridwidth": 2,
            "linecolor": "white",
            "showbackground": true,
            "ticks": "",
            "zerolinecolor": "white"
           },
           "yaxis": {
            "backgroundcolor": "#E5ECF6",
            "gridcolor": "white",
            "gridwidth": 2,
            "linecolor": "white",
            "showbackground": true,
            "ticks": "",
            "zerolinecolor": "white"
           },
           "zaxis": {
            "backgroundcolor": "#E5ECF6",
            "gridcolor": "white",
            "gridwidth": 2,
            "linecolor": "white",
            "showbackground": true,
            "ticks": "",
            "zerolinecolor": "white"
           }
          },
          "shapedefaults": {
           "line": {
            "color": "#2a3f5f"
           }
          },
          "ternary": {
           "aaxis": {
            "gridcolor": "white",
            "linecolor": "white",
            "ticks": ""
           },
           "baxis": {
            "gridcolor": "white",
            "linecolor": "white",
            "ticks": ""
           },
           "bgcolor": "#E5ECF6",
           "caxis": {
            "gridcolor": "white",
            "linecolor": "white",
            "ticks": ""
           }
          },
          "title": {
           "x": 0.05
          },
          "xaxis": {
           "automargin": true,
           "gridcolor": "white",
           "linecolor": "white",
           "ticks": "",
           "title": {
            "standoff": 15
           },
           "zerolinecolor": "white",
           "zerolinewidth": 2
          },
          "yaxis": {
           "automargin": true,
           "gridcolor": "white",
           "linecolor": "white",
           "ticks": "",
           "title": {
            "standoff": 15
           },
           "zerolinecolor": "white",
           "zerolinewidth": 2
          }
         }
        },
        "title": {
         "font": {
          "color": "#4D5663"
         }
        },
        "xaxis": {
         "gridcolor": "#E1E5ED",
         "showgrid": true,
         "tickfont": {
          "color": "#4D5663"
         },
         "title": {
          "font": {
           "color": "#4D5663"
          },
          "text": ""
         },
         "zerolinecolor": "#E1E5ED"
        },
        "yaxis": {
         "gridcolor": "#E1E5ED",
         "showgrid": true,
         "tickfont": {
          "color": "#4D5663"
         },
         "title": {
          "font": {
           "color": "#4D5663"
          },
          "text": ""
         },
         "zerolinecolor": "#E1E5ED"
        }
       }
      },
      "text/html": [
       "<div>\n",
       "        \n",
       "        \n",
       "            <div id=\"fca48781-ef4f-49ee-8760-b0a5fb059b36\" class=\"plotly-graph-div\" style=\"height:525px; width:100%;\"></div>\n",
       "            <script type=\"text/javascript\">\n",
       "                require([\"plotly\"], function(Plotly) {\n",
       "                    window.PLOTLYENV=window.PLOTLYENV || {};\n",
       "                    window.PLOTLYENV.BASE_URL='https://plot.ly';\n",
       "                    \n",
       "                if (document.getElementById(\"fca48781-ef4f-49ee-8760-b0a5fb059b36\")) {\n",
       "                    Plotly.newPlot(\n",
       "                        'fca48781-ef4f-49ee-8760-b0a5fb059b36',\n",
       "                        [{\"marker\": {\"color\": \"rgba(255, 153, 51, 0.6)\", \"line\": {\"color\": \"rgba(255, 153, 51, 1.0)\", \"width\": 1}}, \"name\": \"None\", \"orientation\": \"v\", \"text\": \"\", \"type\": \"bar\", \"x\": [\"A\", \"B\", \"C\", \"D\"], \"y\": [100, 100, 100, 100]}],\n",
       "                        {\"legend\": {\"bgcolor\": \"#F5F6F9\", \"font\": {\"color\": \"#4D5663\"}}, \"paper_bgcolor\": \"#F5F6F9\", \"plot_bgcolor\": \"#F5F6F9\", \"template\": {\"data\": {\"bar\": [{\"error_x\": {\"color\": \"#2a3f5f\"}, \"error_y\": {\"color\": \"#2a3f5f\"}, \"marker\": {\"line\": {\"color\": \"#E5ECF6\", \"width\": 0.5}}, \"type\": \"bar\"}], \"barpolar\": [{\"marker\": {\"line\": {\"color\": \"#E5ECF6\", \"width\": 0.5}}, \"type\": \"barpolar\"}], \"carpet\": [{\"aaxis\": {\"endlinecolor\": \"#2a3f5f\", \"gridcolor\": \"white\", \"linecolor\": \"white\", \"minorgridcolor\": \"white\", \"startlinecolor\": \"#2a3f5f\"}, \"baxis\": {\"endlinecolor\": \"#2a3f5f\", \"gridcolor\": \"white\", \"linecolor\": \"white\", \"minorgridcolor\": \"white\", \"startlinecolor\": \"#2a3f5f\"}, \"type\": \"carpet\"}], \"choropleth\": [{\"colorbar\": {\"outlinewidth\": 0, \"ticks\": \"\"}, \"type\": \"choropleth\"}], \"contour\": [{\"colorbar\": {\"outlinewidth\": 0, \"ticks\": \"\"}, \"colorscale\": [[0.0, \"#0d0887\"], [0.1111111111111111, \"#46039f\"], [0.2222222222222222, \"#7201a8\"], [0.3333333333333333, \"#9c179e\"], [0.4444444444444444, \"#bd3786\"], [0.5555555555555556, \"#d8576b\"], [0.6666666666666666, \"#ed7953\"], [0.7777777777777778, \"#fb9f3a\"], [0.8888888888888888, \"#fdca26\"], [1.0, \"#f0f921\"]], \"type\": \"contour\"}], \"contourcarpet\": [{\"colorbar\": {\"outlinewidth\": 0, \"ticks\": \"\"}, \"type\": \"contourcarpet\"}], \"heatmap\": [{\"colorbar\": {\"outlinewidth\": 0, \"ticks\": \"\"}, \"colorscale\": [[0.0, \"#0d0887\"], [0.1111111111111111, \"#46039f\"], [0.2222222222222222, \"#7201a8\"], [0.3333333333333333, \"#9c179e\"], [0.4444444444444444, \"#bd3786\"], [0.5555555555555556, \"#d8576b\"], [0.6666666666666666, \"#ed7953\"], [0.7777777777777778, \"#fb9f3a\"], [0.8888888888888888, \"#fdca26\"], [1.0, \"#f0f921\"]], \"type\": \"heatmap\"}], \"heatmapgl\": [{\"colorbar\": {\"outlinewidth\": 0, \"ticks\": \"\"}, \"colorscale\": [[0.0, \"#0d0887\"], [0.1111111111111111, \"#46039f\"], [0.2222222222222222, \"#7201a8\"], [0.3333333333333333, \"#9c179e\"], [0.4444444444444444, \"#bd3786\"], [0.5555555555555556, \"#d8576b\"], [0.6666666666666666, \"#ed7953\"], [0.7777777777777778, \"#fb9f3a\"], [0.8888888888888888, \"#fdca26\"], [1.0, \"#f0f921\"]], \"type\": \"heatmapgl\"}], \"histogram\": [{\"marker\": {\"colorbar\": {\"outlinewidth\": 0, \"ticks\": \"\"}}, \"type\": \"histogram\"}], \"histogram2d\": [{\"colorbar\": {\"outlinewidth\": 0, \"ticks\": \"\"}, \"colorscale\": [[0.0, \"#0d0887\"], [0.1111111111111111, \"#46039f\"], [0.2222222222222222, \"#7201a8\"], [0.3333333333333333, \"#9c179e\"], [0.4444444444444444, \"#bd3786\"], [0.5555555555555556, \"#d8576b\"], [0.6666666666666666, \"#ed7953\"], [0.7777777777777778, \"#fb9f3a\"], [0.8888888888888888, \"#fdca26\"], [1.0, \"#f0f921\"]], \"type\": \"histogram2d\"}], \"histogram2dcontour\": [{\"colorbar\": {\"outlinewidth\": 0, \"ticks\": \"\"}, \"colorscale\": [[0.0, \"#0d0887\"], [0.1111111111111111, \"#46039f\"], [0.2222222222222222, \"#7201a8\"], [0.3333333333333333, \"#9c179e\"], [0.4444444444444444, \"#bd3786\"], [0.5555555555555556, \"#d8576b\"], [0.6666666666666666, \"#ed7953\"], [0.7777777777777778, \"#fb9f3a\"], [0.8888888888888888, \"#fdca26\"], [1.0, \"#f0f921\"]], \"type\": \"histogram2dcontour\"}], \"mesh3d\": [{\"colorbar\": {\"outlinewidth\": 0, \"ticks\": \"\"}, \"type\": \"mesh3d\"}], \"parcoords\": [{\"line\": {\"colorbar\": {\"outlinewidth\": 0, \"ticks\": \"\"}}, \"type\": \"parcoords\"}], \"pie\": [{\"automargin\": true, \"type\": \"pie\"}], \"scatter\": [{\"marker\": {\"colorbar\": {\"outlinewidth\": 0, \"ticks\": \"\"}}, \"type\": \"scatter\"}], \"scatter3d\": [{\"line\": {\"colorbar\": {\"outlinewidth\": 0, \"ticks\": \"\"}}, \"marker\": {\"colorbar\": {\"outlinewidth\": 0, \"ticks\": \"\"}}, \"type\": \"scatter3d\"}], \"scattercarpet\": [{\"marker\": {\"colorbar\": {\"outlinewidth\": 0, \"ticks\": \"\"}}, \"type\": \"scattercarpet\"}], \"scattergeo\": [{\"marker\": {\"colorbar\": {\"outlinewidth\": 0, \"ticks\": \"\"}}, \"type\": \"scattergeo\"}], \"scattergl\": [{\"marker\": {\"colorbar\": {\"outlinewidth\": 0, \"ticks\": \"\"}}, \"type\": \"scattergl\"}], \"scattermapbox\": [{\"marker\": {\"colorbar\": {\"outlinewidth\": 0, \"ticks\": \"\"}}, \"type\": \"scattermapbox\"}], \"scatterpolar\": [{\"marker\": {\"colorbar\": {\"outlinewidth\": 0, \"ticks\": \"\"}}, \"type\": \"scatterpolar\"}], \"scatterpolargl\": [{\"marker\": {\"colorbar\": {\"outlinewidth\": 0, \"ticks\": \"\"}}, \"type\": \"scatterpolargl\"}], \"scatterternary\": [{\"marker\": {\"colorbar\": {\"outlinewidth\": 0, \"ticks\": \"\"}}, \"type\": \"scatterternary\"}], \"surface\": [{\"colorbar\": {\"outlinewidth\": 0, \"ticks\": \"\"}, \"colorscale\": [[0.0, \"#0d0887\"], [0.1111111111111111, \"#46039f\"], [0.2222222222222222, \"#7201a8\"], [0.3333333333333333, \"#9c179e\"], [0.4444444444444444, \"#bd3786\"], [0.5555555555555556, \"#d8576b\"], [0.6666666666666666, \"#ed7953\"], [0.7777777777777778, \"#fb9f3a\"], [0.8888888888888888, \"#fdca26\"], [1.0, \"#f0f921\"]], \"type\": \"surface\"}], \"table\": [{\"cells\": {\"fill\": {\"color\": \"#EBF0F8\"}, \"line\": {\"color\": \"white\"}}, \"header\": {\"fill\": {\"color\": \"#C8D4E3\"}, \"line\": {\"color\": \"white\"}}, \"type\": \"table\"}]}, \"layout\": {\"annotationdefaults\": {\"arrowcolor\": \"#2a3f5f\", \"arrowhead\": 0, \"arrowwidth\": 1}, \"coloraxis\": {\"colorbar\": {\"outlinewidth\": 0, \"ticks\": \"\"}}, \"colorscale\": {\"diverging\": [[0, \"#8e0152\"], [0.1, \"#c51b7d\"], [0.2, \"#de77ae\"], [0.3, \"#f1b6da\"], [0.4, \"#fde0ef\"], [0.5, \"#f7f7f7\"], [0.6, \"#e6f5d0\"], [0.7, \"#b8e186\"], [0.8, \"#7fbc41\"], [0.9, \"#4d9221\"], [1, \"#276419\"]], \"sequential\": [[0.0, \"#0d0887\"], [0.1111111111111111, \"#46039f\"], [0.2222222222222222, \"#7201a8\"], [0.3333333333333333, \"#9c179e\"], [0.4444444444444444, \"#bd3786\"], [0.5555555555555556, \"#d8576b\"], [0.6666666666666666, \"#ed7953\"], [0.7777777777777778, \"#fb9f3a\"], [0.8888888888888888, \"#fdca26\"], [1.0, \"#f0f921\"]], \"sequentialminus\": [[0.0, \"#0d0887\"], [0.1111111111111111, \"#46039f\"], [0.2222222222222222, \"#7201a8\"], [0.3333333333333333, \"#9c179e\"], [0.4444444444444444, \"#bd3786\"], [0.5555555555555556, \"#d8576b\"], [0.6666666666666666, \"#ed7953\"], [0.7777777777777778, \"#fb9f3a\"], [0.8888888888888888, \"#fdca26\"], [1.0, \"#f0f921\"]]}, \"colorway\": [\"#636efa\", \"#EF553B\", \"#00cc96\", \"#ab63fa\", \"#FFA15A\", \"#19d3f3\", \"#FF6692\", \"#B6E880\", \"#FF97FF\", \"#FECB52\"], \"font\": {\"color\": \"#2a3f5f\"}, \"geo\": {\"bgcolor\": \"white\", \"lakecolor\": \"white\", \"landcolor\": \"#E5ECF6\", \"showlakes\": true, \"showland\": true, \"subunitcolor\": \"white\"}, \"hoverlabel\": {\"align\": \"left\"}, \"hovermode\": \"closest\", \"mapbox\": {\"style\": \"light\"}, \"paper_bgcolor\": \"white\", \"plot_bgcolor\": \"#E5ECF6\", \"polar\": {\"angularaxis\": {\"gridcolor\": \"white\", \"linecolor\": \"white\", \"ticks\": \"\"}, \"bgcolor\": \"#E5ECF6\", \"radialaxis\": {\"gridcolor\": \"white\", \"linecolor\": \"white\", \"ticks\": \"\"}}, \"scene\": {\"xaxis\": {\"backgroundcolor\": \"#E5ECF6\", \"gridcolor\": \"white\", \"gridwidth\": 2, \"linecolor\": \"white\", \"showbackground\": true, \"ticks\": \"\", \"zerolinecolor\": \"white\"}, \"yaxis\": {\"backgroundcolor\": \"#E5ECF6\", \"gridcolor\": \"white\", \"gridwidth\": 2, \"linecolor\": \"white\", \"showbackground\": true, \"ticks\": \"\", \"zerolinecolor\": \"white\"}, \"zaxis\": {\"backgroundcolor\": \"#E5ECF6\", \"gridcolor\": \"white\", \"gridwidth\": 2, \"linecolor\": \"white\", \"showbackground\": true, \"ticks\": \"\", \"zerolinecolor\": \"white\"}}, \"shapedefaults\": {\"line\": {\"color\": \"#2a3f5f\"}}, \"ternary\": {\"aaxis\": {\"gridcolor\": \"white\", \"linecolor\": \"white\", \"ticks\": \"\"}, \"baxis\": {\"gridcolor\": \"white\", \"linecolor\": \"white\", \"ticks\": \"\"}, \"bgcolor\": \"#E5ECF6\", \"caxis\": {\"gridcolor\": \"white\", \"linecolor\": \"white\", \"ticks\": \"\"}}, \"title\": {\"x\": 0.05}, \"xaxis\": {\"automargin\": true, \"gridcolor\": \"white\", \"linecolor\": \"white\", \"ticks\": \"\", \"title\": {\"standoff\": 15}, \"zerolinecolor\": \"white\", \"zerolinewidth\": 2}, \"yaxis\": {\"automargin\": true, \"gridcolor\": \"white\", \"linecolor\": \"white\", \"ticks\": \"\", \"title\": {\"standoff\": 15}, \"zerolinecolor\": \"white\", \"zerolinewidth\": 2}}}, \"title\": {\"font\": {\"color\": \"#4D5663\"}}, \"xaxis\": {\"gridcolor\": \"#E1E5ED\", \"showgrid\": true, \"tickfont\": {\"color\": \"#4D5663\"}, \"title\": {\"font\": {\"color\": \"#4D5663\"}, \"text\": \"\"}, \"zerolinecolor\": \"#E1E5ED\"}, \"yaxis\": {\"gridcolor\": \"#E1E5ED\", \"showgrid\": true, \"tickfont\": {\"color\": \"#4D5663\"}, \"title\": {\"font\": {\"color\": \"#4D5663\"}, \"text\": \"\"}, \"zerolinecolor\": \"#E1E5ED\"}},\n",
       "                        {\"showLink\": true, \"linkText\": \"Export to plot.ly\", \"plotlyServerURL\": \"https://plot.ly\", \"responsive\": true}\n",
       "                    ).then(function(){\n",
       "                            \n",
       "var gd = document.getElementById('fca48781-ef4f-49ee-8760-b0a5fb059b36');\n",
       "var x = new MutationObserver(function (mutations, observer) {{\n",
       "        var display = window.getComputedStyle(gd).display;\n",
       "        if (!display || display === 'none') {{\n",
       "            console.log([gd, 'removed!']);\n",
       "            Plotly.purge(gd);\n",
       "            observer.disconnect();\n",
       "        }}\n",
       "}});\n",
       "\n",
       "// Listen for the removal of the full notebook cells\n",
       "var notebookContainer = gd.closest('#notebook-container');\n",
       "if (notebookContainer) {{\n",
       "    x.observe(notebookContainer, {childList: true});\n",
       "}}\n",
       "\n",
       "// Listen for the clearing of the current output cell\n",
       "var outputEl = gd.closest('.output');\n",
       "if (outputEl) {{\n",
       "    x.observe(outputEl, {childList: true});\n",
       "}}\n",
       "\n",
       "                        })\n",
       "                };\n",
       "                });\n",
       "            </script>\n",
       "        </div>"
      ]
     },
     "metadata": {},
     "output_type": "display_data"
    }
   ],
   "source": [
    "df.count().iplot(kind='bar') #her birisinde kaç değer olduğunu gösterir"
   ]
  },
  {
   "cell_type": "code",
   "execution_count": 27,
   "metadata": {},
   "outputs": [
    {
     "data": {
      "application/vnd.plotly.v1+json": {
       "config": {
        "linkText": "Export to plot.ly",
        "plotlyServerURL": "https://plot.ly",
        "showLink": true
       },
       "data": [
        {
         "marker": {
          "color": "rgba(255, 153, 51, 0.6)",
          "line": {
           "color": "rgba(255, 153, 51, 1.0)",
           "width": 1
          }
         },
         "name": "None",
         "orientation": "v",
         "text": "",
         "type": "bar",
         "x": [
          "A",
          "B",
          "C",
          "D"
         ],
         "y": [
          16.105728700943605,
          -1.629466666112035,
          -18.621801075081255,
          20.218956910138672
         ]
        }
       ],
       "layout": {
        "legend": {
         "bgcolor": "#F5F6F9",
         "font": {
          "color": "#4D5663"
         }
        },
        "paper_bgcolor": "#F5F6F9",
        "plot_bgcolor": "#F5F6F9",
        "template": {
         "data": {
          "bar": [
           {
            "error_x": {
             "color": "#2a3f5f"
            },
            "error_y": {
             "color": "#2a3f5f"
            },
            "marker": {
             "line": {
              "color": "#E5ECF6",
              "width": 0.5
             }
            },
            "type": "bar"
           }
          ],
          "barpolar": [
           {
            "marker": {
             "line": {
              "color": "#E5ECF6",
              "width": 0.5
             }
            },
            "type": "barpolar"
           }
          ],
          "carpet": [
           {
            "aaxis": {
             "endlinecolor": "#2a3f5f",
             "gridcolor": "white",
             "linecolor": "white",
             "minorgridcolor": "white",
             "startlinecolor": "#2a3f5f"
            },
            "baxis": {
             "endlinecolor": "#2a3f5f",
             "gridcolor": "white",
             "linecolor": "white",
             "minorgridcolor": "white",
             "startlinecolor": "#2a3f5f"
            },
            "type": "carpet"
           }
          ],
          "choropleth": [
           {
            "colorbar": {
             "outlinewidth": 0,
             "ticks": ""
            },
            "type": "choropleth"
           }
          ],
          "contour": [
           {
            "colorbar": {
             "outlinewidth": 0,
             "ticks": ""
            },
            "colorscale": [
             [
              0,
              "#0d0887"
             ],
             [
              0.1111111111111111,
              "#46039f"
             ],
             [
              0.2222222222222222,
              "#7201a8"
             ],
             [
              0.3333333333333333,
              "#9c179e"
             ],
             [
              0.4444444444444444,
              "#bd3786"
             ],
             [
              0.5555555555555556,
              "#d8576b"
             ],
             [
              0.6666666666666666,
              "#ed7953"
             ],
             [
              0.7777777777777778,
              "#fb9f3a"
             ],
             [
              0.8888888888888888,
              "#fdca26"
             ],
             [
              1,
              "#f0f921"
             ]
            ],
            "type": "contour"
           }
          ],
          "contourcarpet": [
           {
            "colorbar": {
             "outlinewidth": 0,
             "ticks": ""
            },
            "type": "contourcarpet"
           }
          ],
          "heatmap": [
           {
            "colorbar": {
             "outlinewidth": 0,
             "ticks": ""
            },
            "colorscale": [
             [
              0,
              "#0d0887"
             ],
             [
              0.1111111111111111,
              "#46039f"
             ],
             [
              0.2222222222222222,
              "#7201a8"
             ],
             [
              0.3333333333333333,
              "#9c179e"
             ],
             [
              0.4444444444444444,
              "#bd3786"
             ],
             [
              0.5555555555555556,
              "#d8576b"
             ],
             [
              0.6666666666666666,
              "#ed7953"
             ],
             [
              0.7777777777777778,
              "#fb9f3a"
             ],
             [
              0.8888888888888888,
              "#fdca26"
             ],
             [
              1,
              "#f0f921"
             ]
            ],
            "type": "heatmap"
           }
          ],
          "heatmapgl": [
           {
            "colorbar": {
             "outlinewidth": 0,
             "ticks": ""
            },
            "colorscale": [
             [
              0,
              "#0d0887"
             ],
             [
              0.1111111111111111,
              "#46039f"
             ],
             [
              0.2222222222222222,
              "#7201a8"
             ],
             [
              0.3333333333333333,
              "#9c179e"
             ],
             [
              0.4444444444444444,
              "#bd3786"
             ],
             [
              0.5555555555555556,
              "#d8576b"
             ],
             [
              0.6666666666666666,
              "#ed7953"
             ],
             [
              0.7777777777777778,
              "#fb9f3a"
             ],
             [
              0.8888888888888888,
              "#fdca26"
             ],
             [
              1,
              "#f0f921"
             ]
            ],
            "type": "heatmapgl"
           }
          ],
          "histogram": [
           {
            "marker": {
             "colorbar": {
              "outlinewidth": 0,
              "ticks": ""
             }
            },
            "type": "histogram"
           }
          ],
          "histogram2d": [
           {
            "colorbar": {
             "outlinewidth": 0,
             "ticks": ""
            },
            "colorscale": [
             [
              0,
              "#0d0887"
             ],
             [
              0.1111111111111111,
              "#46039f"
             ],
             [
              0.2222222222222222,
              "#7201a8"
             ],
             [
              0.3333333333333333,
              "#9c179e"
             ],
             [
              0.4444444444444444,
              "#bd3786"
             ],
             [
              0.5555555555555556,
              "#d8576b"
             ],
             [
              0.6666666666666666,
              "#ed7953"
             ],
             [
              0.7777777777777778,
              "#fb9f3a"
             ],
             [
              0.8888888888888888,
              "#fdca26"
             ],
             [
              1,
              "#f0f921"
             ]
            ],
            "type": "histogram2d"
           }
          ],
          "histogram2dcontour": [
           {
            "colorbar": {
             "outlinewidth": 0,
             "ticks": ""
            },
            "colorscale": [
             [
              0,
              "#0d0887"
             ],
             [
              0.1111111111111111,
              "#46039f"
             ],
             [
              0.2222222222222222,
              "#7201a8"
             ],
             [
              0.3333333333333333,
              "#9c179e"
             ],
             [
              0.4444444444444444,
              "#bd3786"
             ],
             [
              0.5555555555555556,
              "#d8576b"
             ],
             [
              0.6666666666666666,
              "#ed7953"
             ],
             [
              0.7777777777777778,
              "#fb9f3a"
             ],
             [
              0.8888888888888888,
              "#fdca26"
             ],
             [
              1,
              "#f0f921"
             ]
            ],
            "type": "histogram2dcontour"
           }
          ],
          "mesh3d": [
           {
            "colorbar": {
             "outlinewidth": 0,
             "ticks": ""
            },
            "type": "mesh3d"
           }
          ],
          "parcoords": [
           {
            "line": {
             "colorbar": {
              "outlinewidth": 0,
              "ticks": ""
             }
            },
            "type": "parcoords"
           }
          ],
          "pie": [
           {
            "automargin": true,
            "type": "pie"
           }
          ],
          "scatter": [
           {
            "marker": {
             "colorbar": {
              "outlinewidth": 0,
              "ticks": ""
             }
            },
            "type": "scatter"
           }
          ],
          "scatter3d": [
           {
            "line": {
             "colorbar": {
              "outlinewidth": 0,
              "ticks": ""
             }
            },
            "marker": {
             "colorbar": {
              "outlinewidth": 0,
              "ticks": ""
             }
            },
            "type": "scatter3d"
           }
          ],
          "scattercarpet": [
           {
            "marker": {
             "colorbar": {
              "outlinewidth": 0,
              "ticks": ""
             }
            },
            "type": "scattercarpet"
           }
          ],
          "scattergeo": [
           {
            "marker": {
             "colorbar": {
              "outlinewidth": 0,
              "ticks": ""
             }
            },
            "type": "scattergeo"
           }
          ],
          "scattergl": [
           {
            "marker": {
             "colorbar": {
              "outlinewidth": 0,
              "ticks": ""
             }
            },
            "type": "scattergl"
           }
          ],
          "scattermapbox": [
           {
            "marker": {
             "colorbar": {
              "outlinewidth": 0,
              "ticks": ""
             }
            },
            "type": "scattermapbox"
           }
          ],
          "scatterpolar": [
           {
            "marker": {
             "colorbar": {
              "outlinewidth": 0,
              "ticks": ""
             }
            },
            "type": "scatterpolar"
           }
          ],
          "scatterpolargl": [
           {
            "marker": {
             "colorbar": {
              "outlinewidth": 0,
              "ticks": ""
             }
            },
            "type": "scatterpolargl"
           }
          ],
          "scatterternary": [
           {
            "marker": {
             "colorbar": {
              "outlinewidth": 0,
              "ticks": ""
             }
            },
            "type": "scatterternary"
           }
          ],
          "surface": [
           {
            "colorbar": {
             "outlinewidth": 0,
             "ticks": ""
            },
            "colorscale": [
             [
              0,
              "#0d0887"
             ],
             [
              0.1111111111111111,
              "#46039f"
             ],
             [
              0.2222222222222222,
              "#7201a8"
             ],
             [
              0.3333333333333333,
              "#9c179e"
             ],
             [
              0.4444444444444444,
              "#bd3786"
             ],
             [
              0.5555555555555556,
              "#d8576b"
             ],
             [
              0.6666666666666666,
              "#ed7953"
             ],
             [
              0.7777777777777778,
              "#fb9f3a"
             ],
             [
              0.8888888888888888,
              "#fdca26"
             ],
             [
              1,
              "#f0f921"
             ]
            ],
            "type": "surface"
           }
          ],
          "table": [
           {
            "cells": {
             "fill": {
              "color": "#EBF0F8"
             },
             "line": {
              "color": "white"
             }
            },
            "header": {
             "fill": {
              "color": "#C8D4E3"
             },
             "line": {
              "color": "white"
             }
            },
            "type": "table"
           }
          ]
         },
         "layout": {
          "annotationdefaults": {
           "arrowcolor": "#2a3f5f",
           "arrowhead": 0,
           "arrowwidth": 1
          },
          "coloraxis": {
           "colorbar": {
            "outlinewidth": 0,
            "ticks": ""
           }
          },
          "colorscale": {
           "diverging": [
            [
             0,
             "#8e0152"
            ],
            [
             0.1,
             "#c51b7d"
            ],
            [
             0.2,
             "#de77ae"
            ],
            [
             0.3,
             "#f1b6da"
            ],
            [
             0.4,
             "#fde0ef"
            ],
            [
             0.5,
             "#f7f7f7"
            ],
            [
             0.6,
             "#e6f5d0"
            ],
            [
             0.7,
             "#b8e186"
            ],
            [
             0.8,
             "#7fbc41"
            ],
            [
             0.9,
             "#4d9221"
            ],
            [
             1,
             "#276419"
            ]
           ],
           "sequential": [
            [
             0,
             "#0d0887"
            ],
            [
             0.1111111111111111,
             "#46039f"
            ],
            [
             0.2222222222222222,
             "#7201a8"
            ],
            [
             0.3333333333333333,
             "#9c179e"
            ],
            [
             0.4444444444444444,
             "#bd3786"
            ],
            [
             0.5555555555555556,
             "#d8576b"
            ],
            [
             0.6666666666666666,
             "#ed7953"
            ],
            [
             0.7777777777777778,
             "#fb9f3a"
            ],
            [
             0.8888888888888888,
             "#fdca26"
            ],
            [
             1,
             "#f0f921"
            ]
           ],
           "sequentialminus": [
            [
             0,
             "#0d0887"
            ],
            [
             0.1111111111111111,
             "#46039f"
            ],
            [
             0.2222222222222222,
             "#7201a8"
            ],
            [
             0.3333333333333333,
             "#9c179e"
            ],
            [
             0.4444444444444444,
             "#bd3786"
            ],
            [
             0.5555555555555556,
             "#d8576b"
            ],
            [
             0.6666666666666666,
             "#ed7953"
            ],
            [
             0.7777777777777778,
             "#fb9f3a"
            ],
            [
             0.8888888888888888,
             "#fdca26"
            ],
            [
             1,
             "#f0f921"
            ]
           ]
          },
          "colorway": [
           "#636efa",
           "#EF553B",
           "#00cc96",
           "#ab63fa",
           "#FFA15A",
           "#19d3f3",
           "#FF6692",
           "#B6E880",
           "#FF97FF",
           "#FECB52"
          ],
          "font": {
           "color": "#2a3f5f"
          },
          "geo": {
           "bgcolor": "white",
           "lakecolor": "white",
           "landcolor": "#E5ECF6",
           "showlakes": true,
           "showland": true,
           "subunitcolor": "white"
          },
          "hoverlabel": {
           "align": "left"
          },
          "hovermode": "closest",
          "mapbox": {
           "style": "light"
          },
          "paper_bgcolor": "white",
          "plot_bgcolor": "#E5ECF6",
          "polar": {
           "angularaxis": {
            "gridcolor": "white",
            "linecolor": "white",
            "ticks": ""
           },
           "bgcolor": "#E5ECF6",
           "radialaxis": {
            "gridcolor": "white",
            "linecolor": "white",
            "ticks": ""
           }
          },
          "scene": {
           "xaxis": {
            "backgroundcolor": "#E5ECF6",
            "gridcolor": "white",
            "gridwidth": 2,
            "linecolor": "white",
            "showbackground": true,
            "ticks": "",
            "zerolinecolor": "white"
           },
           "yaxis": {
            "backgroundcolor": "#E5ECF6",
            "gridcolor": "white",
            "gridwidth": 2,
            "linecolor": "white",
            "showbackground": true,
            "ticks": "",
            "zerolinecolor": "white"
           },
           "zaxis": {
            "backgroundcolor": "#E5ECF6",
            "gridcolor": "white",
            "gridwidth": 2,
            "linecolor": "white",
            "showbackground": true,
            "ticks": "",
            "zerolinecolor": "white"
           }
          },
          "shapedefaults": {
           "line": {
            "color": "#2a3f5f"
           }
          },
          "ternary": {
           "aaxis": {
            "gridcolor": "white",
            "linecolor": "white",
            "ticks": ""
           },
           "baxis": {
            "gridcolor": "white",
            "linecolor": "white",
            "ticks": ""
           },
           "bgcolor": "#E5ECF6",
           "caxis": {
            "gridcolor": "white",
            "linecolor": "white",
            "ticks": ""
           }
          },
          "title": {
           "x": 0.05
          },
          "xaxis": {
           "automargin": true,
           "gridcolor": "white",
           "linecolor": "white",
           "ticks": "",
           "title": {
            "standoff": 15
           },
           "zerolinecolor": "white",
           "zerolinewidth": 2
          },
          "yaxis": {
           "automargin": true,
           "gridcolor": "white",
           "linecolor": "white",
           "ticks": "",
           "title": {
            "standoff": 15
           },
           "zerolinecolor": "white",
           "zerolinewidth": 2
          }
         }
        },
        "title": {
         "font": {
          "color": "#4D5663"
         }
        },
        "xaxis": {
         "gridcolor": "#E1E5ED",
         "showgrid": true,
         "tickfont": {
          "color": "#4D5663"
         },
         "title": {
          "font": {
           "color": "#4D5663"
          },
          "text": ""
         },
         "zerolinecolor": "#E1E5ED"
        },
        "yaxis": {
         "gridcolor": "#E1E5ED",
         "showgrid": true,
         "tickfont": {
          "color": "#4D5663"
         },
         "title": {
          "font": {
           "color": "#4D5663"
          },
          "text": ""
         },
         "zerolinecolor": "#E1E5ED"
        }
       }
      },
      "text/html": [
       "<div>\n",
       "        \n",
       "        \n",
       "            <div id=\"3f001aa5-2989-4ee8-b7dd-7a79acf41490\" class=\"plotly-graph-div\" style=\"height:525px; width:100%;\"></div>\n",
       "            <script type=\"text/javascript\">\n",
       "                require([\"plotly\"], function(Plotly) {\n",
       "                    window.PLOTLYENV=window.PLOTLYENV || {};\n",
       "                    window.PLOTLYENV.BASE_URL='https://plot.ly';\n",
       "                    \n",
       "                if (document.getElementById(\"3f001aa5-2989-4ee8-b7dd-7a79acf41490\")) {\n",
       "                    Plotly.newPlot(\n",
       "                        '3f001aa5-2989-4ee8-b7dd-7a79acf41490',\n",
       "                        [{\"marker\": {\"color\": \"rgba(255, 153, 51, 0.6)\", \"line\": {\"color\": \"rgba(255, 153, 51, 1.0)\", \"width\": 1}}, \"name\": \"None\", \"orientation\": \"v\", \"text\": \"\", \"type\": \"bar\", \"x\": [\"A\", \"B\", \"C\", \"D\"], \"y\": [16.105728700943605, -1.629466666112035, -18.621801075081255, 20.218956910138672]}],\n",
       "                        {\"legend\": {\"bgcolor\": \"#F5F6F9\", \"font\": {\"color\": \"#4D5663\"}}, \"paper_bgcolor\": \"#F5F6F9\", \"plot_bgcolor\": \"#F5F6F9\", \"template\": {\"data\": {\"bar\": [{\"error_x\": {\"color\": \"#2a3f5f\"}, \"error_y\": {\"color\": \"#2a3f5f\"}, \"marker\": {\"line\": {\"color\": \"#E5ECF6\", \"width\": 0.5}}, \"type\": \"bar\"}], \"barpolar\": [{\"marker\": {\"line\": {\"color\": \"#E5ECF6\", \"width\": 0.5}}, \"type\": \"barpolar\"}], \"carpet\": [{\"aaxis\": {\"endlinecolor\": \"#2a3f5f\", \"gridcolor\": \"white\", \"linecolor\": \"white\", \"minorgridcolor\": \"white\", \"startlinecolor\": \"#2a3f5f\"}, \"baxis\": {\"endlinecolor\": \"#2a3f5f\", \"gridcolor\": \"white\", \"linecolor\": \"white\", \"minorgridcolor\": \"white\", \"startlinecolor\": \"#2a3f5f\"}, \"type\": \"carpet\"}], \"choropleth\": [{\"colorbar\": {\"outlinewidth\": 0, \"ticks\": \"\"}, \"type\": \"choropleth\"}], \"contour\": [{\"colorbar\": {\"outlinewidth\": 0, \"ticks\": \"\"}, \"colorscale\": [[0.0, \"#0d0887\"], [0.1111111111111111, \"#46039f\"], [0.2222222222222222, \"#7201a8\"], [0.3333333333333333, \"#9c179e\"], [0.4444444444444444, \"#bd3786\"], [0.5555555555555556, \"#d8576b\"], [0.6666666666666666, \"#ed7953\"], [0.7777777777777778, \"#fb9f3a\"], [0.8888888888888888, \"#fdca26\"], [1.0, \"#f0f921\"]], \"type\": \"contour\"}], \"contourcarpet\": [{\"colorbar\": {\"outlinewidth\": 0, \"ticks\": \"\"}, \"type\": \"contourcarpet\"}], \"heatmap\": [{\"colorbar\": {\"outlinewidth\": 0, \"ticks\": \"\"}, \"colorscale\": [[0.0, \"#0d0887\"], [0.1111111111111111, \"#46039f\"], [0.2222222222222222, \"#7201a8\"], [0.3333333333333333, \"#9c179e\"], [0.4444444444444444, \"#bd3786\"], [0.5555555555555556, \"#d8576b\"], [0.6666666666666666, \"#ed7953\"], [0.7777777777777778, \"#fb9f3a\"], [0.8888888888888888, \"#fdca26\"], [1.0, \"#f0f921\"]], \"type\": \"heatmap\"}], \"heatmapgl\": [{\"colorbar\": {\"outlinewidth\": 0, \"ticks\": \"\"}, \"colorscale\": [[0.0, \"#0d0887\"], [0.1111111111111111, \"#46039f\"], [0.2222222222222222, \"#7201a8\"], [0.3333333333333333, \"#9c179e\"], [0.4444444444444444, \"#bd3786\"], [0.5555555555555556, \"#d8576b\"], [0.6666666666666666, \"#ed7953\"], [0.7777777777777778, \"#fb9f3a\"], [0.8888888888888888, \"#fdca26\"], [1.0, \"#f0f921\"]], \"type\": \"heatmapgl\"}], \"histogram\": [{\"marker\": {\"colorbar\": {\"outlinewidth\": 0, \"ticks\": \"\"}}, \"type\": \"histogram\"}], \"histogram2d\": [{\"colorbar\": {\"outlinewidth\": 0, \"ticks\": \"\"}, \"colorscale\": [[0.0, \"#0d0887\"], [0.1111111111111111, \"#46039f\"], [0.2222222222222222, \"#7201a8\"], [0.3333333333333333, \"#9c179e\"], [0.4444444444444444, \"#bd3786\"], [0.5555555555555556, \"#d8576b\"], [0.6666666666666666, \"#ed7953\"], [0.7777777777777778, \"#fb9f3a\"], [0.8888888888888888, \"#fdca26\"], [1.0, \"#f0f921\"]], \"type\": \"histogram2d\"}], \"histogram2dcontour\": [{\"colorbar\": {\"outlinewidth\": 0, \"ticks\": \"\"}, \"colorscale\": [[0.0, \"#0d0887\"], [0.1111111111111111, \"#46039f\"], [0.2222222222222222, \"#7201a8\"], [0.3333333333333333, \"#9c179e\"], [0.4444444444444444, \"#bd3786\"], [0.5555555555555556, \"#d8576b\"], [0.6666666666666666, \"#ed7953\"], [0.7777777777777778, \"#fb9f3a\"], [0.8888888888888888, \"#fdca26\"], [1.0, \"#f0f921\"]], \"type\": \"histogram2dcontour\"}], \"mesh3d\": [{\"colorbar\": {\"outlinewidth\": 0, \"ticks\": \"\"}, \"type\": \"mesh3d\"}], \"parcoords\": [{\"line\": {\"colorbar\": {\"outlinewidth\": 0, \"ticks\": \"\"}}, \"type\": \"parcoords\"}], \"pie\": [{\"automargin\": true, \"type\": \"pie\"}], \"scatter\": [{\"marker\": {\"colorbar\": {\"outlinewidth\": 0, \"ticks\": \"\"}}, \"type\": \"scatter\"}], \"scatter3d\": [{\"line\": {\"colorbar\": {\"outlinewidth\": 0, \"ticks\": \"\"}}, \"marker\": {\"colorbar\": {\"outlinewidth\": 0, \"ticks\": \"\"}}, \"type\": \"scatter3d\"}], \"scattercarpet\": [{\"marker\": {\"colorbar\": {\"outlinewidth\": 0, \"ticks\": \"\"}}, \"type\": \"scattercarpet\"}], \"scattergeo\": [{\"marker\": {\"colorbar\": {\"outlinewidth\": 0, \"ticks\": \"\"}}, \"type\": \"scattergeo\"}], \"scattergl\": [{\"marker\": {\"colorbar\": {\"outlinewidth\": 0, \"ticks\": \"\"}}, \"type\": \"scattergl\"}], \"scattermapbox\": [{\"marker\": {\"colorbar\": {\"outlinewidth\": 0, \"ticks\": \"\"}}, \"type\": \"scattermapbox\"}], \"scatterpolar\": [{\"marker\": {\"colorbar\": {\"outlinewidth\": 0, \"ticks\": \"\"}}, \"type\": \"scatterpolar\"}], \"scatterpolargl\": [{\"marker\": {\"colorbar\": {\"outlinewidth\": 0, \"ticks\": \"\"}}, \"type\": \"scatterpolargl\"}], \"scatterternary\": [{\"marker\": {\"colorbar\": {\"outlinewidth\": 0, \"ticks\": \"\"}}, \"type\": \"scatterternary\"}], \"surface\": [{\"colorbar\": {\"outlinewidth\": 0, \"ticks\": \"\"}, \"colorscale\": [[0.0, \"#0d0887\"], [0.1111111111111111, \"#46039f\"], [0.2222222222222222, \"#7201a8\"], [0.3333333333333333, \"#9c179e\"], [0.4444444444444444, \"#bd3786\"], [0.5555555555555556, \"#d8576b\"], [0.6666666666666666, \"#ed7953\"], [0.7777777777777778, \"#fb9f3a\"], [0.8888888888888888, \"#fdca26\"], [1.0, \"#f0f921\"]], \"type\": \"surface\"}], \"table\": [{\"cells\": {\"fill\": {\"color\": \"#EBF0F8\"}, \"line\": {\"color\": \"white\"}}, \"header\": {\"fill\": {\"color\": \"#C8D4E3\"}, \"line\": {\"color\": \"white\"}}, \"type\": \"table\"}]}, \"layout\": {\"annotationdefaults\": {\"arrowcolor\": \"#2a3f5f\", \"arrowhead\": 0, \"arrowwidth\": 1}, \"coloraxis\": {\"colorbar\": {\"outlinewidth\": 0, \"ticks\": \"\"}}, \"colorscale\": {\"diverging\": [[0, \"#8e0152\"], [0.1, \"#c51b7d\"], [0.2, \"#de77ae\"], [0.3, \"#f1b6da\"], [0.4, \"#fde0ef\"], [0.5, \"#f7f7f7\"], [0.6, \"#e6f5d0\"], [0.7, \"#b8e186\"], [0.8, \"#7fbc41\"], [0.9, \"#4d9221\"], [1, \"#276419\"]], \"sequential\": [[0.0, \"#0d0887\"], [0.1111111111111111, \"#46039f\"], [0.2222222222222222, \"#7201a8\"], [0.3333333333333333, \"#9c179e\"], [0.4444444444444444, \"#bd3786\"], [0.5555555555555556, \"#d8576b\"], [0.6666666666666666, \"#ed7953\"], [0.7777777777777778, \"#fb9f3a\"], [0.8888888888888888, \"#fdca26\"], [1.0, \"#f0f921\"]], \"sequentialminus\": [[0.0, \"#0d0887\"], [0.1111111111111111, \"#46039f\"], [0.2222222222222222, \"#7201a8\"], [0.3333333333333333, \"#9c179e\"], [0.4444444444444444, \"#bd3786\"], [0.5555555555555556, \"#d8576b\"], [0.6666666666666666, \"#ed7953\"], [0.7777777777777778, \"#fb9f3a\"], [0.8888888888888888, \"#fdca26\"], [1.0, \"#f0f921\"]]}, \"colorway\": [\"#636efa\", \"#EF553B\", \"#00cc96\", \"#ab63fa\", \"#FFA15A\", \"#19d3f3\", \"#FF6692\", \"#B6E880\", \"#FF97FF\", \"#FECB52\"], \"font\": {\"color\": \"#2a3f5f\"}, \"geo\": {\"bgcolor\": \"white\", \"lakecolor\": \"white\", \"landcolor\": \"#E5ECF6\", \"showlakes\": true, \"showland\": true, \"subunitcolor\": \"white\"}, \"hoverlabel\": {\"align\": \"left\"}, \"hovermode\": \"closest\", \"mapbox\": {\"style\": \"light\"}, \"paper_bgcolor\": \"white\", \"plot_bgcolor\": \"#E5ECF6\", \"polar\": {\"angularaxis\": {\"gridcolor\": \"white\", \"linecolor\": \"white\", \"ticks\": \"\"}, \"bgcolor\": \"#E5ECF6\", \"radialaxis\": {\"gridcolor\": \"white\", \"linecolor\": \"white\", \"ticks\": \"\"}}, \"scene\": {\"xaxis\": {\"backgroundcolor\": \"#E5ECF6\", \"gridcolor\": \"white\", \"gridwidth\": 2, \"linecolor\": \"white\", \"showbackground\": true, \"ticks\": \"\", \"zerolinecolor\": \"white\"}, \"yaxis\": {\"backgroundcolor\": \"#E5ECF6\", \"gridcolor\": \"white\", \"gridwidth\": 2, \"linecolor\": \"white\", \"showbackground\": true, \"ticks\": \"\", \"zerolinecolor\": \"white\"}, \"zaxis\": {\"backgroundcolor\": \"#E5ECF6\", \"gridcolor\": \"white\", \"gridwidth\": 2, \"linecolor\": \"white\", \"showbackground\": true, \"ticks\": \"\", \"zerolinecolor\": \"white\"}}, \"shapedefaults\": {\"line\": {\"color\": \"#2a3f5f\"}}, \"ternary\": {\"aaxis\": {\"gridcolor\": \"white\", \"linecolor\": \"white\", \"ticks\": \"\"}, \"baxis\": {\"gridcolor\": \"white\", \"linecolor\": \"white\", \"ticks\": \"\"}, \"bgcolor\": \"#E5ECF6\", \"caxis\": {\"gridcolor\": \"white\", \"linecolor\": \"white\", \"ticks\": \"\"}}, \"title\": {\"x\": 0.05}, \"xaxis\": {\"automargin\": true, \"gridcolor\": \"white\", \"linecolor\": \"white\", \"ticks\": \"\", \"title\": {\"standoff\": 15}, \"zerolinecolor\": \"white\", \"zerolinewidth\": 2}, \"yaxis\": {\"automargin\": true, \"gridcolor\": \"white\", \"linecolor\": \"white\", \"ticks\": \"\", \"title\": {\"standoff\": 15}, \"zerolinecolor\": \"white\", \"zerolinewidth\": 2}}}, \"title\": {\"font\": {\"color\": \"#4D5663\"}}, \"xaxis\": {\"gridcolor\": \"#E1E5ED\", \"showgrid\": true, \"tickfont\": {\"color\": \"#4D5663\"}, \"title\": {\"font\": {\"color\": \"#4D5663\"}, \"text\": \"\"}, \"zerolinecolor\": \"#E1E5ED\"}, \"yaxis\": {\"gridcolor\": \"#E1E5ED\", \"showgrid\": true, \"tickfont\": {\"color\": \"#4D5663\"}, \"title\": {\"font\": {\"color\": \"#4D5663\"}, \"text\": \"\"}, \"zerolinecolor\": \"#E1E5ED\"}},\n",
       "                        {\"showLink\": true, \"linkText\": \"Export to plot.ly\", \"plotlyServerURL\": \"https://plot.ly\", \"responsive\": true}\n",
       "                    ).then(function(){\n",
       "                            \n",
       "var gd = document.getElementById('3f001aa5-2989-4ee8-b7dd-7a79acf41490');\n",
       "var x = new MutationObserver(function (mutations, observer) {{\n",
       "        var display = window.getComputedStyle(gd).display;\n",
       "        if (!display || display === 'none') {{\n",
       "            console.log([gd, 'removed!']);\n",
       "            Plotly.purge(gd);\n",
       "            observer.disconnect();\n",
       "        }}\n",
       "}});\n",
       "\n",
       "// Listen for the removal of the full notebook cells\n",
       "var notebookContainer = gd.closest('#notebook-container');\n",
       "if (notebookContainer) {{\n",
       "    x.observe(notebookContainer, {childList: true});\n",
       "}}\n",
       "\n",
       "// Listen for the clearing of the current output cell\n",
       "var outputEl = gd.closest('.output');\n",
       "if (outputEl) {{\n",
       "    x.observe(outputEl, {childList: true});\n",
       "}}\n",
       "\n",
       "                        })\n",
       "                };\n",
       "                });\n",
       "            </script>\n",
       "        </div>"
      ]
     },
     "metadata": {},
     "output_type": "display_data"
    }
   ],
   "source": [
    "df.sum().iplot(kind=\"bar\") #sütunların kendi içinde toplamlarını plotlar"
   ]
  },
  {
   "cell_type": "markdown",
   "metadata": {},
   "source": [
    "## Boxplots"
   ]
  },
  {
   "cell_type": "code",
   "execution_count": 28,
   "metadata": {},
   "outputs": [
    {
     "data": {
      "application/vnd.plotly.v1+json": {
       "config": {
        "linkText": "Export to plot.ly",
        "plotlyServerURL": "https://plot.ly",
        "showLink": true
       },
       "data": [
        {
         "boxpoints": false,
         "line": {
          "width": 1.3
         },
         "marker": {
          "color": "rgba(255, 153, 51, 1.0)"
         },
         "name": "A",
         "orientation": "v",
         "type": "box",
         "y": [
          -0.8224878330406368,
          -0.10471106442069328,
          -2.769584391084238,
          -2.2424162672391885,
          0.490203066976595,
          2.8691407911563673,
          -0.0803435729235115,
          -0.12115858301628984,
          1.0499603993850388,
          1.1283694551511767,
          1.8380934783110614,
          0.4645233310960621,
          -0.3486835398494006,
          0.9664744927848891,
          -0.33835704495058144,
          -1.28473461375488,
          1.7985504608251153,
          1.1553157661273779,
          0.4134915078299442,
          0.7475612530709317,
          0.4201660768259774,
          0.07722115747936044,
          1.0221609726299972,
          -1.077323357084743,
          -0.34977897732417185,
          1.3733646137384052,
          -0.15833165590252143,
          1.4947517994373962,
          -0.38989674078583964,
          -0.5243134691725355,
          -1.097052749096775,
          1.054960626543361,
          1.5146706425888474,
          0.40891220981344617,
          -0.03669418351965464,
          -0.13067256359666868,
          -1.3643656789650926,
          1.3642052302623737,
          0.3013624226546742,
          -1.604831448237099,
          1.9936387069916879,
          -0.7344022390099565,
          -1.0909182813824605,
          0.7899232933086707,
          -0.7888330616466801,
          0.24423391011295395,
          -1.433561400695055,
          -0.8051710423228607,
          1.3878930883952874,
          -0.23677373547589425,
          1.4198942689724774,
          -0.8583559909421177,
          -0.5094931311348392,
          -0.29723488125835085,
          1.4666563744515433,
          -0.5961247866543091,
          0.38967071033631834,
          0.9968517939347469,
          -1.2518718953723809,
          0.25183778792382366,
          0.6679256901564015,
          0.996754273254323,
          0.12748412059035386,
          -0.3186507334386617,
          0.8058549264472583,
          0.793026285047879,
          0.2345960517139365,
          0.42175178151213183,
          -1.9211488472442586,
          0.1219224349688401,
          0.05176320596206913,
          -0.3497984577725166,
          0.456054887712555,
          0.07617950164554171,
          1.3404993482278846,
          0.14392955845017877,
          -1.138648683092966,
          1.494168391233162,
          0.029884199072675432,
          -0.10405794060352479,
          -0.28770790124207524,
          -1.4419491390038417,
          0.5682946601649805,
          0.21954096821881025,
          -0.16217288802578836,
          0.9521454603349894,
          0.13231876090108707,
          0.12117149081466017,
          -0.9367090923602004,
          1.264286886996742,
          1.9986274543811504,
          0.6872677252241897,
          0.23490617405340217,
          0.1779749622995297,
          0.20027271975265543,
          -1.7896732465301717,
          -0.38825505562436735,
          0.6518389289274054,
          1.4429880702473201,
          1.085490258313375
         ]
        },
        {
         "boxpoints": false,
         "line": {
          "width": 1.3
         },
         "marker": {
          "color": "rgba(55, 128, 191, 1.0)"
         },
         "name": "B",
         "orientation": "v",
         "type": "box",
         "y": [
          -0.10516366801878904,
          1.0053383313461546,
          0.7711355623806072,
          -0.9585361003596985,
          1.413791782075609,
          -0.011999672475143592,
          -0.2332276829472234,
          0.9994963176647628,
          0.8010134369014502,
          -0.462304224009063,
          1.1184462932071981,
          -0.589992861130369,
          -2.407485278886959,
          -0.7466993868046775,
          -0.4473733557949075,
          0.3805477134400745,
          2.336840387236904,
          0.43387049430242997,
          0.8152523192214589,
          0.6089888934661134,
          -1.526454646964997,
          -1.3206012488138623,
          -1.0431640274931064,
          0.7749127003189561,
          -0.2493808914655523,
          1.458109788045986,
          1.4404921519603873,
          -0.9441221138653232,
          0.2732931046600395,
          0.670748994079489,
          1.2851525315752468,
          -1.7303505300847168,
          0.2564344283676181,
          1.0512380697522659,
          0.7990793338822009,
          -0.8273449445815736,
          -0.13302628947133086,
          1.151813367457789,
          -0.8116827986139052,
          0.16250672924139484,
          0.6119741800924526,
          -0.12623253101768572,
          -0.645412471356651,
          0.21225836348979263,
          0.9828919578145259,
          -1.0640505904153608,
          0.8606516119398787,
          -0.03836903085700935,
          -1.029494471649252,
          1.5927070980793128,
          0.345091231227057,
          0.19380779779508553,
          -1.2171439092573397,
          -1.1221298763480816,
          -0.71548838463745,
          0.8618914945926935,
          0.8709948734880736,
          1.3214572814137557,
          0.3656583698395165,
          -1.0611358360980878,
          2.6045600811046117,
          0.29786624169468395,
          -1.2181968397107135,
          0.005947039893275675,
          -0.9217262323903322,
          0.43250191129540305,
          -2.059956112643729,
          -0.24783647778024964,
          -0.825755005236759,
          0.5104517899980096,
          0.7756766680790673,
          -0.6948728890863228,
          0.10526112030629592,
          0.595048497478357,
          -0.9684246545495997,
          0.9805904389899971,
          -0.5150824233574389,
          -1.8701413759264716,
          0.045707577044487815,
          -1.1812227615164517,
          -0.47919058861042635,
          0.2020800241922994,
          -1.0295277726875516,
          -0.8007147666280858,
          -1.1849668586810944,
          -1.8499115869420633,
          -0.5969137115751699,
          1.48710606342048,
          0.5010826710528153,
          0.23312570917424857,
          0.4466191745148875,
          -0.7773227430247127,
          0.05908523285531262,
          -0.411275094211949,
          -1.090825864124665,
          0.2214935949606966,
          1.3352016027920028,
          -0.11906672568050544,
          -1.7799645711470489,
          1.4945027836142082
         ]
        },
        {
         "boxpoints": false,
         "line": {
          "width": 1.3
         },
         "marker": {
          "color": "rgba(50, 171, 96, 1.0)"
         },
         "name": "C",
         "orientation": "v",
         "type": "box",
         "y": [
          1.0574435496930406,
          1.4921564787890202,
          -1.7661487698322937,
          0.5468034187042222,
          -0.47026472549686354,
          0.028866797470123048,
          0.3139952672131217,
          1.0668782081292985,
          0.09238728722526235,
          0.283247834274512,
          0.4487993866836888,
          0.9132713227316623,
          0.008592406413361182,
          -0.7173373816876694,
          -0.037214402351031156,
          -2.8949439095111407,
          0.4140767599284732,
          -1.3715577493217457,
          1.2411017703319136,
          -0.7750902687746185,
          -1.3369518346870932,
          -1.1874007524465737,
          0.3681246871113735,
          -0.29296405505946915,
          -0.4120491294340162,
          -0.6393549290429247,
          -1.6252105983283975,
          -1.3122854422321009,
          -1.9360909602917662,
          1.2027910029886157,
          -0.4518326104029993,
          -2.29567896659763,
          -2.2027365357952218,
          -0.9495835357613918,
          -0.7322557769196346,
          -0.9241767204331726,
          0.5631995965443728,
          -0.6312706493382001,
          1.024196030529535,
          0.4297610318922039,
          -0.7504142855157657,
          1.0706424815592872,
          -0.31772007630060434,
          0.6705110936808703,
          0.4534108865873891,
          1.5475342889743962,
          0.3660711004823217,
          1.2934499121707412,
          0.7491633869777687,
          0.09037087793335094,
          0.3709638152711295,
          -1.351420359786962,
          -0.4203974223630586,
          0.18498829849810838,
          -1.6876380183562545,
          -1.131961576340599,
          -0.6104901531877899,
          -2.2658956080934023,
          -0.186352790636565,
          1.9137723635641175,
          0.13508744155143304,
          1.0159023595649985,
          -1.8165198631533503,
          0.29210575387975946,
          -2.520194559655417,
          0.2127339800838521,
          0.6223598055465379,
          0.5766940739463821,
          1.355567983001298,
          -0.4679608448477689,
          -0.4400613901138157,
          -1.3310223817525753,
          -0.8755271323754789,
          0.6197069606377154,
          1.4410149209822796,
          -0.14775880614740602,
          -1.1989896338434585,
          0.8030412590191057,
          0.11810621881639764,
          1.705029039681729,
          -2.009349513148917,
          -1.1579539361380786,
          -0.21682015326728335,
          0.018930436667645812,
          -0.31797119351666403,
          -0.8411642149311813,
          0.3495781033263939,
          -0.9349822805499162,
          -0.3114537226336073,
          -0.27159842048918575,
          0.8369615864242455,
          0.7858872047734048,
          -1.7845289249109602,
          1.0115271820947205,
          0.11688723804189248,
          0.4384478782073346,
          0.008889099217462877,
          -1.2107890685045604,
          -0.4071907027266032,
          0.6536957941340616
         ]
        },
        {
         "boxpoints": false,
         "line": {
          "width": 1.3
         },
         "marker": {
          "color": "rgba(128, 0, 128, 1.0)"
         },
         "name": "D",
         "orientation": "v",
         "type": "box",
         "y": [
          0.3798783138869394,
          0.5325642324025878,
          -1.8891938479625277,
          -0.03444831396935892,
          1.4104072642934369,
          -0.3503592139676249,
          -0.4518190931196363,
          -0.3526980962729689,
          -0.13644755472497294,
          0.956469914017513,
          0.2766338633851785,
          0.48679215566673106,
          0.6305138639396141,
          0.670662053678759,
          0.17246341882456473,
          1.6896887579244286,
          -0.09568047093000441,
          0.37002779584454143,
          -0.5889076792874218,
          -0.993264289903829,
          0.032929627729489694,
          2.459806536192735,
          -0.5300658412981611,
          -0.5462519759274664,
          2.2185127174957526,
          -1.2873566015766316,
          1.1085631311275275,
          0.7540336592440204,
          -2.405117365648385,
          0.7519527988408649,
          0.960740272412522,
          0.6661987152882016,
          0.09604344180668174,
          0.19791457794456077,
          -0.5767798450403657,
          -0.6094379212386503,
          0.9635133288340161,
          -0.1916057929549026,
          0.2822548631386541,
          -0.39170312163360355,
          1.0553270001104484,
          -0.8883354765977708,
          0.14339533089131373,
          1.4340419022520996,
          1.5387313432423801,
          -0.4491124148977889,
          0.24097568616595325,
          -1.0952678381537415,
          -1.3070247606070595,
          0.3665277479805535,
          -0.2783540192377507,
          0.629501823076368,
          0.6849483439792226,
          -0.5315032934853802,
          1.0444660828634182,
          1.538436301126394,
          0.4319327354213975,
          -0.14084430545192075,
          1.7219787146097316,
          1.3972112919116941,
          -0.20272716886416664,
          0.07143726678942765,
          -0.363681910844145,
          -1.5668551317424237,
          0.378403314966072,
          0.43504543706164983,
          -0.10889111832006396,
          -0.791434625542699,
          1.6099239399808436,
          0.5452652674536136,
          -1.4854687171382646,
          0.8676730513097982,
          1.1204485778757485,
          0.6843594944768051,
          -0.7510865824027254,
          -0.2332906102221231,
          0.8787493888412986,
          0.6480584613902357,
          -0.42944843729204674,
          1.1820664129266354,
          -0.3372464499840548,
          0.9756828395663479,
          -0.4664566749827974,
          0.619425782469263,
          0.7089529472891641,
          -0.5008345898697598,
          0.9463043227431527,
          -0.011880002448478146,
          0.23520814180111044,
          -0.18531967636238048,
          0.03318441552433788,
          -0.6339369120426261,
          -0.3350870887531984,
          0.5644887956088116,
          0.6160211323302354,
          0.6940017094073261,
          -0.14109006224355106,
          0.8750595947946054,
          0.4015732140810989,
          -0.5021013131557769
         ]
        }
       ],
       "layout": {
        "legend": {
         "bgcolor": "#F5F6F9",
         "font": {
          "color": "#4D5663"
         }
        },
        "paper_bgcolor": "#F5F6F9",
        "plot_bgcolor": "#F5F6F9",
        "template": {
         "data": {
          "bar": [
           {
            "error_x": {
             "color": "#2a3f5f"
            },
            "error_y": {
             "color": "#2a3f5f"
            },
            "marker": {
             "line": {
              "color": "#E5ECF6",
              "width": 0.5
             }
            },
            "type": "bar"
           }
          ],
          "barpolar": [
           {
            "marker": {
             "line": {
              "color": "#E5ECF6",
              "width": 0.5
             }
            },
            "type": "barpolar"
           }
          ],
          "carpet": [
           {
            "aaxis": {
             "endlinecolor": "#2a3f5f",
             "gridcolor": "white",
             "linecolor": "white",
             "minorgridcolor": "white",
             "startlinecolor": "#2a3f5f"
            },
            "baxis": {
             "endlinecolor": "#2a3f5f",
             "gridcolor": "white",
             "linecolor": "white",
             "minorgridcolor": "white",
             "startlinecolor": "#2a3f5f"
            },
            "type": "carpet"
           }
          ],
          "choropleth": [
           {
            "colorbar": {
             "outlinewidth": 0,
             "ticks": ""
            },
            "type": "choropleth"
           }
          ],
          "contour": [
           {
            "colorbar": {
             "outlinewidth": 0,
             "ticks": ""
            },
            "colorscale": [
             [
              0,
              "#0d0887"
             ],
             [
              0.1111111111111111,
              "#46039f"
             ],
             [
              0.2222222222222222,
              "#7201a8"
             ],
             [
              0.3333333333333333,
              "#9c179e"
             ],
             [
              0.4444444444444444,
              "#bd3786"
             ],
             [
              0.5555555555555556,
              "#d8576b"
             ],
             [
              0.6666666666666666,
              "#ed7953"
             ],
             [
              0.7777777777777778,
              "#fb9f3a"
             ],
             [
              0.8888888888888888,
              "#fdca26"
             ],
             [
              1,
              "#f0f921"
             ]
            ],
            "type": "contour"
           }
          ],
          "contourcarpet": [
           {
            "colorbar": {
             "outlinewidth": 0,
             "ticks": ""
            },
            "type": "contourcarpet"
           }
          ],
          "heatmap": [
           {
            "colorbar": {
             "outlinewidth": 0,
             "ticks": ""
            },
            "colorscale": [
             [
              0,
              "#0d0887"
             ],
             [
              0.1111111111111111,
              "#46039f"
             ],
             [
              0.2222222222222222,
              "#7201a8"
             ],
             [
              0.3333333333333333,
              "#9c179e"
             ],
             [
              0.4444444444444444,
              "#bd3786"
             ],
             [
              0.5555555555555556,
              "#d8576b"
             ],
             [
              0.6666666666666666,
              "#ed7953"
             ],
             [
              0.7777777777777778,
              "#fb9f3a"
             ],
             [
              0.8888888888888888,
              "#fdca26"
             ],
             [
              1,
              "#f0f921"
             ]
            ],
            "type": "heatmap"
           }
          ],
          "heatmapgl": [
           {
            "colorbar": {
             "outlinewidth": 0,
             "ticks": ""
            },
            "colorscale": [
             [
              0,
              "#0d0887"
             ],
             [
              0.1111111111111111,
              "#46039f"
             ],
             [
              0.2222222222222222,
              "#7201a8"
             ],
             [
              0.3333333333333333,
              "#9c179e"
             ],
             [
              0.4444444444444444,
              "#bd3786"
             ],
             [
              0.5555555555555556,
              "#d8576b"
             ],
             [
              0.6666666666666666,
              "#ed7953"
             ],
             [
              0.7777777777777778,
              "#fb9f3a"
             ],
             [
              0.8888888888888888,
              "#fdca26"
             ],
             [
              1,
              "#f0f921"
             ]
            ],
            "type": "heatmapgl"
           }
          ],
          "histogram": [
           {
            "marker": {
             "colorbar": {
              "outlinewidth": 0,
              "ticks": ""
             }
            },
            "type": "histogram"
           }
          ],
          "histogram2d": [
           {
            "colorbar": {
             "outlinewidth": 0,
             "ticks": ""
            },
            "colorscale": [
             [
              0,
              "#0d0887"
             ],
             [
              0.1111111111111111,
              "#46039f"
             ],
             [
              0.2222222222222222,
              "#7201a8"
             ],
             [
              0.3333333333333333,
              "#9c179e"
             ],
             [
              0.4444444444444444,
              "#bd3786"
             ],
             [
              0.5555555555555556,
              "#d8576b"
             ],
             [
              0.6666666666666666,
              "#ed7953"
             ],
             [
              0.7777777777777778,
              "#fb9f3a"
             ],
             [
              0.8888888888888888,
              "#fdca26"
             ],
             [
              1,
              "#f0f921"
             ]
            ],
            "type": "histogram2d"
           }
          ],
          "histogram2dcontour": [
           {
            "colorbar": {
             "outlinewidth": 0,
             "ticks": ""
            },
            "colorscale": [
             [
              0,
              "#0d0887"
             ],
             [
              0.1111111111111111,
              "#46039f"
             ],
             [
              0.2222222222222222,
              "#7201a8"
             ],
             [
              0.3333333333333333,
              "#9c179e"
             ],
             [
              0.4444444444444444,
              "#bd3786"
             ],
             [
              0.5555555555555556,
              "#d8576b"
             ],
             [
              0.6666666666666666,
              "#ed7953"
             ],
             [
              0.7777777777777778,
              "#fb9f3a"
             ],
             [
              0.8888888888888888,
              "#fdca26"
             ],
             [
              1,
              "#f0f921"
             ]
            ],
            "type": "histogram2dcontour"
           }
          ],
          "mesh3d": [
           {
            "colorbar": {
             "outlinewidth": 0,
             "ticks": ""
            },
            "type": "mesh3d"
           }
          ],
          "parcoords": [
           {
            "line": {
             "colorbar": {
              "outlinewidth": 0,
              "ticks": ""
             }
            },
            "type": "parcoords"
           }
          ],
          "pie": [
           {
            "automargin": true,
            "type": "pie"
           }
          ],
          "scatter": [
           {
            "marker": {
             "colorbar": {
              "outlinewidth": 0,
              "ticks": ""
             }
            },
            "type": "scatter"
           }
          ],
          "scatter3d": [
           {
            "line": {
             "colorbar": {
              "outlinewidth": 0,
              "ticks": ""
             }
            },
            "marker": {
             "colorbar": {
              "outlinewidth": 0,
              "ticks": ""
             }
            },
            "type": "scatter3d"
           }
          ],
          "scattercarpet": [
           {
            "marker": {
             "colorbar": {
              "outlinewidth": 0,
              "ticks": ""
             }
            },
            "type": "scattercarpet"
           }
          ],
          "scattergeo": [
           {
            "marker": {
             "colorbar": {
              "outlinewidth": 0,
              "ticks": ""
             }
            },
            "type": "scattergeo"
           }
          ],
          "scattergl": [
           {
            "marker": {
             "colorbar": {
              "outlinewidth": 0,
              "ticks": ""
             }
            },
            "type": "scattergl"
           }
          ],
          "scattermapbox": [
           {
            "marker": {
             "colorbar": {
              "outlinewidth": 0,
              "ticks": ""
             }
            },
            "type": "scattermapbox"
           }
          ],
          "scatterpolar": [
           {
            "marker": {
             "colorbar": {
              "outlinewidth": 0,
              "ticks": ""
             }
            },
            "type": "scatterpolar"
           }
          ],
          "scatterpolargl": [
           {
            "marker": {
             "colorbar": {
              "outlinewidth": 0,
              "ticks": ""
             }
            },
            "type": "scatterpolargl"
           }
          ],
          "scatterternary": [
           {
            "marker": {
             "colorbar": {
              "outlinewidth": 0,
              "ticks": ""
             }
            },
            "type": "scatterternary"
           }
          ],
          "surface": [
           {
            "colorbar": {
             "outlinewidth": 0,
             "ticks": ""
            },
            "colorscale": [
             [
              0,
              "#0d0887"
             ],
             [
              0.1111111111111111,
              "#46039f"
             ],
             [
              0.2222222222222222,
              "#7201a8"
             ],
             [
              0.3333333333333333,
              "#9c179e"
             ],
             [
              0.4444444444444444,
              "#bd3786"
             ],
             [
              0.5555555555555556,
              "#d8576b"
             ],
             [
              0.6666666666666666,
              "#ed7953"
             ],
             [
              0.7777777777777778,
              "#fb9f3a"
             ],
             [
              0.8888888888888888,
              "#fdca26"
             ],
             [
              1,
              "#f0f921"
             ]
            ],
            "type": "surface"
           }
          ],
          "table": [
           {
            "cells": {
             "fill": {
              "color": "#EBF0F8"
             },
             "line": {
              "color": "white"
             }
            },
            "header": {
             "fill": {
              "color": "#C8D4E3"
             },
             "line": {
              "color": "white"
             }
            },
            "type": "table"
           }
          ]
         },
         "layout": {
          "annotationdefaults": {
           "arrowcolor": "#2a3f5f",
           "arrowhead": 0,
           "arrowwidth": 1
          },
          "coloraxis": {
           "colorbar": {
            "outlinewidth": 0,
            "ticks": ""
           }
          },
          "colorscale": {
           "diverging": [
            [
             0,
             "#8e0152"
            ],
            [
             0.1,
             "#c51b7d"
            ],
            [
             0.2,
             "#de77ae"
            ],
            [
             0.3,
             "#f1b6da"
            ],
            [
             0.4,
             "#fde0ef"
            ],
            [
             0.5,
             "#f7f7f7"
            ],
            [
             0.6,
             "#e6f5d0"
            ],
            [
             0.7,
             "#b8e186"
            ],
            [
             0.8,
             "#7fbc41"
            ],
            [
             0.9,
             "#4d9221"
            ],
            [
             1,
             "#276419"
            ]
           ],
           "sequential": [
            [
             0,
             "#0d0887"
            ],
            [
             0.1111111111111111,
             "#46039f"
            ],
            [
             0.2222222222222222,
             "#7201a8"
            ],
            [
             0.3333333333333333,
             "#9c179e"
            ],
            [
             0.4444444444444444,
             "#bd3786"
            ],
            [
             0.5555555555555556,
             "#d8576b"
            ],
            [
             0.6666666666666666,
             "#ed7953"
            ],
            [
             0.7777777777777778,
             "#fb9f3a"
            ],
            [
             0.8888888888888888,
             "#fdca26"
            ],
            [
             1,
             "#f0f921"
            ]
           ],
           "sequentialminus": [
            [
             0,
             "#0d0887"
            ],
            [
             0.1111111111111111,
             "#46039f"
            ],
            [
             0.2222222222222222,
             "#7201a8"
            ],
            [
             0.3333333333333333,
             "#9c179e"
            ],
            [
             0.4444444444444444,
             "#bd3786"
            ],
            [
             0.5555555555555556,
             "#d8576b"
            ],
            [
             0.6666666666666666,
             "#ed7953"
            ],
            [
             0.7777777777777778,
             "#fb9f3a"
            ],
            [
             0.8888888888888888,
             "#fdca26"
            ],
            [
             1,
             "#f0f921"
            ]
           ]
          },
          "colorway": [
           "#636efa",
           "#EF553B",
           "#00cc96",
           "#ab63fa",
           "#FFA15A",
           "#19d3f3",
           "#FF6692",
           "#B6E880",
           "#FF97FF",
           "#FECB52"
          ],
          "font": {
           "color": "#2a3f5f"
          },
          "geo": {
           "bgcolor": "white",
           "lakecolor": "white",
           "landcolor": "#E5ECF6",
           "showlakes": true,
           "showland": true,
           "subunitcolor": "white"
          },
          "hoverlabel": {
           "align": "left"
          },
          "hovermode": "closest",
          "mapbox": {
           "style": "light"
          },
          "paper_bgcolor": "white",
          "plot_bgcolor": "#E5ECF6",
          "polar": {
           "angularaxis": {
            "gridcolor": "white",
            "linecolor": "white",
            "ticks": ""
           },
           "bgcolor": "#E5ECF6",
           "radialaxis": {
            "gridcolor": "white",
            "linecolor": "white",
            "ticks": ""
           }
          },
          "scene": {
           "xaxis": {
            "backgroundcolor": "#E5ECF6",
            "gridcolor": "white",
            "gridwidth": 2,
            "linecolor": "white",
            "showbackground": true,
            "ticks": "",
            "zerolinecolor": "white"
           },
           "yaxis": {
            "backgroundcolor": "#E5ECF6",
            "gridcolor": "white",
            "gridwidth": 2,
            "linecolor": "white",
            "showbackground": true,
            "ticks": "",
            "zerolinecolor": "white"
           },
           "zaxis": {
            "backgroundcolor": "#E5ECF6",
            "gridcolor": "white",
            "gridwidth": 2,
            "linecolor": "white",
            "showbackground": true,
            "ticks": "",
            "zerolinecolor": "white"
           }
          },
          "shapedefaults": {
           "line": {
            "color": "#2a3f5f"
           }
          },
          "ternary": {
           "aaxis": {
            "gridcolor": "white",
            "linecolor": "white",
            "ticks": ""
           },
           "baxis": {
            "gridcolor": "white",
            "linecolor": "white",
            "ticks": ""
           },
           "bgcolor": "#E5ECF6",
           "caxis": {
            "gridcolor": "white",
            "linecolor": "white",
            "ticks": ""
           }
          },
          "title": {
           "x": 0.05
          },
          "xaxis": {
           "automargin": true,
           "gridcolor": "white",
           "linecolor": "white",
           "ticks": "",
           "title": {
            "standoff": 15
           },
           "zerolinecolor": "white",
           "zerolinewidth": 2
          },
          "yaxis": {
           "automargin": true,
           "gridcolor": "white",
           "linecolor": "white",
           "ticks": "",
           "title": {
            "standoff": 15
           },
           "zerolinecolor": "white",
           "zerolinewidth": 2
          }
         }
        },
        "title": {
         "font": {
          "color": "#4D5663"
         }
        },
        "xaxis": {
         "gridcolor": "#E1E5ED",
         "showgrid": true,
         "tickfont": {
          "color": "#4D5663"
         },
         "title": {
          "font": {
           "color": "#4D5663"
          },
          "text": ""
         },
         "zerolinecolor": "#E1E5ED"
        },
        "yaxis": {
         "gridcolor": "#E1E5ED",
         "showgrid": true,
         "tickfont": {
          "color": "#4D5663"
         },
         "title": {
          "font": {
           "color": "#4D5663"
          },
          "text": ""
         },
         "zerolinecolor": "#E1E5ED"
        }
       }
      },
      "text/html": [
       "<div>\n",
       "        \n",
       "        \n",
       "            <div id=\"862b0e9a-d04a-4f65-9bf3-e55bb4aebf14\" class=\"plotly-graph-div\" style=\"height:525px; width:100%;\"></div>\n",
       "            <script type=\"text/javascript\">\n",
       "                require([\"plotly\"], function(Plotly) {\n",
       "                    window.PLOTLYENV=window.PLOTLYENV || {};\n",
       "                    window.PLOTLYENV.BASE_URL='https://plot.ly';\n",
       "                    \n",
       "                if (document.getElementById(\"862b0e9a-d04a-4f65-9bf3-e55bb4aebf14\")) {\n",
       "                    Plotly.newPlot(\n",
       "                        '862b0e9a-d04a-4f65-9bf3-e55bb4aebf14',\n",
       "                        [{\"boxpoints\": false, \"line\": {\"width\": 1.3}, \"marker\": {\"color\": \"rgba(255, 153, 51, 1.0)\"}, \"name\": \"A\", \"orientation\": \"v\", \"type\": \"box\", \"y\": [-0.8224878330406368, -0.10471106442069328, -2.769584391084238, -2.2424162672391885, 0.490203066976595, 2.8691407911563673, -0.0803435729235115, -0.12115858301628984, 1.0499603993850388, 1.1283694551511767, 1.8380934783110614, 0.4645233310960621, -0.3486835398494006, 0.9664744927848891, -0.33835704495058144, -1.28473461375488, 1.7985504608251153, 1.1553157661273779, 0.4134915078299442, 0.7475612530709317, 0.4201660768259774, 0.07722115747936044, 1.0221609726299972, -1.077323357084743, -0.34977897732417185, 1.3733646137384052, -0.15833165590252143, 1.4947517994373962, -0.38989674078583964, -0.5243134691725355, -1.097052749096775, 1.054960626543361, 1.5146706425888474, 0.40891220981344617, -0.03669418351965464, -0.13067256359666868, -1.3643656789650926, 1.3642052302623737, 0.3013624226546742, -1.604831448237099, 1.9936387069916879, -0.7344022390099565, -1.0909182813824605, 0.7899232933086707, -0.7888330616466801, 0.24423391011295395, -1.433561400695055, -0.8051710423228607, 1.3878930883952874, -0.23677373547589425, 1.4198942689724774, -0.8583559909421177, -0.5094931311348392, -0.29723488125835085, 1.4666563744515433, -0.5961247866543091, 0.38967071033631834, 0.9968517939347469, -1.2518718953723809, 0.25183778792382366, 0.6679256901564015, 0.996754273254323, 0.12748412059035386, -0.3186507334386617, 0.8058549264472583, 0.793026285047879, 0.2345960517139365, 0.42175178151213183, -1.9211488472442586, 0.1219224349688401, 0.05176320596206913, -0.3497984577725166, 0.456054887712555, 0.07617950164554171, 1.3404993482278846, 0.14392955845017877, -1.138648683092966, 1.494168391233162, 0.029884199072675432, -0.10405794060352479, -0.28770790124207524, -1.4419491390038417, 0.5682946601649805, 0.21954096821881025, -0.16217288802578836, 0.9521454603349894, 0.13231876090108707, 0.12117149081466017, -0.9367090923602004, 1.264286886996742, 1.9986274543811504, 0.6872677252241897, 0.23490617405340217, 0.1779749622995297, 0.20027271975265543, -1.7896732465301717, -0.38825505562436735, 0.6518389289274054, 1.4429880702473201, 1.085490258313375]}, {\"boxpoints\": false, \"line\": {\"width\": 1.3}, \"marker\": {\"color\": \"rgba(55, 128, 191, 1.0)\"}, \"name\": \"B\", \"orientation\": \"v\", \"type\": \"box\", \"y\": [-0.10516366801878904, 1.0053383313461546, 0.7711355623806072, -0.9585361003596985, 1.413791782075609, -0.011999672475143592, -0.2332276829472234, 0.9994963176647628, 0.8010134369014502, -0.462304224009063, 1.1184462932071981, -0.589992861130369, -2.407485278886959, -0.7466993868046775, -0.4473733557949075, 0.3805477134400745, 2.336840387236904, 0.43387049430242997, 0.8152523192214589, 0.6089888934661134, -1.526454646964997, -1.3206012488138623, -1.0431640274931064, 0.7749127003189561, -0.2493808914655523, 1.458109788045986, 1.4404921519603873, -0.9441221138653232, 0.2732931046600395, 0.670748994079489, 1.2851525315752468, -1.7303505300847168, 0.2564344283676181, 1.0512380697522659, 0.7990793338822009, -0.8273449445815736, -0.13302628947133086, 1.151813367457789, -0.8116827986139052, 0.16250672924139484, 0.6119741800924526, -0.12623253101768572, -0.645412471356651, 0.21225836348979263, 0.9828919578145259, -1.0640505904153608, 0.8606516119398787, -0.03836903085700935, -1.029494471649252, 1.5927070980793128, 0.345091231227057, 0.19380779779508553, -1.2171439092573397, -1.1221298763480816, -0.71548838463745, 0.8618914945926935, 0.8709948734880736, 1.3214572814137557, 0.3656583698395165, -1.0611358360980878, 2.6045600811046117, 0.29786624169468395, -1.2181968397107135, 0.005947039893275675, -0.9217262323903322, 0.43250191129540305, -2.059956112643729, -0.24783647778024964, -0.825755005236759, 0.5104517899980096, 0.7756766680790673, -0.6948728890863228, 0.10526112030629592, 0.595048497478357, -0.9684246545495997, 0.9805904389899971, -0.5150824233574389, -1.8701413759264716, 0.045707577044487815, -1.1812227615164517, -0.47919058861042635, 0.2020800241922994, -1.0295277726875516, -0.8007147666280858, -1.1849668586810944, -1.8499115869420633, -0.5969137115751699, 1.48710606342048, 0.5010826710528153, 0.23312570917424857, 0.4466191745148875, -0.7773227430247127, 0.05908523285531262, -0.411275094211949, -1.090825864124665, 0.2214935949606966, 1.3352016027920028, -0.11906672568050544, -1.7799645711470489, 1.4945027836142082]}, {\"boxpoints\": false, \"line\": {\"width\": 1.3}, \"marker\": {\"color\": \"rgba(50, 171, 96, 1.0)\"}, \"name\": \"C\", \"orientation\": \"v\", \"type\": \"box\", \"y\": [1.0574435496930406, 1.4921564787890202, -1.7661487698322937, 0.5468034187042222, -0.47026472549686354, 0.028866797470123048, 0.3139952672131217, 1.0668782081292985, 0.09238728722526235, 0.283247834274512, 0.4487993866836888, 0.9132713227316623, 0.008592406413361182, -0.7173373816876694, -0.037214402351031156, -2.8949439095111407, 0.4140767599284732, -1.3715577493217457, 1.2411017703319136, -0.7750902687746185, -1.3369518346870932, -1.1874007524465737, 0.3681246871113735, -0.29296405505946915, -0.4120491294340162, -0.6393549290429247, -1.6252105983283975, -1.3122854422321009, -1.9360909602917662, 1.2027910029886157, -0.4518326104029993, -2.29567896659763, -2.2027365357952218, -0.9495835357613918, -0.7322557769196346, -0.9241767204331726, 0.5631995965443728, -0.6312706493382001, 1.024196030529535, 0.4297610318922039, -0.7504142855157657, 1.0706424815592872, -0.31772007630060434, 0.6705110936808703, 0.4534108865873891, 1.5475342889743962, 0.3660711004823217, 1.2934499121707412, 0.7491633869777687, 0.09037087793335094, 0.3709638152711295, -1.351420359786962, -0.4203974223630586, 0.18498829849810838, -1.6876380183562545, -1.131961576340599, -0.6104901531877899, -2.2658956080934023, -0.186352790636565, 1.9137723635641175, 0.13508744155143304, 1.0159023595649985, -1.8165198631533503, 0.29210575387975946, -2.520194559655417, 0.2127339800838521, 0.6223598055465379, 0.5766940739463821, 1.355567983001298, -0.4679608448477689, -0.4400613901138157, -1.3310223817525753, -0.8755271323754789, 0.6197069606377154, 1.4410149209822796, -0.14775880614740602, -1.1989896338434585, 0.8030412590191057, 0.11810621881639764, 1.705029039681729, -2.009349513148917, -1.1579539361380786, -0.21682015326728335, 0.018930436667645812, -0.31797119351666403, -0.8411642149311813, 0.3495781033263939, -0.9349822805499162, -0.3114537226336073, -0.27159842048918575, 0.8369615864242455, 0.7858872047734048, -1.7845289249109602, 1.0115271820947205, 0.11688723804189248, 0.4384478782073346, 0.008889099217462877, -1.2107890685045604, -0.4071907027266032, 0.6536957941340616]}, {\"boxpoints\": false, \"line\": {\"width\": 1.3}, \"marker\": {\"color\": \"rgba(128, 0, 128, 1.0)\"}, \"name\": \"D\", \"orientation\": \"v\", \"type\": \"box\", \"y\": [0.3798783138869394, 0.5325642324025878, -1.8891938479625277, -0.03444831396935892, 1.4104072642934369, -0.3503592139676249, -0.4518190931196363, -0.3526980962729689, -0.13644755472497294, 0.956469914017513, 0.2766338633851785, 0.48679215566673106, 0.6305138639396141, 0.670662053678759, 0.17246341882456473, 1.6896887579244286, -0.09568047093000441, 0.37002779584454143, -0.5889076792874218, -0.993264289903829, 0.032929627729489694, 2.459806536192735, -0.5300658412981611, -0.5462519759274664, 2.2185127174957526, -1.2873566015766316, 1.1085631311275275, 0.7540336592440204, -2.405117365648385, 0.7519527988408649, 0.960740272412522, 0.6661987152882016, 0.09604344180668174, 0.19791457794456077, -0.5767798450403657, -0.6094379212386503, 0.9635133288340161, -0.1916057929549026, 0.2822548631386541, -0.39170312163360355, 1.0553270001104484, -0.8883354765977708, 0.14339533089131373, 1.4340419022520996, 1.5387313432423801, -0.4491124148977889, 0.24097568616595325, -1.0952678381537415, -1.3070247606070595, 0.3665277479805535, -0.2783540192377507, 0.629501823076368, 0.6849483439792226, -0.5315032934853802, 1.0444660828634182, 1.538436301126394, 0.4319327354213975, -0.14084430545192075, 1.7219787146097316, 1.3972112919116941, -0.20272716886416664, 0.07143726678942765, -0.363681910844145, -1.5668551317424237, 0.378403314966072, 0.43504543706164983, -0.10889111832006396, -0.791434625542699, 1.6099239399808436, 0.5452652674536136, -1.4854687171382646, 0.8676730513097982, 1.1204485778757485, 0.6843594944768051, -0.7510865824027254, -0.2332906102221231, 0.8787493888412986, 0.6480584613902357, -0.42944843729204674, 1.1820664129266354, -0.3372464499840548, 0.9756828395663479, -0.4664566749827974, 0.619425782469263, 0.7089529472891641, -0.5008345898697598, 0.9463043227431527, -0.011880002448478146, 0.23520814180111044, -0.18531967636238048, 0.03318441552433788, -0.6339369120426261, -0.3350870887531984, 0.5644887956088116, 0.6160211323302354, 0.6940017094073261, -0.14109006224355106, 0.8750595947946054, 0.4015732140810989, -0.5021013131557769]}],\n",
       "                        {\"legend\": {\"bgcolor\": \"#F5F6F9\", \"font\": {\"color\": \"#4D5663\"}}, \"paper_bgcolor\": \"#F5F6F9\", \"plot_bgcolor\": \"#F5F6F9\", \"template\": {\"data\": {\"bar\": [{\"error_x\": {\"color\": \"#2a3f5f\"}, \"error_y\": {\"color\": \"#2a3f5f\"}, \"marker\": {\"line\": {\"color\": \"#E5ECF6\", \"width\": 0.5}}, \"type\": \"bar\"}], \"barpolar\": [{\"marker\": {\"line\": {\"color\": \"#E5ECF6\", \"width\": 0.5}}, \"type\": \"barpolar\"}], \"carpet\": [{\"aaxis\": {\"endlinecolor\": \"#2a3f5f\", \"gridcolor\": \"white\", \"linecolor\": \"white\", \"minorgridcolor\": \"white\", \"startlinecolor\": \"#2a3f5f\"}, \"baxis\": {\"endlinecolor\": \"#2a3f5f\", \"gridcolor\": \"white\", \"linecolor\": \"white\", \"minorgridcolor\": \"white\", \"startlinecolor\": \"#2a3f5f\"}, \"type\": \"carpet\"}], \"choropleth\": [{\"colorbar\": {\"outlinewidth\": 0, \"ticks\": \"\"}, \"type\": \"choropleth\"}], \"contour\": [{\"colorbar\": {\"outlinewidth\": 0, \"ticks\": \"\"}, \"colorscale\": [[0.0, \"#0d0887\"], [0.1111111111111111, \"#46039f\"], [0.2222222222222222, \"#7201a8\"], [0.3333333333333333, \"#9c179e\"], [0.4444444444444444, \"#bd3786\"], [0.5555555555555556, \"#d8576b\"], [0.6666666666666666, \"#ed7953\"], [0.7777777777777778, \"#fb9f3a\"], [0.8888888888888888, \"#fdca26\"], [1.0, \"#f0f921\"]], \"type\": \"contour\"}], \"contourcarpet\": [{\"colorbar\": {\"outlinewidth\": 0, \"ticks\": \"\"}, \"type\": \"contourcarpet\"}], \"heatmap\": [{\"colorbar\": {\"outlinewidth\": 0, \"ticks\": \"\"}, \"colorscale\": [[0.0, \"#0d0887\"], [0.1111111111111111, \"#46039f\"], [0.2222222222222222, \"#7201a8\"], [0.3333333333333333, \"#9c179e\"], [0.4444444444444444, \"#bd3786\"], [0.5555555555555556, \"#d8576b\"], [0.6666666666666666, \"#ed7953\"], [0.7777777777777778, \"#fb9f3a\"], [0.8888888888888888, \"#fdca26\"], [1.0, \"#f0f921\"]], \"type\": \"heatmap\"}], \"heatmapgl\": [{\"colorbar\": {\"outlinewidth\": 0, \"ticks\": \"\"}, \"colorscale\": [[0.0, \"#0d0887\"], [0.1111111111111111, \"#46039f\"], [0.2222222222222222, \"#7201a8\"], [0.3333333333333333, \"#9c179e\"], [0.4444444444444444, \"#bd3786\"], [0.5555555555555556, \"#d8576b\"], [0.6666666666666666, \"#ed7953\"], [0.7777777777777778, \"#fb9f3a\"], [0.8888888888888888, \"#fdca26\"], [1.0, \"#f0f921\"]], \"type\": \"heatmapgl\"}], \"histogram\": [{\"marker\": {\"colorbar\": {\"outlinewidth\": 0, \"ticks\": \"\"}}, \"type\": \"histogram\"}], \"histogram2d\": [{\"colorbar\": {\"outlinewidth\": 0, \"ticks\": \"\"}, \"colorscale\": [[0.0, \"#0d0887\"], [0.1111111111111111, \"#46039f\"], [0.2222222222222222, \"#7201a8\"], [0.3333333333333333, \"#9c179e\"], [0.4444444444444444, \"#bd3786\"], [0.5555555555555556, \"#d8576b\"], [0.6666666666666666, \"#ed7953\"], [0.7777777777777778, \"#fb9f3a\"], [0.8888888888888888, \"#fdca26\"], [1.0, \"#f0f921\"]], \"type\": \"histogram2d\"}], \"histogram2dcontour\": [{\"colorbar\": {\"outlinewidth\": 0, \"ticks\": \"\"}, \"colorscale\": [[0.0, \"#0d0887\"], [0.1111111111111111, \"#46039f\"], [0.2222222222222222, \"#7201a8\"], [0.3333333333333333, \"#9c179e\"], [0.4444444444444444, \"#bd3786\"], [0.5555555555555556, \"#d8576b\"], [0.6666666666666666, \"#ed7953\"], [0.7777777777777778, \"#fb9f3a\"], [0.8888888888888888, \"#fdca26\"], [1.0, \"#f0f921\"]], \"type\": \"histogram2dcontour\"}], \"mesh3d\": [{\"colorbar\": {\"outlinewidth\": 0, \"ticks\": \"\"}, \"type\": \"mesh3d\"}], \"parcoords\": [{\"line\": {\"colorbar\": {\"outlinewidth\": 0, \"ticks\": \"\"}}, \"type\": \"parcoords\"}], \"pie\": [{\"automargin\": true, \"type\": \"pie\"}], \"scatter\": [{\"marker\": {\"colorbar\": {\"outlinewidth\": 0, \"ticks\": \"\"}}, \"type\": \"scatter\"}], \"scatter3d\": [{\"line\": {\"colorbar\": {\"outlinewidth\": 0, \"ticks\": \"\"}}, \"marker\": {\"colorbar\": {\"outlinewidth\": 0, \"ticks\": \"\"}}, \"type\": \"scatter3d\"}], \"scattercarpet\": [{\"marker\": {\"colorbar\": {\"outlinewidth\": 0, \"ticks\": \"\"}}, \"type\": \"scattercarpet\"}], \"scattergeo\": [{\"marker\": {\"colorbar\": {\"outlinewidth\": 0, \"ticks\": \"\"}}, \"type\": \"scattergeo\"}], \"scattergl\": [{\"marker\": {\"colorbar\": {\"outlinewidth\": 0, \"ticks\": \"\"}}, \"type\": \"scattergl\"}], \"scattermapbox\": [{\"marker\": {\"colorbar\": {\"outlinewidth\": 0, \"ticks\": \"\"}}, \"type\": \"scattermapbox\"}], \"scatterpolar\": [{\"marker\": {\"colorbar\": {\"outlinewidth\": 0, \"ticks\": \"\"}}, \"type\": \"scatterpolar\"}], \"scatterpolargl\": [{\"marker\": {\"colorbar\": {\"outlinewidth\": 0, \"ticks\": \"\"}}, \"type\": \"scatterpolargl\"}], \"scatterternary\": [{\"marker\": {\"colorbar\": {\"outlinewidth\": 0, \"ticks\": \"\"}}, \"type\": \"scatterternary\"}], \"surface\": [{\"colorbar\": {\"outlinewidth\": 0, \"ticks\": \"\"}, \"colorscale\": [[0.0, \"#0d0887\"], [0.1111111111111111, \"#46039f\"], [0.2222222222222222, \"#7201a8\"], [0.3333333333333333, \"#9c179e\"], [0.4444444444444444, \"#bd3786\"], [0.5555555555555556, \"#d8576b\"], [0.6666666666666666, \"#ed7953\"], [0.7777777777777778, \"#fb9f3a\"], [0.8888888888888888, \"#fdca26\"], [1.0, \"#f0f921\"]], \"type\": \"surface\"}], \"table\": [{\"cells\": {\"fill\": {\"color\": \"#EBF0F8\"}, \"line\": {\"color\": \"white\"}}, \"header\": {\"fill\": {\"color\": \"#C8D4E3\"}, \"line\": {\"color\": \"white\"}}, \"type\": \"table\"}]}, \"layout\": {\"annotationdefaults\": {\"arrowcolor\": \"#2a3f5f\", \"arrowhead\": 0, \"arrowwidth\": 1}, \"coloraxis\": {\"colorbar\": {\"outlinewidth\": 0, \"ticks\": \"\"}}, \"colorscale\": {\"diverging\": [[0, \"#8e0152\"], [0.1, \"#c51b7d\"], [0.2, \"#de77ae\"], [0.3, \"#f1b6da\"], [0.4, \"#fde0ef\"], [0.5, \"#f7f7f7\"], [0.6, \"#e6f5d0\"], [0.7, \"#b8e186\"], [0.8, \"#7fbc41\"], [0.9, \"#4d9221\"], [1, \"#276419\"]], \"sequential\": [[0.0, \"#0d0887\"], [0.1111111111111111, \"#46039f\"], [0.2222222222222222, \"#7201a8\"], [0.3333333333333333, \"#9c179e\"], [0.4444444444444444, \"#bd3786\"], [0.5555555555555556, \"#d8576b\"], [0.6666666666666666, \"#ed7953\"], [0.7777777777777778, \"#fb9f3a\"], [0.8888888888888888, \"#fdca26\"], [1.0, \"#f0f921\"]], \"sequentialminus\": [[0.0, \"#0d0887\"], [0.1111111111111111, \"#46039f\"], [0.2222222222222222, \"#7201a8\"], [0.3333333333333333, \"#9c179e\"], [0.4444444444444444, \"#bd3786\"], [0.5555555555555556, \"#d8576b\"], [0.6666666666666666, \"#ed7953\"], [0.7777777777777778, \"#fb9f3a\"], [0.8888888888888888, \"#fdca26\"], [1.0, \"#f0f921\"]]}, \"colorway\": [\"#636efa\", \"#EF553B\", \"#00cc96\", \"#ab63fa\", \"#FFA15A\", \"#19d3f3\", \"#FF6692\", \"#B6E880\", \"#FF97FF\", \"#FECB52\"], \"font\": {\"color\": \"#2a3f5f\"}, \"geo\": {\"bgcolor\": \"white\", \"lakecolor\": \"white\", \"landcolor\": \"#E5ECF6\", \"showlakes\": true, \"showland\": true, \"subunitcolor\": \"white\"}, \"hoverlabel\": {\"align\": \"left\"}, \"hovermode\": \"closest\", \"mapbox\": {\"style\": \"light\"}, \"paper_bgcolor\": \"white\", \"plot_bgcolor\": \"#E5ECF6\", \"polar\": {\"angularaxis\": {\"gridcolor\": \"white\", \"linecolor\": \"white\", \"ticks\": \"\"}, \"bgcolor\": \"#E5ECF6\", \"radialaxis\": {\"gridcolor\": \"white\", \"linecolor\": \"white\", \"ticks\": \"\"}}, \"scene\": {\"xaxis\": {\"backgroundcolor\": \"#E5ECF6\", \"gridcolor\": \"white\", \"gridwidth\": 2, \"linecolor\": \"white\", \"showbackground\": true, \"ticks\": \"\", \"zerolinecolor\": \"white\"}, \"yaxis\": {\"backgroundcolor\": \"#E5ECF6\", \"gridcolor\": \"white\", \"gridwidth\": 2, \"linecolor\": \"white\", \"showbackground\": true, \"ticks\": \"\", \"zerolinecolor\": \"white\"}, \"zaxis\": {\"backgroundcolor\": \"#E5ECF6\", \"gridcolor\": \"white\", \"gridwidth\": 2, \"linecolor\": \"white\", \"showbackground\": true, \"ticks\": \"\", \"zerolinecolor\": \"white\"}}, \"shapedefaults\": {\"line\": {\"color\": \"#2a3f5f\"}}, \"ternary\": {\"aaxis\": {\"gridcolor\": \"white\", \"linecolor\": \"white\", \"ticks\": \"\"}, \"baxis\": {\"gridcolor\": \"white\", \"linecolor\": \"white\", \"ticks\": \"\"}, \"bgcolor\": \"#E5ECF6\", \"caxis\": {\"gridcolor\": \"white\", \"linecolor\": \"white\", \"ticks\": \"\"}}, \"title\": {\"x\": 0.05}, \"xaxis\": {\"automargin\": true, \"gridcolor\": \"white\", \"linecolor\": \"white\", \"ticks\": \"\", \"title\": {\"standoff\": 15}, \"zerolinecolor\": \"white\", \"zerolinewidth\": 2}, \"yaxis\": {\"automargin\": true, \"gridcolor\": \"white\", \"linecolor\": \"white\", \"ticks\": \"\", \"title\": {\"standoff\": 15}, \"zerolinecolor\": \"white\", \"zerolinewidth\": 2}}}, \"title\": {\"font\": {\"color\": \"#4D5663\"}}, \"xaxis\": {\"gridcolor\": \"#E1E5ED\", \"showgrid\": true, \"tickfont\": {\"color\": \"#4D5663\"}, \"title\": {\"font\": {\"color\": \"#4D5663\"}, \"text\": \"\"}, \"zerolinecolor\": \"#E1E5ED\"}, \"yaxis\": {\"gridcolor\": \"#E1E5ED\", \"showgrid\": true, \"tickfont\": {\"color\": \"#4D5663\"}, \"title\": {\"font\": {\"color\": \"#4D5663\"}, \"text\": \"\"}, \"zerolinecolor\": \"#E1E5ED\"}},\n",
       "                        {\"showLink\": true, \"linkText\": \"Export to plot.ly\", \"plotlyServerURL\": \"https://plot.ly\", \"responsive\": true}\n",
       "                    ).then(function(){\n",
       "                            \n",
       "var gd = document.getElementById('862b0e9a-d04a-4f65-9bf3-e55bb4aebf14');\n",
       "var x = new MutationObserver(function (mutations, observer) {{\n",
       "        var display = window.getComputedStyle(gd).display;\n",
       "        if (!display || display === 'none') {{\n",
       "            console.log([gd, 'removed!']);\n",
       "            Plotly.purge(gd);\n",
       "            observer.disconnect();\n",
       "        }}\n",
       "}});\n",
       "\n",
       "// Listen for the removal of the full notebook cells\n",
       "var notebookContainer = gd.closest('#notebook-container');\n",
       "if (notebookContainer) {{\n",
       "    x.observe(notebookContainer, {childList: true});\n",
       "}}\n",
       "\n",
       "// Listen for the clearing of the current output cell\n",
       "var outputEl = gd.closest('.output');\n",
       "if (outputEl) {{\n",
       "    x.observe(outputEl, {childList: true});\n",
       "}}\n",
       "\n",
       "                        })\n",
       "                };\n",
       "                });\n",
       "            </script>\n",
       "        </div>"
      ]
     },
     "metadata": {},
     "output_type": "display_data"
    }
   ],
   "source": [
    "df.iplot(kind='box')"
   ]
  },
  {
   "cell_type": "markdown",
   "metadata": {},
   "source": [
    "## 3d Surface"
   ]
  },
  {
   "cell_type": "code",
   "execution_count": 31,
   "metadata": {},
   "outputs": [
    {
     "data": {
      "application/vnd.plotly.v1+json": {
       "config": {
        "linkText": "Export to plot.ly",
        "plotlyServerURL": "https://plot.ly",
        "showLink": true
       },
       "data": [
        {
         "colorscale": [
          [
           0,
           "rgb(165,0,38)"
          ],
          [
           0.1,
           "rgb(215,48,39)"
          ],
          [
           0.2,
           "rgb(244,109,67)"
          ],
          [
           0.3,
           "rgb(253,174,97)"
          ],
          [
           0.4,
           "rgb(254,224,144)"
          ],
          [
           0.5,
           "rgb(255,255,191)"
          ],
          [
           0.6,
           "rgb(224,243,248)"
          ],
          [
           0.7,
           "rgb(171,217,233)"
          ],
          [
           0.8,
           "rgb(116,173,209)"
          ],
          [
           0.9,
           "rgb(69,117,180)"
          ],
          [
           1,
           "rgb(49,54,149)"
          ]
         ],
         "type": "surface",
         "x": [
          0,
          1,
          2,
          3,
          4
         ],
         "y": [
          "x",
          "y",
          "z"
         ],
         "z": [
          [
           1,
           2,
           3,
           4,
           5
          ],
          [
           10,
           20,
           30,
           20,
           10
          ],
          [
           5,
           4,
           3,
           2,
           1
          ]
         ]
        }
       ],
       "layout": {
        "legend": {
         "bgcolor": "#F5F6F9",
         "font": {
          "color": "#4D5663"
         }
        },
        "paper_bgcolor": "#F5F6F9",
        "plot_bgcolor": "#F5F6F9",
        "template": {
         "data": {
          "bar": [
           {
            "error_x": {
             "color": "#2a3f5f"
            },
            "error_y": {
             "color": "#2a3f5f"
            },
            "marker": {
             "line": {
              "color": "#E5ECF6",
              "width": 0.5
             }
            },
            "type": "bar"
           }
          ],
          "barpolar": [
           {
            "marker": {
             "line": {
              "color": "#E5ECF6",
              "width": 0.5
             }
            },
            "type": "barpolar"
           }
          ],
          "carpet": [
           {
            "aaxis": {
             "endlinecolor": "#2a3f5f",
             "gridcolor": "white",
             "linecolor": "white",
             "minorgridcolor": "white",
             "startlinecolor": "#2a3f5f"
            },
            "baxis": {
             "endlinecolor": "#2a3f5f",
             "gridcolor": "white",
             "linecolor": "white",
             "minorgridcolor": "white",
             "startlinecolor": "#2a3f5f"
            },
            "type": "carpet"
           }
          ],
          "choropleth": [
           {
            "colorbar": {
             "outlinewidth": 0,
             "ticks": ""
            },
            "type": "choropleth"
           }
          ],
          "contour": [
           {
            "colorbar": {
             "outlinewidth": 0,
             "ticks": ""
            },
            "colorscale": [
             [
              0,
              "#0d0887"
             ],
             [
              0.1111111111111111,
              "#46039f"
             ],
             [
              0.2222222222222222,
              "#7201a8"
             ],
             [
              0.3333333333333333,
              "#9c179e"
             ],
             [
              0.4444444444444444,
              "#bd3786"
             ],
             [
              0.5555555555555556,
              "#d8576b"
             ],
             [
              0.6666666666666666,
              "#ed7953"
             ],
             [
              0.7777777777777778,
              "#fb9f3a"
             ],
             [
              0.8888888888888888,
              "#fdca26"
             ],
             [
              1,
              "#f0f921"
             ]
            ],
            "type": "contour"
           }
          ],
          "contourcarpet": [
           {
            "colorbar": {
             "outlinewidth": 0,
             "ticks": ""
            },
            "type": "contourcarpet"
           }
          ],
          "heatmap": [
           {
            "colorbar": {
             "outlinewidth": 0,
             "ticks": ""
            },
            "colorscale": [
             [
              0,
              "#0d0887"
             ],
             [
              0.1111111111111111,
              "#46039f"
             ],
             [
              0.2222222222222222,
              "#7201a8"
             ],
             [
              0.3333333333333333,
              "#9c179e"
             ],
             [
              0.4444444444444444,
              "#bd3786"
             ],
             [
              0.5555555555555556,
              "#d8576b"
             ],
             [
              0.6666666666666666,
              "#ed7953"
             ],
             [
              0.7777777777777778,
              "#fb9f3a"
             ],
             [
              0.8888888888888888,
              "#fdca26"
             ],
             [
              1,
              "#f0f921"
             ]
            ],
            "type": "heatmap"
           }
          ],
          "heatmapgl": [
           {
            "colorbar": {
             "outlinewidth": 0,
             "ticks": ""
            },
            "colorscale": [
             [
              0,
              "#0d0887"
             ],
             [
              0.1111111111111111,
              "#46039f"
             ],
             [
              0.2222222222222222,
              "#7201a8"
             ],
             [
              0.3333333333333333,
              "#9c179e"
             ],
             [
              0.4444444444444444,
              "#bd3786"
             ],
             [
              0.5555555555555556,
              "#d8576b"
             ],
             [
              0.6666666666666666,
              "#ed7953"
             ],
             [
              0.7777777777777778,
              "#fb9f3a"
             ],
             [
              0.8888888888888888,
              "#fdca26"
             ],
             [
              1,
              "#f0f921"
             ]
            ],
            "type": "heatmapgl"
           }
          ],
          "histogram": [
           {
            "marker": {
             "colorbar": {
              "outlinewidth": 0,
              "ticks": ""
             }
            },
            "type": "histogram"
           }
          ],
          "histogram2d": [
           {
            "colorbar": {
             "outlinewidth": 0,
             "ticks": ""
            },
            "colorscale": [
             [
              0,
              "#0d0887"
             ],
             [
              0.1111111111111111,
              "#46039f"
             ],
             [
              0.2222222222222222,
              "#7201a8"
             ],
             [
              0.3333333333333333,
              "#9c179e"
             ],
             [
              0.4444444444444444,
              "#bd3786"
             ],
             [
              0.5555555555555556,
              "#d8576b"
             ],
             [
              0.6666666666666666,
              "#ed7953"
             ],
             [
              0.7777777777777778,
              "#fb9f3a"
             ],
             [
              0.8888888888888888,
              "#fdca26"
             ],
             [
              1,
              "#f0f921"
             ]
            ],
            "type": "histogram2d"
           }
          ],
          "histogram2dcontour": [
           {
            "colorbar": {
             "outlinewidth": 0,
             "ticks": ""
            },
            "colorscale": [
             [
              0,
              "#0d0887"
             ],
             [
              0.1111111111111111,
              "#46039f"
             ],
             [
              0.2222222222222222,
              "#7201a8"
             ],
             [
              0.3333333333333333,
              "#9c179e"
             ],
             [
              0.4444444444444444,
              "#bd3786"
             ],
             [
              0.5555555555555556,
              "#d8576b"
             ],
             [
              0.6666666666666666,
              "#ed7953"
             ],
             [
              0.7777777777777778,
              "#fb9f3a"
             ],
             [
              0.8888888888888888,
              "#fdca26"
             ],
             [
              1,
              "#f0f921"
             ]
            ],
            "type": "histogram2dcontour"
           }
          ],
          "mesh3d": [
           {
            "colorbar": {
             "outlinewidth": 0,
             "ticks": ""
            },
            "type": "mesh3d"
           }
          ],
          "parcoords": [
           {
            "line": {
             "colorbar": {
              "outlinewidth": 0,
              "ticks": ""
             }
            },
            "type": "parcoords"
           }
          ],
          "pie": [
           {
            "automargin": true,
            "type": "pie"
           }
          ],
          "scatter": [
           {
            "marker": {
             "colorbar": {
              "outlinewidth": 0,
              "ticks": ""
             }
            },
            "type": "scatter"
           }
          ],
          "scatter3d": [
           {
            "line": {
             "colorbar": {
              "outlinewidth": 0,
              "ticks": ""
             }
            },
            "marker": {
             "colorbar": {
              "outlinewidth": 0,
              "ticks": ""
             }
            },
            "type": "scatter3d"
           }
          ],
          "scattercarpet": [
           {
            "marker": {
             "colorbar": {
              "outlinewidth": 0,
              "ticks": ""
             }
            },
            "type": "scattercarpet"
           }
          ],
          "scattergeo": [
           {
            "marker": {
             "colorbar": {
              "outlinewidth": 0,
              "ticks": ""
             }
            },
            "type": "scattergeo"
           }
          ],
          "scattergl": [
           {
            "marker": {
             "colorbar": {
              "outlinewidth": 0,
              "ticks": ""
             }
            },
            "type": "scattergl"
           }
          ],
          "scattermapbox": [
           {
            "marker": {
             "colorbar": {
              "outlinewidth": 0,
              "ticks": ""
             }
            },
            "type": "scattermapbox"
           }
          ],
          "scatterpolar": [
           {
            "marker": {
             "colorbar": {
              "outlinewidth": 0,
              "ticks": ""
             }
            },
            "type": "scatterpolar"
           }
          ],
          "scatterpolargl": [
           {
            "marker": {
             "colorbar": {
              "outlinewidth": 0,
              "ticks": ""
             }
            },
            "type": "scatterpolargl"
           }
          ],
          "scatterternary": [
           {
            "marker": {
             "colorbar": {
              "outlinewidth": 0,
              "ticks": ""
             }
            },
            "type": "scatterternary"
           }
          ],
          "surface": [
           {
            "colorbar": {
             "outlinewidth": 0,
             "ticks": ""
            },
            "colorscale": [
             [
              0,
              "#0d0887"
             ],
             [
              0.1111111111111111,
              "#46039f"
             ],
             [
              0.2222222222222222,
              "#7201a8"
             ],
             [
              0.3333333333333333,
              "#9c179e"
             ],
             [
              0.4444444444444444,
              "#bd3786"
             ],
             [
              0.5555555555555556,
              "#d8576b"
             ],
             [
              0.6666666666666666,
              "#ed7953"
             ],
             [
              0.7777777777777778,
              "#fb9f3a"
             ],
             [
              0.8888888888888888,
              "#fdca26"
             ],
             [
              1,
              "#f0f921"
             ]
            ],
            "type": "surface"
           }
          ],
          "table": [
           {
            "cells": {
             "fill": {
              "color": "#EBF0F8"
             },
             "line": {
              "color": "white"
             }
            },
            "header": {
             "fill": {
              "color": "#C8D4E3"
             },
             "line": {
              "color": "white"
             }
            },
            "type": "table"
           }
          ]
         },
         "layout": {
          "annotationdefaults": {
           "arrowcolor": "#2a3f5f",
           "arrowhead": 0,
           "arrowwidth": 1
          },
          "coloraxis": {
           "colorbar": {
            "outlinewidth": 0,
            "ticks": ""
           }
          },
          "colorscale": {
           "diverging": [
            [
             0,
             "#8e0152"
            ],
            [
             0.1,
             "#c51b7d"
            ],
            [
             0.2,
             "#de77ae"
            ],
            [
             0.3,
             "#f1b6da"
            ],
            [
             0.4,
             "#fde0ef"
            ],
            [
             0.5,
             "#f7f7f7"
            ],
            [
             0.6,
             "#e6f5d0"
            ],
            [
             0.7,
             "#b8e186"
            ],
            [
             0.8,
             "#7fbc41"
            ],
            [
             0.9,
             "#4d9221"
            ],
            [
             1,
             "#276419"
            ]
           ],
           "sequential": [
            [
             0,
             "#0d0887"
            ],
            [
             0.1111111111111111,
             "#46039f"
            ],
            [
             0.2222222222222222,
             "#7201a8"
            ],
            [
             0.3333333333333333,
             "#9c179e"
            ],
            [
             0.4444444444444444,
             "#bd3786"
            ],
            [
             0.5555555555555556,
             "#d8576b"
            ],
            [
             0.6666666666666666,
             "#ed7953"
            ],
            [
             0.7777777777777778,
             "#fb9f3a"
            ],
            [
             0.8888888888888888,
             "#fdca26"
            ],
            [
             1,
             "#f0f921"
            ]
           ],
           "sequentialminus": [
            [
             0,
             "#0d0887"
            ],
            [
             0.1111111111111111,
             "#46039f"
            ],
            [
             0.2222222222222222,
             "#7201a8"
            ],
            [
             0.3333333333333333,
             "#9c179e"
            ],
            [
             0.4444444444444444,
             "#bd3786"
            ],
            [
             0.5555555555555556,
             "#d8576b"
            ],
            [
             0.6666666666666666,
             "#ed7953"
            ],
            [
             0.7777777777777778,
             "#fb9f3a"
            ],
            [
             0.8888888888888888,
             "#fdca26"
            ],
            [
             1,
             "#f0f921"
            ]
           ]
          },
          "colorway": [
           "#636efa",
           "#EF553B",
           "#00cc96",
           "#ab63fa",
           "#FFA15A",
           "#19d3f3",
           "#FF6692",
           "#B6E880",
           "#FF97FF",
           "#FECB52"
          ],
          "font": {
           "color": "#2a3f5f"
          },
          "geo": {
           "bgcolor": "white",
           "lakecolor": "white",
           "landcolor": "#E5ECF6",
           "showlakes": true,
           "showland": true,
           "subunitcolor": "white"
          },
          "hoverlabel": {
           "align": "left"
          },
          "hovermode": "closest",
          "mapbox": {
           "style": "light"
          },
          "paper_bgcolor": "white",
          "plot_bgcolor": "#E5ECF6",
          "polar": {
           "angularaxis": {
            "gridcolor": "white",
            "linecolor": "white",
            "ticks": ""
           },
           "bgcolor": "#E5ECF6",
           "radialaxis": {
            "gridcolor": "white",
            "linecolor": "white",
            "ticks": ""
           }
          },
          "scene": {
           "xaxis": {
            "backgroundcolor": "#E5ECF6",
            "gridcolor": "white",
            "gridwidth": 2,
            "linecolor": "white",
            "showbackground": true,
            "ticks": "",
            "zerolinecolor": "white"
           },
           "yaxis": {
            "backgroundcolor": "#E5ECF6",
            "gridcolor": "white",
            "gridwidth": 2,
            "linecolor": "white",
            "showbackground": true,
            "ticks": "",
            "zerolinecolor": "white"
           },
           "zaxis": {
            "backgroundcolor": "#E5ECF6",
            "gridcolor": "white",
            "gridwidth": 2,
            "linecolor": "white",
            "showbackground": true,
            "ticks": "",
            "zerolinecolor": "white"
           }
          },
          "shapedefaults": {
           "line": {
            "color": "#2a3f5f"
           }
          },
          "ternary": {
           "aaxis": {
            "gridcolor": "white",
            "linecolor": "white",
            "ticks": ""
           },
           "baxis": {
            "gridcolor": "white",
            "linecolor": "white",
            "ticks": ""
           },
           "bgcolor": "#E5ECF6",
           "caxis": {
            "gridcolor": "white",
            "linecolor": "white",
            "ticks": ""
           }
          },
          "title": {
           "x": 0.05
          },
          "xaxis": {
           "automargin": true,
           "gridcolor": "white",
           "linecolor": "white",
           "ticks": "",
           "title": {
            "standoff": 15
           },
           "zerolinecolor": "white",
           "zerolinewidth": 2
          },
          "yaxis": {
           "automargin": true,
           "gridcolor": "white",
           "linecolor": "white",
           "ticks": "",
           "title": {
            "standoff": 15
           },
           "zerolinecolor": "white",
           "zerolinewidth": 2
          }
         }
        },
        "title": {
         "font": {
          "color": "#4D5663"
         }
        },
        "xaxis": {
         "gridcolor": "#E1E5ED",
         "showgrid": true,
         "tickfont": {
          "color": "#4D5663"
         },
         "title": {
          "font": {
           "color": "#4D5663"
          },
          "text": ""
         },
         "zerolinecolor": "#E1E5ED"
        },
        "yaxis": {
         "gridcolor": "#E1E5ED",
         "showgrid": true,
         "tickfont": {
          "color": "#4D5663"
         },
         "title": {
          "font": {
           "color": "#4D5663"
          },
          "text": ""
         },
         "zerolinecolor": "#E1E5ED"
        }
       }
      },
      "text/html": [
       "<div>\n",
       "        \n",
       "        \n",
       "            <div id=\"9f0778fa-66f3-4f3a-8e92-3ef62d9d29f0\" class=\"plotly-graph-div\" style=\"height:525px; width:100%;\"></div>\n",
       "            <script type=\"text/javascript\">\n",
       "                require([\"plotly\"], function(Plotly) {\n",
       "                    window.PLOTLYENV=window.PLOTLYENV || {};\n",
       "                    window.PLOTLYENV.BASE_URL='https://plot.ly';\n",
       "                    \n",
       "                if (document.getElementById(\"9f0778fa-66f3-4f3a-8e92-3ef62d9d29f0\")) {\n",
       "                    Plotly.newPlot(\n",
       "                        '9f0778fa-66f3-4f3a-8e92-3ef62d9d29f0',\n",
       "                        [{\"colorscale\": [[0.0, \"rgb(165,0,38)\"], [0.1, \"rgb(215,48,39)\"], [0.2, \"rgb(244,109,67)\"], [0.3, \"rgb(253,174,97)\"], [0.4, \"rgb(254,224,144)\"], [0.5, \"rgb(255,255,191)\"], [0.6, \"rgb(224,243,248)\"], [0.7, \"rgb(171,217,233)\"], [0.8, \"rgb(116,173,209)\"], [0.9, \"rgb(69,117,180)\"], [1.0, \"rgb(49,54,149)\"]], \"type\": \"surface\", \"x\": [0, 1, 2, 3, 4], \"y\": [\"x\", \"y\", \"z\"], \"z\": [[1, 2, 3, 4, 5], [10, 20, 30, 20, 10], [5, 4, 3, 2, 1]]}],\n",
       "                        {\"legend\": {\"bgcolor\": \"#F5F6F9\", \"font\": {\"color\": \"#4D5663\"}}, \"paper_bgcolor\": \"#F5F6F9\", \"plot_bgcolor\": \"#F5F6F9\", \"template\": {\"data\": {\"bar\": [{\"error_x\": {\"color\": \"#2a3f5f\"}, \"error_y\": {\"color\": \"#2a3f5f\"}, \"marker\": {\"line\": {\"color\": \"#E5ECF6\", \"width\": 0.5}}, \"type\": \"bar\"}], \"barpolar\": [{\"marker\": {\"line\": {\"color\": \"#E5ECF6\", \"width\": 0.5}}, \"type\": \"barpolar\"}], \"carpet\": [{\"aaxis\": {\"endlinecolor\": \"#2a3f5f\", \"gridcolor\": \"white\", \"linecolor\": \"white\", \"minorgridcolor\": \"white\", \"startlinecolor\": \"#2a3f5f\"}, \"baxis\": {\"endlinecolor\": \"#2a3f5f\", \"gridcolor\": \"white\", \"linecolor\": \"white\", \"minorgridcolor\": \"white\", \"startlinecolor\": \"#2a3f5f\"}, \"type\": \"carpet\"}], \"choropleth\": [{\"colorbar\": {\"outlinewidth\": 0, \"ticks\": \"\"}, \"type\": \"choropleth\"}], \"contour\": [{\"colorbar\": {\"outlinewidth\": 0, \"ticks\": \"\"}, \"colorscale\": [[0.0, \"#0d0887\"], [0.1111111111111111, \"#46039f\"], [0.2222222222222222, \"#7201a8\"], [0.3333333333333333, \"#9c179e\"], [0.4444444444444444, \"#bd3786\"], [0.5555555555555556, \"#d8576b\"], [0.6666666666666666, \"#ed7953\"], [0.7777777777777778, \"#fb9f3a\"], [0.8888888888888888, \"#fdca26\"], [1.0, \"#f0f921\"]], \"type\": \"contour\"}], \"contourcarpet\": [{\"colorbar\": {\"outlinewidth\": 0, \"ticks\": \"\"}, \"type\": \"contourcarpet\"}], \"heatmap\": [{\"colorbar\": {\"outlinewidth\": 0, \"ticks\": \"\"}, \"colorscale\": [[0.0, \"#0d0887\"], [0.1111111111111111, \"#46039f\"], [0.2222222222222222, \"#7201a8\"], [0.3333333333333333, \"#9c179e\"], [0.4444444444444444, \"#bd3786\"], [0.5555555555555556, \"#d8576b\"], [0.6666666666666666, \"#ed7953\"], [0.7777777777777778, \"#fb9f3a\"], [0.8888888888888888, \"#fdca26\"], [1.0, \"#f0f921\"]], \"type\": \"heatmap\"}], \"heatmapgl\": [{\"colorbar\": {\"outlinewidth\": 0, \"ticks\": \"\"}, \"colorscale\": [[0.0, \"#0d0887\"], [0.1111111111111111, \"#46039f\"], [0.2222222222222222, \"#7201a8\"], [0.3333333333333333, \"#9c179e\"], [0.4444444444444444, \"#bd3786\"], [0.5555555555555556, \"#d8576b\"], [0.6666666666666666, \"#ed7953\"], [0.7777777777777778, \"#fb9f3a\"], [0.8888888888888888, \"#fdca26\"], [1.0, \"#f0f921\"]], \"type\": \"heatmapgl\"}], \"histogram\": [{\"marker\": {\"colorbar\": {\"outlinewidth\": 0, \"ticks\": \"\"}}, \"type\": \"histogram\"}], \"histogram2d\": [{\"colorbar\": {\"outlinewidth\": 0, \"ticks\": \"\"}, \"colorscale\": [[0.0, \"#0d0887\"], [0.1111111111111111, \"#46039f\"], [0.2222222222222222, \"#7201a8\"], [0.3333333333333333, \"#9c179e\"], [0.4444444444444444, \"#bd3786\"], [0.5555555555555556, \"#d8576b\"], [0.6666666666666666, \"#ed7953\"], [0.7777777777777778, \"#fb9f3a\"], [0.8888888888888888, \"#fdca26\"], [1.0, \"#f0f921\"]], \"type\": \"histogram2d\"}], \"histogram2dcontour\": [{\"colorbar\": {\"outlinewidth\": 0, \"ticks\": \"\"}, \"colorscale\": [[0.0, \"#0d0887\"], [0.1111111111111111, \"#46039f\"], [0.2222222222222222, \"#7201a8\"], [0.3333333333333333, \"#9c179e\"], [0.4444444444444444, \"#bd3786\"], [0.5555555555555556, \"#d8576b\"], [0.6666666666666666, \"#ed7953\"], [0.7777777777777778, \"#fb9f3a\"], [0.8888888888888888, \"#fdca26\"], [1.0, \"#f0f921\"]], \"type\": \"histogram2dcontour\"}], \"mesh3d\": [{\"colorbar\": {\"outlinewidth\": 0, \"ticks\": \"\"}, \"type\": \"mesh3d\"}], \"parcoords\": [{\"line\": {\"colorbar\": {\"outlinewidth\": 0, \"ticks\": \"\"}}, \"type\": \"parcoords\"}], \"pie\": [{\"automargin\": true, \"type\": \"pie\"}], \"scatter\": [{\"marker\": {\"colorbar\": {\"outlinewidth\": 0, \"ticks\": \"\"}}, \"type\": \"scatter\"}], \"scatter3d\": [{\"line\": {\"colorbar\": {\"outlinewidth\": 0, \"ticks\": \"\"}}, \"marker\": {\"colorbar\": {\"outlinewidth\": 0, \"ticks\": \"\"}}, \"type\": \"scatter3d\"}], \"scattercarpet\": [{\"marker\": {\"colorbar\": {\"outlinewidth\": 0, \"ticks\": \"\"}}, \"type\": \"scattercarpet\"}], \"scattergeo\": [{\"marker\": {\"colorbar\": {\"outlinewidth\": 0, \"ticks\": \"\"}}, \"type\": \"scattergeo\"}], \"scattergl\": [{\"marker\": {\"colorbar\": {\"outlinewidth\": 0, \"ticks\": \"\"}}, \"type\": \"scattergl\"}], \"scattermapbox\": [{\"marker\": {\"colorbar\": {\"outlinewidth\": 0, \"ticks\": \"\"}}, \"type\": \"scattermapbox\"}], \"scatterpolar\": [{\"marker\": {\"colorbar\": {\"outlinewidth\": 0, \"ticks\": \"\"}}, \"type\": \"scatterpolar\"}], \"scatterpolargl\": [{\"marker\": {\"colorbar\": {\"outlinewidth\": 0, \"ticks\": \"\"}}, \"type\": \"scatterpolargl\"}], \"scatterternary\": [{\"marker\": {\"colorbar\": {\"outlinewidth\": 0, \"ticks\": \"\"}}, \"type\": \"scatterternary\"}], \"surface\": [{\"colorbar\": {\"outlinewidth\": 0, \"ticks\": \"\"}, \"colorscale\": [[0.0, \"#0d0887\"], [0.1111111111111111, \"#46039f\"], [0.2222222222222222, \"#7201a8\"], [0.3333333333333333, \"#9c179e\"], [0.4444444444444444, \"#bd3786\"], [0.5555555555555556, \"#d8576b\"], [0.6666666666666666, \"#ed7953\"], [0.7777777777777778, \"#fb9f3a\"], [0.8888888888888888, \"#fdca26\"], [1.0, \"#f0f921\"]], \"type\": \"surface\"}], \"table\": [{\"cells\": {\"fill\": {\"color\": \"#EBF0F8\"}, \"line\": {\"color\": \"white\"}}, \"header\": {\"fill\": {\"color\": \"#C8D4E3\"}, \"line\": {\"color\": \"white\"}}, \"type\": \"table\"}]}, \"layout\": {\"annotationdefaults\": {\"arrowcolor\": \"#2a3f5f\", \"arrowhead\": 0, \"arrowwidth\": 1}, \"coloraxis\": {\"colorbar\": {\"outlinewidth\": 0, \"ticks\": \"\"}}, \"colorscale\": {\"diverging\": [[0, \"#8e0152\"], [0.1, \"#c51b7d\"], [0.2, \"#de77ae\"], [0.3, \"#f1b6da\"], [0.4, \"#fde0ef\"], [0.5, \"#f7f7f7\"], [0.6, \"#e6f5d0\"], [0.7, \"#b8e186\"], [0.8, \"#7fbc41\"], [0.9, \"#4d9221\"], [1, \"#276419\"]], \"sequential\": [[0.0, \"#0d0887\"], [0.1111111111111111, \"#46039f\"], [0.2222222222222222, \"#7201a8\"], [0.3333333333333333, \"#9c179e\"], [0.4444444444444444, \"#bd3786\"], [0.5555555555555556, \"#d8576b\"], [0.6666666666666666, \"#ed7953\"], [0.7777777777777778, \"#fb9f3a\"], [0.8888888888888888, \"#fdca26\"], [1.0, \"#f0f921\"]], \"sequentialminus\": [[0.0, \"#0d0887\"], [0.1111111111111111, \"#46039f\"], [0.2222222222222222, \"#7201a8\"], [0.3333333333333333, \"#9c179e\"], [0.4444444444444444, \"#bd3786\"], [0.5555555555555556, \"#d8576b\"], [0.6666666666666666, \"#ed7953\"], [0.7777777777777778, \"#fb9f3a\"], [0.8888888888888888, \"#fdca26\"], [1.0, \"#f0f921\"]]}, \"colorway\": [\"#636efa\", \"#EF553B\", \"#00cc96\", \"#ab63fa\", \"#FFA15A\", \"#19d3f3\", \"#FF6692\", \"#B6E880\", \"#FF97FF\", \"#FECB52\"], \"font\": {\"color\": \"#2a3f5f\"}, \"geo\": {\"bgcolor\": \"white\", \"lakecolor\": \"white\", \"landcolor\": \"#E5ECF6\", \"showlakes\": true, \"showland\": true, \"subunitcolor\": \"white\"}, \"hoverlabel\": {\"align\": \"left\"}, \"hovermode\": \"closest\", \"mapbox\": {\"style\": \"light\"}, \"paper_bgcolor\": \"white\", \"plot_bgcolor\": \"#E5ECF6\", \"polar\": {\"angularaxis\": {\"gridcolor\": \"white\", \"linecolor\": \"white\", \"ticks\": \"\"}, \"bgcolor\": \"#E5ECF6\", \"radialaxis\": {\"gridcolor\": \"white\", \"linecolor\": \"white\", \"ticks\": \"\"}}, \"scene\": {\"xaxis\": {\"backgroundcolor\": \"#E5ECF6\", \"gridcolor\": \"white\", \"gridwidth\": 2, \"linecolor\": \"white\", \"showbackground\": true, \"ticks\": \"\", \"zerolinecolor\": \"white\"}, \"yaxis\": {\"backgroundcolor\": \"#E5ECF6\", \"gridcolor\": \"white\", \"gridwidth\": 2, \"linecolor\": \"white\", \"showbackground\": true, \"ticks\": \"\", \"zerolinecolor\": \"white\"}, \"zaxis\": {\"backgroundcolor\": \"#E5ECF6\", \"gridcolor\": \"white\", \"gridwidth\": 2, \"linecolor\": \"white\", \"showbackground\": true, \"ticks\": \"\", \"zerolinecolor\": \"white\"}}, \"shapedefaults\": {\"line\": {\"color\": \"#2a3f5f\"}}, \"ternary\": {\"aaxis\": {\"gridcolor\": \"white\", \"linecolor\": \"white\", \"ticks\": \"\"}, \"baxis\": {\"gridcolor\": \"white\", \"linecolor\": \"white\", \"ticks\": \"\"}, \"bgcolor\": \"#E5ECF6\", \"caxis\": {\"gridcolor\": \"white\", \"linecolor\": \"white\", \"ticks\": \"\"}}, \"title\": {\"x\": 0.05}, \"xaxis\": {\"automargin\": true, \"gridcolor\": \"white\", \"linecolor\": \"white\", \"ticks\": \"\", \"title\": {\"standoff\": 15}, \"zerolinecolor\": \"white\", \"zerolinewidth\": 2}, \"yaxis\": {\"automargin\": true, \"gridcolor\": \"white\", \"linecolor\": \"white\", \"ticks\": \"\", \"title\": {\"standoff\": 15}, \"zerolinecolor\": \"white\", \"zerolinewidth\": 2}}}, \"title\": {\"font\": {\"color\": \"#4D5663\"}}, \"xaxis\": {\"gridcolor\": \"#E1E5ED\", \"showgrid\": true, \"tickfont\": {\"color\": \"#4D5663\"}, \"title\": {\"font\": {\"color\": \"#4D5663\"}, \"text\": \"\"}, \"zerolinecolor\": \"#E1E5ED\"}, \"yaxis\": {\"gridcolor\": \"#E1E5ED\", \"showgrid\": true, \"tickfont\": {\"color\": \"#4D5663\"}, \"title\": {\"font\": {\"color\": \"#4D5663\"}, \"text\": \"\"}, \"zerolinecolor\": \"#E1E5ED\"}},\n",
       "                        {\"showLink\": true, \"linkText\": \"Export to plot.ly\", \"plotlyServerURL\": \"https://plot.ly\", \"responsive\": true}\n",
       "                    ).then(function(){\n",
       "                            \n",
       "var gd = document.getElementById('9f0778fa-66f3-4f3a-8e92-3ef62d9d29f0');\n",
       "var x = new MutationObserver(function (mutations, observer) {{\n",
       "        var display = window.getComputedStyle(gd).display;\n",
       "        if (!display || display === 'none') {{\n",
       "            console.log([gd, 'removed!']);\n",
       "            Plotly.purge(gd);\n",
       "            observer.disconnect();\n",
       "        }}\n",
       "}});\n",
       "\n",
       "// Listen for the removal of the full notebook cells\n",
       "var notebookContainer = gd.closest('#notebook-container');\n",
       "if (notebookContainer) {{\n",
       "    x.observe(notebookContainer, {childList: true});\n",
       "}}\n",
       "\n",
       "// Listen for the clearing of the current output cell\n",
       "var outputEl = gd.closest('.output');\n",
       "if (outputEl) {{\n",
       "    x.observe(outputEl, {childList: true});\n",
       "}}\n",
       "\n",
       "                        })\n",
       "                };\n",
       "                });\n",
       "            </script>\n",
       "        </div>"
      ]
     },
     "metadata": {},
     "output_type": "display_data"
    }
   ],
   "source": [
    "df3 = pd.DataFrame({'x':[1,2,3,4,5],'y':[10,20,30,20,10],'z':[5,4,3,2,1]})\n",
    "df3.iplot(kind='surface',colorscale='rdylbu')"
   ]
  },
  {
   "cell_type": "markdown",
   "metadata": {},
   "source": [
    "## Spread"
   ]
  },
  {
   "cell_type": "code",
   "execution_count": 37,
   "metadata": {
    "scrolled": true
   },
   "outputs": [
    {
     "data": {
      "application/vnd.plotly.v1+json": {
       "config": {
        "linkText": "Export to plot.ly",
        "plotlyServerURL": "https://plot.ly",
        "showLink": true
       },
       "data": [
        {
         "line": {
          "color": "rgba(255, 153, 51, 1.0)",
          "dash": "solid",
          "shape": "linear",
          "width": 1.3
         },
         "mode": "lines",
         "name": "A",
         "text": "",
         "type": "scatter",
         "x": [
          0,
          1,
          2,
          3,
          4,
          5,
          6,
          7,
          8,
          9,
          10,
          11,
          12,
          13,
          14,
          15,
          16,
          17,
          18,
          19,
          20,
          21,
          22,
          23,
          24,
          25,
          26,
          27,
          28,
          29,
          30,
          31,
          32,
          33,
          34,
          35,
          36,
          37,
          38,
          39,
          40,
          41,
          42,
          43,
          44,
          45,
          46,
          47,
          48,
          49,
          50,
          51,
          52,
          53,
          54,
          55,
          56,
          57,
          58,
          59,
          60,
          61,
          62,
          63,
          64,
          65,
          66,
          67,
          68,
          69,
          70,
          71,
          72,
          73,
          74,
          75,
          76,
          77,
          78,
          79,
          80,
          81,
          82,
          83,
          84,
          85,
          86,
          87,
          88,
          89,
          90,
          91,
          92,
          93,
          94,
          95,
          96,
          97,
          98,
          99
         ],
         "y": [
          -0.8224878330406368,
          -0.10471106442069328,
          -2.769584391084238,
          -2.2424162672391885,
          0.490203066976595,
          2.8691407911563673,
          -0.0803435729235115,
          -0.12115858301628984,
          1.0499603993850388,
          1.1283694551511767,
          1.8380934783110614,
          0.4645233310960621,
          -0.3486835398494006,
          0.9664744927848891,
          -0.33835704495058144,
          -1.28473461375488,
          1.7985504608251153,
          1.1553157661273779,
          0.4134915078299442,
          0.7475612530709317,
          0.4201660768259774,
          0.07722115747936044,
          1.0221609726299972,
          -1.077323357084743,
          -0.34977897732417185,
          1.3733646137384052,
          -0.15833165590252143,
          1.4947517994373962,
          -0.38989674078583964,
          -0.5243134691725355,
          -1.097052749096775,
          1.054960626543361,
          1.5146706425888474,
          0.40891220981344617,
          -0.03669418351965464,
          -0.13067256359666868,
          -1.3643656789650926,
          1.3642052302623737,
          0.3013624226546742,
          -1.604831448237099,
          1.9936387069916879,
          -0.7344022390099565,
          -1.0909182813824605,
          0.7899232933086707,
          -0.7888330616466801,
          0.24423391011295395,
          -1.433561400695055,
          -0.8051710423228607,
          1.3878930883952874,
          -0.23677373547589425,
          1.4198942689724774,
          -0.8583559909421177,
          -0.5094931311348392,
          -0.29723488125835085,
          1.4666563744515433,
          -0.5961247866543091,
          0.38967071033631834,
          0.9968517939347469,
          -1.2518718953723809,
          0.25183778792382366,
          0.6679256901564015,
          0.996754273254323,
          0.12748412059035386,
          -0.3186507334386617,
          0.8058549264472583,
          0.793026285047879,
          0.2345960517139365,
          0.42175178151213183,
          -1.9211488472442586,
          0.1219224349688401,
          0.05176320596206913,
          -0.3497984577725166,
          0.456054887712555,
          0.07617950164554171,
          1.3404993482278846,
          0.14392955845017877,
          -1.138648683092966,
          1.494168391233162,
          0.029884199072675432,
          -0.10405794060352479,
          -0.28770790124207524,
          -1.4419491390038417,
          0.5682946601649805,
          0.21954096821881025,
          -0.16217288802578836,
          0.9521454603349894,
          0.13231876090108707,
          0.12117149081466017,
          -0.9367090923602004,
          1.264286886996742,
          1.9986274543811504,
          0.6872677252241897,
          0.23490617405340217,
          0.1779749622995297,
          0.20027271975265543,
          -1.7896732465301717,
          -0.38825505562436735,
          0.6518389289274054,
          1.4429880702473201,
          1.085490258313375
         ]
        },
        {
         "line": {
          "color": "rgba(55, 128, 191, 1.0)",
          "dash": "solid",
          "shape": "linear",
          "width": 1.3
         },
         "mode": "lines",
         "name": "B",
         "text": "",
         "type": "scatter",
         "x": [
          0,
          1,
          2,
          3,
          4,
          5,
          6,
          7,
          8,
          9,
          10,
          11,
          12,
          13,
          14,
          15,
          16,
          17,
          18,
          19,
          20,
          21,
          22,
          23,
          24,
          25,
          26,
          27,
          28,
          29,
          30,
          31,
          32,
          33,
          34,
          35,
          36,
          37,
          38,
          39,
          40,
          41,
          42,
          43,
          44,
          45,
          46,
          47,
          48,
          49,
          50,
          51,
          52,
          53,
          54,
          55,
          56,
          57,
          58,
          59,
          60,
          61,
          62,
          63,
          64,
          65,
          66,
          67,
          68,
          69,
          70,
          71,
          72,
          73,
          74,
          75,
          76,
          77,
          78,
          79,
          80,
          81,
          82,
          83,
          84,
          85,
          86,
          87,
          88,
          89,
          90,
          91,
          92,
          93,
          94,
          95,
          96,
          97,
          98,
          99
         ],
         "y": [
          -0.10516366801878904,
          1.0053383313461546,
          0.7711355623806072,
          -0.9585361003596985,
          1.413791782075609,
          -0.011999672475143592,
          -0.2332276829472234,
          0.9994963176647628,
          0.8010134369014502,
          -0.462304224009063,
          1.1184462932071981,
          -0.589992861130369,
          -2.407485278886959,
          -0.7466993868046775,
          -0.4473733557949075,
          0.3805477134400745,
          2.336840387236904,
          0.43387049430242997,
          0.8152523192214589,
          0.6089888934661134,
          -1.526454646964997,
          -1.3206012488138623,
          -1.0431640274931064,
          0.7749127003189561,
          -0.2493808914655523,
          1.458109788045986,
          1.4404921519603873,
          -0.9441221138653232,
          0.2732931046600395,
          0.670748994079489,
          1.2851525315752468,
          -1.7303505300847168,
          0.2564344283676181,
          1.0512380697522659,
          0.7990793338822009,
          -0.8273449445815736,
          -0.13302628947133086,
          1.151813367457789,
          -0.8116827986139052,
          0.16250672924139484,
          0.6119741800924526,
          -0.12623253101768572,
          -0.645412471356651,
          0.21225836348979263,
          0.9828919578145259,
          -1.0640505904153608,
          0.8606516119398787,
          -0.03836903085700935,
          -1.029494471649252,
          1.5927070980793128,
          0.345091231227057,
          0.19380779779508553,
          -1.2171439092573397,
          -1.1221298763480816,
          -0.71548838463745,
          0.8618914945926935,
          0.8709948734880736,
          1.3214572814137557,
          0.3656583698395165,
          -1.0611358360980878,
          2.6045600811046117,
          0.29786624169468395,
          -1.2181968397107135,
          0.005947039893275675,
          -0.9217262323903322,
          0.43250191129540305,
          -2.059956112643729,
          -0.24783647778024964,
          -0.825755005236759,
          0.5104517899980096,
          0.7756766680790673,
          -0.6948728890863228,
          0.10526112030629592,
          0.595048497478357,
          -0.9684246545495997,
          0.9805904389899971,
          -0.5150824233574389,
          -1.8701413759264716,
          0.045707577044487815,
          -1.1812227615164517,
          -0.47919058861042635,
          0.2020800241922994,
          -1.0295277726875516,
          -0.8007147666280858,
          -1.1849668586810944,
          -1.8499115869420633,
          -0.5969137115751699,
          1.48710606342048,
          0.5010826710528153,
          0.23312570917424857,
          0.4466191745148875,
          -0.7773227430247127,
          0.05908523285531262,
          -0.411275094211949,
          -1.090825864124665,
          0.2214935949606966,
          1.3352016027920028,
          -0.11906672568050544,
          -1.7799645711470489,
          1.4945027836142082
         ]
        },
        {
         "connectgaps": false,
         "fill": "tozeroy",
         "line": {
          "color": "green",
          "dash": "solid",
          "shape": "linear",
          "width": 0.5
         },
         "mode": "lines",
         "name": "Spread",
         "showlegend": false,
         "type": "scatter",
         "x": [
          0,
          1,
          2,
          3,
          4,
          5,
          6,
          7,
          8,
          9,
          10,
          11,
          12,
          13,
          14,
          15,
          16,
          17,
          18,
          19,
          20,
          21,
          22,
          23,
          24,
          25,
          26,
          27,
          28,
          29,
          30,
          31,
          32,
          33,
          34,
          35,
          36,
          37,
          38,
          39,
          40,
          41,
          42,
          43,
          44,
          45,
          46,
          47,
          48,
          49,
          50,
          51,
          52,
          53,
          54,
          55,
          56,
          57,
          58,
          59,
          60,
          61,
          62,
          63,
          64,
          65,
          66,
          67,
          68,
          69,
          70,
          71,
          72,
          73,
          74,
          75,
          76,
          77,
          78,
          79,
          80,
          81,
          82,
          83,
          84,
          85,
          86,
          87,
          88,
          89,
          90,
          91,
          92,
          93,
          94,
          95,
          96,
          97,
          98,
          99
         ],
         "xaxis": "x2",
         "y": [
          "",
          "",
          "",
          "",
          "",
          2.8811404636315108,
          0.15288411002371188,
          "",
          0.2489469624835886,
          1.5906736791602398,
          0.7196471851038633,
          1.054516192226431,
          2.0588017390375586,
          1.7131738795895666,
          0.10901631084432606,
          "",
          "",
          0.7214452718249479,
          "",
          0.13857235960481828,
          1.9466207237909745,
          1.3978224062932227,
          2.065325000123104,
          "",
          "",
          "",
          "",
          2.4388739133027193,
          "",
          "",
          "",
          2.7853111566280777,
          1.2582362142212293,
          "",
          "",
          0.6966723809849049,
          "",
          0.21239186280458466,
          1.1130452212685795,
          "",
          1.3816645268992351,
          "",
          "",
          0.5776649298188781,
          "",
          1.3082845005283148,
          "",
          "",
          2.4173875600445394,
          "",
          1.0748030377454203,
          "",
          0.7076507781225005,
          0.8248949950897307,
          2.1821447590889935,
          "",
          "",
          "",
          "",
          1.3129736240219114,
          "",
          0.6988880315596391,
          1.3456809603010673,
          "",
          1.7275811588375904,
          0.3605243737524759,
          2.2945521643576656,
          0.6695882592923814,
          "",
          "",
          "",
          0.3450744313138062,
          0.35079376740625906,
          "",
          2.308924002777484,
          "",
          "",
          3.3643097671596336,
          "",
          1.077164820912927,
          0.1914826873683511,
          "",
          1.5978224328525321,
          1.0202557348468961,
          1.022793970655306,
          2.8020570472770525,
          0.729232472476257,
          "",
          "",
          1.0311611778224936,
          1.5520082798662629,
          1.4645904682489024,
          0.17582094119808955,
          0.5892500565114787,
          1.2910985838773206,
          "",
          "",
          0.7709056546079108,
          3.222952641394369,
          ""
         ],
         "yaxis": "y2"
        },
        {
         "connectgaps": false,
         "fill": "tozeroy",
         "line": {
          "color": "red",
          "dash": "solid",
          "shape": "linear",
          "width": 0.5
         },
         "mode": "lines",
         "name": "Spread",
         "showlegend": false,
         "type": "scatter",
         "x": [
          0,
          1,
          2,
          3,
          4,
          5,
          6,
          7,
          8,
          9,
          10,
          11,
          12,
          13,
          14,
          15,
          16,
          17,
          18,
          19,
          20,
          21,
          22,
          23,
          24,
          25,
          26,
          27,
          28,
          29,
          30,
          31,
          32,
          33,
          34,
          35,
          36,
          37,
          38,
          39,
          40,
          41,
          42,
          43,
          44,
          45,
          46,
          47,
          48,
          49,
          50,
          51,
          52,
          53,
          54,
          55,
          56,
          57,
          58,
          59,
          60,
          61,
          62,
          63,
          64,
          65,
          66,
          67,
          68,
          69,
          70,
          71,
          72,
          73,
          74,
          75,
          76,
          77,
          78,
          79,
          80,
          81,
          82,
          83,
          84,
          85,
          86,
          87,
          88,
          89,
          90,
          91,
          92,
          93,
          94,
          95,
          96,
          97,
          98,
          99
         ],
         "xaxis": "x2",
         "y": [
          -0.7173241650218477,
          -1.1100493957668478,
          -3.540719953464845,
          -1.2838801668794901,
          -0.923588715099014,
          "",
          "",
          -1.1206549006810527,
          "",
          "",
          "",
          "",
          "",
          "",
          "",
          -1.6652823271949546,
          -0.5382899264117886,
          "",
          -0.4017608113915147,
          "",
          "",
          "",
          "",
          -1.8522360574036991,
          -0.10039808585861953,
          -0.08474517430758066,
          -1.5988238078629087,
          "",
          -0.6631898454458791,
          -1.1950624632520244,
          -2.3822052806720215,
          "",
          "",
          -0.6423258599388197,
          -0.8357735174018555,
          "",
          -1.2313393894937619,
          "",
          "",
          -1.7673381774784938,
          "",
          -0.6081697079922708,
          -0.44550581002580947,
          "",
          -1.771725019461206,
          "",
          -2.2942130126349336,
          -0.7668020114658514,
          "",
          -1.829480833555207,
          "",
          -1.0521637887372033,
          "",
          "",
          "",
          -1.4580162812470028,
          -0.48132416315175525,
          -0.32460548747900886,
          -1.6175302652118972,
          "",
          -1.9366343909482102,
          "",
          "",
          -0.32459777333193734,
          "",
          "",
          "",
          "",
          -1.0953938420074996,
          -0.38852935502916947,
          -0.7239134621169981,
          "",
          "",
          -0.5188689958328152,
          "",
          -0.8366608805398184,
          -0.6235662597355272,
          "",
          -0.015823377971812384,
          "",
          "",
          -1.644029163196141,
          "",
          "",
          "",
          "",
          "",
          -1.3659345726058199,
          -1.4377917634130157,
          "",
          "",
          "",
          "",
          "",
          "",
          -2.0111668414908683,
          -1.7234566584163702,
          "",
          "",
          -0.4090125253008332
         ],
         "yaxis": "y2"
        }
       ],
       "layout": {
        "hovermode": "x",
        "legend": {
         "bgcolor": "#F5F6F9",
         "font": {
          "color": "#4D5663"
         }
        },
        "paper_bgcolor": "#F5F6F9",
        "plot_bgcolor": "#F5F6F9",
        "template": {
         "data": {
          "bar": [
           {
            "error_x": {
             "color": "#2a3f5f"
            },
            "error_y": {
             "color": "#2a3f5f"
            },
            "marker": {
             "line": {
              "color": "#E5ECF6",
              "width": 0.5
             }
            },
            "type": "bar"
           }
          ],
          "barpolar": [
           {
            "marker": {
             "line": {
              "color": "#E5ECF6",
              "width": 0.5
             }
            },
            "type": "barpolar"
           }
          ],
          "carpet": [
           {
            "aaxis": {
             "endlinecolor": "#2a3f5f",
             "gridcolor": "white",
             "linecolor": "white",
             "minorgridcolor": "white",
             "startlinecolor": "#2a3f5f"
            },
            "baxis": {
             "endlinecolor": "#2a3f5f",
             "gridcolor": "white",
             "linecolor": "white",
             "minorgridcolor": "white",
             "startlinecolor": "#2a3f5f"
            },
            "type": "carpet"
           }
          ],
          "choropleth": [
           {
            "colorbar": {
             "outlinewidth": 0,
             "ticks": ""
            },
            "type": "choropleth"
           }
          ],
          "contour": [
           {
            "colorbar": {
             "outlinewidth": 0,
             "ticks": ""
            },
            "colorscale": [
             [
              0,
              "#0d0887"
             ],
             [
              0.1111111111111111,
              "#46039f"
             ],
             [
              0.2222222222222222,
              "#7201a8"
             ],
             [
              0.3333333333333333,
              "#9c179e"
             ],
             [
              0.4444444444444444,
              "#bd3786"
             ],
             [
              0.5555555555555556,
              "#d8576b"
             ],
             [
              0.6666666666666666,
              "#ed7953"
             ],
             [
              0.7777777777777778,
              "#fb9f3a"
             ],
             [
              0.8888888888888888,
              "#fdca26"
             ],
             [
              1,
              "#f0f921"
             ]
            ],
            "type": "contour"
           }
          ],
          "contourcarpet": [
           {
            "colorbar": {
             "outlinewidth": 0,
             "ticks": ""
            },
            "type": "contourcarpet"
           }
          ],
          "heatmap": [
           {
            "colorbar": {
             "outlinewidth": 0,
             "ticks": ""
            },
            "colorscale": [
             [
              0,
              "#0d0887"
             ],
             [
              0.1111111111111111,
              "#46039f"
             ],
             [
              0.2222222222222222,
              "#7201a8"
             ],
             [
              0.3333333333333333,
              "#9c179e"
             ],
             [
              0.4444444444444444,
              "#bd3786"
             ],
             [
              0.5555555555555556,
              "#d8576b"
             ],
             [
              0.6666666666666666,
              "#ed7953"
             ],
             [
              0.7777777777777778,
              "#fb9f3a"
             ],
             [
              0.8888888888888888,
              "#fdca26"
             ],
             [
              1,
              "#f0f921"
             ]
            ],
            "type": "heatmap"
           }
          ],
          "heatmapgl": [
           {
            "colorbar": {
             "outlinewidth": 0,
             "ticks": ""
            },
            "colorscale": [
             [
              0,
              "#0d0887"
             ],
             [
              0.1111111111111111,
              "#46039f"
             ],
             [
              0.2222222222222222,
              "#7201a8"
             ],
             [
              0.3333333333333333,
              "#9c179e"
             ],
             [
              0.4444444444444444,
              "#bd3786"
             ],
             [
              0.5555555555555556,
              "#d8576b"
             ],
             [
              0.6666666666666666,
              "#ed7953"
             ],
             [
              0.7777777777777778,
              "#fb9f3a"
             ],
             [
              0.8888888888888888,
              "#fdca26"
             ],
             [
              1,
              "#f0f921"
             ]
            ],
            "type": "heatmapgl"
           }
          ],
          "histogram": [
           {
            "marker": {
             "colorbar": {
              "outlinewidth": 0,
              "ticks": ""
             }
            },
            "type": "histogram"
           }
          ],
          "histogram2d": [
           {
            "colorbar": {
             "outlinewidth": 0,
             "ticks": ""
            },
            "colorscale": [
             [
              0,
              "#0d0887"
             ],
             [
              0.1111111111111111,
              "#46039f"
             ],
             [
              0.2222222222222222,
              "#7201a8"
             ],
             [
              0.3333333333333333,
              "#9c179e"
             ],
             [
              0.4444444444444444,
              "#bd3786"
             ],
             [
              0.5555555555555556,
              "#d8576b"
             ],
             [
              0.6666666666666666,
              "#ed7953"
             ],
             [
              0.7777777777777778,
              "#fb9f3a"
             ],
             [
              0.8888888888888888,
              "#fdca26"
             ],
             [
              1,
              "#f0f921"
             ]
            ],
            "type": "histogram2d"
           }
          ],
          "histogram2dcontour": [
           {
            "colorbar": {
             "outlinewidth": 0,
             "ticks": ""
            },
            "colorscale": [
             [
              0,
              "#0d0887"
             ],
             [
              0.1111111111111111,
              "#46039f"
             ],
             [
              0.2222222222222222,
              "#7201a8"
             ],
             [
              0.3333333333333333,
              "#9c179e"
             ],
             [
              0.4444444444444444,
              "#bd3786"
             ],
             [
              0.5555555555555556,
              "#d8576b"
             ],
             [
              0.6666666666666666,
              "#ed7953"
             ],
             [
              0.7777777777777778,
              "#fb9f3a"
             ],
             [
              0.8888888888888888,
              "#fdca26"
             ],
             [
              1,
              "#f0f921"
             ]
            ],
            "type": "histogram2dcontour"
           }
          ],
          "mesh3d": [
           {
            "colorbar": {
             "outlinewidth": 0,
             "ticks": ""
            },
            "type": "mesh3d"
           }
          ],
          "parcoords": [
           {
            "line": {
             "colorbar": {
              "outlinewidth": 0,
              "ticks": ""
             }
            },
            "type": "parcoords"
           }
          ],
          "pie": [
           {
            "automargin": true,
            "type": "pie"
           }
          ],
          "scatter": [
           {
            "marker": {
             "colorbar": {
              "outlinewidth": 0,
              "ticks": ""
             }
            },
            "type": "scatter"
           }
          ],
          "scatter3d": [
           {
            "line": {
             "colorbar": {
              "outlinewidth": 0,
              "ticks": ""
             }
            },
            "marker": {
             "colorbar": {
              "outlinewidth": 0,
              "ticks": ""
             }
            },
            "type": "scatter3d"
           }
          ],
          "scattercarpet": [
           {
            "marker": {
             "colorbar": {
              "outlinewidth": 0,
              "ticks": ""
             }
            },
            "type": "scattercarpet"
           }
          ],
          "scattergeo": [
           {
            "marker": {
             "colorbar": {
              "outlinewidth": 0,
              "ticks": ""
             }
            },
            "type": "scattergeo"
           }
          ],
          "scattergl": [
           {
            "marker": {
             "colorbar": {
              "outlinewidth": 0,
              "ticks": ""
             }
            },
            "type": "scattergl"
           }
          ],
          "scattermapbox": [
           {
            "marker": {
             "colorbar": {
              "outlinewidth": 0,
              "ticks": ""
             }
            },
            "type": "scattermapbox"
           }
          ],
          "scatterpolar": [
           {
            "marker": {
             "colorbar": {
              "outlinewidth": 0,
              "ticks": ""
             }
            },
            "type": "scatterpolar"
           }
          ],
          "scatterpolargl": [
           {
            "marker": {
             "colorbar": {
              "outlinewidth": 0,
              "ticks": ""
             }
            },
            "type": "scatterpolargl"
           }
          ],
          "scatterternary": [
           {
            "marker": {
             "colorbar": {
              "outlinewidth": 0,
              "ticks": ""
             }
            },
            "type": "scatterternary"
           }
          ],
          "surface": [
           {
            "colorbar": {
             "outlinewidth": 0,
             "ticks": ""
            },
            "colorscale": [
             [
              0,
              "#0d0887"
             ],
             [
              0.1111111111111111,
              "#46039f"
             ],
             [
              0.2222222222222222,
              "#7201a8"
             ],
             [
              0.3333333333333333,
              "#9c179e"
             ],
             [
              0.4444444444444444,
              "#bd3786"
             ],
             [
              0.5555555555555556,
              "#d8576b"
             ],
             [
              0.6666666666666666,
              "#ed7953"
             ],
             [
              0.7777777777777778,
              "#fb9f3a"
             ],
             [
              0.8888888888888888,
              "#fdca26"
             ],
             [
              1,
              "#f0f921"
             ]
            ],
            "type": "surface"
           }
          ],
          "table": [
           {
            "cells": {
             "fill": {
              "color": "#EBF0F8"
             },
             "line": {
              "color": "white"
             }
            },
            "header": {
             "fill": {
              "color": "#C8D4E3"
             },
             "line": {
              "color": "white"
             }
            },
            "type": "table"
           }
          ]
         },
         "layout": {
          "annotationdefaults": {
           "arrowcolor": "#2a3f5f",
           "arrowhead": 0,
           "arrowwidth": 1
          },
          "coloraxis": {
           "colorbar": {
            "outlinewidth": 0,
            "ticks": ""
           }
          },
          "colorscale": {
           "diverging": [
            [
             0,
             "#8e0152"
            ],
            [
             0.1,
             "#c51b7d"
            ],
            [
             0.2,
             "#de77ae"
            ],
            [
             0.3,
             "#f1b6da"
            ],
            [
             0.4,
             "#fde0ef"
            ],
            [
             0.5,
             "#f7f7f7"
            ],
            [
             0.6,
             "#e6f5d0"
            ],
            [
             0.7,
             "#b8e186"
            ],
            [
             0.8,
             "#7fbc41"
            ],
            [
             0.9,
             "#4d9221"
            ],
            [
             1,
             "#276419"
            ]
           ],
           "sequential": [
            [
             0,
             "#0d0887"
            ],
            [
             0.1111111111111111,
             "#46039f"
            ],
            [
             0.2222222222222222,
             "#7201a8"
            ],
            [
             0.3333333333333333,
             "#9c179e"
            ],
            [
             0.4444444444444444,
             "#bd3786"
            ],
            [
             0.5555555555555556,
             "#d8576b"
            ],
            [
             0.6666666666666666,
             "#ed7953"
            ],
            [
             0.7777777777777778,
             "#fb9f3a"
            ],
            [
             0.8888888888888888,
             "#fdca26"
            ],
            [
             1,
             "#f0f921"
            ]
           ],
           "sequentialminus": [
            [
             0,
             "#0d0887"
            ],
            [
             0.1111111111111111,
             "#46039f"
            ],
            [
             0.2222222222222222,
             "#7201a8"
            ],
            [
             0.3333333333333333,
             "#9c179e"
            ],
            [
             0.4444444444444444,
             "#bd3786"
            ],
            [
             0.5555555555555556,
             "#d8576b"
            ],
            [
             0.6666666666666666,
             "#ed7953"
            ],
            [
             0.7777777777777778,
             "#fb9f3a"
            ],
            [
             0.8888888888888888,
             "#fdca26"
            ],
            [
             1,
             "#f0f921"
            ]
           ]
          },
          "colorway": [
           "#636efa",
           "#EF553B",
           "#00cc96",
           "#ab63fa",
           "#FFA15A",
           "#19d3f3",
           "#FF6692",
           "#B6E880",
           "#FF97FF",
           "#FECB52"
          ],
          "font": {
           "color": "#2a3f5f"
          },
          "geo": {
           "bgcolor": "white",
           "lakecolor": "white",
           "landcolor": "#E5ECF6",
           "showlakes": true,
           "showland": true,
           "subunitcolor": "white"
          },
          "hoverlabel": {
           "align": "left"
          },
          "hovermode": "closest",
          "mapbox": {
           "style": "light"
          },
          "paper_bgcolor": "white",
          "plot_bgcolor": "#E5ECF6",
          "polar": {
           "angularaxis": {
            "gridcolor": "white",
            "linecolor": "white",
            "ticks": ""
           },
           "bgcolor": "#E5ECF6",
           "radialaxis": {
            "gridcolor": "white",
            "linecolor": "white",
            "ticks": ""
           }
          },
          "scene": {
           "xaxis": {
            "backgroundcolor": "#E5ECF6",
            "gridcolor": "white",
            "gridwidth": 2,
            "linecolor": "white",
            "showbackground": true,
            "ticks": "",
            "zerolinecolor": "white"
           },
           "yaxis": {
            "backgroundcolor": "#E5ECF6",
            "gridcolor": "white",
            "gridwidth": 2,
            "linecolor": "white",
            "showbackground": true,
            "ticks": "",
            "zerolinecolor": "white"
           },
           "zaxis": {
            "backgroundcolor": "#E5ECF6",
            "gridcolor": "white",
            "gridwidth": 2,
            "linecolor": "white",
            "showbackground": true,
            "ticks": "",
            "zerolinecolor": "white"
           }
          },
          "shapedefaults": {
           "line": {
            "color": "#2a3f5f"
           }
          },
          "ternary": {
           "aaxis": {
            "gridcolor": "white",
            "linecolor": "white",
            "ticks": ""
           },
           "baxis": {
            "gridcolor": "white",
            "linecolor": "white",
            "ticks": ""
           },
           "bgcolor": "#E5ECF6",
           "caxis": {
            "gridcolor": "white",
            "linecolor": "white",
            "ticks": ""
           }
          },
          "title": {
           "x": 0.05
          },
          "xaxis": {
           "automargin": true,
           "gridcolor": "white",
           "linecolor": "white",
           "ticks": "",
           "title": {
            "standoff": 15
           },
           "zerolinecolor": "white",
           "zerolinewidth": 2
          },
          "yaxis": {
           "automargin": true,
           "gridcolor": "white",
           "linecolor": "white",
           "ticks": "",
           "title": {
            "standoff": 15
           },
           "zerolinecolor": "white",
           "zerolinewidth": 2
          }
         }
        },
        "title": {
         "font": {
          "color": "#4D5663"
         }
        },
        "xaxis": {
         "gridcolor": "#E1E5ED",
         "showgrid": true,
         "tickfont": {
          "color": "#4D5663"
         },
         "title": {
          "font": {
           "color": "#4D5663"
          },
          "text": ""
         },
         "zerolinecolor": "#E1E5ED"
        },
        "xaxis2": {
         "anchor": "y2",
         "gridcolor": "#E1E5ED",
         "showgrid": true,
         "showticklabels": false,
         "tickfont": {
          "color": "#4D5663"
         },
         "title": {
          "font": {
           "color": "#4D5663"
          },
          "text": ""
         },
         "zerolinecolor": "#E1E5ED"
        },
        "yaxis": {
         "domain": [
          0.3,
          1
         ],
         "gridcolor": "#E1E5ED",
         "showgrid": true,
         "tickfont": {
          "color": "#4D5663"
         },
         "title": {
          "font": {
           "color": "#4D5663"
          },
          "text": ""
         },
         "zerolinecolor": "#E1E5ED"
        },
        "yaxis2": {
         "domain": [
          0,
          0.25
         ],
         "gridcolor": "#E1E5ED",
         "showgrid": true,
         "tickfont": {
          "color": "#4D5663"
         },
         "title": {
          "font": {
           "color": "#4D5663"
          },
          "text": "Spread"
         },
         "zerolinecolor": "#E1E5ED"
        }
       }
      },
      "text/html": [
       "<div>\n",
       "        \n",
       "        \n",
       "            <div id=\"0043b86a-3dca-4d6c-921e-cb40f3ab76be\" class=\"plotly-graph-div\" style=\"height:525px; width:100%;\"></div>\n",
       "            <script type=\"text/javascript\">\n",
       "                require([\"plotly\"], function(Plotly) {\n",
       "                    window.PLOTLYENV=window.PLOTLYENV || {};\n",
       "                    window.PLOTLYENV.BASE_URL='https://plot.ly';\n",
       "                    \n",
       "                if (document.getElementById(\"0043b86a-3dca-4d6c-921e-cb40f3ab76be\")) {\n",
       "                    Plotly.newPlot(\n",
       "                        '0043b86a-3dca-4d6c-921e-cb40f3ab76be',\n",
       "                        [{\"line\": {\"color\": \"rgba(255, 153, 51, 1.0)\", \"dash\": \"solid\", \"shape\": \"linear\", \"width\": 1.3}, \"mode\": \"lines\", \"name\": \"A\", \"text\": \"\", \"type\": \"scatter\", \"x\": [0, 1, 2, 3, 4, 5, 6, 7, 8, 9, 10, 11, 12, 13, 14, 15, 16, 17, 18, 19, 20, 21, 22, 23, 24, 25, 26, 27, 28, 29, 30, 31, 32, 33, 34, 35, 36, 37, 38, 39, 40, 41, 42, 43, 44, 45, 46, 47, 48, 49, 50, 51, 52, 53, 54, 55, 56, 57, 58, 59, 60, 61, 62, 63, 64, 65, 66, 67, 68, 69, 70, 71, 72, 73, 74, 75, 76, 77, 78, 79, 80, 81, 82, 83, 84, 85, 86, 87, 88, 89, 90, 91, 92, 93, 94, 95, 96, 97, 98, 99], \"y\": [-0.8224878330406368, -0.10471106442069328, -2.769584391084238, -2.2424162672391885, 0.490203066976595, 2.8691407911563673, -0.0803435729235115, -0.12115858301628984, 1.0499603993850388, 1.1283694551511767, 1.8380934783110614, 0.4645233310960621, -0.3486835398494006, 0.9664744927848891, -0.33835704495058144, -1.28473461375488, 1.7985504608251153, 1.1553157661273779, 0.4134915078299442, 0.7475612530709317, 0.4201660768259774, 0.07722115747936044, 1.0221609726299972, -1.077323357084743, -0.34977897732417185, 1.3733646137384052, -0.15833165590252143, 1.4947517994373962, -0.38989674078583964, -0.5243134691725355, -1.097052749096775, 1.054960626543361, 1.5146706425888474, 0.40891220981344617, -0.03669418351965464, -0.13067256359666868, -1.3643656789650926, 1.3642052302623737, 0.3013624226546742, -1.604831448237099, 1.9936387069916879, -0.7344022390099565, -1.0909182813824605, 0.7899232933086707, -0.7888330616466801, 0.24423391011295395, -1.433561400695055, -0.8051710423228607, 1.3878930883952874, -0.23677373547589425, 1.4198942689724774, -0.8583559909421177, -0.5094931311348392, -0.29723488125835085, 1.4666563744515433, -0.5961247866543091, 0.38967071033631834, 0.9968517939347469, -1.2518718953723809, 0.25183778792382366, 0.6679256901564015, 0.996754273254323, 0.12748412059035386, -0.3186507334386617, 0.8058549264472583, 0.793026285047879, 0.2345960517139365, 0.42175178151213183, -1.9211488472442586, 0.1219224349688401, 0.05176320596206913, -0.3497984577725166, 0.456054887712555, 0.07617950164554171, 1.3404993482278846, 0.14392955845017877, -1.138648683092966, 1.494168391233162, 0.029884199072675432, -0.10405794060352479, -0.28770790124207524, -1.4419491390038417, 0.5682946601649805, 0.21954096821881025, -0.16217288802578836, 0.9521454603349894, 0.13231876090108707, 0.12117149081466017, -0.9367090923602004, 1.264286886996742, 1.9986274543811504, 0.6872677252241897, 0.23490617405340217, 0.1779749622995297, 0.20027271975265543, -1.7896732465301717, -0.38825505562436735, 0.6518389289274054, 1.4429880702473201, 1.085490258313375]}, {\"line\": {\"color\": \"rgba(55, 128, 191, 1.0)\", \"dash\": \"solid\", \"shape\": \"linear\", \"width\": 1.3}, \"mode\": \"lines\", \"name\": \"B\", \"text\": \"\", \"type\": \"scatter\", \"x\": [0, 1, 2, 3, 4, 5, 6, 7, 8, 9, 10, 11, 12, 13, 14, 15, 16, 17, 18, 19, 20, 21, 22, 23, 24, 25, 26, 27, 28, 29, 30, 31, 32, 33, 34, 35, 36, 37, 38, 39, 40, 41, 42, 43, 44, 45, 46, 47, 48, 49, 50, 51, 52, 53, 54, 55, 56, 57, 58, 59, 60, 61, 62, 63, 64, 65, 66, 67, 68, 69, 70, 71, 72, 73, 74, 75, 76, 77, 78, 79, 80, 81, 82, 83, 84, 85, 86, 87, 88, 89, 90, 91, 92, 93, 94, 95, 96, 97, 98, 99], \"y\": [-0.10516366801878904, 1.0053383313461546, 0.7711355623806072, -0.9585361003596985, 1.413791782075609, -0.011999672475143592, -0.2332276829472234, 0.9994963176647628, 0.8010134369014502, -0.462304224009063, 1.1184462932071981, -0.589992861130369, -2.407485278886959, -0.7466993868046775, -0.4473733557949075, 0.3805477134400745, 2.336840387236904, 0.43387049430242997, 0.8152523192214589, 0.6089888934661134, -1.526454646964997, -1.3206012488138623, -1.0431640274931064, 0.7749127003189561, -0.2493808914655523, 1.458109788045986, 1.4404921519603873, -0.9441221138653232, 0.2732931046600395, 0.670748994079489, 1.2851525315752468, -1.7303505300847168, 0.2564344283676181, 1.0512380697522659, 0.7990793338822009, -0.8273449445815736, -0.13302628947133086, 1.151813367457789, -0.8116827986139052, 0.16250672924139484, 0.6119741800924526, -0.12623253101768572, -0.645412471356651, 0.21225836348979263, 0.9828919578145259, -1.0640505904153608, 0.8606516119398787, -0.03836903085700935, -1.029494471649252, 1.5927070980793128, 0.345091231227057, 0.19380779779508553, -1.2171439092573397, -1.1221298763480816, -0.71548838463745, 0.8618914945926935, 0.8709948734880736, 1.3214572814137557, 0.3656583698395165, -1.0611358360980878, 2.6045600811046117, 0.29786624169468395, -1.2181968397107135, 0.005947039893275675, -0.9217262323903322, 0.43250191129540305, -2.059956112643729, -0.24783647778024964, -0.825755005236759, 0.5104517899980096, 0.7756766680790673, -0.6948728890863228, 0.10526112030629592, 0.595048497478357, -0.9684246545495997, 0.9805904389899971, -0.5150824233574389, -1.8701413759264716, 0.045707577044487815, -1.1812227615164517, -0.47919058861042635, 0.2020800241922994, -1.0295277726875516, -0.8007147666280858, -1.1849668586810944, -1.8499115869420633, -0.5969137115751699, 1.48710606342048, 0.5010826710528153, 0.23312570917424857, 0.4466191745148875, -0.7773227430247127, 0.05908523285531262, -0.411275094211949, -1.090825864124665, 0.2214935949606966, 1.3352016027920028, -0.11906672568050544, -1.7799645711470489, 1.4945027836142082]}, {\"connectgaps\": false, \"fill\": \"tozeroy\", \"line\": {\"color\": \"green\", \"dash\": \"solid\", \"shape\": \"linear\", \"width\": 0.5}, \"mode\": \"lines\", \"name\": \"Spread\", \"showlegend\": false, \"type\": \"scatter\", \"x\": [0, 1, 2, 3, 4, 5, 6, 7, 8, 9, 10, 11, 12, 13, 14, 15, 16, 17, 18, 19, 20, 21, 22, 23, 24, 25, 26, 27, 28, 29, 30, 31, 32, 33, 34, 35, 36, 37, 38, 39, 40, 41, 42, 43, 44, 45, 46, 47, 48, 49, 50, 51, 52, 53, 54, 55, 56, 57, 58, 59, 60, 61, 62, 63, 64, 65, 66, 67, 68, 69, 70, 71, 72, 73, 74, 75, 76, 77, 78, 79, 80, 81, 82, 83, 84, 85, 86, 87, 88, 89, 90, 91, 92, 93, 94, 95, 96, 97, 98, 99], \"xaxis\": \"x2\", \"y\": [\"\", \"\", \"\", \"\", \"\", 2.8811404636315108, 0.15288411002371188, \"\", 0.2489469624835886, 1.5906736791602398, 0.7196471851038633, 1.054516192226431, 2.0588017390375586, 1.7131738795895666, 0.10901631084432606, \"\", \"\", 0.7214452718249479, \"\", 0.13857235960481828, 1.9466207237909745, 1.3978224062932227, 2.065325000123104, \"\", \"\", \"\", \"\", 2.4388739133027193, \"\", \"\", \"\", 2.7853111566280777, 1.2582362142212293, \"\", \"\", 0.6966723809849049, \"\", 0.21239186280458466, 1.1130452212685795, \"\", 1.3816645268992351, \"\", \"\", 0.5776649298188781, \"\", 1.3082845005283148, \"\", \"\", 2.4173875600445394, \"\", 1.0748030377454203, \"\", 0.7076507781225005, 0.8248949950897307, 2.1821447590889935, \"\", \"\", \"\", \"\", 1.3129736240219114, \"\", 0.6988880315596391, 1.3456809603010673, \"\", 1.7275811588375904, 0.3605243737524759, 2.2945521643576656, 0.6695882592923814, \"\", \"\", \"\", 0.3450744313138062, 0.35079376740625906, \"\", 2.308924002777484, \"\", \"\", 3.3643097671596336, \"\", 1.077164820912927, 0.1914826873683511, \"\", 1.5978224328525321, 1.0202557348468961, 1.022793970655306, 2.8020570472770525, 0.729232472476257, \"\", \"\", 1.0311611778224936, 1.5520082798662629, 1.4645904682489024, 0.17582094119808955, 0.5892500565114787, 1.2910985838773206, \"\", \"\", 0.7709056546079108, 3.222952641394369, \"\"], \"yaxis\": \"y2\"}, {\"connectgaps\": false, \"fill\": \"tozeroy\", \"line\": {\"color\": \"red\", \"dash\": \"solid\", \"shape\": \"linear\", \"width\": 0.5}, \"mode\": \"lines\", \"name\": \"Spread\", \"showlegend\": false, \"type\": \"scatter\", \"x\": [0, 1, 2, 3, 4, 5, 6, 7, 8, 9, 10, 11, 12, 13, 14, 15, 16, 17, 18, 19, 20, 21, 22, 23, 24, 25, 26, 27, 28, 29, 30, 31, 32, 33, 34, 35, 36, 37, 38, 39, 40, 41, 42, 43, 44, 45, 46, 47, 48, 49, 50, 51, 52, 53, 54, 55, 56, 57, 58, 59, 60, 61, 62, 63, 64, 65, 66, 67, 68, 69, 70, 71, 72, 73, 74, 75, 76, 77, 78, 79, 80, 81, 82, 83, 84, 85, 86, 87, 88, 89, 90, 91, 92, 93, 94, 95, 96, 97, 98, 99], \"xaxis\": \"x2\", \"y\": [-0.7173241650218477, -1.1100493957668478, -3.540719953464845, -1.2838801668794901, -0.923588715099014, \"\", \"\", -1.1206549006810527, \"\", \"\", \"\", \"\", \"\", \"\", \"\", -1.6652823271949546, -0.5382899264117886, \"\", -0.4017608113915147, \"\", \"\", \"\", \"\", -1.8522360574036991, -0.10039808585861953, -0.08474517430758066, -1.5988238078629087, \"\", -0.6631898454458791, -1.1950624632520244, -2.3822052806720215, \"\", \"\", -0.6423258599388197, -0.8357735174018555, \"\", -1.2313393894937619, \"\", \"\", -1.7673381774784938, \"\", -0.6081697079922708, -0.44550581002580947, \"\", -1.771725019461206, \"\", -2.2942130126349336, -0.7668020114658514, \"\", -1.829480833555207, \"\", -1.0521637887372033, \"\", \"\", \"\", -1.4580162812470028, -0.48132416315175525, -0.32460548747900886, -1.6175302652118972, \"\", -1.9366343909482102, \"\", \"\", -0.32459777333193734, \"\", \"\", \"\", \"\", -1.0953938420074996, -0.38852935502916947, -0.7239134621169981, \"\", \"\", -0.5188689958328152, \"\", -0.8366608805398184, -0.6235662597355272, \"\", -0.015823377971812384, \"\", \"\", -1.644029163196141, \"\", \"\", \"\", \"\", \"\", -1.3659345726058199, -1.4377917634130157, \"\", \"\", \"\", \"\", \"\", \"\", -2.0111668414908683, -1.7234566584163702, \"\", \"\", -0.4090125253008332], \"yaxis\": \"y2\"}],\n",
       "                        {\"hovermode\": \"x\", \"legend\": {\"bgcolor\": \"#F5F6F9\", \"font\": {\"color\": \"#4D5663\"}}, \"paper_bgcolor\": \"#F5F6F9\", \"plot_bgcolor\": \"#F5F6F9\", \"template\": {\"data\": {\"bar\": [{\"error_x\": {\"color\": \"#2a3f5f\"}, \"error_y\": {\"color\": \"#2a3f5f\"}, \"marker\": {\"line\": {\"color\": \"#E5ECF6\", \"width\": 0.5}}, \"type\": \"bar\"}], \"barpolar\": [{\"marker\": {\"line\": {\"color\": \"#E5ECF6\", \"width\": 0.5}}, \"type\": \"barpolar\"}], \"carpet\": [{\"aaxis\": {\"endlinecolor\": \"#2a3f5f\", \"gridcolor\": \"white\", \"linecolor\": \"white\", \"minorgridcolor\": \"white\", \"startlinecolor\": \"#2a3f5f\"}, \"baxis\": {\"endlinecolor\": \"#2a3f5f\", \"gridcolor\": \"white\", \"linecolor\": \"white\", \"minorgridcolor\": \"white\", \"startlinecolor\": \"#2a3f5f\"}, \"type\": \"carpet\"}], \"choropleth\": [{\"colorbar\": {\"outlinewidth\": 0, \"ticks\": \"\"}, \"type\": \"choropleth\"}], \"contour\": [{\"colorbar\": {\"outlinewidth\": 0, \"ticks\": \"\"}, \"colorscale\": [[0.0, \"#0d0887\"], [0.1111111111111111, \"#46039f\"], [0.2222222222222222, \"#7201a8\"], [0.3333333333333333, \"#9c179e\"], [0.4444444444444444, \"#bd3786\"], [0.5555555555555556, \"#d8576b\"], [0.6666666666666666, \"#ed7953\"], [0.7777777777777778, \"#fb9f3a\"], [0.8888888888888888, \"#fdca26\"], [1.0, \"#f0f921\"]], \"type\": \"contour\"}], \"contourcarpet\": [{\"colorbar\": {\"outlinewidth\": 0, \"ticks\": \"\"}, \"type\": \"contourcarpet\"}], \"heatmap\": [{\"colorbar\": {\"outlinewidth\": 0, \"ticks\": \"\"}, \"colorscale\": [[0.0, \"#0d0887\"], [0.1111111111111111, \"#46039f\"], [0.2222222222222222, \"#7201a8\"], [0.3333333333333333, \"#9c179e\"], [0.4444444444444444, \"#bd3786\"], [0.5555555555555556, \"#d8576b\"], [0.6666666666666666, \"#ed7953\"], [0.7777777777777778, \"#fb9f3a\"], [0.8888888888888888, \"#fdca26\"], [1.0, \"#f0f921\"]], \"type\": \"heatmap\"}], \"heatmapgl\": [{\"colorbar\": {\"outlinewidth\": 0, \"ticks\": \"\"}, \"colorscale\": [[0.0, \"#0d0887\"], [0.1111111111111111, \"#46039f\"], [0.2222222222222222, \"#7201a8\"], [0.3333333333333333, \"#9c179e\"], [0.4444444444444444, \"#bd3786\"], [0.5555555555555556, \"#d8576b\"], [0.6666666666666666, \"#ed7953\"], [0.7777777777777778, \"#fb9f3a\"], [0.8888888888888888, \"#fdca26\"], [1.0, \"#f0f921\"]], \"type\": \"heatmapgl\"}], \"histogram\": [{\"marker\": {\"colorbar\": {\"outlinewidth\": 0, \"ticks\": \"\"}}, \"type\": \"histogram\"}], \"histogram2d\": [{\"colorbar\": {\"outlinewidth\": 0, \"ticks\": \"\"}, \"colorscale\": [[0.0, \"#0d0887\"], [0.1111111111111111, \"#46039f\"], [0.2222222222222222, \"#7201a8\"], [0.3333333333333333, \"#9c179e\"], [0.4444444444444444, \"#bd3786\"], [0.5555555555555556, \"#d8576b\"], [0.6666666666666666, \"#ed7953\"], [0.7777777777777778, \"#fb9f3a\"], [0.8888888888888888, \"#fdca26\"], [1.0, \"#f0f921\"]], \"type\": \"histogram2d\"}], \"histogram2dcontour\": [{\"colorbar\": {\"outlinewidth\": 0, \"ticks\": \"\"}, \"colorscale\": [[0.0, \"#0d0887\"], [0.1111111111111111, \"#46039f\"], [0.2222222222222222, \"#7201a8\"], [0.3333333333333333, \"#9c179e\"], [0.4444444444444444, \"#bd3786\"], [0.5555555555555556, \"#d8576b\"], [0.6666666666666666, \"#ed7953\"], [0.7777777777777778, \"#fb9f3a\"], [0.8888888888888888, \"#fdca26\"], [1.0, \"#f0f921\"]], \"type\": \"histogram2dcontour\"}], \"mesh3d\": [{\"colorbar\": {\"outlinewidth\": 0, \"ticks\": \"\"}, \"type\": \"mesh3d\"}], \"parcoords\": [{\"line\": {\"colorbar\": {\"outlinewidth\": 0, \"ticks\": \"\"}}, \"type\": \"parcoords\"}], \"pie\": [{\"automargin\": true, \"type\": \"pie\"}], \"scatter\": [{\"marker\": {\"colorbar\": {\"outlinewidth\": 0, \"ticks\": \"\"}}, \"type\": \"scatter\"}], \"scatter3d\": [{\"line\": {\"colorbar\": {\"outlinewidth\": 0, \"ticks\": \"\"}}, \"marker\": {\"colorbar\": {\"outlinewidth\": 0, \"ticks\": \"\"}}, \"type\": \"scatter3d\"}], \"scattercarpet\": [{\"marker\": {\"colorbar\": {\"outlinewidth\": 0, \"ticks\": \"\"}}, \"type\": \"scattercarpet\"}], \"scattergeo\": [{\"marker\": {\"colorbar\": {\"outlinewidth\": 0, \"ticks\": \"\"}}, \"type\": \"scattergeo\"}], \"scattergl\": [{\"marker\": {\"colorbar\": {\"outlinewidth\": 0, \"ticks\": \"\"}}, \"type\": \"scattergl\"}], \"scattermapbox\": [{\"marker\": {\"colorbar\": {\"outlinewidth\": 0, \"ticks\": \"\"}}, \"type\": \"scattermapbox\"}], \"scatterpolar\": [{\"marker\": {\"colorbar\": {\"outlinewidth\": 0, \"ticks\": \"\"}}, \"type\": \"scatterpolar\"}], \"scatterpolargl\": [{\"marker\": {\"colorbar\": {\"outlinewidth\": 0, \"ticks\": \"\"}}, \"type\": \"scatterpolargl\"}], \"scatterternary\": [{\"marker\": {\"colorbar\": {\"outlinewidth\": 0, \"ticks\": \"\"}}, \"type\": \"scatterternary\"}], \"surface\": [{\"colorbar\": {\"outlinewidth\": 0, \"ticks\": \"\"}, \"colorscale\": [[0.0, \"#0d0887\"], [0.1111111111111111, \"#46039f\"], [0.2222222222222222, \"#7201a8\"], [0.3333333333333333, \"#9c179e\"], [0.4444444444444444, \"#bd3786\"], [0.5555555555555556, \"#d8576b\"], [0.6666666666666666, \"#ed7953\"], [0.7777777777777778, \"#fb9f3a\"], [0.8888888888888888, \"#fdca26\"], [1.0, \"#f0f921\"]], \"type\": \"surface\"}], \"table\": [{\"cells\": {\"fill\": {\"color\": \"#EBF0F8\"}, \"line\": {\"color\": \"white\"}}, \"header\": {\"fill\": {\"color\": \"#C8D4E3\"}, \"line\": {\"color\": \"white\"}}, \"type\": \"table\"}]}, \"layout\": {\"annotationdefaults\": {\"arrowcolor\": \"#2a3f5f\", \"arrowhead\": 0, \"arrowwidth\": 1}, \"coloraxis\": {\"colorbar\": {\"outlinewidth\": 0, \"ticks\": \"\"}}, \"colorscale\": {\"diverging\": [[0, \"#8e0152\"], [0.1, \"#c51b7d\"], [0.2, \"#de77ae\"], [0.3, \"#f1b6da\"], [0.4, \"#fde0ef\"], [0.5, \"#f7f7f7\"], [0.6, \"#e6f5d0\"], [0.7, \"#b8e186\"], [0.8, \"#7fbc41\"], [0.9, \"#4d9221\"], [1, \"#276419\"]], \"sequential\": [[0.0, \"#0d0887\"], [0.1111111111111111, \"#46039f\"], [0.2222222222222222, \"#7201a8\"], [0.3333333333333333, \"#9c179e\"], [0.4444444444444444, \"#bd3786\"], [0.5555555555555556, \"#d8576b\"], [0.6666666666666666, \"#ed7953\"], [0.7777777777777778, \"#fb9f3a\"], [0.8888888888888888, \"#fdca26\"], [1.0, \"#f0f921\"]], \"sequentialminus\": [[0.0, \"#0d0887\"], [0.1111111111111111, \"#46039f\"], [0.2222222222222222, \"#7201a8\"], [0.3333333333333333, \"#9c179e\"], [0.4444444444444444, \"#bd3786\"], [0.5555555555555556, \"#d8576b\"], [0.6666666666666666, \"#ed7953\"], [0.7777777777777778, \"#fb9f3a\"], [0.8888888888888888, \"#fdca26\"], [1.0, \"#f0f921\"]]}, \"colorway\": [\"#636efa\", \"#EF553B\", \"#00cc96\", \"#ab63fa\", \"#FFA15A\", \"#19d3f3\", \"#FF6692\", \"#B6E880\", \"#FF97FF\", \"#FECB52\"], \"font\": {\"color\": \"#2a3f5f\"}, \"geo\": {\"bgcolor\": \"white\", \"lakecolor\": \"white\", \"landcolor\": \"#E5ECF6\", \"showlakes\": true, \"showland\": true, \"subunitcolor\": \"white\"}, \"hoverlabel\": {\"align\": \"left\"}, \"hovermode\": \"closest\", \"mapbox\": {\"style\": \"light\"}, \"paper_bgcolor\": \"white\", \"plot_bgcolor\": \"#E5ECF6\", \"polar\": {\"angularaxis\": {\"gridcolor\": \"white\", \"linecolor\": \"white\", \"ticks\": \"\"}, \"bgcolor\": \"#E5ECF6\", \"radialaxis\": {\"gridcolor\": \"white\", \"linecolor\": \"white\", \"ticks\": \"\"}}, \"scene\": {\"xaxis\": {\"backgroundcolor\": \"#E5ECF6\", \"gridcolor\": \"white\", \"gridwidth\": 2, \"linecolor\": \"white\", \"showbackground\": true, \"ticks\": \"\", \"zerolinecolor\": \"white\"}, \"yaxis\": {\"backgroundcolor\": \"#E5ECF6\", \"gridcolor\": \"white\", \"gridwidth\": 2, \"linecolor\": \"white\", \"showbackground\": true, \"ticks\": \"\", \"zerolinecolor\": \"white\"}, \"zaxis\": {\"backgroundcolor\": \"#E5ECF6\", \"gridcolor\": \"white\", \"gridwidth\": 2, \"linecolor\": \"white\", \"showbackground\": true, \"ticks\": \"\", \"zerolinecolor\": \"white\"}}, \"shapedefaults\": {\"line\": {\"color\": \"#2a3f5f\"}}, \"ternary\": {\"aaxis\": {\"gridcolor\": \"white\", \"linecolor\": \"white\", \"ticks\": \"\"}, \"baxis\": {\"gridcolor\": \"white\", \"linecolor\": \"white\", \"ticks\": \"\"}, \"bgcolor\": \"#E5ECF6\", \"caxis\": {\"gridcolor\": \"white\", \"linecolor\": \"white\", \"ticks\": \"\"}}, \"title\": {\"x\": 0.05}, \"xaxis\": {\"automargin\": true, \"gridcolor\": \"white\", \"linecolor\": \"white\", \"ticks\": \"\", \"title\": {\"standoff\": 15}, \"zerolinecolor\": \"white\", \"zerolinewidth\": 2}, \"yaxis\": {\"automargin\": true, \"gridcolor\": \"white\", \"linecolor\": \"white\", \"ticks\": \"\", \"title\": {\"standoff\": 15}, \"zerolinecolor\": \"white\", \"zerolinewidth\": 2}}}, \"title\": {\"font\": {\"color\": \"#4D5663\"}}, \"xaxis\": {\"gridcolor\": \"#E1E5ED\", \"showgrid\": true, \"tickfont\": {\"color\": \"#4D5663\"}, \"title\": {\"font\": {\"color\": \"#4D5663\"}, \"text\": \"\"}, \"zerolinecolor\": \"#E1E5ED\"}, \"xaxis2\": {\"anchor\": \"y2\", \"gridcolor\": \"#E1E5ED\", \"showgrid\": true, \"showticklabels\": false, \"tickfont\": {\"color\": \"#4D5663\"}, \"title\": {\"font\": {\"color\": \"#4D5663\"}, \"text\": \"\"}, \"zerolinecolor\": \"#E1E5ED\"}, \"yaxis\": {\"domain\": [0.3, 1], \"gridcolor\": \"#E1E5ED\", \"showgrid\": true, \"tickfont\": {\"color\": \"#4D5663\"}, \"title\": {\"font\": {\"color\": \"#4D5663\"}, \"text\": \"\"}, \"zerolinecolor\": \"#E1E5ED\"}, \"yaxis2\": {\"domain\": [0, 0.25], \"gridcolor\": \"#E1E5ED\", \"showgrid\": true, \"tickfont\": {\"color\": \"#4D5663\"}, \"title\": {\"font\": {\"color\": \"#4D5663\"}, \"text\": \"Spread\"}, \"zerolinecolor\": \"#E1E5ED\"}},\n",
       "                        {\"showLink\": true, \"linkText\": \"Export to plot.ly\", \"plotlyServerURL\": \"https://plot.ly\", \"responsive\": true}\n",
       "                    ).then(function(){\n",
       "                            \n",
       "var gd = document.getElementById('0043b86a-3dca-4d6c-921e-cb40f3ab76be');\n",
       "var x = new MutationObserver(function (mutations, observer) {{\n",
       "        var display = window.getComputedStyle(gd).display;\n",
       "        if (!display || display === 'none') {{\n",
       "            console.log([gd, 'removed!']);\n",
       "            Plotly.purge(gd);\n",
       "            observer.disconnect();\n",
       "        }}\n",
       "}});\n",
       "\n",
       "// Listen for the removal of the full notebook cells\n",
       "var notebookContainer = gd.closest('#notebook-container');\n",
       "if (notebookContainer) {{\n",
       "    x.observe(notebookContainer, {childList: true});\n",
       "}}\n",
       "\n",
       "// Listen for the clearing of the current output cell\n",
       "var outputEl = gd.closest('.output');\n",
       "if (outputEl) {{\n",
       "    x.observe(outputEl, {childList: true});\n",
       "}}\n",
       "\n",
       "                        })\n",
       "                };\n",
       "                });\n",
       "            </script>\n",
       "        </div>"
      ]
     },
     "metadata": {},
     "output_type": "display_data"
    }
   ],
   "source": [
    "df[['A','B']].iplot(kind='spread')"
   ]
  },
  {
   "cell_type": "markdown",
   "metadata": {},
   "source": [
    "## histogram"
   ]
  },
  {
   "cell_type": "code",
   "execution_count": 33,
   "metadata": {},
   "outputs": [
    {
     "data": {
      "application/vnd.plotly.v1+json": {
       "config": {
        "linkText": "Export to plot.ly",
        "plotlyServerURL": "https://plot.ly",
        "showLink": true
       },
       "data": [
        {
         "histfunc": "count",
         "histnorm": "",
         "marker": {
          "color": "rgba(255, 153, 51, 1.0)",
          "line": {
           "color": "#4D5663",
           "width": 1.3
          }
         },
         "name": "A",
         "nbinsx": 25,
         "opacity": 0.8,
         "orientation": "v",
         "type": "histogram",
         "x": [
          -0.8224878330406368,
          -0.10471106442069328,
          -2.769584391084238,
          -2.2424162672391885,
          0.490203066976595,
          2.8691407911563673,
          -0.0803435729235115,
          -0.12115858301628984,
          1.0499603993850388,
          1.1283694551511767,
          1.8380934783110614,
          0.4645233310960621,
          -0.3486835398494006,
          0.9664744927848891,
          -0.33835704495058144,
          -1.28473461375488,
          1.7985504608251153,
          1.1553157661273779,
          0.4134915078299442,
          0.7475612530709317,
          0.4201660768259774,
          0.07722115747936044,
          1.0221609726299972,
          -1.077323357084743,
          -0.34977897732417185,
          1.3733646137384052,
          -0.15833165590252143,
          1.4947517994373962,
          -0.38989674078583964,
          -0.5243134691725355,
          -1.097052749096775,
          1.054960626543361,
          1.5146706425888474,
          0.40891220981344617,
          -0.03669418351965464,
          -0.13067256359666868,
          -1.3643656789650926,
          1.3642052302623737,
          0.3013624226546742,
          -1.604831448237099,
          1.9936387069916879,
          -0.7344022390099565,
          -1.0909182813824605,
          0.7899232933086707,
          -0.7888330616466801,
          0.24423391011295395,
          -1.433561400695055,
          -0.8051710423228607,
          1.3878930883952874,
          -0.23677373547589425,
          1.4198942689724774,
          -0.8583559909421177,
          -0.5094931311348392,
          -0.29723488125835085,
          1.4666563744515433,
          -0.5961247866543091,
          0.38967071033631834,
          0.9968517939347469,
          -1.2518718953723809,
          0.25183778792382366,
          0.6679256901564015,
          0.996754273254323,
          0.12748412059035386,
          -0.3186507334386617,
          0.8058549264472583,
          0.793026285047879,
          0.2345960517139365,
          0.42175178151213183,
          -1.9211488472442586,
          0.1219224349688401,
          0.05176320596206913,
          -0.3497984577725166,
          0.456054887712555,
          0.07617950164554171,
          1.3404993482278846,
          0.14392955845017877,
          -1.138648683092966,
          1.494168391233162,
          0.029884199072675432,
          -0.10405794060352479,
          -0.28770790124207524,
          -1.4419491390038417,
          0.5682946601649805,
          0.21954096821881025,
          -0.16217288802578836,
          0.9521454603349894,
          0.13231876090108707,
          0.12117149081466017,
          -0.9367090923602004,
          1.264286886996742,
          1.9986274543811504,
          0.6872677252241897,
          0.23490617405340217,
          0.1779749622995297,
          0.20027271975265543,
          -1.7896732465301717,
          -0.38825505562436735,
          0.6518389289274054,
          1.4429880702473201,
          1.085490258313375
         ]
        }
       ],
       "layout": {
        "barmode": "overlay",
        "legend": {
         "bgcolor": "#F5F6F9",
         "font": {
          "color": "#4D5663"
         }
        },
        "paper_bgcolor": "#F5F6F9",
        "plot_bgcolor": "#F5F6F9",
        "template": {
         "data": {
          "bar": [
           {
            "error_x": {
             "color": "#2a3f5f"
            },
            "error_y": {
             "color": "#2a3f5f"
            },
            "marker": {
             "line": {
              "color": "#E5ECF6",
              "width": 0.5
             }
            },
            "type": "bar"
           }
          ],
          "barpolar": [
           {
            "marker": {
             "line": {
              "color": "#E5ECF6",
              "width": 0.5
             }
            },
            "type": "barpolar"
           }
          ],
          "carpet": [
           {
            "aaxis": {
             "endlinecolor": "#2a3f5f",
             "gridcolor": "white",
             "linecolor": "white",
             "minorgridcolor": "white",
             "startlinecolor": "#2a3f5f"
            },
            "baxis": {
             "endlinecolor": "#2a3f5f",
             "gridcolor": "white",
             "linecolor": "white",
             "minorgridcolor": "white",
             "startlinecolor": "#2a3f5f"
            },
            "type": "carpet"
           }
          ],
          "choropleth": [
           {
            "colorbar": {
             "outlinewidth": 0,
             "ticks": ""
            },
            "type": "choropleth"
           }
          ],
          "contour": [
           {
            "colorbar": {
             "outlinewidth": 0,
             "ticks": ""
            },
            "colorscale": [
             [
              0,
              "#0d0887"
             ],
             [
              0.1111111111111111,
              "#46039f"
             ],
             [
              0.2222222222222222,
              "#7201a8"
             ],
             [
              0.3333333333333333,
              "#9c179e"
             ],
             [
              0.4444444444444444,
              "#bd3786"
             ],
             [
              0.5555555555555556,
              "#d8576b"
             ],
             [
              0.6666666666666666,
              "#ed7953"
             ],
             [
              0.7777777777777778,
              "#fb9f3a"
             ],
             [
              0.8888888888888888,
              "#fdca26"
             ],
             [
              1,
              "#f0f921"
             ]
            ],
            "type": "contour"
           }
          ],
          "contourcarpet": [
           {
            "colorbar": {
             "outlinewidth": 0,
             "ticks": ""
            },
            "type": "contourcarpet"
           }
          ],
          "heatmap": [
           {
            "colorbar": {
             "outlinewidth": 0,
             "ticks": ""
            },
            "colorscale": [
             [
              0,
              "#0d0887"
             ],
             [
              0.1111111111111111,
              "#46039f"
             ],
             [
              0.2222222222222222,
              "#7201a8"
             ],
             [
              0.3333333333333333,
              "#9c179e"
             ],
             [
              0.4444444444444444,
              "#bd3786"
             ],
             [
              0.5555555555555556,
              "#d8576b"
             ],
             [
              0.6666666666666666,
              "#ed7953"
             ],
             [
              0.7777777777777778,
              "#fb9f3a"
             ],
             [
              0.8888888888888888,
              "#fdca26"
             ],
             [
              1,
              "#f0f921"
             ]
            ],
            "type": "heatmap"
           }
          ],
          "heatmapgl": [
           {
            "colorbar": {
             "outlinewidth": 0,
             "ticks": ""
            },
            "colorscale": [
             [
              0,
              "#0d0887"
             ],
             [
              0.1111111111111111,
              "#46039f"
             ],
             [
              0.2222222222222222,
              "#7201a8"
             ],
             [
              0.3333333333333333,
              "#9c179e"
             ],
             [
              0.4444444444444444,
              "#bd3786"
             ],
             [
              0.5555555555555556,
              "#d8576b"
             ],
             [
              0.6666666666666666,
              "#ed7953"
             ],
             [
              0.7777777777777778,
              "#fb9f3a"
             ],
             [
              0.8888888888888888,
              "#fdca26"
             ],
             [
              1,
              "#f0f921"
             ]
            ],
            "type": "heatmapgl"
           }
          ],
          "histogram": [
           {
            "marker": {
             "colorbar": {
              "outlinewidth": 0,
              "ticks": ""
             }
            },
            "type": "histogram"
           }
          ],
          "histogram2d": [
           {
            "colorbar": {
             "outlinewidth": 0,
             "ticks": ""
            },
            "colorscale": [
             [
              0,
              "#0d0887"
             ],
             [
              0.1111111111111111,
              "#46039f"
             ],
             [
              0.2222222222222222,
              "#7201a8"
             ],
             [
              0.3333333333333333,
              "#9c179e"
             ],
             [
              0.4444444444444444,
              "#bd3786"
             ],
             [
              0.5555555555555556,
              "#d8576b"
             ],
             [
              0.6666666666666666,
              "#ed7953"
             ],
             [
              0.7777777777777778,
              "#fb9f3a"
             ],
             [
              0.8888888888888888,
              "#fdca26"
             ],
             [
              1,
              "#f0f921"
             ]
            ],
            "type": "histogram2d"
           }
          ],
          "histogram2dcontour": [
           {
            "colorbar": {
             "outlinewidth": 0,
             "ticks": ""
            },
            "colorscale": [
             [
              0,
              "#0d0887"
             ],
             [
              0.1111111111111111,
              "#46039f"
             ],
             [
              0.2222222222222222,
              "#7201a8"
             ],
             [
              0.3333333333333333,
              "#9c179e"
             ],
             [
              0.4444444444444444,
              "#bd3786"
             ],
             [
              0.5555555555555556,
              "#d8576b"
             ],
             [
              0.6666666666666666,
              "#ed7953"
             ],
             [
              0.7777777777777778,
              "#fb9f3a"
             ],
             [
              0.8888888888888888,
              "#fdca26"
             ],
             [
              1,
              "#f0f921"
             ]
            ],
            "type": "histogram2dcontour"
           }
          ],
          "mesh3d": [
           {
            "colorbar": {
             "outlinewidth": 0,
             "ticks": ""
            },
            "type": "mesh3d"
           }
          ],
          "parcoords": [
           {
            "line": {
             "colorbar": {
              "outlinewidth": 0,
              "ticks": ""
             }
            },
            "type": "parcoords"
           }
          ],
          "pie": [
           {
            "automargin": true,
            "type": "pie"
           }
          ],
          "scatter": [
           {
            "marker": {
             "colorbar": {
              "outlinewidth": 0,
              "ticks": ""
             }
            },
            "type": "scatter"
           }
          ],
          "scatter3d": [
           {
            "line": {
             "colorbar": {
              "outlinewidth": 0,
              "ticks": ""
             }
            },
            "marker": {
             "colorbar": {
              "outlinewidth": 0,
              "ticks": ""
             }
            },
            "type": "scatter3d"
           }
          ],
          "scattercarpet": [
           {
            "marker": {
             "colorbar": {
              "outlinewidth": 0,
              "ticks": ""
             }
            },
            "type": "scattercarpet"
           }
          ],
          "scattergeo": [
           {
            "marker": {
             "colorbar": {
              "outlinewidth": 0,
              "ticks": ""
             }
            },
            "type": "scattergeo"
           }
          ],
          "scattergl": [
           {
            "marker": {
             "colorbar": {
              "outlinewidth": 0,
              "ticks": ""
             }
            },
            "type": "scattergl"
           }
          ],
          "scattermapbox": [
           {
            "marker": {
             "colorbar": {
              "outlinewidth": 0,
              "ticks": ""
             }
            },
            "type": "scattermapbox"
           }
          ],
          "scatterpolar": [
           {
            "marker": {
             "colorbar": {
              "outlinewidth": 0,
              "ticks": ""
             }
            },
            "type": "scatterpolar"
           }
          ],
          "scatterpolargl": [
           {
            "marker": {
             "colorbar": {
              "outlinewidth": 0,
              "ticks": ""
             }
            },
            "type": "scatterpolargl"
           }
          ],
          "scatterternary": [
           {
            "marker": {
             "colorbar": {
              "outlinewidth": 0,
              "ticks": ""
             }
            },
            "type": "scatterternary"
           }
          ],
          "surface": [
           {
            "colorbar": {
             "outlinewidth": 0,
             "ticks": ""
            },
            "colorscale": [
             [
              0,
              "#0d0887"
             ],
             [
              0.1111111111111111,
              "#46039f"
             ],
             [
              0.2222222222222222,
              "#7201a8"
             ],
             [
              0.3333333333333333,
              "#9c179e"
             ],
             [
              0.4444444444444444,
              "#bd3786"
             ],
             [
              0.5555555555555556,
              "#d8576b"
             ],
             [
              0.6666666666666666,
              "#ed7953"
             ],
             [
              0.7777777777777778,
              "#fb9f3a"
             ],
             [
              0.8888888888888888,
              "#fdca26"
             ],
             [
              1,
              "#f0f921"
             ]
            ],
            "type": "surface"
           }
          ],
          "table": [
           {
            "cells": {
             "fill": {
              "color": "#EBF0F8"
             },
             "line": {
              "color": "white"
             }
            },
            "header": {
             "fill": {
              "color": "#C8D4E3"
             },
             "line": {
              "color": "white"
             }
            },
            "type": "table"
           }
          ]
         },
         "layout": {
          "annotationdefaults": {
           "arrowcolor": "#2a3f5f",
           "arrowhead": 0,
           "arrowwidth": 1
          },
          "coloraxis": {
           "colorbar": {
            "outlinewidth": 0,
            "ticks": ""
           }
          },
          "colorscale": {
           "diverging": [
            [
             0,
             "#8e0152"
            ],
            [
             0.1,
             "#c51b7d"
            ],
            [
             0.2,
             "#de77ae"
            ],
            [
             0.3,
             "#f1b6da"
            ],
            [
             0.4,
             "#fde0ef"
            ],
            [
             0.5,
             "#f7f7f7"
            ],
            [
             0.6,
             "#e6f5d0"
            ],
            [
             0.7,
             "#b8e186"
            ],
            [
             0.8,
             "#7fbc41"
            ],
            [
             0.9,
             "#4d9221"
            ],
            [
             1,
             "#276419"
            ]
           ],
           "sequential": [
            [
             0,
             "#0d0887"
            ],
            [
             0.1111111111111111,
             "#46039f"
            ],
            [
             0.2222222222222222,
             "#7201a8"
            ],
            [
             0.3333333333333333,
             "#9c179e"
            ],
            [
             0.4444444444444444,
             "#bd3786"
            ],
            [
             0.5555555555555556,
             "#d8576b"
            ],
            [
             0.6666666666666666,
             "#ed7953"
            ],
            [
             0.7777777777777778,
             "#fb9f3a"
            ],
            [
             0.8888888888888888,
             "#fdca26"
            ],
            [
             1,
             "#f0f921"
            ]
           ],
           "sequentialminus": [
            [
             0,
             "#0d0887"
            ],
            [
             0.1111111111111111,
             "#46039f"
            ],
            [
             0.2222222222222222,
             "#7201a8"
            ],
            [
             0.3333333333333333,
             "#9c179e"
            ],
            [
             0.4444444444444444,
             "#bd3786"
            ],
            [
             0.5555555555555556,
             "#d8576b"
            ],
            [
             0.6666666666666666,
             "#ed7953"
            ],
            [
             0.7777777777777778,
             "#fb9f3a"
            ],
            [
             0.8888888888888888,
             "#fdca26"
            ],
            [
             1,
             "#f0f921"
            ]
           ]
          },
          "colorway": [
           "#636efa",
           "#EF553B",
           "#00cc96",
           "#ab63fa",
           "#FFA15A",
           "#19d3f3",
           "#FF6692",
           "#B6E880",
           "#FF97FF",
           "#FECB52"
          ],
          "font": {
           "color": "#2a3f5f"
          },
          "geo": {
           "bgcolor": "white",
           "lakecolor": "white",
           "landcolor": "#E5ECF6",
           "showlakes": true,
           "showland": true,
           "subunitcolor": "white"
          },
          "hoverlabel": {
           "align": "left"
          },
          "hovermode": "closest",
          "mapbox": {
           "style": "light"
          },
          "paper_bgcolor": "white",
          "plot_bgcolor": "#E5ECF6",
          "polar": {
           "angularaxis": {
            "gridcolor": "white",
            "linecolor": "white",
            "ticks": ""
           },
           "bgcolor": "#E5ECF6",
           "radialaxis": {
            "gridcolor": "white",
            "linecolor": "white",
            "ticks": ""
           }
          },
          "scene": {
           "xaxis": {
            "backgroundcolor": "#E5ECF6",
            "gridcolor": "white",
            "gridwidth": 2,
            "linecolor": "white",
            "showbackground": true,
            "ticks": "",
            "zerolinecolor": "white"
           },
           "yaxis": {
            "backgroundcolor": "#E5ECF6",
            "gridcolor": "white",
            "gridwidth": 2,
            "linecolor": "white",
            "showbackground": true,
            "ticks": "",
            "zerolinecolor": "white"
           },
           "zaxis": {
            "backgroundcolor": "#E5ECF6",
            "gridcolor": "white",
            "gridwidth": 2,
            "linecolor": "white",
            "showbackground": true,
            "ticks": "",
            "zerolinecolor": "white"
           }
          },
          "shapedefaults": {
           "line": {
            "color": "#2a3f5f"
           }
          },
          "ternary": {
           "aaxis": {
            "gridcolor": "white",
            "linecolor": "white",
            "ticks": ""
           },
           "baxis": {
            "gridcolor": "white",
            "linecolor": "white",
            "ticks": ""
           },
           "bgcolor": "#E5ECF6",
           "caxis": {
            "gridcolor": "white",
            "linecolor": "white",
            "ticks": ""
           }
          },
          "title": {
           "x": 0.05
          },
          "xaxis": {
           "automargin": true,
           "gridcolor": "white",
           "linecolor": "white",
           "ticks": "",
           "title": {
            "standoff": 15
           },
           "zerolinecolor": "white",
           "zerolinewidth": 2
          },
          "yaxis": {
           "automargin": true,
           "gridcolor": "white",
           "linecolor": "white",
           "ticks": "",
           "title": {
            "standoff": 15
           },
           "zerolinecolor": "white",
           "zerolinewidth": 2
          }
         }
        },
        "title": {
         "font": {
          "color": "#4D5663"
         }
        },
        "xaxis": {
         "gridcolor": "#E1E5ED",
         "showgrid": true,
         "tickfont": {
          "color": "#4D5663"
         },
         "title": {
          "font": {
           "color": "#4D5663"
          },
          "text": ""
         },
         "zerolinecolor": "#E1E5ED"
        },
        "yaxis": {
         "gridcolor": "#E1E5ED",
         "showgrid": true,
         "tickfont": {
          "color": "#4D5663"
         },
         "title": {
          "font": {
           "color": "#4D5663"
          },
          "text": ""
         },
         "zerolinecolor": "#E1E5ED"
        }
       }
      },
      "text/html": [
       "<div>\n",
       "        \n",
       "        \n",
       "            <div id=\"03c0ef86-2ee1-4a00-903a-475f05adcc23\" class=\"plotly-graph-div\" style=\"height:525px; width:100%;\"></div>\n",
       "            <script type=\"text/javascript\">\n",
       "                require([\"plotly\"], function(Plotly) {\n",
       "                    window.PLOTLYENV=window.PLOTLYENV || {};\n",
       "                    window.PLOTLYENV.BASE_URL='https://plot.ly';\n",
       "                    \n",
       "                if (document.getElementById(\"03c0ef86-2ee1-4a00-903a-475f05adcc23\")) {\n",
       "                    Plotly.newPlot(\n",
       "                        '03c0ef86-2ee1-4a00-903a-475f05adcc23',\n",
       "                        [{\"histfunc\": \"count\", \"histnorm\": \"\", \"marker\": {\"color\": \"rgba(255, 153, 51, 1.0)\", \"line\": {\"color\": \"#4D5663\", \"width\": 1.3}}, \"name\": \"A\", \"nbinsx\": 25, \"opacity\": 0.8, \"orientation\": \"v\", \"type\": \"histogram\", \"x\": [-0.8224878330406368, -0.10471106442069328, -2.769584391084238, -2.2424162672391885, 0.490203066976595, 2.8691407911563673, -0.0803435729235115, -0.12115858301628984, 1.0499603993850388, 1.1283694551511767, 1.8380934783110614, 0.4645233310960621, -0.3486835398494006, 0.9664744927848891, -0.33835704495058144, -1.28473461375488, 1.7985504608251153, 1.1553157661273779, 0.4134915078299442, 0.7475612530709317, 0.4201660768259774, 0.07722115747936044, 1.0221609726299972, -1.077323357084743, -0.34977897732417185, 1.3733646137384052, -0.15833165590252143, 1.4947517994373962, -0.38989674078583964, -0.5243134691725355, -1.097052749096775, 1.054960626543361, 1.5146706425888474, 0.40891220981344617, -0.03669418351965464, -0.13067256359666868, -1.3643656789650926, 1.3642052302623737, 0.3013624226546742, -1.604831448237099, 1.9936387069916879, -0.7344022390099565, -1.0909182813824605, 0.7899232933086707, -0.7888330616466801, 0.24423391011295395, -1.433561400695055, -0.8051710423228607, 1.3878930883952874, -0.23677373547589425, 1.4198942689724774, -0.8583559909421177, -0.5094931311348392, -0.29723488125835085, 1.4666563744515433, -0.5961247866543091, 0.38967071033631834, 0.9968517939347469, -1.2518718953723809, 0.25183778792382366, 0.6679256901564015, 0.996754273254323, 0.12748412059035386, -0.3186507334386617, 0.8058549264472583, 0.793026285047879, 0.2345960517139365, 0.42175178151213183, -1.9211488472442586, 0.1219224349688401, 0.05176320596206913, -0.3497984577725166, 0.456054887712555, 0.07617950164554171, 1.3404993482278846, 0.14392955845017877, -1.138648683092966, 1.494168391233162, 0.029884199072675432, -0.10405794060352479, -0.28770790124207524, -1.4419491390038417, 0.5682946601649805, 0.21954096821881025, -0.16217288802578836, 0.9521454603349894, 0.13231876090108707, 0.12117149081466017, -0.9367090923602004, 1.264286886996742, 1.9986274543811504, 0.6872677252241897, 0.23490617405340217, 0.1779749622995297, 0.20027271975265543, -1.7896732465301717, -0.38825505562436735, 0.6518389289274054, 1.4429880702473201, 1.085490258313375]}],\n",
       "                        {\"barmode\": \"overlay\", \"legend\": {\"bgcolor\": \"#F5F6F9\", \"font\": {\"color\": \"#4D5663\"}}, \"paper_bgcolor\": \"#F5F6F9\", \"plot_bgcolor\": \"#F5F6F9\", \"template\": {\"data\": {\"bar\": [{\"error_x\": {\"color\": \"#2a3f5f\"}, \"error_y\": {\"color\": \"#2a3f5f\"}, \"marker\": {\"line\": {\"color\": \"#E5ECF6\", \"width\": 0.5}}, \"type\": \"bar\"}], \"barpolar\": [{\"marker\": {\"line\": {\"color\": \"#E5ECF6\", \"width\": 0.5}}, \"type\": \"barpolar\"}], \"carpet\": [{\"aaxis\": {\"endlinecolor\": \"#2a3f5f\", \"gridcolor\": \"white\", \"linecolor\": \"white\", \"minorgridcolor\": \"white\", \"startlinecolor\": \"#2a3f5f\"}, \"baxis\": {\"endlinecolor\": \"#2a3f5f\", \"gridcolor\": \"white\", \"linecolor\": \"white\", \"minorgridcolor\": \"white\", \"startlinecolor\": \"#2a3f5f\"}, \"type\": \"carpet\"}], \"choropleth\": [{\"colorbar\": {\"outlinewidth\": 0, \"ticks\": \"\"}, \"type\": \"choropleth\"}], \"contour\": [{\"colorbar\": {\"outlinewidth\": 0, \"ticks\": \"\"}, \"colorscale\": [[0.0, \"#0d0887\"], [0.1111111111111111, \"#46039f\"], [0.2222222222222222, \"#7201a8\"], [0.3333333333333333, \"#9c179e\"], [0.4444444444444444, \"#bd3786\"], [0.5555555555555556, \"#d8576b\"], [0.6666666666666666, \"#ed7953\"], [0.7777777777777778, \"#fb9f3a\"], [0.8888888888888888, \"#fdca26\"], [1.0, \"#f0f921\"]], \"type\": \"contour\"}], \"contourcarpet\": [{\"colorbar\": {\"outlinewidth\": 0, \"ticks\": \"\"}, \"type\": \"contourcarpet\"}], \"heatmap\": [{\"colorbar\": {\"outlinewidth\": 0, \"ticks\": \"\"}, \"colorscale\": [[0.0, \"#0d0887\"], [0.1111111111111111, \"#46039f\"], [0.2222222222222222, \"#7201a8\"], [0.3333333333333333, \"#9c179e\"], [0.4444444444444444, \"#bd3786\"], [0.5555555555555556, \"#d8576b\"], [0.6666666666666666, \"#ed7953\"], [0.7777777777777778, \"#fb9f3a\"], [0.8888888888888888, \"#fdca26\"], [1.0, \"#f0f921\"]], \"type\": \"heatmap\"}], \"heatmapgl\": [{\"colorbar\": {\"outlinewidth\": 0, \"ticks\": \"\"}, \"colorscale\": [[0.0, \"#0d0887\"], [0.1111111111111111, \"#46039f\"], [0.2222222222222222, \"#7201a8\"], [0.3333333333333333, \"#9c179e\"], [0.4444444444444444, \"#bd3786\"], [0.5555555555555556, \"#d8576b\"], [0.6666666666666666, \"#ed7953\"], [0.7777777777777778, \"#fb9f3a\"], [0.8888888888888888, \"#fdca26\"], [1.0, \"#f0f921\"]], \"type\": \"heatmapgl\"}], \"histogram\": [{\"marker\": {\"colorbar\": {\"outlinewidth\": 0, \"ticks\": \"\"}}, \"type\": \"histogram\"}], \"histogram2d\": [{\"colorbar\": {\"outlinewidth\": 0, \"ticks\": \"\"}, \"colorscale\": [[0.0, \"#0d0887\"], [0.1111111111111111, \"#46039f\"], [0.2222222222222222, \"#7201a8\"], [0.3333333333333333, \"#9c179e\"], [0.4444444444444444, \"#bd3786\"], [0.5555555555555556, \"#d8576b\"], [0.6666666666666666, \"#ed7953\"], [0.7777777777777778, \"#fb9f3a\"], [0.8888888888888888, \"#fdca26\"], [1.0, \"#f0f921\"]], \"type\": \"histogram2d\"}], \"histogram2dcontour\": [{\"colorbar\": {\"outlinewidth\": 0, \"ticks\": \"\"}, \"colorscale\": [[0.0, \"#0d0887\"], [0.1111111111111111, \"#46039f\"], [0.2222222222222222, \"#7201a8\"], [0.3333333333333333, \"#9c179e\"], [0.4444444444444444, \"#bd3786\"], [0.5555555555555556, \"#d8576b\"], [0.6666666666666666, \"#ed7953\"], [0.7777777777777778, \"#fb9f3a\"], [0.8888888888888888, \"#fdca26\"], [1.0, \"#f0f921\"]], \"type\": \"histogram2dcontour\"}], \"mesh3d\": [{\"colorbar\": {\"outlinewidth\": 0, \"ticks\": \"\"}, \"type\": \"mesh3d\"}], \"parcoords\": [{\"line\": {\"colorbar\": {\"outlinewidth\": 0, \"ticks\": \"\"}}, \"type\": \"parcoords\"}], \"pie\": [{\"automargin\": true, \"type\": \"pie\"}], \"scatter\": [{\"marker\": {\"colorbar\": {\"outlinewidth\": 0, \"ticks\": \"\"}}, \"type\": \"scatter\"}], \"scatter3d\": [{\"line\": {\"colorbar\": {\"outlinewidth\": 0, \"ticks\": \"\"}}, \"marker\": {\"colorbar\": {\"outlinewidth\": 0, \"ticks\": \"\"}}, \"type\": \"scatter3d\"}], \"scattercarpet\": [{\"marker\": {\"colorbar\": {\"outlinewidth\": 0, \"ticks\": \"\"}}, \"type\": \"scattercarpet\"}], \"scattergeo\": [{\"marker\": {\"colorbar\": {\"outlinewidth\": 0, \"ticks\": \"\"}}, \"type\": \"scattergeo\"}], \"scattergl\": [{\"marker\": {\"colorbar\": {\"outlinewidth\": 0, \"ticks\": \"\"}}, \"type\": \"scattergl\"}], \"scattermapbox\": [{\"marker\": {\"colorbar\": {\"outlinewidth\": 0, \"ticks\": \"\"}}, \"type\": \"scattermapbox\"}], \"scatterpolar\": [{\"marker\": {\"colorbar\": {\"outlinewidth\": 0, \"ticks\": \"\"}}, \"type\": \"scatterpolar\"}], \"scatterpolargl\": [{\"marker\": {\"colorbar\": {\"outlinewidth\": 0, \"ticks\": \"\"}}, \"type\": \"scatterpolargl\"}], \"scatterternary\": [{\"marker\": {\"colorbar\": {\"outlinewidth\": 0, \"ticks\": \"\"}}, \"type\": \"scatterternary\"}], \"surface\": [{\"colorbar\": {\"outlinewidth\": 0, \"ticks\": \"\"}, \"colorscale\": [[0.0, \"#0d0887\"], [0.1111111111111111, \"#46039f\"], [0.2222222222222222, \"#7201a8\"], [0.3333333333333333, \"#9c179e\"], [0.4444444444444444, \"#bd3786\"], [0.5555555555555556, \"#d8576b\"], [0.6666666666666666, \"#ed7953\"], [0.7777777777777778, \"#fb9f3a\"], [0.8888888888888888, \"#fdca26\"], [1.0, \"#f0f921\"]], \"type\": \"surface\"}], \"table\": [{\"cells\": {\"fill\": {\"color\": \"#EBF0F8\"}, \"line\": {\"color\": \"white\"}}, \"header\": {\"fill\": {\"color\": \"#C8D4E3\"}, \"line\": {\"color\": \"white\"}}, \"type\": \"table\"}]}, \"layout\": {\"annotationdefaults\": {\"arrowcolor\": \"#2a3f5f\", \"arrowhead\": 0, \"arrowwidth\": 1}, \"coloraxis\": {\"colorbar\": {\"outlinewidth\": 0, \"ticks\": \"\"}}, \"colorscale\": {\"diverging\": [[0, \"#8e0152\"], [0.1, \"#c51b7d\"], [0.2, \"#de77ae\"], [0.3, \"#f1b6da\"], [0.4, \"#fde0ef\"], [0.5, \"#f7f7f7\"], [0.6, \"#e6f5d0\"], [0.7, \"#b8e186\"], [0.8, \"#7fbc41\"], [0.9, \"#4d9221\"], [1, \"#276419\"]], \"sequential\": [[0.0, \"#0d0887\"], [0.1111111111111111, \"#46039f\"], [0.2222222222222222, \"#7201a8\"], [0.3333333333333333, \"#9c179e\"], [0.4444444444444444, \"#bd3786\"], [0.5555555555555556, \"#d8576b\"], [0.6666666666666666, \"#ed7953\"], [0.7777777777777778, \"#fb9f3a\"], [0.8888888888888888, \"#fdca26\"], [1.0, \"#f0f921\"]], \"sequentialminus\": [[0.0, \"#0d0887\"], [0.1111111111111111, \"#46039f\"], [0.2222222222222222, \"#7201a8\"], [0.3333333333333333, \"#9c179e\"], [0.4444444444444444, \"#bd3786\"], [0.5555555555555556, \"#d8576b\"], [0.6666666666666666, \"#ed7953\"], [0.7777777777777778, \"#fb9f3a\"], [0.8888888888888888, \"#fdca26\"], [1.0, \"#f0f921\"]]}, \"colorway\": [\"#636efa\", \"#EF553B\", \"#00cc96\", \"#ab63fa\", \"#FFA15A\", \"#19d3f3\", \"#FF6692\", \"#B6E880\", \"#FF97FF\", \"#FECB52\"], \"font\": {\"color\": \"#2a3f5f\"}, \"geo\": {\"bgcolor\": \"white\", \"lakecolor\": \"white\", \"landcolor\": \"#E5ECF6\", \"showlakes\": true, \"showland\": true, \"subunitcolor\": \"white\"}, \"hoverlabel\": {\"align\": \"left\"}, \"hovermode\": \"closest\", \"mapbox\": {\"style\": \"light\"}, \"paper_bgcolor\": \"white\", \"plot_bgcolor\": \"#E5ECF6\", \"polar\": {\"angularaxis\": {\"gridcolor\": \"white\", \"linecolor\": \"white\", \"ticks\": \"\"}, \"bgcolor\": \"#E5ECF6\", \"radialaxis\": {\"gridcolor\": \"white\", \"linecolor\": \"white\", \"ticks\": \"\"}}, \"scene\": {\"xaxis\": {\"backgroundcolor\": \"#E5ECF6\", \"gridcolor\": \"white\", \"gridwidth\": 2, \"linecolor\": \"white\", \"showbackground\": true, \"ticks\": \"\", \"zerolinecolor\": \"white\"}, \"yaxis\": {\"backgroundcolor\": \"#E5ECF6\", \"gridcolor\": \"white\", \"gridwidth\": 2, \"linecolor\": \"white\", \"showbackground\": true, \"ticks\": \"\", \"zerolinecolor\": \"white\"}, \"zaxis\": {\"backgroundcolor\": \"#E5ECF6\", \"gridcolor\": \"white\", \"gridwidth\": 2, \"linecolor\": \"white\", \"showbackground\": true, \"ticks\": \"\", \"zerolinecolor\": \"white\"}}, \"shapedefaults\": {\"line\": {\"color\": \"#2a3f5f\"}}, \"ternary\": {\"aaxis\": {\"gridcolor\": \"white\", \"linecolor\": \"white\", \"ticks\": \"\"}, \"baxis\": {\"gridcolor\": \"white\", \"linecolor\": \"white\", \"ticks\": \"\"}, \"bgcolor\": \"#E5ECF6\", \"caxis\": {\"gridcolor\": \"white\", \"linecolor\": \"white\", \"ticks\": \"\"}}, \"title\": {\"x\": 0.05}, \"xaxis\": {\"automargin\": true, \"gridcolor\": \"white\", \"linecolor\": \"white\", \"ticks\": \"\", \"title\": {\"standoff\": 15}, \"zerolinecolor\": \"white\", \"zerolinewidth\": 2}, \"yaxis\": {\"automargin\": true, \"gridcolor\": \"white\", \"linecolor\": \"white\", \"ticks\": \"\", \"title\": {\"standoff\": 15}, \"zerolinecolor\": \"white\", \"zerolinewidth\": 2}}}, \"title\": {\"font\": {\"color\": \"#4D5663\"}}, \"xaxis\": {\"gridcolor\": \"#E1E5ED\", \"showgrid\": true, \"tickfont\": {\"color\": \"#4D5663\"}, \"title\": {\"font\": {\"color\": \"#4D5663\"}, \"text\": \"\"}, \"zerolinecolor\": \"#E1E5ED\"}, \"yaxis\": {\"gridcolor\": \"#E1E5ED\", \"showgrid\": true, \"tickfont\": {\"color\": \"#4D5663\"}, \"title\": {\"font\": {\"color\": \"#4D5663\"}, \"text\": \"\"}, \"zerolinecolor\": \"#E1E5ED\"}},\n",
       "                        {\"showLink\": true, \"linkText\": \"Export to plot.ly\", \"plotlyServerURL\": \"https://plot.ly\", \"responsive\": true}\n",
       "                    ).then(function(){\n",
       "                            \n",
       "var gd = document.getElementById('03c0ef86-2ee1-4a00-903a-475f05adcc23');\n",
       "var x = new MutationObserver(function (mutations, observer) {{\n",
       "        var display = window.getComputedStyle(gd).display;\n",
       "        if (!display || display === 'none') {{\n",
       "            console.log([gd, 'removed!']);\n",
       "            Plotly.purge(gd);\n",
       "            observer.disconnect();\n",
       "        }}\n",
       "}});\n",
       "\n",
       "// Listen for the removal of the full notebook cells\n",
       "var notebookContainer = gd.closest('#notebook-container');\n",
       "if (notebookContainer) {{\n",
       "    x.observe(notebookContainer, {childList: true});\n",
       "}}\n",
       "\n",
       "// Listen for the clearing of the current output cell\n",
       "var outputEl = gd.closest('.output');\n",
       "if (outputEl) {{\n",
       "    x.observe(outputEl, {childList: true});\n",
       "}}\n",
       "\n",
       "                        })\n",
       "                };\n",
       "                });\n",
       "            </script>\n",
       "        </div>"
      ]
     },
     "metadata": {},
     "output_type": "display_data"
    }
   ],
   "source": [
    "df['A'].iplot(kind='hist',bins=25)"
   ]
  },
  {
   "cell_type": "code",
   "execution_count": 36,
   "metadata": {},
   "outputs": [
    {
     "data": {
      "application/vnd.plotly.v1+json": {
       "config": {
        "linkText": "Export to plot.ly",
        "plotlyServerURL": "https://plot.ly",
        "showLink": true
       },
       "data": [
        {
         "histfunc": "count",
         "histnorm": "",
         "marker": {
          "color": "rgba(255, 153, 51, 1.0)",
          "line": {
           "color": "#4D5663",
           "width": 1.3
          }
         },
         "name": "A",
         "opacity": 0.8,
         "orientation": "v",
         "type": "histogram",
         "x": [
          -0.8224878330406368,
          -0.10471106442069328,
          -2.769584391084238,
          -2.2424162672391885,
          0.490203066976595,
          2.8691407911563673,
          -0.0803435729235115,
          -0.12115858301628984,
          1.0499603993850388,
          1.1283694551511767,
          1.8380934783110614,
          0.4645233310960621,
          -0.3486835398494006,
          0.9664744927848891,
          -0.33835704495058144,
          -1.28473461375488,
          1.7985504608251153,
          1.1553157661273779,
          0.4134915078299442,
          0.7475612530709317,
          0.4201660768259774,
          0.07722115747936044,
          1.0221609726299972,
          -1.077323357084743,
          -0.34977897732417185,
          1.3733646137384052,
          -0.15833165590252143,
          1.4947517994373962,
          -0.38989674078583964,
          -0.5243134691725355,
          -1.097052749096775,
          1.054960626543361,
          1.5146706425888474,
          0.40891220981344617,
          -0.03669418351965464,
          -0.13067256359666868,
          -1.3643656789650926,
          1.3642052302623737,
          0.3013624226546742,
          -1.604831448237099,
          1.9936387069916879,
          -0.7344022390099565,
          -1.0909182813824605,
          0.7899232933086707,
          -0.7888330616466801,
          0.24423391011295395,
          -1.433561400695055,
          -0.8051710423228607,
          1.3878930883952874,
          -0.23677373547589425,
          1.4198942689724774,
          -0.8583559909421177,
          -0.5094931311348392,
          -0.29723488125835085,
          1.4666563744515433,
          -0.5961247866543091,
          0.38967071033631834,
          0.9968517939347469,
          -1.2518718953723809,
          0.25183778792382366,
          0.6679256901564015,
          0.996754273254323,
          0.12748412059035386,
          -0.3186507334386617,
          0.8058549264472583,
          0.793026285047879,
          0.2345960517139365,
          0.42175178151213183,
          -1.9211488472442586,
          0.1219224349688401,
          0.05176320596206913,
          -0.3497984577725166,
          0.456054887712555,
          0.07617950164554171,
          1.3404993482278846,
          0.14392955845017877,
          -1.138648683092966,
          1.494168391233162,
          0.029884199072675432,
          -0.10405794060352479,
          -0.28770790124207524,
          -1.4419491390038417,
          0.5682946601649805,
          0.21954096821881025,
          -0.16217288802578836,
          0.9521454603349894,
          0.13231876090108707,
          0.12117149081466017,
          -0.9367090923602004,
          1.264286886996742,
          1.9986274543811504,
          0.6872677252241897,
          0.23490617405340217,
          0.1779749622995297,
          0.20027271975265543,
          -1.7896732465301717,
          -0.38825505562436735,
          0.6518389289274054,
          1.4429880702473201,
          1.085490258313375
         ]
        },
        {
         "histfunc": "count",
         "histnorm": "",
         "marker": {
          "color": "rgba(55, 128, 191, 1.0)",
          "line": {
           "color": "#4D5663",
           "width": 1.3
          }
         },
         "name": "B",
         "opacity": 0.8,
         "orientation": "v",
         "type": "histogram",
         "x": [
          -0.10516366801878904,
          1.0053383313461546,
          0.7711355623806072,
          -0.9585361003596985,
          1.413791782075609,
          -0.011999672475143592,
          -0.2332276829472234,
          0.9994963176647628,
          0.8010134369014502,
          -0.462304224009063,
          1.1184462932071981,
          -0.589992861130369,
          -2.407485278886959,
          -0.7466993868046775,
          -0.4473733557949075,
          0.3805477134400745,
          2.336840387236904,
          0.43387049430242997,
          0.8152523192214589,
          0.6089888934661134,
          -1.526454646964997,
          -1.3206012488138623,
          -1.0431640274931064,
          0.7749127003189561,
          -0.2493808914655523,
          1.458109788045986,
          1.4404921519603873,
          -0.9441221138653232,
          0.2732931046600395,
          0.670748994079489,
          1.2851525315752468,
          -1.7303505300847168,
          0.2564344283676181,
          1.0512380697522659,
          0.7990793338822009,
          -0.8273449445815736,
          -0.13302628947133086,
          1.151813367457789,
          -0.8116827986139052,
          0.16250672924139484,
          0.6119741800924526,
          -0.12623253101768572,
          -0.645412471356651,
          0.21225836348979263,
          0.9828919578145259,
          -1.0640505904153608,
          0.8606516119398787,
          -0.03836903085700935,
          -1.029494471649252,
          1.5927070980793128,
          0.345091231227057,
          0.19380779779508553,
          -1.2171439092573397,
          -1.1221298763480816,
          -0.71548838463745,
          0.8618914945926935,
          0.8709948734880736,
          1.3214572814137557,
          0.3656583698395165,
          -1.0611358360980878,
          2.6045600811046117,
          0.29786624169468395,
          -1.2181968397107135,
          0.005947039893275675,
          -0.9217262323903322,
          0.43250191129540305,
          -2.059956112643729,
          -0.24783647778024964,
          -0.825755005236759,
          0.5104517899980096,
          0.7756766680790673,
          -0.6948728890863228,
          0.10526112030629592,
          0.595048497478357,
          -0.9684246545495997,
          0.9805904389899971,
          -0.5150824233574389,
          -1.8701413759264716,
          0.045707577044487815,
          -1.1812227615164517,
          -0.47919058861042635,
          0.2020800241922994,
          -1.0295277726875516,
          -0.8007147666280858,
          -1.1849668586810944,
          -1.8499115869420633,
          -0.5969137115751699,
          1.48710606342048,
          0.5010826710528153,
          0.23312570917424857,
          0.4466191745148875,
          -0.7773227430247127,
          0.05908523285531262,
          -0.411275094211949,
          -1.090825864124665,
          0.2214935949606966,
          1.3352016027920028,
          -0.11906672568050544,
          -1.7799645711470489,
          1.4945027836142082
         ]
        },
        {
         "histfunc": "count",
         "histnorm": "",
         "marker": {
          "color": "rgba(50, 171, 96, 1.0)",
          "line": {
           "color": "#4D5663",
           "width": 1.3
          }
         },
         "name": "C",
         "opacity": 0.8,
         "orientation": "v",
         "type": "histogram",
         "x": [
          1.0574435496930406,
          1.4921564787890202,
          -1.7661487698322937,
          0.5468034187042222,
          -0.47026472549686354,
          0.028866797470123048,
          0.3139952672131217,
          1.0668782081292985,
          0.09238728722526235,
          0.283247834274512,
          0.4487993866836888,
          0.9132713227316623,
          0.008592406413361182,
          -0.7173373816876694,
          -0.037214402351031156,
          -2.8949439095111407,
          0.4140767599284732,
          -1.3715577493217457,
          1.2411017703319136,
          -0.7750902687746185,
          -1.3369518346870932,
          -1.1874007524465737,
          0.3681246871113735,
          -0.29296405505946915,
          -0.4120491294340162,
          -0.6393549290429247,
          -1.6252105983283975,
          -1.3122854422321009,
          -1.9360909602917662,
          1.2027910029886157,
          -0.4518326104029993,
          -2.29567896659763,
          -2.2027365357952218,
          -0.9495835357613918,
          -0.7322557769196346,
          -0.9241767204331726,
          0.5631995965443728,
          -0.6312706493382001,
          1.024196030529535,
          0.4297610318922039,
          -0.7504142855157657,
          1.0706424815592872,
          -0.31772007630060434,
          0.6705110936808703,
          0.4534108865873891,
          1.5475342889743962,
          0.3660711004823217,
          1.2934499121707412,
          0.7491633869777687,
          0.09037087793335094,
          0.3709638152711295,
          -1.351420359786962,
          -0.4203974223630586,
          0.18498829849810838,
          -1.6876380183562545,
          -1.131961576340599,
          -0.6104901531877899,
          -2.2658956080934023,
          -0.186352790636565,
          1.9137723635641175,
          0.13508744155143304,
          1.0159023595649985,
          -1.8165198631533503,
          0.29210575387975946,
          -2.520194559655417,
          0.2127339800838521,
          0.6223598055465379,
          0.5766940739463821,
          1.355567983001298,
          -0.4679608448477689,
          -0.4400613901138157,
          -1.3310223817525753,
          -0.8755271323754789,
          0.6197069606377154,
          1.4410149209822796,
          -0.14775880614740602,
          -1.1989896338434585,
          0.8030412590191057,
          0.11810621881639764,
          1.705029039681729,
          -2.009349513148917,
          -1.1579539361380786,
          -0.21682015326728335,
          0.018930436667645812,
          -0.31797119351666403,
          -0.8411642149311813,
          0.3495781033263939,
          -0.9349822805499162,
          -0.3114537226336073,
          -0.27159842048918575,
          0.8369615864242455,
          0.7858872047734048,
          -1.7845289249109602,
          1.0115271820947205,
          0.11688723804189248,
          0.4384478782073346,
          0.008889099217462877,
          -1.2107890685045604,
          -0.4071907027266032,
          0.6536957941340616
         ]
        },
        {
         "histfunc": "count",
         "histnorm": "",
         "marker": {
          "color": "rgba(128, 0, 128, 1.0)",
          "line": {
           "color": "#4D5663",
           "width": 1.3
          }
         },
         "name": "D",
         "opacity": 0.8,
         "orientation": "v",
         "type": "histogram",
         "x": [
          0.3798783138869394,
          0.5325642324025878,
          -1.8891938479625277,
          -0.03444831396935892,
          1.4104072642934369,
          -0.3503592139676249,
          -0.4518190931196363,
          -0.3526980962729689,
          -0.13644755472497294,
          0.956469914017513,
          0.2766338633851785,
          0.48679215566673106,
          0.6305138639396141,
          0.670662053678759,
          0.17246341882456473,
          1.6896887579244286,
          -0.09568047093000441,
          0.37002779584454143,
          -0.5889076792874218,
          -0.993264289903829,
          0.032929627729489694,
          2.459806536192735,
          -0.5300658412981611,
          -0.5462519759274664,
          2.2185127174957526,
          -1.2873566015766316,
          1.1085631311275275,
          0.7540336592440204,
          -2.405117365648385,
          0.7519527988408649,
          0.960740272412522,
          0.6661987152882016,
          0.09604344180668174,
          0.19791457794456077,
          -0.5767798450403657,
          -0.6094379212386503,
          0.9635133288340161,
          -0.1916057929549026,
          0.2822548631386541,
          -0.39170312163360355,
          1.0553270001104484,
          -0.8883354765977708,
          0.14339533089131373,
          1.4340419022520996,
          1.5387313432423801,
          -0.4491124148977889,
          0.24097568616595325,
          -1.0952678381537415,
          -1.3070247606070595,
          0.3665277479805535,
          -0.2783540192377507,
          0.629501823076368,
          0.6849483439792226,
          -0.5315032934853802,
          1.0444660828634182,
          1.538436301126394,
          0.4319327354213975,
          -0.14084430545192075,
          1.7219787146097316,
          1.3972112919116941,
          -0.20272716886416664,
          0.07143726678942765,
          -0.363681910844145,
          -1.5668551317424237,
          0.378403314966072,
          0.43504543706164983,
          -0.10889111832006396,
          -0.791434625542699,
          1.6099239399808436,
          0.5452652674536136,
          -1.4854687171382646,
          0.8676730513097982,
          1.1204485778757485,
          0.6843594944768051,
          -0.7510865824027254,
          -0.2332906102221231,
          0.8787493888412986,
          0.6480584613902357,
          -0.42944843729204674,
          1.1820664129266354,
          -0.3372464499840548,
          0.9756828395663479,
          -0.4664566749827974,
          0.619425782469263,
          0.7089529472891641,
          -0.5008345898697598,
          0.9463043227431527,
          -0.011880002448478146,
          0.23520814180111044,
          -0.18531967636238048,
          0.03318441552433788,
          -0.6339369120426261,
          -0.3350870887531984,
          0.5644887956088116,
          0.6160211323302354,
          0.6940017094073261,
          -0.14109006224355106,
          0.8750595947946054,
          0.4015732140810989,
          -0.5021013131557769
         ]
        }
       ],
       "layout": {
        "barmode": "overlay",
        "legend": {
         "bgcolor": "#F5F6F9",
         "font": {
          "color": "#4D5663"
         }
        },
        "paper_bgcolor": "#F5F6F9",
        "plot_bgcolor": "#F5F6F9",
        "template": {
         "data": {
          "bar": [
           {
            "error_x": {
             "color": "#2a3f5f"
            },
            "error_y": {
             "color": "#2a3f5f"
            },
            "marker": {
             "line": {
              "color": "#E5ECF6",
              "width": 0.5
             }
            },
            "type": "bar"
           }
          ],
          "barpolar": [
           {
            "marker": {
             "line": {
              "color": "#E5ECF6",
              "width": 0.5
             }
            },
            "type": "barpolar"
           }
          ],
          "carpet": [
           {
            "aaxis": {
             "endlinecolor": "#2a3f5f",
             "gridcolor": "white",
             "linecolor": "white",
             "minorgridcolor": "white",
             "startlinecolor": "#2a3f5f"
            },
            "baxis": {
             "endlinecolor": "#2a3f5f",
             "gridcolor": "white",
             "linecolor": "white",
             "minorgridcolor": "white",
             "startlinecolor": "#2a3f5f"
            },
            "type": "carpet"
           }
          ],
          "choropleth": [
           {
            "colorbar": {
             "outlinewidth": 0,
             "ticks": ""
            },
            "type": "choropleth"
           }
          ],
          "contour": [
           {
            "colorbar": {
             "outlinewidth": 0,
             "ticks": ""
            },
            "colorscale": [
             [
              0,
              "#0d0887"
             ],
             [
              0.1111111111111111,
              "#46039f"
             ],
             [
              0.2222222222222222,
              "#7201a8"
             ],
             [
              0.3333333333333333,
              "#9c179e"
             ],
             [
              0.4444444444444444,
              "#bd3786"
             ],
             [
              0.5555555555555556,
              "#d8576b"
             ],
             [
              0.6666666666666666,
              "#ed7953"
             ],
             [
              0.7777777777777778,
              "#fb9f3a"
             ],
             [
              0.8888888888888888,
              "#fdca26"
             ],
             [
              1,
              "#f0f921"
             ]
            ],
            "type": "contour"
           }
          ],
          "contourcarpet": [
           {
            "colorbar": {
             "outlinewidth": 0,
             "ticks": ""
            },
            "type": "contourcarpet"
           }
          ],
          "heatmap": [
           {
            "colorbar": {
             "outlinewidth": 0,
             "ticks": ""
            },
            "colorscale": [
             [
              0,
              "#0d0887"
             ],
             [
              0.1111111111111111,
              "#46039f"
             ],
             [
              0.2222222222222222,
              "#7201a8"
             ],
             [
              0.3333333333333333,
              "#9c179e"
             ],
             [
              0.4444444444444444,
              "#bd3786"
             ],
             [
              0.5555555555555556,
              "#d8576b"
             ],
             [
              0.6666666666666666,
              "#ed7953"
             ],
             [
              0.7777777777777778,
              "#fb9f3a"
             ],
             [
              0.8888888888888888,
              "#fdca26"
             ],
             [
              1,
              "#f0f921"
             ]
            ],
            "type": "heatmap"
           }
          ],
          "heatmapgl": [
           {
            "colorbar": {
             "outlinewidth": 0,
             "ticks": ""
            },
            "colorscale": [
             [
              0,
              "#0d0887"
             ],
             [
              0.1111111111111111,
              "#46039f"
             ],
             [
              0.2222222222222222,
              "#7201a8"
             ],
             [
              0.3333333333333333,
              "#9c179e"
             ],
             [
              0.4444444444444444,
              "#bd3786"
             ],
             [
              0.5555555555555556,
              "#d8576b"
             ],
             [
              0.6666666666666666,
              "#ed7953"
             ],
             [
              0.7777777777777778,
              "#fb9f3a"
             ],
             [
              0.8888888888888888,
              "#fdca26"
             ],
             [
              1,
              "#f0f921"
             ]
            ],
            "type": "heatmapgl"
           }
          ],
          "histogram": [
           {
            "marker": {
             "colorbar": {
              "outlinewidth": 0,
              "ticks": ""
             }
            },
            "type": "histogram"
           }
          ],
          "histogram2d": [
           {
            "colorbar": {
             "outlinewidth": 0,
             "ticks": ""
            },
            "colorscale": [
             [
              0,
              "#0d0887"
             ],
             [
              0.1111111111111111,
              "#46039f"
             ],
             [
              0.2222222222222222,
              "#7201a8"
             ],
             [
              0.3333333333333333,
              "#9c179e"
             ],
             [
              0.4444444444444444,
              "#bd3786"
             ],
             [
              0.5555555555555556,
              "#d8576b"
             ],
             [
              0.6666666666666666,
              "#ed7953"
             ],
             [
              0.7777777777777778,
              "#fb9f3a"
             ],
             [
              0.8888888888888888,
              "#fdca26"
             ],
             [
              1,
              "#f0f921"
             ]
            ],
            "type": "histogram2d"
           }
          ],
          "histogram2dcontour": [
           {
            "colorbar": {
             "outlinewidth": 0,
             "ticks": ""
            },
            "colorscale": [
             [
              0,
              "#0d0887"
             ],
             [
              0.1111111111111111,
              "#46039f"
             ],
             [
              0.2222222222222222,
              "#7201a8"
             ],
             [
              0.3333333333333333,
              "#9c179e"
             ],
             [
              0.4444444444444444,
              "#bd3786"
             ],
             [
              0.5555555555555556,
              "#d8576b"
             ],
             [
              0.6666666666666666,
              "#ed7953"
             ],
             [
              0.7777777777777778,
              "#fb9f3a"
             ],
             [
              0.8888888888888888,
              "#fdca26"
             ],
             [
              1,
              "#f0f921"
             ]
            ],
            "type": "histogram2dcontour"
           }
          ],
          "mesh3d": [
           {
            "colorbar": {
             "outlinewidth": 0,
             "ticks": ""
            },
            "type": "mesh3d"
           }
          ],
          "parcoords": [
           {
            "line": {
             "colorbar": {
              "outlinewidth": 0,
              "ticks": ""
             }
            },
            "type": "parcoords"
           }
          ],
          "pie": [
           {
            "automargin": true,
            "type": "pie"
           }
          ],
          "scatter": [
           {
            "marker": {
             "colorbar": {
              "outlinewidth": 0,
              "ticks": ""
             }
            },
            "type": "scatter"
           }
          ],
          "scatter3d": [
           {
            "line": {
             "colorbar": {
              "outlinewidth": 0,
              "ticks": ""
             }
            },
            "marker": {
             "colorbar": {
              "outlinewidth": 0,
              "ticks": ""
             }
            },
            "type": "scatter3d"
           }
          ],
          "scattercarpet": [
           {
            "marker": {
             "colorbar": {
              "outlinewidth": 0,
              "ticks": ""
             }
            },
            "type": "scattercarpet"
           }
          ],
          "scattergeo": [
           {
            "marker": {
             "colorbar": {
              "outlinewidth": 0,
              "ticks": ""
             }
            },
            "type": "scattergeo"
           }
          ],
          "scattergl": [
           {
            "marker": {
             "colorbar": {
              "outlinewidth": 0,
              "ticks": ""
             }
            },
            "type": "scattergl"
           }
          ],
          "scattermapbox": [
           {
            "marker": {
             "colorbar": {
              "outlinewidth": 0,
              "ticks": ""
             }
            },
            "type": "scattermapbox"
           }
          ],
          "scatterpolar": [
           {
            "marker": {
             "colorbar": {
              "outlinewidth": 0,
              "ticks": ""
             }
            },
            "type": "scatterpolar"
           }
          ],
          "scatterpolargl": [
           {
            "marker": {
             "colorbar": {
              "outlinewidth": 0,
              "ticks": ""
             }
            },
            "type": "scatterpolargl"
           }
          ],
          "scatterternary": [
           {
            "marker": {
             "colorbar": {
              "outlinewidth": 0,
              "ticks": ""
             }
            },
            "type": "scatterternary"
           }
          ],
          "surface": [
           {
            "colorbar": {
             "outlinewidth": 0,
             "ticks": ""
            },
            "colorscale": [
             [
              0,
              "#0d0887"
             ],
             [
              0.1111111111111111,
              "#46039f"
             ],
             [
              0.2222222222222222,
              "#7201a8"
             ],
             [
              0.3333333333333333,
              "#9c179e"
             ],
             [
              0.4444444444444444,
              "#bd3786"
             ],
             [
              0.5555555555555556,
              "#d8576b"
             ],
             [
              0.6666666666666666,
              "#ed7953"
             ],
             [
              0.7777777777777778,
              "#fb9f3a"
             ],
             [
              0.8888888888888888,
              "#fdca26"
             ],
             [
              1,
              "#f0f921"
             ]
            ],
            "type": "surface"
           }
          ],
          "table": [
           {
            "cells": {
             "fill": {
              "color": "#EBF0F8"
             },
             "line": {
              "color": "white"
             }
            },
            "header": {
             "fill": {
              "color": "#C8D4E3"
             },
             "line": {
              "color": "white"
             }
            },
            "type": "table"
           }
          ]
         },
         "layout": {
          "annotationdefaults": {
           "arrowcolor": "#2a3f5f",
           "arrowhead": 0,
           "arrowwidth": 1
          },
          "coloraxis": {
           "colorbar": {
            "outlinewidth": 0,
            "ticks": ""
           }
          },
          "colorscale": {
           "diverging": [
            [
             0,
             "#8e0152"
            ],
            [
             0.1,
             "#c51b7d"
            ],
            [
             0.2,
             "#de77ae"
            ],
            [
             0.3,
             "#f1b6da"
            ],
            [
             0.4,
             "#fde0ef"
            ],
            [
             0.5,
             "#f7f7f7"
            ],
            [
             0.6,
             "#e6f5d0"
            ],
            [
             0.7,
             "#b8e186"
            ],
            [
             0.8,
             "#7fbc41"
            ],
            [
             0.9,
             "#4d9221"
            ],
            [
             1,
             "#276419"
            ]
           ],
           "sequential": [
            [
             0,
             "#0d0887"
            ],
            [
             0.1111111111111111,
             "#46039f"
            ],
            [
             0.2222222222222222,
             "#7201a8"
            ],
            [
             0.3333333333333333,
             "#9c179e"
            ],
            [
             0.4444444444444444,
             "#bd3786"
            ],
            [
             0.5555555555555556,
             "#d8576b"
            ],
            [
             0.6666666666666666,
             "#ed7953"
            ],
            [
             0.7777777777777778,
             "#fb9f3a"
            ],
            [
             0.8888888888888888,
             "#fdca26"
            ],
            [
             1,
             "#f0f921"
            ]
           ],
           "sequentialminus": [
            [
             0,
             "#0d0887"
            ],
            [
             0.1111111111111111,
             "#46039f"
            ],
            [
             0.2222222222222222,
             "#7201a8"
            ],
            [
             0.3333333333333333,
             "#9c179e"
            ],
            [
             0.4444444444444444,
             "#bd3786"
            ],
            [
             0.5555555555555556,
             "#d8576b"
            ],
            [
             0.6666666666666666,
             "#ed7953"
            ],
            [
             0.7777777777777778,
             "#fb9f3a"
            ],
            [
             0.8888888888888888,
             "#fdca26"
            ],
            [
             1,
             "#f0f921"
            ]
           ]
          },
          "colorway": [
           "#636efa",
           "#EF553B",
           "#00cc96",
           "#ab63fa",
           "#FFA15A",
           "#19d3f3",
           "#FF6692",
           "#B6E880",
           "#FF97FF",
           "#FECB52"
          ],
          "font": {
           "color": "#2a3f5f"
          },
          "geo": {
           "bgcolor": "white",
           "lakecolor": "white",
           "landcolor": "#E5ECF6",
           "showlakes": true,
           "showland": true,
           "subunitcolor": "white"
          },
          "hoverlabel": {
           "align": "left"
          },
          "hovermode": "closest",
          "mapbox": {
           "style": "light"
          },
          "paper_bgcolor": "white",
          "plot_bgcolor": "#E5ECF6",
          "polar": {
           "angularaxis": {
            "gridcolor": "white",
            "linecolor": "white",
            "ticks": ""
           },
           "bgcolor": "#E5ECF6",
           "radialaxis": {
            "gridcolor": "white",
            "linecolor": "white",
            "ticks": ""
           }
          },
          "scene": {
           "xaxis": {
            "backgroundcolor": "#E5ECF6",
            "gridcolor": "white",
            "gridwidth": 2,
            "linecolor": "white",
            "showbackground": true,
            "ticks": "",
            "zerolinecolor": "white"
           },
           "yaxis": {
            "backgroundcolor": "#E5ECF6",
            "gridcolor": "white",
            "gridwidth": 2,
            "linecolor": "white",
            "showbackground": true,
            "ticks": "",
            "zerolinecolor": "white"
           },
           "zaxis": {
            "backgroundcolor": "#E5ECF6",
            "gridcolor": "white",
            "gridwidth": 2,
            "linecolor": "white",
            "showbackground": true,
            "ticks": "",
            "zerolinecolor": "white"
           }
          },
          "shapedefaults": {
           "line": {
            "color": "#2a3f5f"
           }
          },
          "ternary": {
           "aaxis": {
            "gridcolor": "white",
            "linecolor": "white",
            "ticks": ""
           },
           "baxis": {
            "gridcolor": "white",
            "linecolor": "white",
            "ticks": ""
           },
           "bgcolor": "#E5ECF6",
           "caxis": {
            "gridcolor": "white",
            "linecolor": "white",
            "ticks": ""
           }
          },
          "title": {
           "x": 0.05
          },
          "xaxis": {
           "automargin": true,
           "gridcolor": "white",
           "linecolor": "white",
           "ticks": "",
           "title": {
            "standoff": 15
           },
           "zerolinecolor": "white",
           "zerolinewidth": 2
          },
          "yaxis": {
           "automargin": true,
           "gridcolor": "white",
           "linecolor": "white",
           "ticks": "",
           "title": {
            "standoff": 15
           },
           "zerolinecolor": "white",
           "zerolinewidth": 2
          }
         }
        },
        "title": {
         "font": {
          "color": "#4D5663"
         }
        },
        "xaxis": {
         "gridcolor": "#E1E5ED",
         "showgrid": true,
         "tickfont": {
          "color": "#4D5663"
         },
         "title": {
          "font": {
           "color": "#4D5663"
          },
          "text": ""
         },
         "zerolinecolor": "#E1E5ED"
        },
        "yaxis": {
         "gridcolor": "#E1E5ED",
         "showgrid": true,
         "tickfont": {
          "color": "#4D5663"
         },
         "title": {
          "font": {
           "color": "#4D5663"
          },
          "text": ""
         },
         "zerolinecolor": "#E1E5ED"
        }
       }
      },
      "text/html": [
       "<div>\n",
       "        \n",
       "        \n",
       "            <div id=\"7c750018-4b64-4fba-8e69-a4ed68e47d96\" class=\"plotly-graph-div\" style=\"height:525px; width:100%;\"></div>\n",
       "            <script type=\"text/javascript\">\n",
       "                require([\"plotly\"], function(Plotly) {\n",
       "                    window.PLOTLYENV=window.PLOTLYENV || {};\n",
       "                    window.PLOTLYENV.BASE_URL='https://plot.ly';\n",
       "                    \n",
       "                if (document.getElementById(\"7c750018-4b64-4fba-8e69-a4ed68e47d96\")) {\n",
       "                    Plotly.newPlot(\n",
       "                        '7c750018-4b64-4fba-8e69-a4ed68e47d96',\n",
       "                        [{\"histfunc\": \"count\", \"histnorm\": \"\", \"marker\": {\"color\": \"rgba(255, 153, 51, 1.0)\", \"line\": {\"color\": \"#4D5663\", \"width\": 1.3}}, \"name\": \"A\", \"opacity\": 0.8, \"orientation\": \"v\", \"type\": \"histogram\", \"x\": [-0.8224878330406368, -0.10471106442069328, -2.769584391084238, -2.2424162672391885, 0.490203066976595, 2.8691407911563673, -0.0803435729235115, -0.12115858301628984, 1.0499603993850388, 1.1283694551511767, 1.8380934783110614, 0.4645233310960621, -0.3486835398494006, 0.9664744927848891, -0.33835704495058144, -1.28473461375488, 1.7985504608251153, 1.1553157661273779, 0.4134915078299442, 0.7475612530709317, 0.4201660768259774, 0.07722115747936044, 1.0221609726299972, -1.077323357084743, -0.34977897732417185, 1.3733646137384052, -0.15833165590252143, 1.4947517994373962, -0.38989674078583964, -0.5243134691725355, -1.097052749096775, 1.054960626543361, 1.5146706425888474, 0.40891220981344617, -0.03669418351965464, -0.13067256359666868, -1.3643656789650926, 1.3642052302623737, 0.3013624226546742, -1.604831448237099, 1.9936387069916879, -0.7344022390099565, -1.0909182813824605, 0.7899232933086707, -0.7888330616466801, 0.24423391011295395, -1.433561400695055, -0.8051710423228607, 1.3878930883952874, -0.23677373547589425, 1.4198942689724774, -0.8583559909421177, -0.5094931311348392, -0.29723488125835085, 1.4666563744515433, -0.5961247866543091, 0.38967071033631834, 0.9968517939347469, -1.2518718953723809, 0.25183778792382366, 0.6679256901564015, 0.996754273254323, 0.12748412059035386, -0.3186507334386617, 0.8058549264472583, 0.793026285047879, 0.2345960517139365, 0.42175178151213183, -1.9211488472442586, 0.1219224349688401, 0.05176320596206913, -0.3497984577725166, 0.456054887712555, 0.07617950164554171, 1.3404993482278846, 0.14392955845017877, -1.138648683092966, 1.494168391233162, 0.029884199072675432, -0.10405794060352479, -0.28770790124207524, -1.4419491390038417, 0.5682946601649805, 0.21954096821881025, -0.16217288802578836, 0.9521454603349894, 0.13231876090108707, 0.12117149081466017, -0.9367090923602004, 1.264286886996742, 1.9986274543811504, 0.6872677252241897, 0.23490617405340217, 0.1779749622995297, 0.20027271975265543, -1.7896732465301717, -0.38825505562436735, 0.6518389289274054, 1.4429880702473201, 1.085490258313375]}, {\"histfunc\": \"count\", \"histnorm\": \"\", \"marker\": {\"color\": \"rgba(55, 128, 191, 1.0)\", \"line\": {\"color\": \"#4D5663\", \"width\": 1.3}}, \"name\": \"B\", \"opacity\": 0.8, \"orientation\": \"v\", \"type\": \"histogram\", \"x\": [-0.10516366801878904, 1.0053383313461546, 0.7711355623806072, -0.9585361003596985, 1.413791782075609, -0.011999672475143592, -0.2332276829472234, 0.9994963176647628, 0.8010134369014502, -0.462304224009063, 1.1184462932071981, -0.589992861130369, -2.407485278886959, -0.7466993868046775, -0.4473733557949075, 0.3805477134400745, 2.336840387236904, 0.43387049430242997, 0.8152523192214589, 0.6089888934661134, -1.526454646964997, -1.3206012488138623, -1.0431640274931064, 0.7749127003189561, -0.2493808914655523, 1.458109788045986, 1.4404921519603873, -0.9441221138653232, 0.2732931046600395, 0.670748994079489, 1.2851525315752468, -1.7303505300847168, 0.2564344283676181, 1.0512380697522659, 0.7990793338822009, -0.8273449445815736, -0.13302628947133086, 1.151813367457789, -0.8116827986139052, 0.16250672924139484, 0.6119741800924526, -0.12623253101768572, -0.645412471356651, 0.21225836348979263, 0.9828919578145259, -1.0640505904153608, 0.8606516119398787, -0.03836903085700935, -1.029494471649252, 1.5927070980793128, 0.345091231227057, 0.19380779779508553, -1.2171439092573397, -1.1221298763480816, -0.71548838463745, 0.8618914945926935, 0.8709948734880736, 1.3214572814137557, 0.3656583698395165, -1.0611358360980878, 2.6045600811046117, 0.29786624169468395, -1.2181968397107135, 0.005947039893275675, -0.9217262323903322, 0.43250191129540305, -2.059956112643729, -0.24783647778024964, -0.825755005236759, 0.5104517899980096, 0.7756766680790673, -0.6948728890863228, 0.10526112030629592, 0.595048497478357, -0.9684246545495997, 0.9805904389899971, -0.5150824233574389, -1.8701413759264716, 0.045707577044487815, -1.1812227615164517, -0.47919058861042635, 0.2020800241922994, -1.0295277726875516, -0.8007147666280858, -1.1849668586810944, -1.8499115869420633, -0.5969137115751699, 1.48710606342048, 0.5010826710528153, 0.23312570917424857, 0.4466191745148875, -0.7773227430247127, 0.05908523285531262, -0.411275094211949, -1.090825864124665, 0.2214935949606966, 1.3352016027920028, -0.11906672568050544, -1.7799645711470489, 1.4945027836142082]}, {\"histfunc\": \"count\", \"histnorm\": \"\", \"marker\": {\"color\": \"rgba(50, 171, 96, 1.0)\", \"line\": {\"color\": \"#4D5663\", \"width\": 1.3}}, \"name\": \"C\", \"opacity\": 0.8, \"orientation\": \"v\", \"type\": \"histogram\", \"x\": [1.0574435496930406, 1.4921564787890202, -1.7661487698322937, 0.5468034187042222, -0.47026472549686354, 0.028866797470123048, 0.3139952672131217, 1.0668782081292985, 0.09238728722526235, 0.283247834274512, 0.4487993866836888, 0.9132713227316623, 0.008592406413361182, -0.7173373816876694, -0.037214402351031156, -2.8949439095111407, 0.4140767599284732, -1.3715577493217457, 1.2411017703319136, -0.7750902687746185, -1.3369518346870932, -1.1874007524465737, 0.3681246871113735, -0.29296405505946915, -0.4120491294340162, -0.6393549290429247, -1.6252105983283975, -1.3122854422321009, -1.9360909602917662, 1.2027910029886157, -0.4518326104029993, -2.29567896659763, -2.2027365357952218, -0.9495835357613918, -0.7322557769196346, -0.9241767204331726, 0.5631995965443728, -0.6312706493382001, 1.024196030529535, 0.4297610318922039, -0.7504142855157657, 1.0706424815592872, -0.31772007630060434, 0.6705110936808703, 0.4534108865873891, 1.5475342889743962, 0.3660711004823217, 1.2934499121707412, 0.7491633869777687, 0.09037087793335094, 0.3709638152711295, -1.351420359786962, -0.4203974223630586, 0.18498829849810838, -1.6876380183562545, -1.131961576340599, -0.6104901531877899, -2.2658956080934023, -0.186352790636565, 1.9137723635641175, 0.13508744155143304, 1.0159023595649985, -1.8165198631533503, 0.29210575387975946, -2.520194559655417, 0.2127339800838521, 0.6223598055465379, 0.5766940739463821, 1.355567983001298, -0.4679608448477689, -0.4400613901138157, -1.3310223817525753, -0.8755271323754789, 0.6197069606377154, 1.4410149209822796, -0.14775880614740602, -1.1989896338434585, 0.8030412590191057, 0.11810621881639764, 1.705029039681729, -2.009349513148917, -1.1579539361380786, -0.21682015326728335, 0.018930436667645812, -0.31797119351666403, -0.8411642149311813, 0.3495781033263939, -0.9349822805499162, -0.3114537226336073, -0.27159842048918575, 0.8369615864242455, 0.7858872047734048, -1.7845289249109602, 1.0115271820947205, 0.11688723804189248, 0.4384478782073346, 0.008889099217462877, -1.2107890685045604, -0.4071907027266032, 0.6536957941340616]}, {\"histfunc\": \"count\", \"histnorm\": \"\", \"marker\": {\"color\": \"rgba(128, 0, 128, 1.0)\", \"line\": {\"color\": \"#4D5663\", \"width\": 1.3}}, \"name\": \"D\", \"opacity\": 0.8, \"orientation\": \"v\", \"type\": \"histogram\", \"x\": [0.3798783138869394, 0.5325642324025878, -1.8891938479625277, -0.03444831396935892, 1.4104072642934369, -0.3503592139676249, -0.4518190931196363, -0.3526980962729689, -0.13644755472497294, 0.956469914017513, 0.2766338633851785, 0.48679215566673106, 0.6305138639396141, 0.670662053678759, 0.17246341882456473, 1.6896887579244286, -0.09568047093000441, 0.37002779584454143, -0.5889076792874218, -0.993264289903829, 0.032929627729489694, 2.459806536192735, -0.5300658412981611, -0.5462519759274664, 2.2185127174957526, -1.2873566015766316, 1.1085631311275275, 0.7540336592440204, -2.405117365648385, 0.7519527988408649, 0.960740272412522, 0.6661987152882016, 0.09604344180668174, 0.19791457794456077, -0.5767798450403657, -0.6094379212386503, 0.9635133288340161, -0.1916057929549026, 0.2822548631386541, -0.39170312163360355, 1.0553270001104484, -0.8883354765977708, 0.14339533089131373, 1.4340419022520996, 1.5387313432423801, -0.4491124148977889, 0.24097568616595325, -1.0952678381537415, -1.3070247606070595, 0.3665277479805535, -0.2783540192377507, 0.629501823076368, 0.6849483439792226, -0.5315032934853802, 1.0444660828634182, 1.538436301126394, 0.4319327354213975, -0.14084430545192075, 1.7219787146097316, 1.3972112919116941, -0.20272716886416664, 0.07143726678942765, -0.363681910844145, -1.5668551317424237, 0.378403314966072, 0.43504543706164983, -0.10889111832006396, -0.791434625542699, 1.6099239399808436, 0.5452652674536136, -1.4854687171382646, 0.8676730513097982, 1.1204485778757485, 0.6843594944768051, -0.7510865824027254, -0.2332906102221231, 0.8787493888412986, 0.6480584613902357, -0.42944843729204674, 1.1820664129266354, -0.3372464499840548, 0.9756828395663479, -0.4664566749827974, 0.619425782469263, 0.7089529472891641, -0.5008345898697598, 0.9463043227431527, -0.011880002448478146, 0.23520814180111044, -0.18531967636238048, 0.03318441552433788, -0.6339369120426261, -0.3350870887531984, 0.5644887956088116, 0.6160211323302354, 0.6940017094073261, -0.14109006224355106, 0.8750595947946054, 0.4015732140810989, -0.5021013131557769]}],\n",
       "                        {\"barmode\": \"overlay\", \"legend\": {\"bgcolor\": \"#F5F6F9\", \"font\": {\"color\": \"#4D5663\"}}, \"paper_bgcolor\": \"#F5F6F9\", \"plot_bgcolor\": \"#F5F6F9\", \"template\": {\"data\": {\"bar\": [{\"error_x\": {\"color\": \"#2a3f5f\"}, \"error_y\": {\"color\": \"#2a3f5f\"}, \"marker\": {\"line\": {\"color\": \"#E5ECF6\", \"width\": 0.5}}, \"type\": \"bar\"}], \"barpolar\": [{\"marker\": {\"line\": {\"color\": \"#E5ECF6\", \"width\": 0.5}}, \"type\": \"barpolar\"}], \"carpet\": [{\"aaxis\": {\"endlinecolor\": \"#2a3f5f\", \"gridcolor\": \"white\", \"linecolor\": \"white\", \"minorgridcolor\": \"white\", \"startlinecolor\": \"#2a3f5f\"}, \"baxis\": {\"endlinecolor\": \"#2a3f5f\", \"gridcolor\": \"white\", \"linecolor\": \"white\", \"minorgridcolor\": \"white\", \"startlinecolor\": \"#2a3f5f\"}, \"type\": \"carpet\"}], \"choropleth\": [{\"colorbar\": {\"outlinewidth\": 0, \"ticks\": \"\"}, \"type\": \"choropleth\"}], \"contour\": [{\"colorbar\": {\"outlinewidth\": 0, \"ticks\": \"\"}, \"colorscale\": [[0.0, \"#0d0887\"], [0.1111111111111111, \"#46039f\"], [0.2222222222222222, \"#7201a8\"], [0.3333333333333333, \"#9c179e\"], [0.4444444444444444, \"#bd3786\"], [0.5555555555555556, \"#d8576b\"], [0.6666666666666666, \"#ed7953\"], [0.7777777777777778, \"#fb9f3a\"], [0.8888888888888888, \"#fdca26\"], [1.0, \"#f0f921\"]], \"type\": \"contour\"}], \"contourcarpet\": [{\"colorbar\": {\"outlinewidth\": 0, \"ticks\": \"\"}, \"type\": \"contourcarpet\"}], \"heatmap\": [{\"colorbar\": {\"outlinewidth\": 0, \"ticks\": \"\"}, \"colorscale\": [[0.0, \"#0d0887\"], [0.1111111111111111, \"#46039f\"], [0.2222222222222222, \"#7201a8\"], [0.3333333333333333, \"#9c179e\"], [0.4444444444444444, \"#bd3786\"], [0.5555555555555556, \"#d8576b\"], [0.6666666666666666, \"#ed7953\"], [0.7777777777777778, \"#fb9f3a\"], [0.8888888888888888, \"#fdca26\"], [1.0, \"#f0f921\"]], \"type\": \"heatmap\"}], \"heatmapgl\": [{\"colorbar\": {\"outlinewidth\": 0, \"ticks\": \"\"}, \"colorscale\": [[0.0, \"#0d0887\"], [0.1111111111111111, \"#46039f\"], [0.2222222222222222, \"#7201a8\"], [0.3333333333333333, \"#9c179e\"], [0.4444444444444444, \"#bd3786\"], [0.5555555555555556, \"#d8576b\"], [0.6666666666666666, \"#ed7953\"], [0.7777777777777778, \"#fb9f3a\"], [0.8888888888888888, \"#fdca26\"], [1.0, \"#f0f921\"]], \"type\": \"heatmapgl\"}], \"histogram\": [{\"marker\": {\"colorbar\": {\"outlinewidth\": 0, \"ticks\": \"\"}}, \"type\": \"histogram\"}], \"histogram2d\": [{\"colorbar\": {\"outlinewidth\": 0, \"ticks\": \"\"}, \"colorscale\": [[0.0, \"#0d0887\"], [0.1111111111111111, \"#46039f\"], [0.2222222222222222, \"#7201a8\"], [0.3333333333333333, \"#9c179e\"], [0.4444444444444444, \"#bd3786\"], [0.5555555555555556, \"#d8576b\"], [0.6666666666666666, \"#ed7953\"], [0.7777777777777778, \"#fb9f3a\"], [0.8888888888888888, \"#fdca26\"], [1.0, \"#f0f921\"]], \"type\": \"histogram2d\"}], \"histogram2dcontour\": [{\"colorbar\": {\"outlinewidth\": 0, \"ticks\": \"\"}, \"colorscale\": [[0.0, \"#0d0887\"], [0.1111111111111111, \"#46039f\"], [0.2222222222222222, \"#7201a8\"], [0.3333333333333333, \"#9c179e\"], [0.4444444444444444, \"#bd3786\"], [0.5555555555555556, \"#d8576b\"], [0.6666666666666666, \"#ed7953\"], [0.7777777777777778, \"#fb9f3a\"], [0.8888888888888888, \"#fdca26\"], [1.0, \"#f0f921\"]], \"type\": \"histogram2dcontour\"}], \"mesh3d\": [{\"colorbar\": {\"outlinewidth\": 0, \"ticks\": \"\"}, \"type\": \"mesh3d\"}], \"parcoords\": [{\"line\": {\"colorbar\": {\"outlinewidth\": 0, \"ticks\": \"\"}}, \"type\": \"parcoords\"}], \"pie\": [{\"automargin\": true, \"type\": \"pie\"}], \"scatter\": [{\"marker\": {\"colorbar\": {\"outlinewidth\": 0, \"ticks\": \"\"}}, \"type\": \"scatter\"}], \"scatter3d\": [{\"line\": {\"colorbar\": {\"outlinewidth\": 0, \"ticks\": \"\"}}, \"marker\": {\"colorbar\": {\"outlinewidth\": 0, \"ticks\": \"\"}}, \"type\": \"scatter3d\"}], \"scattercarpet\": [{\"marker\": {\"colorbar\": {\"outlinewidth\": 0, \"ticks\": \"\"}}, \"type\": \"scattercarpet\"}], \"scattergeo\": [{\"marker\": {\"colorbar\": {\"outlinewidth\": 0, \"ticks\": \"\"}}, \"type\": \"scattergeo\"}], \"scattergl\": [{\"marker\": {\"colorbar\": {\"outlinewidth\": 0, \"ticks\": \"\"}}, \"type\": \"scattergl\"}], \"scattermapbox\": [{\"marker\": {\"colorbar\": {\"outlinewidth\": 0, \"ticks\": \"\"}}, \"type\": \"scattermapbox\"}], \"scatterpolar\": [{\"marker\": {\"colorbar\": {\"outlinewidth\": 0, \"ticks\": \"\"}}, \"type\": \"scatterpolar\"}], \"scatterpolargl\": [{\"marker\": {\"colorbar\": {\"outlinewidth\": 0, \"ticks\": \"\"}}, \"type\": \"scatterpolargl\"}], \"scatterternary\": [{\"marker\": {\"colorbar\": {\"outlinewidth\": 0, \"ticks\": \"\"}}, \"type\": \"scatterternary\"}], \"surface\": [{\"colorbar\": {\"outlinewidth\": 0, \"ticks\": \"\"}, \"colorscale\": [[0.0, \"#0d0887\"], [0.1111111111111111, \"#46039f\"], [0.2222222222222222, \"#7201a8\"], [0.3333333333333333, \"#9c179e\"], [0.4444444444444444, \"#bd3786\"], [0.5555555555555556, \"#d8576b\"], [0.6666666666666666, \"#ed7953\"], [0.7777777777777778, \"#fb9f3a\"], [0.8888888888888888, \"#fdca26\"], [1.0, \"#f0f921\"]], \"type\": \"surface\"}], \"table\": [{\"cells\": {\"fill\": {\"color\": \"#EBF0F8\"}, \"line\": {\"color\": \"white\"}}, \"header\": {\"fill\": {\"color\": \"#C8D4E3\"}, \"line\": {\"color\": \"white\"}}, \"type\": \"table\"}]}, \"layout\": {\"annotationdefaults\": {\"arrowcolor\": \"#2a3f5f\", \"arrowhead\": 0, \"arrowwidth\": 1}, \"coloraxis\": {\"colorbar\": {\"outlinewidth\": 0, \"ticks\": \"\"}}, \"colorscale\": {\"diverging\": [[0, \"#8e0152\"], [0.1, \"#c51b7d\"], [0.2, \"#de77ae\"], [0.3, \"#f1b6da\"], [0.4, \"#fde0ef\"], [0.5, \"#f7f7f7\"], [0.6, \"#e6f5d0\"], [0.7, \"#b8e186\"], [0.8, \"#7fbc41\"], [0.9, \"#4d9221\"], [1, \"#276419\"]], \"sequential\": [[0.0, \"#0d0887\"], [0.1111111111111111, \"#46039f\"], [0.2222222222222222, \"#7201a8\"], [0.3333333333333333, \"#9c179e\"], [0.4444444444444444, \"#bd3786\"], [0.5555555555555556, \"#d8576b\"], [0.6666666666666666, \"#ed7953\"], [0.7777777777777778, \"#fb9f3a\"], [0.8888888888888888, \"#fdca26\"], [1.0, \"#f0f921\"]], \"sequentialminus\": [[0.0, \"#0d0887\"], [0.1111111111111111, \"#46039f\"], [0.2222222222222222, \"#7201a8\"], [0.3333333333333333, \"#9c179e\"], [0.4444444444444444, \"#bd3786\"], [0.5555555555555556, \"#d8576b\"], [0.6666666666666666, \"#ed7953\"], [0.7777777777777778, \"#fb9f3a\"], [0.8888888888888888, \"#fdca26\"], [1.0, \"#f0f921\"]]}, \"colorway\": [\"#636efa\", \"#EF553B\", \"#00cc96\", \"#ab63fa\", \"#FFA15A\", \"#19d3f3\", \"#FF6692\", \"#B6E880\", \"#FF97FF\", \"#FECB52\"], \"font\": {\"color\": \"#2a3f5f\"}, \"geo\": {\"bgcolor\": \"white\", \"lakecolor\": \"white\", \"landcolor\": \"#E5ECF6\", \"showlakes\": true, \"showland\": true, \"subunitcolor\": \"white\"}, \"hoverlabel\": {\"align\": \"left\"}, \"hovermode\": \"closest\", \"mapbox\": {\"style\": \"light\"}, \"paper_bgcolor\": \"white\", \"plot_bgcolor\": \"#E5ECF6\", \"polar\": {\"angularaxis\": {\"gridcolor\": \"white\", \"linecolor\": \"white\", \"ticks\": \"\"}, \"bgcolor\": \"#E5ECF6\", \"radialaxis\": {\"gridcolor\": \"white\", \"linecolor\": \"white\", \"ticks\": \"\"}}, \"scene\": {\"xaxis\": {\"backgroundcolor\": \"#E5ECF6\", \"gridcolor\": \"white\", \"gridwidth\": 2, \"linecolor\": \"white\", \"showbackground\": true, \"ticks\": \"\", \"zerolinecolor\": \"white\"}, \"yaxis\": {\"backgroundcolor\": \"#E5ECF6\", \"gridcolor\": \"white\", \"gridwidth\": 2, \"linecolor\": \"white\", \"showbackground\": true, \"ticks\": \"\", \"zerolinecolor\": \"white\"}, \"zaxis\": {\"backgroundcolor\": \"#E5ECF6\", \"gridcolor\": \"white\", \"gridwidth\": 2, \"linecolor\": \"white\", \"showbackground\": true, \"ticks\": \"\", \"zerolinecolor\": \"white\"}}, \"shapedefaults\": {\"line\": {\"color\": \"#2a3f5f\"}}, \"ternary\": {\"aaxis\": {\"gridcolor\": \"white\", \"linecolor\": \"white\", \"ticks\": \"\"}, \"baxis\": {\"gridcolor\": \"white\", \"linecolor\": \"white\", \"ticks\": \"\"}, \"bgcolor\": \"#E5ECF6\", \"caxis\": {\"gridcolor\": \"white\", \"linecolor\": \"white\", \"ticks\": \"\"}}, \"title\": {\"x\": 0.05}, \"xaxis\": {\"automargin\": true, \"gridcolor\": \"white\", \"linecolor\": \"white\", \"ticks\": \"\", \"title\": {\"standoff\": 15}, \"zerolinecolor\": \"white\", \"zerolinewidth\": 2}, \"yaxis\": {\"automargin\": true, \"gridcolor\": \"white\", \"linecolor\": \"white\", \"ticks\": \"\", \"title\": {\"standoff\": 15}, \"zerolinecolor\": \"white\", \"zerolinewidth\": 2}}}, \"title\": {\"font\": {\"color\": \"#4D5663\"}}, \"xaxis\": {\"gridcolor\": \"#E1E5ED\", \"showgrid\": true, \"tickfont\": {\"color\": \"#4D5663\"}, \"title\": {\"font\": {\"color\": \"#4D5663\"}, \"text\": \"\"}, \"zerolinecolor\": \"#E1E5ED\"}, \"yaxis\": {\"gridcolor\": \"#E1E5ED\", \"showgrid\": true, \"tickfont\": {\"color\": \"#4D5663\"}, \"title\": {\"font\": {\"color\": \"#4D5663\"}, \"text\": \"\"}, \"zerolinecolor\": \"#E1E5ED\"}},\n",
       "                        {\"showLink\": true, \"linkText\": \"Export to plot.ly\", \"plotlyServerURL\": \"https://plot.ly\", \"responsive\": true}\n",
       "                    ).then(function(){\n",
       "                            \n",
       "var gd = document.getElementById('7c750018-4b64-4fba-8e69-a4ed68e47d96');\n",
       "var x = new MutationObserver(function (mutations, observer) {{\n",
       "        var display = window.getComputedStyle(gd).display;\n",
       "        if (!display || display === 'none') {{\n",
       "            console.log([gd, 'removed!']);\n",
       "            Plotly.purge(gd);\n",
       "            observer.disconnect();\n",
       "        }}\n",
       "}});\n",
       "\n",
       "// Listen for the removal of the full notebook cells\n",
       "var notebookContainer = gd.closest('#notebook-container');\n",
       "if (notebookContainer) {{\n",
       "    x.observe(notebookContainer, {childList: true});\n",
       "}}\n",
       "\n",
       "// Listen for the clearing of the current output cell\n",
       "var outputEl = gd.closest('.output');\n",
       "if (outputEl) {{\n",
       "    x.observe(outputEl, {childList: true});\n",
       "}}\n",
       "\n",
       "                        })\n",
       "                };\n",
       "                });\n",
       "            </script>\n",
       "        </div>"
      ]
     },
     "metadata": {},
     "output_type": "display_data"
    }
   ],
   "source": [
    "df.iplot(kind=\"hist\") #sağ taraftan on/off yaparak karşılaştırma yapabiliriz"
   ]
  },
  {
   "cell_type": "code",
   "execution_count": 38,
   "metadata": {},
   "outputs": [
    {
     "data": {
      "application/vnd.plotly.v1+json": {
       "config": {
        "linkText": "Export to plot.ly",
        "plotlyServerURL": "https://plot.ly",
        "showLink": true
       },
       "data": [
        {
         "marker": {
          "color": [
           "rgb(255, 153, 51)",
           "rgb(55, 128, 191)",
           "rgb(50, 171, 96)",
           "rgb(128, 0, 128)",
           "rgb(219, 64, 82)",
           "rgb(0, 128, 128)",
           "rgb(255, 255, 51)",
           "rgb(128, 128, 0)",
           "rgb(251, 128, 114)",
           "rgb(128, 177, 211)"
          ],
          "line": {
           "width": 1.3
          },
          "size": [
           94,
           103,
           35,
           83,
           62,
           72,
           78,
           94,
           74,
           78,
           81,
           91,
           72,
           57,
           71,
           12,
           80,
           43,
           98,
           56,
           44,
           47,
           79,
           66,
           63,
           58,
           38,
           44,
           31,
           97,
           62,
           24,
           26,
           52,
           56,
           52,
           83,
           59,
           93,
           81,
           56,
           94,
           65,
           86,
           81,
           104,
           79,
           99,
           87,
           74,
           79,
           44,
           63,
           76,
           37,
           48,
           59,
           25,
           68,
           112,
           75,
           93,
           34,
           78,
           19,
           76,
           85,
           84,
           100,
           62,
           63,
           44,
           53,
           85,
           102,
           69,
           47,
           88,
           74,
           107,
           30,
           48,
           67,
           72,
           65,
           54,
           79,
           52,
           65,
           66,
           89,
           88,
           35,
           93,
           74,
           81,
           72,
           47,
           63,
           85
          ],
          "symbol": "circle"
         },
         "mode": "markers",
         "text": "",
         "type": "scatter",
         "x": [
          -0.8224878330406368,
          -0.10471106442069328,
          -2.769584391084238,
          -2.2424162672391885,
          0.490203066976595,
          2.8691407911563673,
          -0.0803435729235115,
          -0.12115858301628984,
          1.0499603993850388,
          1.1283694551511767,
          1.8380934783110614,
          0.4645233310960621,
          -0.3486835398494006,
          0.9664744927848891,
          -0.33835704495058144,
          -1.28473461375488,
          1.7985504608251153,
          1.1553157661273779,
          0.4134915078299442,
          0.7475612530709317,
          0.4201660768259774,
          0.07722115747936044,
          1.0221609726299972,
          -1.077323357084743,
          -0.34977897732417185,
          1.3733646137384052,
          -0.15833165590252143,
          1.4947517994373962,
          -0.38989674078583964,
          -0.5243134691725355,
          -1.097052749096775,
          1.054960626543361,
          1.5146706425888474,
          0.40891220981344617,
          -0.03669418351965464,
          -0.13067256359666868,
          -1.3643656789650926,
          1.3642052302623737,
          0.3013624226546742,
          -1.604831448237099,
          1.9936387069916879,
          -0.7344022390099565,
          -1.0909182813824605,
          0.7899232933086707,
          -0.7888330616466801,
          0.24423391011295395,
          -1.433561400695055,
          -0.8051710423228607,
          1.3878930883952874,
          -0.23677373547589425,
          1.4198942689724774,
          -0.8583559909421177,
          -0.5094931311348392,
          -0.29723488125835085,
          1.4666563744515433,
          -0.5961247866543091,
          0.38967071033631834,
          0.9968517939347469,
          -1.2518718953723809,
          0.25183778792382366,
          0.6679256901564015,
          0.996754273254323,
          0.12748412059035386,
          -0.3186507334386617,
          0.8058549264472583,
          0.793026285047879,
          0.2345960517139365,
          0.42175178151213183,
          -1.9211488472442586,
          0.1219224349688401,
          0.05176320596206913,
          -0.3497984577725166,
          0.456054887712555,
          0.07617950164554171,
          1.3404993482278846,
          0.14392955845017877,
          -1.138648683092966,
          1.494168391233162,
          0.029884199072675432,
          -0.10405794060352479,
          -0.28770790124207524,
          -1.4419491390038417,
          0.5682946601649805,
          0.21954096821881025,
          -0.16217288802578836,
          0.9521454603349894,
          0.13231876090108707,
          0.12117149081466017,
          -0.9367090923602004,
          1.264286886996742,
          1.9986274543811504,
          0.6872677252241897,
          0.23490617405340217,
          0.1779749622995297,
          0.20027271975265543,
          -1.7896732465301717,
          -0.38825505562436735,
          0.6518389289274054,
          1.4429880702473201,
          1.085490258313375
         ],
         "y": [
          -0.10516366801878904,
          1.0053383313461546,
          0.7711355623806072,
          -0.9585361003596985,
          1.413791782075609,
          -0.011999672475143592,
          -0.2332276829472234,
          0.9994963176647628,
          0.8010134369014502,
          -0.462304224009063,
          1.1184462932071981,
          -0.589992861130369,
          -2.407485278886959,
          -0.7466993868046775,
          -0.4473733557949075,
          0.3805477134400745,
          2.336840387236904,
          0.43387049430242997,
          0.8152523192214589,
          0.6089888934661134,
          -1.526454646964997,
          -1.3206012488138623,
          -1.0431640274931064,
          0.7749127003189561,
          -0.2493808914655523,
          1.458109788045986,
          1.4404921519603873,
          -0.9441221138653232,
          0.2732931046600395,
          0.670748994079489,
          1.2851525315752468,
          -1.7303505300847168,
          0.2564344283676181,
          1.0512380697522659,
          0.7990793338822009,
          -0.8273449445815736,
          -0.13302628947133086,
          1.151813367457789,
          -0.8116827986139052,
          0.16250672924139484,
          0.6119741800924526,
          -0.12623253101768572,
          -0.645412471356651,
          0.21225836348979263,
          0.9828919578145259,
          -1.0640505904153608,
          0.8606516119398787,
          -0.03836903085700935,
          -1.029494471649252,
          1.5927070980793128,
          0.345091231227057,
          0.19380779779508553,
          -1.2171439092573397,
          -1.1221298763480816,
          -0.71548838463745,
          0.8618914945926935,
          0.8709948734880736,
          1.3214572814137557,
          0.3656583698395165,
          -1.0611358360980878,
          2.6045600811046117,
          0.29786624169468395,
          -1.2181968397107135,
          0.005947039893275675,
          -0.9217262323903322,
          0.43250191129540305,
          -2.059956112643729,
          -0.24783647778024964,
          -0.825755005236759,
          0.5104517899980096,
          0.7756766680790673,
          -0.6948728890863228,
          0.10526112030629592,
          0.595048497478357,
          -0.9684246545495997,
          0.9805904389899971,
          -0.5150824233574389,
          -1.8701413759264716,
          0.045707577044487815,
          -1.1812227615164517,
          -0.47919058861042635,
          0.2020800241922994,
          -1.0295277726875516,
          -0.8007147666280858,
          -1.1849668586810944,
          -1.8499115869420633,
          -0.5969137115751699,
          1.48710606342048,
          0.5010826710528153,
          0.23312570917424857,
          0.4466191745148875,
          -0.7773227430247127,
          0.05908523285531262,
          -0.411275094211949,
          -1.090825864124665,
          0.2214935949606966,
          1.3352016027920028,
          -0.11906672568050544,
          -1.7799645711470489,
          1.4945027836142082
         ]
        }
       ],
       "layout": {
        "legend": {
         "bgcolor": "#F5F6F9",
         "font": {
          "color": "#4D5663"
         }
        },
        "paper_bgcolor": "#F5F6F9",
        "plot_bgcolor": "#F5F6F9",
        "template": {
         "data": {
          "bar": [
           {
            "error_x": {
             "color": "#2a3f5f"
            },
            "error_y": {
             "color": "#2a3f5f"
            },
            "marker": {
             "line": {
              "color": "#E5ECF6",
              "width": 0.5
             }
            },
            "type": "bar"
           }
          ],
          "barpolar": [
           {
            "marker": {
             "line": {
              "color": "#E5ECF6",
              "width": 0.5
             }
            },
            "type": "barpolar"
           }
          ],
          "carpet": [
           {
            "aaxis": {
             "endlinecolor": "#2a3f5f",
             "gridcolor": "white",
             "linecolor": "white",
             "minorgridcolor": "white",
             "startlinecolor": "#2a3f5f"
            },
            "baxis": {
             "endlinecolor": "#2a3f5f",
             "gridcolor": "white",
             "linecolor": "white",
             "minorgridcolor": "white",
             "startlinecolor": "#2a3f5f"
            },
            "type": "carpet"
           }
          ],
          "choropleth": [
           {
            "colorbar": {
             "outlinewidth": 0,
             "ticks": ""
            },
            "type": "choropleth"
           }
          ],
          "contour": [
           {
            "colorbar": {
             "outlinewidth": 0,
             "ticks": ""
            },
            "colorscale": [
             [
              0,
              "#0d0887"
             ],
             [
              0.1111111111111111,
              "#46039f"
             ],
             [
              0.2222222222222222,
              "#7201a8"
             ],
             [
              0.3333333333333333,
              "#9c179e"
             ],
             [
              0.4444444444444444,
              "#bd3786"
             ],
             [
              0.5555555555555556,
              "#d8576b"
             ],
             [
              0.6666666666666666,
              "#ed7953"
             ],
             [
              0.7777777777777778,
              "#fb9f3a"
             ],
             [
              0.8888888888888888,
              "#fdca26"
             ],
             [
              1,
              "#f0f921"
             ]
            ],
            "type": "contour"
           }
          ],
          "contourcarpet": [
           {
            "colorbar": {
             "outlinewidth": 0,
             "ticks": ""
            },
            "type": "contourcarpet"
           }
          ],
          "heatmap": [
           {
            "colorbar": {
             "outlinewidth": 0,
             "ticks": ""
            },
            "colorscale": [
             [
              0,
              "#0d0887"
             ],
             [
              0.1111111111111111,
              "#46039f"
             ],
             [
              0.2222222222222222,
              "#7201a8"
             ],
             [
              0.3333333333333333,
              "#9c179e"
             ],
             [
              0.4444444444444444,
              "#bd3786"
             ],
             [
              0.5555555555555556,
              "#d8576b"
             ],
             [
              0.6666666666666666,
              "#ed7953"
             ],
             [
              0.7777777777777778,
              "#fb9f3a"
             ],
             [
              0.8888888888888888,
              "#fdca26"
             ],
             [
              1,
              "#f0f921"
             ]
            ],
            "type": "heatmap"
           }
          ],
          "heatmapgl": [
           {
            "colorbar": {
             "outlinewidth": 0,
             "ticks": ""
            },
            "colorscale": [
             [
              0,
              "#0d0887"
             ],
             [
              0.1111111111111111,
              "#46039f"
             ],
             [
              0.2222222222222222,
              "#7201a8"
             ],
             [
              0.3333333333333333,
              "#9c179e"
             ],
             [
              0.4444444444444444,
              "#bd3786"
             ],
             [
              0.5555555555555556,
              "#d8576b"
             ],
             [
              0.6666666666666666,
              "#ed7953"
             ],
             [
              0.7777777777777778,
              "#fb9f3a"
             ],
             [
              0.8888888888888888,
              "#fdca26"
             ],
             [
              1,
              "#f0f921"
             ]
            ],
            "type": "heatmapgl"
           }
          ],
          "histogram": [
           {
            "marker": {
             "colorbar": {
              "outlinewidth": 0,
              "ticks": ""
             }
            },
            "type": "histogram"
           }
          ],
          "histogram2d": [
           {
            "colorbar": {
             "outlinewidth": 0,
             "ticks": ""
            },
            "colorscale": [
             [
              0,
              "#0d0887"
             ],
             [
              0.1111111111111111,
              "#46039f"
             ],
             [
              0.2222222222222222,
              "#7201a8"
             ],
             [
              0.3333333333333333,
              "#9c179e"
             ],
             [
              0.4444444444444444,
              "#bd3786"
             ],
             [
              0.5555555555555556,
              "#d8576b"
             ],
             [
              0.6666666666666666,
              "#ed7953"
             ],
             [
              0.7777777777777778,
              "#fb9f3a"
             ],
             [
              0.8888888888888888,
              "#fdca26"
             ],
             [
              1,
              "#f0f921"
             ]
            ],
            "type": "histogram2d"
           }
          ],
          "histogram2dcontour": [
           {
            "colorbar": {
             "outlinewidth": 0,
             "ticks": ""
            },
            "colorscale": [
             [
              0,
              "#0d0887"
             ],
             [
              0.1111111111111111,
              "#46039f"
             ],
             [
              0.2222222222222222,
              "#7201a8"
             ],
             [
              0.3333333333333333,
              "#9c179e"
             ],
             [
              0.4444444444444444,
              "#bd3786"
             ],
             [
              0.5555555555555556,
              "#d8576b"
             ],
             [
              0.6666666666666666,
              "#ed7953"
             ],
             [
              0.7777777777777778,
              "#fb9f3a"
             ],
             [
              0.8888888888888888,
              "#fdca26"
             ],
             [
              1,
              "#f0f921"
             ]
            ],
            "type": "histogram2dcontour"
           }
          ],
          "mesh3d": [
           {
            "colorbar": {
             "outlinewidth": 0,
             "ticks": ""
            },
            "type": "mesh3d"
           }
          ],
          "parcoords": [
           {
            "line": {
             "colorbar": {
              "outlinewidth": 0,
              "ticks": ""
             }
            },
            "type": "parcoords"
           }
          ],
          "pie": [
           {
            "automargin": true,
            "type": "pie"
           }
          ],
          "scatter": [
           {
            "marker": {
             "colorbar": {
              "outlinewidth": 0,
              "ticks": ""
             }
            },
            "type": "scatter"
           }
          ],
          "scatter3d": [
           {
            "line": {
             "colorbar": {
              "outlinewidth": 0,
              "ticks": ""
             }
            },
            "marker": {
             "colorbar": {
              "outlinewidth": 0,
              "ticks": ""
             }
            },
            "type": "scatter3d"
           }
          ],
          "scattercarpet": [
           {
            "marker": {
             "colorbar": {
              "outlinewidth": 0,
              "ticks": ""
             }
            },
            "type": "scattercarpet"
           }
          ],
          "scattergeo": [
           {
            "marker": {
             "colorbar": {
              "outlinewidth": 0,
              "ticks": ""
             }
            },
            "type": "scattergeo"
           }
          ],
          "scattergl": [
           {
            "marker": {
             "colorbar": {
              "outlinewidth": 0,
              "ticks": ""
             }
            },
            "type": "scattergl"
           }
          ],
          "scattermapbox": [
           {
            "marker": {
             "colorbar": {
              "outlinewidth": 0,
              "ticks": ""
             }
            },
            "type": "scattermapbox"
           }
          ],
          "scatterpolar": [
           {
            "marker": {
             "colorbar": {
              "outlinewidth": 0,
              "ticks": ""
             }
            },
            "type": "scatterpolar"
           }
          ],
          "scatterpolargl": [
           {
            "marker": {
             "colorbar": {
              "outlinewidth": 0,
              "ticks": ""
             }
            },
            "type": "scatterpolargl"
           }
          ],
          "scatterternary": [
           {
            "marker": {
             "colorbar": {
              "outlinewidth": 0,
              "ticks": ""
             }
            },
            "type": "scatterternary"
           }
          ],
          "surface": [
           {
            "colorbar": {
             "outlinewidth": 0,
             "ticks": ""
            },
            "colorscale": [
             [
              0,
              "#0d0887"
             ],
             [
              0.1111111111111111,
              "#46039f"
             ],
             [
              0.2222222222222222,
              "#7201a8"
             ],
             [
              0.3333333333333333,
              "#9c179e"
             ],
             [
              0.4444444444444444,
              "#bd3786"
             ],
             [
              0.5555555555555556,
              "#d8576b"
             ],
             [
              0.6666666666666666,
              "#ed7953"
             ],
             [
              0.7777777777777778,
              "#fb9f3a"
             ],
             [
              0.8888888888888888,
              "#fdca26"
             ],
             [
              1,
              "#f0f921"
             ]
            ],
            "type": "surface"
           }
          ],
          "table": [
           {
            "cells": {
             "fill": {
              "color": "#EBF0F8"
             },
             "line": {
              "color": "white"
             }
            },
            "header": {
             "fill": {
              "color": "#C8D4E3"
             },
             "line": {
              "color": "white"
             }
            },
            "type": "table"
           }
          ]
         },
         "layout": {
          "annotationdefaults": {
           "arrowcolor": "#2a3f5f",
           "arrowhead": 0,
           "arrowwidth": 1
          },
          "coloraxis": {
           "colorbar": {
            "outlinewidth": 0,
            "ticks": ""
           }
          },
          "colorscale": {
           "diverging": [
            [
             0,
             "#8e0152"
            ],
            [
             0.1,
             "#c51b7d"
            ],
            [
             0.2,
             "#de77ae"
            ],
            [
             0.3,
             "#f1b6da"
            ],
            [
             0.4,
             "#fde0ef"
            ],
            [
             0.5,
             "#f7f7f7"
            ],
            [
             0.6,
             "#e6f5d0"
            ],
            [
             0.7,
             "#b8e186"
            ],
            [
             0.8,
             "#7fbc41"
            ],
            [
             0.9,
             "#4d9221"
            ],
            [
             1,
             "#276419"
            ]
           ],
           "sequential": [
            [
             0,
             "#0d0887"
            ],
            [
             0.1111111111111111,
             "#46039f"
            ],
            [
             0.2222222222222222,
             "#7201a8"
            ],
            [
             0.3333333333333333,
             "#9c179e"
            ],
            [
             0.4444444444444444,
             "#bd3786"
            ],
            [
             0.5555555555555556,
             "#d8576b"
            ],
            [
             0.6666666666666666,
             "#ed7953"
            ],
            [
             0.7777777777777778,
             "#fb9f3a"
            ],
            [
             0.8888888888888888,
             "#fdca26"
            ],
            [
             1,
             "#f0f921"
            ]
           ],
           "sequentialminus": [
            [
             0,
             "#0d0887"
            ],
            [
             0.1111111111111111,
             "#46039f"
            ],
            [
             0.2222222222222222,
             "#7201a8"
            ],
            [
             0.3333333333333333,
             "#9c179e"
            ],
            [
             0.4444444444444444,
             "#bd3786"
            ],
            [
             0.5555555555555556,
             "#d8576b"
            ],
            [
             0.6666666666666666,
             "#ed7953"
            ],
            [
             0.7777777777777778,
             "#fb9f3a"
            ],
            [
             0.8888888888888888,
             "#fdca26"
            ],
            [
             1,
             "#f0f921"
            ]
           ]
          },
          "colorway": [
           "#636efa",
           "#EF553B",
           "#00cc96",
           "#ab63fa",
           "#FFA15A",
           "#19d3f3",
           "#FF6692",
           "#B6E880",
           "#FF97FF",
           "#FECB52"
          ],
          "font": {
           "color": "#2a3f5f"
          },
          "geo": {
           "bgcolor": "white",
           "lakecolor": "white",
           "landcolor": "#E5ECF6",
           "showlakes": true,
           "showland": true,
           "subunitcolor": "white"
          },
          "hoverlabel": {
           "align": "left"
          },
          "hovermode": "closest",
          "mapbox": {
           "style": "light"
          },
          "paper_bgcolor": "white",
          "plot_bgcolor": "#E5ECF6",
          "polar": {
           "angularaxis": {
            "gridcolor": "white",
            "linecolor": "white",
            "ticks": ""
           },
           "bgcolor": "#E5ECF6",
           "radialaxis": {
            "gridcolor": "white",
            "linecolor": "white",
            "ticks": ""
           }
          },
          "scene": {
           "xaxis": {
            "backgroundcolor": "#E5ECF6",
            "gridcolor": "white",
            "gridwidth": 2,
            "linecolor": "white",
            "showbackground": true,
            "ticks": "",
            "zerolinecolor": "white"
           },
           "yaxis": {
            "backgroundcolor": "#E5ECF6",
            "gridcolor": "white",
            "gridwidth": 2,
            "linecolor": "white",
            "showbackground": true,
            "ticks": "",
            "zerolinecolor": "white"
           },
           "zaxis": {
            "backgroundcolor": "#E5ECF6",
            "gridcolor": "white",
            "gridwidth": 2,
            "linecolor": "white",
            "showbackground": true,
            "ticks": "",
            "zerolinecolor": "white"
           }
          },
          "shapedefaults": {
           "line": {
            "color": "#2a3f5f"
           }
          },
          "ternary": {
           "aaxis": {
            "gridcolor": "white",
            "linecolor": "white",
            "ticks": ""
           },
           "baxis": {
            "gridcolor": "white",
            "linecolor": "white",
            "ticks": ""
           },
           "bgcolor": "#E5ECF6",
           "caxis": {
            "gridcolor": "white",
            "linecolor": "white",
            "ticks": ""
           }
          },
          "title": {
           "x": 0.05
          },
          "xaxis": {
           "automargin": true,
           "gridcolor": "white",
           "linecolor": "white",
           "ticks": "",
           "title": {
            "standoff": 15
           },
           "zerolinecolor": "white",
           "zerolinewidth": 2
          },
          "yaxis": {
           "automargin": true,
           "gridcolor": "white",
           "linecolor": "white",
           "ticks": "",
           "title": {
            "standoff": 15
           },
           "zerolinecolor": "white",
           "zerolinewidth": 2
          }
         }
        },
        "title": {
         "font": {
          "color": "#4D5663"
         }
        },
        "xaxis": {
         "gridcolor": "#E1E5ED",
         "showgrid": true,
         "tickfont": {
          "color": "#4D5663"
         },
         "title": {
          "font": {
           "color": "#4D5663"
          },
          "text": ""
         },
         "zerolinecolor": "#E1E5ED"
        },
        "yaxis": {
         "gridcolor": "#E1E5ED",
         "showgrid": true,
         "tickfont": {
          "color": "#4D5663"
         },
         "title": {
          "font": {
           "color": "#4D5663"
          },
          "text": ""
         },
         "zerolinecolor": "#E1E5ED"
        }
       }
      },
      "text/html": [
       "<div>\n",
       "        \n",
       "        \n",
       "            <div id=\"0dc5bdbe-f0bf-4621-8904-ade4e10a8bef\" class=\"plotly-graph-div\" style=\"height:525px; width:100%;\"></div>\n",
       "            <script type=\"text/javascript\">\n",
       "                require([\"plotly\"], function(Plotly) {\n",
       "                    window.PLOTLYENV=window.PLOTLYENV || {};\n",
       "                    window.PLOTLYENV.BASE_URL='https://plot.ly';\n",
       "                    \n",
       "                if (document.getElementById(\"0dc5bdbe-f0bf-4621-8904-ade4e10a8bef\")) {\n",
       "                    Plotly.newPlot(\n",
       "                        '0dc5bdbe-f0bf-4621-8904-ade4e10a8bef',\n",
       "                        [{\"marker\": {\"color\": [\"rgb(255, 153, 51)\", \"rgb(55, 128, 191)\", \"rgb(50, 171, 96)\", \"rgb(128, 0, 128)\", \"rgb(219, 64, 82)\", \"rgb(0, 128, 128)\", \"rgb(255, 255, 51)\", \"rgb(128, 128, 0)\", \"rgb(251, 128, 114)\", \"rgb(128, 177, 211)\"], \"line\": {\"width\": 1.3}, \"size\": [94, 103, 35, 83, 62, 72, 78, 94, 74, 78, 81, 91, 72, 57, 71, 12, 80, 43, 98, 56, 44, 47, 79, 66, 63, 58, 38, 44, 31, 97, 62, 24, 26, 52, 56, 52, 83, 59, 93, 81, 56, 94, 65, 86, 81, 104, 79, 99, 87, 74, 79, 44, 63, 76, 37, 48, 59, 25, 68, 112, 75, 93, 34, 78, 19, 76, 85, 84, 100, 62, 63, 44, 53, 85, 102, 69, 47, 88, 74, 107, 30, 48, 67, 72, 65, 54, 79, 52, 65, 66, 89, 88, 35, 93, 74, 81, 72, 47, 63, 85], \"symbol\": \"circle\"}, \"mode\": \"markers\", \"text\": \"\", \"type\": \"scatter\", \"x\": [-0.8224878330406368, -0.10471106442069328, -2.769584391084238, -2.2424162672391885, 0.490203066976595, 2.8691407911563673, -0.0803435729235115, -0.12115858301628984, 1.0499603993850388, 1.1283694551511767, 1.8380934783110614, 0.4645233310960621, -0.3486835398494006, 0.9664744927848891, -0.33835704495058144, -1.28473461375488, 1.7985504608251153, 1.1553157661273779, 0.4134915078299442, 0.7475612530709317, 0.4201660768259774, 0.07722115747936044, 1.0221609726299972, -1.077323357084743, -0.34977897732417185, 1.3733646137384052, -0.15833165590252143, 1.4947517994373962, -0.38989674078583964, -0.5243134691725355, -1.097052749096775, 1.054960626543361, 1.5146706425888474, 0.40891220981344617, -0.03669418351965464, -0.13067256359666868, -1.3643656789650926, 1.3642052302623737, 0.3013624226546742, -1.604831448237099, 1.9936387069916879, -0.7344022390099565, -1.0909182813824605, 0.7899232933086707, -0.7888330616466801, 0.24423391011295395, -1.433561400695055, -0.8051710423228607, 1.3878930883952874, -0.23677373547589425, 1.4198942689724774, -0.8583559909421177, -0.5094931311348392, -0.29723488125835085, 1.4666563744515433, -0.5961247866543091, 0.38967071033631834, 0.9968517939347469, -1.2518718953723809, 0.25183778792382366, 0.6679256901564015, 0.996754273254323, 0.12748412059035386, -0.3186507334386617, 0.8058549264472583, 0.793026285047879, 0.2345960517139365, 0.42175178151213183, -1.9211488472442586, 0.1219224349688401, 0.05176320596206913, -0.3497984577725166, 0.456054887712555, 0.07617950164554171, 1.3404993482278846, 0.14392955845017877, -1.138648683092966, 1.494168391233162, 0.029884199072675432, -0.10405794060352479, -0.28770790124207524, -1.4419491390038417, 0.5682946601649805, 0.21954096821881025, -0.16217288802578836, 0.9521454603349894, 0.13231876090108707, 0.12117149081466017, -0.9367090923602004, 1.264286886996742, 1.9986274543811504, 0.6872677252241897, 0.23490617405340217, 0.1779749622995297, 0.20027271975265543, -1.7896732465301717, -0.38825505562436735, 0.6518389289274054, 1.4429880702473201, 1.085490258313375], \"y\": [-0.10516366801878904, 1.0053383313461546, 0.7711355623806072, -0.9585361003596985, 1.413791782075609, -0.011999672475143592, -0.2332276829472234, 0.9994963176647628, 0.8010134369014502, -0.462304224009063, 1.1184462932071981, -0.589992861130369, -2.407485278886959, -0.7466993868046775, -0.4473733557949075, 0.3805477134400745, 2.336840387236904, 0.43387049430242997, 0.8152523192214589, 0.6089888934661134, -1.526454646964997, -1.3206012488138623, -1.0431640274931064, 0.7749127003189561, -0.2493808914655523, 1.458109788045986, 1.4404921519603873, -0.9441221138653232, 0.2732931046600395, 0.670748994079489, 1.2851525315752468, -1.7303505300847168, 0.2564344283676181, 1.0512380697522659, 0.7990793338822009, -0.8273449445815736, -0.13302628947133086, 1.151813367457789, -0.8116827986139052, 0.16250672924139484, 0.6119741800924526, -0.12623253101768572, -0.645412471356651, 0.21225836348979263, 0.9828919578145259, -1.0640505904153608, 0.8606516119398787, -0.03836903085700935, -1.029494471649252, 1.5927070980793128, 0.345091231227057, 0.19380779779508553, -1.2171439092573397, -1.1221298763480816, -0.71548838463745, 0.8618914945926935, 0.8709948734880736, 1.3214572814137557, 0.3656583698395165, -1.0611358360980878, 2.6045600811046117, 0.29786624169468395, -1.2181968397107135, 0.005947039893275675, -0.9217262323903322, 0.43250191129540305, -2.059956112643729, -0.24783647778024964, -0.825755005236759, 0.5104517899980096, 0.7756766680790673, -0.6948728890863228, 0.10526112030629592, 0.595048497478357, -0.9684246545495997, 0.9805904389899971, -0.5150824233574389, -1.8701413759264716, 0.045707577044487815, -1.1812227615164517, -0.47919058861042635, 0.2020800241922994, -1.0295277726875516, -0.8007147666280858, -1.1849668586810944, -1.8499115869420633, -0.5969137115751699, 1.48710606342048, 0.5010826710528153, 0.23312570917424857, 0.4466191745148875, -0.7773227430247127, 0.05908523285531262, -0.411275094211949, -1.090825864124665, 0.2214935949606966, 1.3352016027920028, -0.11906672568050544, -1.7799645711470489, 1.4945027836142082]}],\n",
       "                        {\"legend\": {\"bgcolor\": \"#F5F6F9\", \"font\": {\"color\": \"#4D5663\"}}, \"paper_bgcolor\": \"#F5F6F9\", \"plot_bgcolor\": \"#F5F6F9\", \"template\": {\"data\": {\"bar\": [{\"error_x\": {\"color\": \"#2a3f5f\"}, \"error_y\": {\"color\": \"#2a3f5f\"}, \"marker\": {\"line\": {\"color\": \"#E5ECF6\", \"width\": 0.5}}, \"type\": \"bar\"}], \"barpolar\": [{\"marker\": {\"line\": {\"color\": \"#E5ECF6\", \"width\": 0.5}}, \"type\": \"barpolar\"}], \"carpet\": [{\"aaxis\": {\"endlinecolor\": \"#2a3f5f\", \"gridcolor\": \"white\", \"linecolor\": \"white\", \"minorgridcolor\": \"white\", \"startlinecolor\": \"#2a3f5f\"}, \"baxis\": {\"endlinecolor\": \"#2a3f5f\", \"gridcolor\": \"white\", \"linecolor\": \"white\", \"minorgridcolor\": \"white\", \"startlinecolor\": \"#2a3f5f\"}, \"type\": \"carpet\"}], \"choropleth\": [{\"colorbar\": {\"outlinewidth\": 0, \"ticks\": \"\"}, \"type\": \"choropleth\"}], \"contour\": [{\"colorbar\": {\"outlinewidth\": 0, \"ticks\": \"\"}, \"colorscale\": [[0.0, \"#0d0887\"], [0.1111111111111111, \"#46039f\"], [0.2222222222222222, \"#7201a8\"], [0.3333333333333333, \"#9c179e\"], [0.4444444444444444, \"#bd3786\"], [0.5555555555555556, \"#d8576b\"], [0.6666666666666666, \"#ed7953\"], [0.7777777777777778, \"#fb9f3a\"], [0.8888888888888888, \"#fdca26\"], [1.0, \"#f0f921\"]], \"type\": \"contour\"}], \"contourcarpet\": [{\"colorbar\": {\"outlinewidth\": 0, \"ticks\": \"\"}, \"type\": \"contourcarpet\"}], \"heatmap\": [{\"colorbar\": {\"outlinewidth\": 0, \"ticks\": \"\"}, \"colorscale\": [[0.0, \"#0d0887\"], [0.1111111111111111, \"#46039f\"], [0.2222222222222222, \"#7201a8\"], [0.3333333333333333, \"#9c179e\"], [0.4444444444444444, \"#bd3786\"], [0.5555555555555556, \"#d8576b\"], [0.6666666666666666, \"#ed7953\"], [0.7777777777777778, \"#fb9f3a\"], [0.8888888888888888, \"#fdca26\"], [1.0, \"#f0f921\"]], \"type\": \"heatmap\"}], \"heatmapgl\": [{\"colorbar\": {\"outlinewidth\": 0, \"ticks\": \"\"}, \"colorscale\": [[0.0, \"#0d0887\"], [0.1111111111111111, \"#46039f\"], [0.2222222222222222, \"#7201a8\"], [0.3333333333333333, \"#9c179e\"], [0.4444444444444444, \"#bd3786\"], [0.5555555555555556, \"#d8576b\"], [0.6666666666666666, \"#ed7953\"], [0.7777777777777778, \"#fb9f3a\"], [0.8888888888888888, \"#fdca26\"], [1.0, \"#f0f921\"]], \"type\": \"heatmapgl\"}], \"histogram\": [{\"marker\": {\"colorbar\": {\"outlinewidth\": 0, \"ticks\": \"\"}}, \"type\": \"histogram\"}], \"histogram2d\": [{\"colorbar\": {\"outlinewidth\": 0, \"ticks\": \"\"}, \"colorscale\": [[0.0, \"#0d0887\"], [0.1111111111111111, \"#46039f\"], [0.2222222222222222, \"#7201a8\"], [0.3333333333333333, \"#9c179e\"], [0.4444444444444444, \"#bd3786\"], [0.5555555555555556, \"#d8576b\"], [0.6666666666666666, \"#ed7953\"], [0.7777777777777778, \"#fb9f3a\"], [0.8888888888888888, \"#fdca26\"], [1.0, \"#f0f921\"]], \"type\": \"histogram2d\"}], \"histogram2dcontour\": [{\"colorbar\": {\"outlinewidth\": 0, \"ticks\": \"\"}, \"colorscale\": [[0.0, \"#0d0887\"], [0.1111111111111111, \"#46039f\"], [0.2222222222222222, \"#7201a8\"], [0.3333333333333333, \"#9c179e\"], [0.4444444444444444, \"#bd3786\"], [0.5555555555555556, \"#d8576b\"], [0.6666666666666666, \"#ed7953\"], [0.7777777777777778, \"#fb9f3a\"], [0.8888888888888888, \"#fdca26\"], [1.0, \"#f0f921\"]], \"type\": \"histogram2dcontour\"}], \"mesh3d\": [{\"colorbar\": {\"outlinewidth\": 0, \"ticks\": \"\"}, \"type\": \"mesh3d\"}], \"parcoords\": [{\"line\": {\"colorbar\": {\"outlinewidth\": 0, \"ticks\": \"\"}}, \"type\": \"parcoords\"}], \"pie\": [{\"automargin\": true, \"type\": \"pie\"}], \"scatter\": [{\"marker\": {\"colorbar\": {\"outlinewidth\": 0, \"ticks\": \"\"}}, \"type\": \"scatter\"}], \"scatter3d\": [{\"line\": {\"colorbar\": {\"outlinewidth\": 0, \"ticks\": \"\"}}, \"marker\": {\"colorbar\": {\"outlinewidth\": 0, \"ticks\": \"\"}}, \"type\": \"scatter3d\"}], \"scattercarpet\": [{\"marker\": {\"colorbar\": {\"outlinewidth\": 0, \"ticks\": \"\"}}, \"type\": \"scattercarpet\"}], \"scattergeo\": [{\"marker\": {\"colorbar\": {\"outlinewidth\": 0, \"ticks\": \"\"}}, \"type\": \"scattergeo\"}], \"scattergl\": [{\"marker\": {\"colorbar\": {\"outlinewidth\": 0, \"ticks\": \"\"}}, \"type\": \"scattergl\"}], \"scattermapbox\": [{\"marker\": {\"colorbar\": {\"outlinewidth\": 0, \"ticks\": \"\"}}, \"type\": \"scattermapbox\"}], \"scatterpolar\": [{\"marker\": {\"colorbar\": {\"outlinewidth\": 0, \"ticks\": \"\"}}, \"type\": \"scatterpolar\"}], \"scatterpolargl\": [{\"marker\": {\"colorbar\": {\"outlinewidth\": 0, \"ticks\": \"\"}}, \"type\": \"scatterpolargl\"}], \"scatterternary\": [{\"marker\": {\"colorbar\": {\"outlinewidth\": 0, \"ticks\": \"\"}}, \"type\": \"scatterternary\"}], \"surface\": [{\"colorbar\": {\"outlinewidth\": 0, \"ticks\": \"\"}, \"colorscale\": [[0.0, \"#0d0887\"], [0.1111111111111111, \"#46039f\"], [0.2222222222222222, \"#7201a8\"], [0.3333333333333333, \"#9c179e\"], [0.4444444444444444, \"#bd3786\"], [0.5555555555555556, \"#d8576b\"], [0.6666666666666666, \"#ed7953\"], [0.7777777777777778, \"#fb9f3a\"], [0.8888888888888888, \"#fdca26\"], [1.0, \"#f0f921\"]], \"type\": \"surface\"}], \"table\": [{\"cells\": {\"fill\": {\"color\": \"#EBF0F8\"}, \"line\": {\"color\": \"white\"}}, \"header\": {\"fill\": {\"color\": \"#C8D4E3\"}, \"line\": {\"color\": \"white\"}}, \"type\": \"table\"}]}, \"layout\": {\"annotationdefaults\": {\"arrowcolor\": \"#2a3f5f\", \"arrowhead\": 0, \"arrowwidth\": 1}, \"coloraxis\": {\"colorbar\": {\"outlinewidth\": 0, \"ticks\": \"\"}}, \"colorscale\": {\"diverging\": [[0, \"#8e0152\"], [0.1, \"#c51b7d\"], [0.2, \"#de77ae\"], [0.3, \"#f1b6da\"], [0.4, \"#fde0ef\"], [0.5, \"#f7f7f7\"], [0.6, \"#e6f5d0\"], [0.7, \"#b8e186\"], [0.8, \"#7fbc41\"], [0.9, \"#4d9221\"], [1, \"#276419\"]], \"sequential\": [[0.0, \"#0d0887\"], [0.1111111111111111, \"#46039f\"], [0.2222222222222222, \"#7201a8\"], [0.3333333333333333, \"#9c179e\"], [0.4444444444444444, \"#bd3786\"], [0.5555555555555556, \"#d8576b\"], [0.6666666666666666, \"#ed7953\"], [0.7777777777777778, \"#fb9f3a\"], [0.8888888888888888, \"#fdca26\"], [1.0, \"#f0f921\"]], \"sequentialminus\": [[0.0, \"#0d0887\"], [0.1111111111111111, \"#46039f\"], [0.2222222222222222, \"#7201a8\"], [0.3333333333333333, \"#9c179e\"], [0.4444444444444444, \"#bd3786\"], [0.5555555555555556, \"#d8576b\"], [0.6666666666666666, \"#ed7953\"], [0.7777777777777778, \"#fb9f3a\"], [0.8888888888888888, \"#fdca26\"], [1.0, \"#f0f921\"]]}, \"colorway\": [\"#636efa\", \"#EF553B\", \"#00cc96\", \"#ab63fa\", \"#FFA15A\", \"#19d3f3\", \"#FF6692\", \"#B6E880\", \"#FF97FF\", \"#FECB52\"], \"font\": {\"color\": \"#2a3f5f\"}, \"geo\": {\"bgcolor\": \"white\", \"lakecolor\": \"white\", \"landcolor\": \"#E5ECF6\", \"showlakes\": true, \"showland\": true, \"subunitcolor\": \"white\"}, \"hoverlabel\": {\"align\": \"left\"}, \"hovermode\": \"closest\", \"mapbox\": {\"style\": \"light\"}, \"paper_bgcolor\": \"white\", \"plot_bgcolor\": \"#E5ECF6\", \"polar\": {\"angularaxis\": {\"gridcolor\": \"white\", \"linecolor\": \"white\", \"ticks\": \"\"}, \"bgcolor\": \"#E5ECF6\", \"radialaxis\": {\"gridcolor\": \"white\", \"linecolor\": \"white\", \"ticks\": \"\"}}, \"scene\": {\"xaxis\": {\"backgroundcolor\": \"#E5ECF6\", \"gridcolor\": \"white\", \"gridwidth\": 2, \"linecolor\": \"white\", \"showbackground\": true, \"ticks\": \"\", \"zerolinecolor\": \"white\"}, \"yaxis\": {\"backgroundcolor\": \"#E5ECF6\", \"gridcolor\": \"white\", \"gridwidth\": 2, \"linecolor\": \"white\", \"showbackground\": true, \"ticks\": \"\", \"zerolinecolor\": \"white\"}, \"zaxis\": {\"backgroundcolor\": \"#E5ECF6\", \"gridcolor\": \"white\", \"gridwidth\": 2, \"linecolor\": \"white\", \"showbackground\": true, \"ticks\": \"\", \"zerolinecolor\": \"white\"}}, \"shapedefaults\": {\"line\": {\"color\": \"#2a3f5f\"}}, \"ternary\": {\"aaxis\": {\"gridcolor\": \"white\", \"linecolor\": \"white\", \"ticks\": \"\"}, \"baxis\": {\"gridcolor\": \"white\", \"linecolor\": \"white\", \"ticks\": \"\"}, \"bgcolor\": \"#E5ECF6\", \"caxis\": {\"gridcolor\": \"white\", \"linecolor\": \"white\", \"ticks\": \"\"}}, \"title\": {\"x\": 0.05}, \"xaxis\": {\"automargin\": true, \"gridcolor\": \"white\", \"linecolor\": \"white\", \"ticks\": \"\", \"title\": {\"standoff\": 15}, \"zerolinecolor\": \"white\", \"zerolinewidth\": 2}, \"yaxis\": {\"automargin\": true, \"gridcolor\": \"white\", \"linecolor\": \"white\", \"ticks\": \"\", \"title\": {\"standoff\": 15}, \"zerolinecolor\": \"white\", \"zerolinewidth\": 2}}}, \"title\": {\"font\": {\"color\": \"#4D5663\"}}, \"xaxis\": {\"gridcolor\": \"#E1E5ED\", \"showgrid\": true, \"tickfont\": {\"color\": \"#4D5663\"}, \"title\": {\"font\": {\"color\": \"#4D5663\"}, \"text\": \"\"}, \"zerolinecolor\": \"#E1E5ED\"}, \"yaxis\": {\"gridcolor\": \"#E1E5ED\", \"showgrid\": true, \"tickfont\": {\"color\": \"#4D5663\"}, \"title\": {\"font\": {\"color\": \"#4D5663\"}, \"text\": \"\"}, \"zerolinecolor\": \"#E1E5ED\"}},\n",
       "                        {\"showLink\": true, \"linkText\": \"Export to plot.ly\", \"plotlyServerURL\": \"https://plot.ly\", \"responsive\": true}\n",
       "                    ).then(function(){\n",
       "                            \n",
       "var gd = document.getElementById('0dc5bdbe-f0bf-4621-8904-ade4e10a8bef');\n",
       "var x = new MutationObserver(function (mutations, observer) {{\n",
       "        var display = window.getComputedStyle(gd).display;\n",
       "        if (!display || display === 'none') {{\n",
       "            console.log([gd, 'removed!']);\n",
       "            Plotly.purge(gd);\n",
       "            observer.disconnect();\n",
       "        }}\n",
       "}});\n",
       "\n",
       "// Listen for the removal of the full notebook cells\n",
       "var notebookContainer = gd.closest('#notebook-container');\n",
       "if (notebookContainer) {{\n",
       "    x.observe(notebookContainer, {childList: true});\n",
       "}}\n",
       "\n",
       "// Listen for the clearing of the current output cell\n",
       "var outputEl = gd.closest('.output');\n",
       "if (outputEl) {{\n",
       "    x.observe(outputEl, {childList: true});\n",
       "}}\n",
       "\n",
       "                        })\n",
       "                };\n",
       "                });\n",
       "            </script>\n",
       "        </div>"
      ]
     },
     "metadata": {},
     "output_type": "display_data"
    }
   ],
   "source": [
    "df.iplot(kind='bubble',x='A',y='B',size='C')"
   ]
  },
  {
   "cell_type": "markdown",
   "metadata": {},
   "source": [
    "## scatter_matrix()\n",
    "\n",
    "Similar to sns.pairplot()"
   ]
  },
  {
   "cell_type": "code",
   "execution_count": 39,
   "metadata": {},
   "outputs": [
    {
     "data": {
      "application/vnd.plotly.v1+json": {
       "config": {
        "linkText": "Export to plot.ly",
        "plotlyServerURL": "https://plot.ly",
        "showLink": true
       },
       "data": [
        {
         "histfunc": "count",
         "histnorm": "",
         "marker": {
          "color": "rgba(255, 153, 51, 1.0)",
          "line": {
           "color": "#4D5663",
           "width": 1.3
          }
         },
         "name": "A",
         "nbinsx": 10,
         "opacity": 0.8,
         "orientation": "v",
         "type": "histogram",
         "x": [
          -0.8224878330406368,
          -0.10471106442069328,
          -2.769584391084238,
          -2.2424162672391885,
          0.490203066976595,
          2.8691407911563673,
          -0.0803435729235115,
          -0.12115858301628984,
          1.0499603993850388,
          1.1283694551511767,
          1.8380934783110614,
          0.4645233310960621,
          -0.3486835398494006,
          0.9664744927848891,
          -0.33835704495058144,
          -1.28473461375488,
          1.7985504608251153,
          1.1553157661273779,
          0.4134915078299442,
          0.7475612530709317,
          0.4201660768259774,
          0.07722115747936044,
          1.0221609726299972,
          -1.077323357084743,
          -0.34977897732417185,
          1.3733646137384052,
          -0.15833165590252143,
          1.4947517994373962,
          -0.38989674078583964,
          -0.5243134691725355,
          -1.097052749096775,
          1.054960626543361,
          1.5146706425888474,
          0.40891220981344617,
          -0.03669418351965464,
          -0.13067256359666868,
          -1.3643656789650926,
          1.3642052302623737,
          0.3013624226546742,
          -1.604831448237099,
          1.9936387069916879,
          -0.7344022390099565,
          -1.0909182813824605,
          0.7899232933086707,
          -0.7888330616466801,
          0.24423391011295395,
          -1.433561400695055,
          -0.8051710423228607,
          1.3878930883952874,
          -0.23677373547589425,
          1.4198942689724774,
          -0.8583559909421177,
          -0.5094931311348392,
          -0.29723488125835085,
          1.4666563744515433,
          -0.5961247866543091,
          0.38967071033631834,
          0.9968517939347469,
          -1.2518718953723809,
          0.25183778792382366,
          0.6679256901564015,
          0.996754273254323,
          0.12748412059035386,
          -0.3186507334386617,
          0.8058549264472583,
          0.793026285047879,
          0.2345960517139365,
          0.42175178151213183,
          -1.9211488472442586,
          0.1219224349688401,
          0.05176320596206913,
          -0.3497984577725166,
          0.456054887712555,
          0.07617950164554171,
          1.3404993482278846,
          0.14392955845017877,
          -1.138648683092966,
          1.494168391233162,
          0.029884199072675432,
          -0.10405794060352479,
          -0.28770790124207524,
          -1.4419491390038417,
          0.5682946601649805,
          0.21954096821881025,
          -0.16217288802578836,
          0.9521454603349894,
          0.13231876090108707,
          0.12117149081466017,
          -0.9367090923602004,
          1.264286886996742,
          1.9986274543811504,
          0.6872677252241897,
          0.23490617405340217,
          0.1779749622995297,
          0.20027271975265543,
          -1.7896732465301717,
          -0.38825505562436735,
          0.6518389289274054,
          1.4429880702473201,
          1.085490258313375
         ],
         "xaxis": "x",
         "yaxis": "y"
        },
        {
         "line": {
          "color": "rgba(128, 128, 128, 1.0)",
          "dash": "solid",
          "shape": "linear",
          "width": 1.3
         },
         "marker": {
          "size": 2,
          "symbol": "circle"
         },
         "mode": "markers",
         "name": "A",
         "text": "",
         "type": "scatter",
         "x": [
          -0.10516366801878904,
          1.0053383313461546,
          0.7711355623806072,
          -0.9585361003596985,
          1.413791782075609,
          -0.011999672475143592,
          -0.2332276829472234,
          0.9994963176647628,
          0.8010134369014502,
          -0.462304224009063,
          1.1184462932071981,
          -0.589992861130369,
          -2.407485278886959,
          -0.7466993868046775,
          -0.4473733557949075,
          0.3805477134400745,
          2.336840387236904,
          0.43387049430242997,
          0.8152523192214589,
          0.6089888934661134,
          -1.526454646964997,
          -1.3206012488138623,
          -1.0431640274931064,
          0.7749127003189561,
          -0.2493808914655523,
          1.458109788045986,
          1.4404921519603873,
          -0.9441221138653232,
          0.2732931046600395,
          0.670748994079489,
          1.2851525315752468,
          -1.7303505300847168,
          0.2564344283676181,
          1.0512380697522659,
          0.7990793338822009,
          -0.8273449445815736,
          -0.13302628947133086,
          1.151813367457789,
          -0.8116827986139052,
          0.16250672924139484,
          0.6119741800924526,
          -0.12623253101768572,
          -0.645412471356651,
          0.21225836348979263,
          0.9828919578145259,
          -1.0640505904153608,
          0.8606516119398787,
          -0.03836903085700935,
          -1.029494471649252,
          1.5927070980793128,
          0.345091231227057,
          0.19380779779508553,
          -1.2171439092573397,
          -1.1221298763480816,
          -0.71548838463745,
          0.8618914945926935,
          0.8709948734880736,
          1.3214572814137557,
          0.3656583698395165,
          -1.0611358360980878,
          2.6045600811046117,
          0.29786624169468395,
          -1.2181968397107135,
          0.005947039893275675,
          -0.9217262323903322,
          0.43250191129540305,
          -2.059956112643729,
          -0.24783647778024964,
          -0.825755005236759,
          0.5104517899980096,
          0.7756766680790673,
          -0.6948728890863228,
          0.10526112030629592,
          0.595048497478357,
          -0.9684246545495997,
          0.9805904389899971,
          -0.5150824233574389,
          -1.8701413759264716,
          0.045707577044487815,
          -1.1812227615164517,
          -0.47919058861042635,
          0.2020800241922994,
          -1.0295277726875516,
          -0.8007147666280858,
          -1.1849668586810944,
          -1.8499115869420633,
          -0.5969137115751699,
          1.48710606342048,
          0.5010826710528153,
          0.23312570917424857,
          0.4466191745148875,
          -0.7773227430247127,
          0.05908523285531262,
          -0.411275094211949,
          -1.090825864124665,
          0.2214935949606966,
          1.3352016027920028,
          -0.11906672568050544,
          -1.7799645711470489,
          1.4945027836142082
         ],
         "xaxis": "x2",
         "y": [
          -0.8224878330406368,
          -0.10471106442069328,
          -2.769584391084238,
          -2.2424162672391885,
          0.490203066976595,
          2.8691407911563673,
          -0.0803435729235115,
          -0.12115858301628984,
          1.0499603993850388,
          1.1283694551511767,
          1.8380934783110614,
          0.4645233310960621,
          -0.3486835398494006,
          0.9664744927848891,
          -0.33835704495058144,
          -1.28473461375488,
          1.7985504608251153,
          1.1553157661273779,
          0.4134915078299442,
          0.7475612530709317,
          0.4201660768259774,
          0.07722115747936044,
          1.0221609726299972,
          -1.077323357084743,
          -0.34977897732417185,
          1.3733646137384052,
          -0.15833165590252143,
          1.4947517994373962,
          -0.38989674078583964,
          -0.5243134691725355,
          -1.097052749096775,
          1.054960626543361,
          1.5146706425888474,
          0.40891220981344617,
          -0.03669418351965464,
          -0.13067256359666868,
          -1.3643656789650926,
          1.3642052302623737,
          0.3013624226546742,
          -1.604831448237099,
          1.9936387069916879,
          -0.7344022390099565,
          -1.0909182813824605,
          0.7899232933086707,
          -0.7888330616466801,
          0.24423391011295395,
          -1.433561400695055,
          -0.8051710423228607,
          1.3878930883952874,
          -0.23677373547589425,
          1.4198942689724774,
          -0.8583559909421177,
          -0.5094931311348392,
          -0.29723488125835085,
          1.4666563744515433,
          -0.5961247866543091,
          0.38967071033631834,
          0.9968517939347469,
          -1.2518718953723809,
          0.25183778792382366,
          0.6679256901564015,
          0.996754273254323,
          0.12748412059035386,
          -0.3186507334386617,
          0.8058549264472583,
          0.793026285047879,
          0.2345960517139365,
          0.42175178151213183,
          -1.9211488472442586,
          0.1219224349688401,
          0.05176320596206913,
          -0.3497984577725166,
          0.456054887712555,
          0.07617950164554171,
          1.3404993482278846,
          0.14392955845017877,
          -1.138648683092966,
          1.494168391233162,
          0.029884199072675432,
          -0.10405794060352479,
          -0.28770790124207524,
          -1.4419491390038417,
          0.5682946601649805,
          0.21954096821881025,
          -0.16217288802578836,
          0.9521454603349894,
          0.13231876090108707,
          0.12117149081466017,
          -0.9367090923602004,
          1.264286886996742,
          1.9986274543811504,
          0.6872677252241897,
          0.23490617405340217,
          0.1779749622995297,
          0.20027271975265543,
          -1.7896732465301717,
          -0.38825505562436735,
          0.6518389289274054,
          1.4429880702473201,
          1.085490258313375
         ],
         "yaxis": "y2"
        },
        {
         "line": {
          "color": "rgba(128, 128, 128, 1.0)",
          "dash": "solid",
          "shape": "linear",
          "width": 1.3
         },
         "marker": {
          "size": 2,
          "symbol": "circle"
         },
         "mode": "markers",
         "name": "A",
         "text": "",
         "type": "scatter",
         "x": [
          1.0574435496930406,
          1.4921564787890202,
          -1.7661487698322937,
          0.5468034187042222,
          -0.47026472549686354,
          0.028866797470123048,
          0.3139952672131217,
          1.0668782081292985,
          0.09238728722526235,
          0.283247834274512,
          0.4487993866836888,
          0.9132713227316623,
          0.008592406413361182,
          -0.7173373816876694,
          -0.037214402351031156,
          -2.8949439095111407,
          0.4140767599284732,
          -1.3715577493217457,
          1.2411017703319136,
          -0.7750902687746185,
          -1.3369518346870932,
          -1.1874007524465737,
          0.3681246871113735,
          -0.29296405505946915,
          -0.4120491294340162,
          -0.6393549290429247,
          -1.6252105983283975,
          -1.3122854422321009,
          -1.9360909602917662,
          1.2027910029886157,
          -0.4518326104029993,
          -2.29567896659763,
          -2.2027365357952218,
          -0.9495835357613918,
          -0.7322557769196346,
          -0.9241767204331726,
          0.5631995965443728,
          -0.6312706493382001,
          1.024196030529535,
          0.4297610318922039,
          -0.7504142855157657,
          1.0706424815592872,
          -0.31772007630060434,
          0.6705110936808703,
          0.4534108865873891,
          1.5475342889743962,
          0.3660711004823217,
          1.2934499121707412,
          0.7491633869777687,
          0.09037087793335094,
          0.3709638152711295,
          -1.351420359786962,
          -0.4203974223630586,
          0.18498829849810838,
          -1.6876380183562545,
          -1.131961576340599,
          -0.6104901531877899,
          -2.2658956080934023,
          -0.186352790636565,
          1.9137723635641175,
          0.13508744155143304,
          1.0159023595649985,
          -1.8165198631533503,
          0.29210575387975946,
          -2.520194559655417,
          0.2127339800838521,
          0.6223598055465379,
          0.5766940739463821,
          1.355567983001298,
          -0.4679608448477689,
          -0.4400613901138157,
          -1.3310223817525753,
          -0.8755271323754789,
          0.6197069606377154,
          1.4410149209822796,
          -0.14775880614740602,
          -1.1989896338434585,
          0.8030412590191057,
          0.11810621881639764,
          1.705029039681729,
          -2.009349513148917,
          -1.1579539361380786,
          -0.21682015326728335,
          0.018930436667645812,
          -0.31797119351666403,
          -0.8411642149311813,
          0.3495781033263939,
          -0.9349822805499162,
          -0.3114537226336073,
          -0.27159842048918575,
          0.8369615864242455,
          0.7858872047734048,
          -1.7845289249109602,
          1.0115271820947205,
          0.11688723804189248,
          0.4384478782073346,
          0.008889099217462877,
          -1.2107890685045604,
          -0.4071907027266032,
          0.6536957941340616
         ],
         "xaxis": "x3",
         "y": [
          -0.8224878330406368,
          -0.10471106442069328,
          -2.769584391084238,
          -2.2424162672391885,
          0.490203066976595,
          2.8691407911563673,
          -0.0803435729235115,
          -0.12115858301628984,
          1.0499603993850388,
          1.1283694551511767,
          1.8380934783110614,
          0.4645233310960621,
          -0.3486835398494006,
          0.9664744927848891,
          -0.33835704495058144,
          -1.28473461375488,
          1.7985504608251153,
          1.1553157661273779,
          0.4134915078299442,
          0.7475612530709317,
          0.4201660768259774,
          0.07722115747936044,
          1.0221609726299972,
          -1.077323357084743,
          -0.34977897732417185,
          1.3733646137384052,
          -0.15833165590252143,
          1.4947517994373962,
          -0.38989674078583964,
          -0.5243134691725355,
          -1.097052749096775,
          1.054960626543361,
          1.5146706425888474,
          0.40891220981344617,
          -0.03669418351965464,
          -0.13067256359666868,
          -1.3643656789650926,
          1.3642052302623737,
          0.3013624226546742,
          -1.604831448237099,
          1.9936387069916879,
          -0.7344022390099565,
          -1.0909182813824605,
          0.7899232933086707,
          -0.7888330616466801,
          0.24423391011295395,
          -1.433561400695055,
          -0.8051710423228607,
          1.3878930883952874,
          -0.23677373547589425,
          1.4198942689724774,
          -0.8583559909421177,
          -0.5094931311348392,
          -0.29723488125835085,
          1.4666563744515433,
          -0.5961247866543091,
          0.38967071033631834,
          0.9968517939347469,
          -1.2518718953723809,
          0.25183778792382366,
          0.6679256901564015,
          0.996754273254323,
          0.12748412059035386,
          -0.3186507334386617,
          0.8058549264472583,
          0.793026285047879,
          0.2345960517139365,
          0.42175178151213183,
          -1.9211488472442586,
          0.1219224349688401,
          0.05176320596206913,
          -0.3497984577725166,
          0.456054887712555,
          0.07617950164554171,
          1.3404993482278846,
          0.14392955845017877,
          -1.138648683092966,
          1.494168391233162,
          0.029884199072675432,
          -0.10405794060352479,
          -0.28770790124207524,
          -1.4419491390038417,
          0.5682946601649805,
          0.21954096821881025,
          -0.16217288802578836,
          0.9521454603349894,
          0.13231876090108707,
          0.12117149081466017,
          -0.9367090923602004,
          1.264286886996742,
          1.9986274543811504,
          0.6872677252241897,
          0.23490617405340217,
          0.1779749622995297,
          0.20027271975265543,
          -1.7896732465301717,
          -0.38825505562436735,
          0.6518389289274054,
          1.4429880702473201,
          1.085490258313375
         ],
         "yaxis": "y3"
        },
        {
         "line": {
          "color": "rgba(128, 128, 128, 1.0)",
          "dash": "solid",
          "shape": "linear",
          "width": 1.3
         },
         "marker": {
          "size": 2,
          "symbol": "circle"
         },
         "mode": "markers",
         "name": "A",
         "text": "",
         "type": "scatter",
         "x": [
          0.3798783138869394,
          0.5325642324025878,
          -1.8891938479625277,
          -0.03444831396935892,
          1.4104072642934369,
          -0.3503592139676249,
          -0.4518190931196363,
          -0.3526980962729689,
          -0.13644755472497294,
          0.956469914017513,
          0.2766338633851785,
          0.48679215566673106,
          0.6305138639396141,
          0.670662053678759,
          0.17246341882456473,
          1.6896887579244286,
          -0.09568047093000441,
          0.37002779584454143,
          -0.5889076792874218,
          -0.993264289903829,
          0.032929627729489694,
          2.459806536192735,
          -0.5300658412981611,
          -0.5462519759274664,
          2.2185127174957526,
          -1.2873566015766316,
          1.1085631311275275,
          0.7540336592440204,
          -2.405117365648385,
          0.7519527988408649,
          0.960740272412522,
          0.6661987152882016,
          0.09604344180668174,
          0.19791457794456077,
          -0.5767798450403657,
          -0.6094379212386503,
          0.9635133288340161,
          -0.1916057929549026,
          0.2822548631386541,
          -0.39170312163360355,
          1.0553270001104484,
          -0.8883354765977708,
          0.14339533089131373,
          1.4340419022520996,
          1.5387313432423801,
          -0.4491124148977889,
          0.24097568616595325,
          -1.0952678381537415,
          -1.3070247606070595,
          0.3665277479805535,
          -0.2783540192377507,
          0.629501823076368,
          0.6849483439792226,
          -0.5315032934853802,
          1.0444660828634182,
          1.538436301126394,
          0.4319327354213975,
          -0.14084430545192075,
          1.7219787146097316,
          1.3972112919116941,
          -0.20272716886416664,
          0.07143726678942765,
          -0.363681910844145,
          -1.5668551317424237,
          0.378403314966072,
          0.43504543706164983,
          -0.10889111832006396,
          -0.791434625542699,
          1.6099239399808436,
          0.5452652674536136,
          -1.4854687171382646,
          0.8676730513097982,
          1.1204485778757485,
          0.6843594944768051,
          -0.7510865824027254,
          -0.2332906102221231,
          0.8787493888412986,
          0.6480584613902357,
          -0.42944843729204674,
          1.1820664129266354,
          -0.3372464499840548,
          0.9756828395663479,
          -0.4664566749827974,
          0.619425782469263,
          0.7089529472891641,
          -0.5008345898697598,
          0.9463043227431527,
          -0.011880002448478146,
          0.23520814180111044,
          -0.18531967636238048,
          0.03318441552433788,
          -0.6339369120426261,
          -0.3350870887531984,
          0.5644887956088116,
          0.6160211323302354,
          0.6940017094073261,
          -0.14109006224355106,
          0.8750595947946054,
          0.4015732140810989,
          -0.5021013131557769
         ],
         "xaxis": "x4",
         "y": [
          -0.8224878330406368,
          -0.10471106442069328,
          -2.769584391084238,
          -2.2424162672391885,
          0.490203066976595,
          2.8691407911563673,
          -0.0803435729235115,
          -0.12115858301628984,
          1.0499603993850388,
          1.1283694551511767,
          1.8380934783110614,
          0.4645233310960621,
          -0.3486835398494006,
          0.9664744927848891,
          -0.33835704495058144,
          -1.28473461375488,
          1.7985504608251153,
          1.1553157661273779,
          0.4134915078299442,
          0.7475612530709317,
          0.4201660768259774,
          0.07722115747936044,
          1.0221609726299972,
          -1.077323357084743,
          -0.34977897732417185,
          1.3733646137384052,
          -0.15833165590252143,
          1.4947517994373962,
          -0.38989674078583964,
          -0.5243134691725355,
          -1.097052749096775,
          1.054960626543361,
          1.5146706425888474,
          0.40891220981344617,
          -0.03669418351965464,
          -0.13067256359666868,
          -1.3643656789650926,
          1.3642052302623737,
          0.3013624226546742,
          -1.604831448237099,
          1.9936387069916879,
          -0.7344022390099565,
          -1.0909182813824605,
          0.7899232933086707,
          -0.7888330616466801,
          0.24423391011295395,
          -1.433561400695055,
          -0.8051710423228607,
          1.3878930883952874,
          -0.23677373547589425,
          1.4198942689724774,
          -0.8583559909421177,
          -0.5094931311348392,
          -0.29723488125835085,
          1.4666563744515433,
          -0.5961247866543091,
          0.38967071033631834,
          0.9968517939347469,
          -1.2518718953723809,
          0.25183778792382366,
          0.6679256901564015,
          0.996754273254323,
          0.12748412059035386,
          -0.3186507334386617,
          0.8058549264472583,
          0.793026285047879,
          0.2345960517139365,
          0.42175178151213183,
          -1.9211488472442586,
          0.1219224349688401,
          0.05176320596206913,
          -0.3497984577725166,
          0.456054887712555,
          0.07617950164554171,
          1.3404993482278846,
          0.14392955845017877,
          -1.138648683092966,
          1.494168391233162,
          0.029884199072675432,
          -0.10405794060352479,
          -0.28770790124207524,
          -1.4419491390038417,
          0.5682946601649805,
          0.21954096821881025,
          -0.16217288802578836,
          0.9521454603349894,
          0.13231876090108707,
          0.12117149081466017,
          -0.9367090923602004,
          1.264286886996742,
          1.9986274543811504,
          0.6872677252241897,
          0.23490617405340217,
          0.1779749622995297,
          0.20027271975265543,
          -1.7896732465301717,
          -0.38825505562436735,
          0.6518389289274054,
          1.4429880702473201,
          1.085490258313375
         ],
         "yaxis": "y4"
        },
        {
         "line": {
          "color": "rgba(128, 128, 128, 1.0)",
          "dash": "solid",
          "shape": "linear",
          "width": 1.3
         },
         "marker": {
          "size": 2,
          "symbol": "circle"
         },
         "mode": "markers",
         "name": "B",
         "text": "",
         "type": "scatter",
         "x": [
          -0.8224878330406368,
          -0.10471106442069328,
          -2.769584391084238,
          -2.2424162672391885,
          0.490203066976595,
          2.8691407911563673,
          -0.0803435729235115,
          -0.12115858301628984,
          1.0499603993850388,
          1.1283694551511767,
          1.8380934783110614,
          0.4645233310960621,
          -0.3486835398494006,
          0.9664744927848891,
          -0.33835704495058144,
          -1.28473461375488,
          1.7985504608251153,
          1.1553157661273779,
          0.4134915078299442,
          0.7475612530709317,
          0.4201660768259774,
          0.07722115747936044,
          1.0221609726299972,
          -1.077323357084743,
          -0.34977897732417185,
          1.3733646137384052,
          -0.15833165590252143,
          1.4947517994373962,
          -0.38989674078583964,
          -0.5243134691725355,
          -1.097052749096775,
          1.054960626543361,
          1.5146706425888474,
          0.40891220981344617,
          -0.03669418351965464,
          -0.13067256359666868,
          -1.3643656789650926,
          1.3642052302623737,
          0.3013624226546742,
          -1.604831448237099,
          1.9936387069916879,
          -0.7344022390099565,
          -1.0909182813824605,
          0.7899232933086707,
          -0.7888330616466801,
          0.24423391011295395,
          -1.433561400695055,
          -0.8051710423228607,
          1.3878930883952874,
          -0.23677373547589425,
          1.4198942689724774,
          -0.8583559909421177,
          -0.5094931311348392,
          -0.29723488125835085,
          1.4666563744515433,
          -0.5961247866543091,
          0.38967071033631834,
          0.9968517939347469,
          -1.2518718953723809,
          0.25183778792382366,
          0.6679256901564015,
          0.996754273254323,
          0.12748412059035386,
          -0.3186507334386617,
          0.8058549264472583,
          0.793026285047879,
          0.2345960517139365,
          0.42175178151213183,
          -1.9211488472442586,
          0.1219224349688401,
          0.05176320596206913,
          -0.3497984577725166,
          0.456054887712555,
          0.07617950164554171,
          1.3404993482278846,
          0.14392955845017877,
          -1.138648683092966,
          1.494168391233162,
          0.029884199072675432,
          -0.10405794060352479,
          -0.28770790124207524,
          -1.4419491390038417,
          0.5682946601649805,
          0.21954096821881025,
          -0.16217288802578836,
          0.9521454603349894,
          0.13231876090108707,
          0.12117149081466017,
          -0.9367090923602004,
          1.264286886996742,
          1.9986274543811504,
          0.6872677252241897,
          0.23490617405340217,
          0.1779749622995297,
          0.20027271975265543,
          -1.7896732465301717,
          -0.38825505562436735,
          0.6518389289274054,
          1.4429880702473201,
          1.085490258313375
         ],
         "xaxis": "x5",
         "y": [
          -0.10516366801878904,
          1.0053383313461546,
          0.7711355623806072,
          -0.9585361003596985,
          1.413791782075609,
          -0.011999672475143592,
          -0.2332276829472234,
          0.9994963176647628,
          0.8010134369014502,
          -0.462304224009063,
          1.1184462932071981,
          -0.589992861130369,
          -2.407485278886959,
          -0.7466993868046775,
          -0.4473733557949075,
          0.3805477134400745,
          2.336840387236904,
          0.43387049430242997,
          0.8152523192214589,
          0.6089888934661134,
          -1.526454646964997,
          -1.3206012488138623,
          -1.0431640274931064,
          0.7749127003189561,
          -0.2493808914655523,
          1.458109788045986,
          1.4404921519603873,
          -0.9441221138653232,
          0.2732931046600395,
          0.670748994079489,
          1.2851525315752468,
          -1.7303505300847168,
          0.2564344283676181,
          1.0512380697522659,
          0.7990793338822009,
          -0.8273449445815736,
          -0.13302628947133086,
          1.151813367457789,
          -0.8116827986139052,
          0.16250672924139484,
          0.6119741800924526,
          -0.12623253101768572,
          -0.645412471356651,
          0.21225836348979263,
          0.9828919578145259,
          -1.0640505904153608,
          0.8606516119398787,
          -0.03836903085700935,
          -1.029494471649252,
          1.5927070980793128,
          0.345091231227057,
          0.19380779779508553,
          -1.2171439092573397,
          -1.1221298763480816,
          -0.71548838463745,
          0.8618914945926935,
          0.8709948734880736,
          1.3214572814137557,
          0.3656583698395165,
          -1.0611358360980878,
          2.6045600811046117,
          0.29786624169468395,
          -1.2181968397107135,
          0.005947039893275675,
          -0.9217262323903322,
          0.43250191129540305,
          -2.059956112643729,
          -0.24783647778024964,
          -0.825755005236759,
          0.5104517899980096,
          0.7756766680790673,
          -0.6948728890863228,
          0.10526112030629592,
          0.595048497478357,
          -0.9684246545495997,
          0.9805904389899971,
          -0.5150824233574389,
          -1.8701413759264716,
          0.045707577044487815,
          -1.1812227615164517,
          -0.47919058861042635,
          0.2020800241922994,
          -1.0295277726875516,
          -0.8007147666280858,
          -1.1849668586810944,
          -1.8499115869420633,
          -0.5969137115751699,
          1.48710606342048,
          0.5010826710528153,
          0.23312570917424857,
          0.4466191745148875,
          -0.7773227430247127,
          0.05908523285531262,
          -0.411275094211949,
          -1.090825864124665,
          0.2214935949606966,
          1.3352016027920028,
          -0.11906672568050544,
          -1.7799645711470489,
          1.4945027836142082
         ],
         "yaxis": "y5"
        },
        {
         "histfunc": "count",
         "histnorm": "",
         "marker": {
          "color": "rgba(55, 128, 191, 1.0)",
          "line": {
           "color": "#4D5663",
           "width": 1.3
          }
         },
         "name": "B",
         "nbinsx": 10,
         "opacity": 0.8,
         "orientation": "v",
         "type": "histogram",
         "x": [
          -0.10516366801878904,
          1.0053383313461546,
          0.7711355623806072,
          -0.9585361003596985,
          1.413791782075609,
          -0.011999672475143592,
          -0.2332276829472234,
          0.9994963176647628,
          0.8010134369014502,
          -0.462304224009063,
          1.1184462932071981,
          -0.589992861130369,
          -2.407485278886959,
          -0.7466993868046775,
          -0.4473733557949075,
          0.3805477134400745,
          2.336840387236904,
          0.43387049430242997,
          0.8152523192214589,
          0.6089888934661134,
          -1.526454646964997,
          -1.3206012488138623,
          -1.0431640274931064,
          0.7749127003189561,
          -0.2493808914655523,
          1.458109788045986,
          1.4404921519603873,
          -0.9441221138653232,
          0.2732931046600395,
          0.670748994079489,
          1.2851525315752468,
          -1.7303505300847168,
          0.2564344283676181,
          1.0512380697522659,
          0.7990793338822009,
          -0.8273449445815736,
          -0.13302628947133086,
          1.151813367457789,
          -0.8116827986139052,
          0.16250672924139484,
          0.6119741800924526,
          -0.12623253101768572,
          -0.645412471356651,
          0.21225836348979263,
          0.9828919578145259,
          -1.0640505904153608,
          0.8606516119398787,
          -0.03836903085700935,
          -1.029494471649252,
          1.5927070980793128,
          0.345091231227057,
          0.19380779779508553,
          -1.2171439092573397,
          -1.1221298763480816,
          -0.71548838463745,
          0.8618914945926935,
          0.8709948734880736,
          1.3214572814137557,
          0.3656583698395165,
          -1.0611358360980878,
          2.6045600811046117,
          0.29786624169468395,
          -1.2181968397107135,
          0.005947039893275675,
          -0.9217262323903322,
          0.43250191129540305,
          -2.059956112643729,
          -0.24783647778024964,
          -0.825755005236759,
          0.5104517899980096,
          0.7756766680790673,
          -0.6948728890863228,
          0.10526112030629592,
          0.595048497478357,
          -0.9684246545495997,
          0.9805904389899971,
          -0.5150824233574389,
          -1.8701413759264716,
          0.045707577044487815,
          -1.1812227615164517,
          -0.47919058861042635,
          0.2020800241922994,
          -1.0295277726875516,
          -0.8007147666280858,
          -1.1849668586810944,
          -1.8499115869420633,
          -0.5969137115751699,
          1.48710606342048,
          0.5010826710528153,
          0.23312570917424857,
          0.4466191745148875,
          -0.7773227430247127,
          0.05908523285531262,
          -0.411275094211949,
          -1.090825864124665,
          0.2214935949606966,
          1.3352016027920028,
          -0.11906672568050544,
          -1.7799645711470489,
          1.4945027836142082
         ],
         "xaxis": "x6",
         "yaxis": "y6"
        },
        {
         "line": {
          "color": "rgba(128, 128, 128, 1.0)",
          "dash": "solid",
          "shape": "linear",
          "width": 1.3
         },
         "marker": {
          "size": 2,
          "symbol": "circle"
         },
         "mode": "markers",
         "name": "B",
         "text": "",
         "type": "scatter",
         "x": [
          1.0574435496930406,
          1.4921564787890202,
          -1.7661487698322937,
          0.5468034187042222,
          -0.47026472549686354,
          0.028866797470123048,
          0.3139952672131217,
          1.0668782081292985,
          0.09238728722526235,
          0.283247834274512,
          0.4487993866836888,
          0.9132713227316623,
          0.008592406413361182,
          -0.7173373816876694,
          -0.037214402351031156,
          -2.8949439095111407,
          0.4140767599284732,
          -1.3715577493217457,
          1.2411017703319136,
          -0.7750902687746185,
          -1.3369518346870932,
          -1.1874007524465737,
          0.3681246871113735,
          -0.29296405505946915,
          -0.4120491294340162,
          -0.6393549290429247,
          -1.6252105983283975,
          -1.3122854422321009,
          -1.9360909602917662,
          1.2027910029886157,
          -0.4518326104029993,
          -2.29567896659763,
          -2.2027365357952218,
          -0.9495835357613918,
          -0.7322557769196346,
          -0.9241767204331726,
          0.5631995965443728,
          -0.6312706493382001,
          1.024196030529535,
          0.4297610318922039,
          -0.7504142855157657,
          1.0706424815592872,
          -0.31772007630060434,
          0.6705110936808703,
          0.4534108865873891,
          1.5475342889743962,
          0.3660711004823217,
          1.2934499121707412,
          0.7491633869777687,
          0.09037087793335094,
          0.3709638152711295,
          -1.351420359786962,
          -0.4203974223630586,
          0.18498829849810838,
          -1.6876380183562545,
          -1.131961576340599,
          -0.6104901531877899,
          -2.2658956080934023,
          -0.186352790636565,
          1.9137723635641175,
          0.13508744155143304,
          1.0159023595649985,
          -1.8165198631533503,
          0.29210575387975946,
          -2.520194559655417,
          0.2127339800838521,
          0.6223598055465379,
          0.5766940739463821,
          1.355567983001298,
          -0.4679608448477689,
          -0.4400613901138157,
          -1.3310223817525753,
          -0.8755271323754789,
          0.6197069606377154,
          1.4410149209822796,
          -0.14775880614740602,
          -1.1989896338434585,
          0.8030412590191057,
          0.11810621881639764,
          1.705029039681729,
          -2.009349513148917,
          -1.1579539361380786,
          -0.21682015326728335,
          0.018930436667645812,
          -0.31797119351666403,
          -0.8411642149311813,
          0.3495781033263939,
          -0.9349822805499162,
          -0.3114537226336073,
          -0.27159842048918575,
          0.8369615864242455,
          0.7858872047734048,
          -1.7845289249109602,
          1.0115271820947205,
          0.11688723804189248,
          0.4384478782073346,
          0.008889099217462877,
          -1.2107890685045604,
          -0.4071907027266032,
          0.6536957941340616
         ],
         "xaxis": "x7",
         "y": [
          -0.10516366801878904,
          1.0053383313461546,
          0.7711355623806072,
          -0.9585361003596985,
          1.413791782075609,
          -0.011999672475143592,
          -0.2332276829472234,
          0.9994963176647628,
          0.8010134369014502,
          -0.462304224009063,
          1.1184462932071981,
          -0.589992861130369,
          -2.407485278886959,
          -0.7466993868046775,
          -0.4473733557949075,
          0.3805477134400745,
          2.336840387236904,
          0.43387049430242997,
          0.8152523192214589,
          0.6089888934661134,
          -1.526454646964997,
          -1.3206012488138623,
          -1.0431640274931064,
          0.7749127003189561,
          -0.2493808914655523,
          1.458109788045986,
          1.4404921519603873,
          -0.9441221138653232,
          0.2732931046600395,
          0.670748994079489,
          1.2851525315752468,
          -1.7303505300847168,
          0.2564344283676181,
          1.0512380697522659,
          0.7990793338822009,
          -0.8273449445815736,
          -0.13302628947133086,
          1.151813367457789,
          -0.8116827986139052,
          0.16250672924139484,
          0.6119741800924526,
          -0.12623253101768572,
          -0.645412471356651,
          0.21225836348979263,
          0.9828919578145259,
          -1.0640505904153608,
          0.8606516119398787,
          -0.03836903085700935,
          -1.029494471649252,
          1.5927070980793128,
          0.345091231227057,
          0.19380779779508553,
          -1.2171439092573397,
          -1.1221298763480816,
          -0.71548838463745,
          0.8618914945926935,
          0.8709948734880736,
          1.3214572814137557,
          0.3656583698395165,
          -1.0611358360980878,
          2.6045600811046117,
          0.29786624169468395,
          -1.2181968397107135,
          0.005947039893275675,
          -0.9217262323903322,
          0.43250191129540305,
          -2.059956112643729,
          -0.24783647778024964,
          -0.825755005236759,
          0.5104517899980096,
          0.7756766680790673,
          -0.6948728890863228,
          0.10526112030629592,
          0.595048497478357,
          -0.9684246545495997,
          0.9805904389899971,
          -0.5150824233574389,
          -1.8701413759264716,
          0.045707577044487815,
          -1.1812227615164517,
          -0.47919058861042635,
          0.2020800241922994,
          -1.0295277726875516,
          -0.8007147666280858,
          -1.1849668586810944,
          -1.8499115869420633,
          -0.5969137115751699,
          1.48710606342048,
          0.5010826710528153,
          0.23312570917424857,
          0.4466191745148875,
          -0.7773227430247127,
          0.05908523285531262,
          -0.411275094211949,
          -1.090825864124665,
          0.2214935949606966,
          1.3352016027920028,
          -0.11906672568050544,
          -1.7799645711470489,
          1.4945027836142082
         ],
         "yaxis": "y7"
        },
        {
         "line": {
          "color": "rgba(128, 128, 128, 1.0)",
          "dash": "solid",
          "shape": "linear",
          "width": 1.3
         },
         "marker": {
          "size": 2,
          "symbol": "circle"
         },
         "mode": "markers",
         "name": "B",
         "text": "",
         "type": "scatter",
         "x": [
          0.3798783138869394,
          0.5325642324025878,
          -1.8891938479625277,
          -0.03444831396935892,
          1.4104072642934369,
          -0.3503592139676249,
          -0.4518190931196363,
          -0.3526980962729689,
          -0.13644755472497294,
          0.956469914017513,
          0.2766338633851785,
          0.48679215566673106,
          0.6305138639396141,
          0.670662053678759,
          0.17246341882456473,
          1.6896887579244286,
          -0.09568047093000441,
          0.37002779584454143,
          -0.5889076792874218,
          -0.993264289903829,
          0.032929627729489694,
          2.459806536192735,
          -0.5300658412981611,
          -0.5462519759274664,
          2.2185127174957526,
          -1.2873566015766316,
          1.1085631311275275,
          0.7540336592440204,
          -2.405117365648385,
          0.7519527988408649,
          0.960740272412522,
          0.6661987152882016,
          0.09604344180668174,
          0.19791457794456077,
          -0.5767798450403657,
          -0.6094379212386503,
          0.9635133288340161,
          -0.1916057929549026,
          0.2822548631386541,
          -0.39170312163360355,
          1.0553270001104484,
          -0.8883354765977708,
          0.14339533089131373,
          1.4340419022520996,
          1.5387313432423801,
          -0.4491124148977889,
          0.24097568616595325,
          -1.0952678381537415,
          -1.3070247606070595,
          0.3665277479805535,
          -0.2783540192377507,
          0.629501823076368,
          0.6849483439792226,
          -0.5315032934853802,
          1.0444660828634182,
          1.538436301126394,
          0.4319327354213975,
          -0.14084430545192075,
          1.7219787146097316,
          1.3972112919116941,
          -0.20272716886416664,
          0.07143726678942765,
          -0.363681910844145,
          -1.5668551317424237,
          0.378403314966072,
          0.43504543706164983,
          -0.10889111832006396,
          -0.791434625542699,
          1.6099239399808436,
          0.5452652674536136,
          -1.4854687171382646,
          0.8676730513097982,
          1.1204485778757485,
          0.6843594944768051,
          -0.7510865824027254,
          -0.2332906102221231,
          0.8787493888412986,
          0.6480584613902357,
          -0.42944843729204674,
          1.1820664129266354,
          -0.3372464499840548,
          0.9756828395663479,
          -0.4664566749827974,
          0.619425782469263,
          0.7089529472891641,
          -0.5008345898697598,
          0.9463043227431527,
          -0.011880002448478146,
          0.23520814180111044,
          -0.18531967636238048,
          0.03318441552433788,
          -0.6339369120426261,
          -0.3350870887531984,
          0.5644887956088116,
          0.6160211323302354,
          0.6940017094073261,
          -0.14109006224355106,
          0.8750595947946054,
          0.4015732140810989,
          -0.5021013131557769
         ],
         "xaxis": "x8",
         "y": [
          -0.10516366801878904,
          1.0053383313461546,
          0.7711355623806072,
          -0.9585361003596985,
          1.413791782075609,
          -0.011999672475143592,
          -0.2332276829472234,
          0.9994963176647628,
          0.8010134369014502,
          -0.462304224009063,
          1.1184462932071981,
          -0.589992861130369,
          -2.407485278886959,
          -0.7466993868046775,
          -0.4473733557949075,
          0.3805477134400745,
          2.336840387236904,
          0.43387049430242997,
          0.8152523192214589,
          0.6089888934661134,
          -1.526454646964997,
          -1.3206012488138623,
          -1.0431640274931064,
          0.7749127003189561,
          -0.2493808914655523,
          1.458109788045986,
          1.4404921519603873,
          -0.9441221138653232,
          0.2732931046600395,
          0.670748994079489,
          1.2851525315752468,
          -1.7303505300847168,
          0.2564344283676181,
          1.0512380697522659,
          0.7990793338822009,
          -0.8273449445815736,
          -0.13302628947133086,
          1.151813367457789,
          -0.8116827986139052,
          0.16250672924139484,
          0.6119741800924526,
          -0.12623253101768572,
          -0.645412471356651,
          0.21225836348979263,
          0.9828919578145259,
          -1.0640505904153608,
          0.8606516119398787,
          -0.03836903085700935,
          -1.029494471649252,
          1.5927070980793128,
          0.345091231227057,
          0.19380779779508553,
          -1.2171439092573397,
          -1.1221298763480816,
          -0.71548838463745,
          0.8618914945926935,
          0.8709948734880736,
          1.3214572814137557,
          0.3656583698395165,
          -1.0611358360980878,
          2.6045600811046117,
          0.29786624169468395,
          -1.2181968397107135,
          0.005947039893275675,
          -0.9217262323903322,
          0.43250191129540305,
          -2.059956112643729,
          -0.24783647778024964,
          -0.825755005236759,
          0.5104517899980096,
          0.7756766680790673,
          -0.6948728890863228,
          0.10526112030629592,
          0.595048497478357,
          -0.9684246545495997,
          0.9805904389899971,
          -0.5150824233574389,
          -1.8701413759264716,
          0.045707577044487815,
          -1.1812227615164517,
          -0.47919058861042635,
          0.2020800241922994,
          -1.0295277726875516,
          -0.8007147666280858,
          -1.1849668586810944,
          -1.8499115869420633,
          -0.5969137115751699,
          1.48710606342048,
          0.5010826710528153,
          0.23312570917424857,
          0.4466191745148875,
          -0.7773227430247127,
          0.05908523285531262,
          -0.411275094211949,
          -1.090825864124665,
          0.2214935949606966,
          1.3352016027920028,
          -0.11906672568050544,
          -1.7799645711470489,
          1.4945027836142082
         ],
         "yaxis": "y8"
        },
        {
         "line": {
          "color": "rgba(128, 128, 128, 1.0)",
          "dash": "solid",
          "shape": "linear",
          "width": 1.3
         },
         "marker": {
          "size": 2,
          "symbol": "circle"
         },
         "mode": "markers",
         "name": "C",
         "text": "",
         "type": "scatter",
         "x": [
          -0.8224878330406368,
          -0.10471106442069328,
          -2.769584391084238,
          -2.2424162672391885,
          0.490203066976595,
          2.8691407911563673,
          -0.0803435729235115,
          -0.12115858301628984,
          1.0499603993850388,
          1.1283694551511767,
          1.8380934783110614,
          0.4645233310960621,
          -0.3486835398494006,
          0.9664744927848891,
          -0.33835704495058144,
          -1.28473461375488,
          1.7985504608251153,
          1.1553157661273779,
          0.4134915078299442,
          0.7475612530709317,
          0.4201660768259774,
          0.07722115747936044,
          1.0221609726299972,
          -1.077323357084743,
          -0.34977897732417185,
          1.3733646137384052,
          -0.15833165590252143,
          1.4947517994373962,
          -0.38989674078583964,
          -0.5243134691725355,
          -1.097052749096775,
          1.054960626543361,
          1.5146706425888474,
          0.40891220981344617,
          -0.03669418351965464,
          -0.13067256359666868,
          -1.3643656789650926,
          1.3642052302623737,
          0.3013624226546742,
          -1.604831448237099,
          1.9936387069916879,
          -0.7344022390099565,
          -1.0909182813824605,
          0.7899232933086707,
          -0.7888330616466801,
          0.24423391011295395,
          -1.433561400695055,
          -0.8051710423228607,
          1.3878930883952874,
          -0.23677373547589425,
          1.4198942689724774,
          -0.8583559909421177,
          -0.5094931311348392,
          -0.29723488125835085,
          1.4666563744515433,
          -0.5961247866543091,
          0.38967071033631834,
          0.9968517939347469,
          -1.2518718953723809,
          0.25183778792382366,
          0.6679256901564015,
          0.996754273254323,
          0.12748412059035386,
          -0.3186507334386617,
          0.8058549264472583,
          0.793026285047879,
          0.2345960517139365,
          0.42175178151213183,
          -1.9211488472442586,
          0.1219224349688401,
          0.05176320596206913,
          -0.3497984577725166,
          0.456054887712555,
          0.07617950164554171,
          1.3404993482278846,
          0.14392955845017877,
          -1.138648683092966,
          1.494168391233162,
          0.029884199072675432,
          -0.10405794060352479,
          -0.28770790124207524,
          -1.4419491390038417,
          0.5682946601649805,
          0.21954096821881025,
          -0.16217288802578836,
          0.9521454603349894,
          0.13231876090108707,
          0.12117149081466017,
          -0.9367090923602004,
          1.264286886996742,
          1.9986274543811504,
          0.6872677252241897,
          0.23490617405340217,
          0.1779749622995297,
          0.20027271975265543,
          -1.7896732465301717,
          -0.38825505562436735,
          0.6518389289274054,
          1.4429880702473201,
          1.085490258313375
         ],
         "xaxis": "x9",
         "y": [
          1.0574435496930406,
          1.4921564787890202,
          -1.7661487698322937,
          0.5468034187042222,
          -0.47026472549686354,
          0.028866797470123048,
          0.3139952672131217,
          1.0668782081292985,
          0.09238728722526235,
          0.283247834274512,
          0.4487993866836888,
          0.9132713227316623,
          0.008592406413361182,
          -0.7173373816876694,
          -0.037214402351031156,
          -2.8949439095111407,
          0.4140767599284732,
          -1.3715577493217457,
          1.2411017703319136,
          -0.7750902687746185,
          -1.3369518346870932,
          -1.1874007524465737,
          0.3681246871113735,
          -0.29296405505946915,
          -0.4120491294340162,
          -0.6393549290429247,
          -1.6252105983283975,
          -1.3122854422321009,
          -1.9360909602917662,
          1.2027910029886157,
          -0.4518326104029993,
          -2.29567896659763,
          -2.2027365357952218,
          -0.9495835357613918,
          -0.7322557769196346,
          -0.9241767204331726,
          0.5631995965443728,
          -0.6312706493382001,
          1.024196030529535,
          0.4297610318922039,
          -0.7504142855157657,
          1.0706424815592872,
          -0.31772007630060434,
          0.6705110936808703,
          0.4534108865873891,
          1.5475342889743962,
          0.3660711004823217,
          1.2934499121707412,
          0.7491633869777687,
          0.09037087793335094,
          0.3709638152711295,
          -1.351420359786962,
          -0.4203974223630586,
          0.18498829849810838,
          -1.6876380183562545,
          -1.131961576340599,
          -0.6104901531877899,
          -2.2658956080934023,
          -0.186352790636565,
          1.9137723635641175,
          0.13508744155143304,
          1.0159023595649985,
          -1.8165198631533503,
          0.29210575387975946,
          -2.520194559655417,
          0.2127339800838521,
          0.6223598055465379,
          0.5766940739463821,
          1.355567983001298,
          -0.4679608448477689,
          -0.4400613901138157,
          -1.3310223817525753,
          -0.8755271323754789,
          0.6197069606377154,
          1.4410149209822796,
          -0.14775880614740602,
          -1.1989896338434585,
          0.8030412590191057,
          0.11810621881639764,
          1.705029039681729,
          -2.009349513148917,
          -1.1579539361380786,
          -0.21682015326728335,
          0.018930436667645812,
          -0.31797119351666403,
          -0.8411642149311813,
          0.3495781033263939,
          -0.9349822805499162,
          -0.3114537226336073,
          -0.27159842048918575,
          0.8369615864242455,
          0.7858872047734048,
          -1.7845289249109602,
          1.0115271820947205,
          0.11688723804189248,
          0.4384478782073346,
          0.008889099217462877,
          -1.2107890685045604,
          -0.4071907027266032,
          0.6536957941340616
         ],
         "yaxis": "y9"
        },
        {
         "line": {
          "color": "rgba(128, 128, 128, 1.0)",
          "dash": "solid",
          "shape": "linear",
          "width": 1.3
         },
         "marker": {
          "size": 2,
          "symbol": "circle"
         },
         "mode": "markers",
         "name": "C",
         "text": "",
         "type": "scatter",
         "x": [
          -0.10516366801878904,
          1.0053383313461546,
          0.7711355623806072,
          -0.9585361003596985,
          1.413791782075609,
          -0.011999672475143592,
          -0.2332276829472234,
          0.9994963176647628,
          0.8010134369014502,
          -0.462304224009063,
          1.1184462932071981,
          -0.589992861130369,
          -2.407485278886959,
          -0.7466993868046775,
          -0.4473733557949075,
          0.3805477134400745,
          2.336840387236904,
          0.43387049430242997,
          0.8152523192214589,
          0.6089888934661134,
          -1.526454646964997,
          -1.3206012488138623,
          -1.0431640274931064,
          0.7749127003189561,
          -0.2493808914655523,
          1.458109788045986,
          1.4404921519603873,
          -0.9441221138653232,
          0.2732931046600395,
          0.670748994079489,
          1.2851525315752468,
          -1.7303505300847168,
          0.2564344283676181,
          1.0512380697522659,
          0.7990793338822009,
          -0.8273449445815736,
          -0.13302628947133086,
          1.151813367457789,
          -0.8116827986139052,
          0.16250672924139484,
          0.6119741800924526,
          -0.12623253101768572,
          -0.645412471356651,
          0.21225836348979263,
          0.9828919578145259,
          -1.0640505904153608,
          0.8606516119398787,
          -0.03836903085700935,
          -1.029494471649252,
          1.5927070980793128,
          0.345091231227057,
          0.19380779779508553,
          -1.2171439092573397,
          -1.1221298763480816,
          -0.71548838463745,
          0.8618914945926935,
          0.8709948734880736,
          1.3214572814137557,
          0.3656583698395165,
          -1.0611358360980878,
          2.6045600811046117,
          0.29786624169468395,
          -1.2181968397107135,
          0.005947039893275675,
          -0.9217262323903322,
          0.43250191129540305,
          -2.059956112643729,
          -0.24783647778024964,
          -0.825755005236759,
          0.5104517899980096,
          0.7756766680790673,
          -0.6948728890863228,
          0.10526112030629592,
          0.595048497478357,
          -0.9684246545495997,
          0.9805904389899971,
          -0.5150824233574389,
          -1.8701413759264716,
          0.045707577044487815,
          -1.1812227615164517,
          -0.47919058861042635,
          0.2020800241922994,
          -1.0295277726875516,
          -0.8007147666280858,
          -1.1849668586810944,
          -1.8499115869420633,
          -0.5969137115751699,
          1.48710606342048,
          0.5010826710528153,
          0.23312570917424857,
          0.4466191745148875,
          -0.7773227430247127,
          0.05908523285531262,
          -0.411275094211949,
          -1.090825864124665,
          0.2214935949606966,
          1.3352016027920028,
          -0.11906672568050544,
          -1.7799645711470489,
          1.4945027836142082
         ],
         "xaxis": "x10",
         "y": [
          1.0574435496930406,
          1.4921564787890202,
          -1.7661487698322937,
          0.5468034187042222,
          -0.47026472549686354,
          0.028866797470123048,
          0.3139952672131217,
          1.0668782081292985,
          0.09238728722526235,
          0.283247834274512,
          0.4487993866836888,
          0.9132713227316623,
          0.008592406413361182,
          -0.7173373816876694,
          -0.037214402351031156,
          -2.8949439095111407,
          0.4140767599284732,
          -1.3715577493217457,
          1.2411017703319136,
          -0.7750902687746185,
          -1.3369518346870932,
          -1.1874007524465737,
          0.3681246871113735,
          -0.29296405505946915,
          -0.4120491294340162,
          -0.6393549290429247,
          -1.6252105983283975,
          -1.3122854422321009,
          -1.9360909602917662,
          1.2027910029886157,
          -0.4518326104029993,
          -2.29567896659763,
          -2.2027365357952218,
          -0.9495835357613918,
          -0.7322557769196346,
          -0.9241767204331726,
          0.5631995965443728,
          -0.6312706493382001,
          1.024196030529535,
          0.4297610318922039,
          -0.7504142855157657,
          1.0706424815592872,
          -0.31772007630060434,
          0.6705110936808703,
          0.4534108865873891,
          1.5475342889743962,
          0.3660711004823217,
          1.2934499121707412,
          0.7491633869777687,
          0.09037087793335094,
          0.3709638152711295,
          -1.351420359786962,
          -0.4203974223630586,
          0.18498829849810838,
          -1.6876380183562545,
          -1.131961576340599,
          -0.6104901531877899,
          -2.2658956080934023,
          -0.186352790636565,
          1.9137723635641175,
          0.13508744155143304,
          1.0159023595649985,
          -1.8165198631533503,
          0.29210575387975946,
          -2.520194559655417,
          0.2127339800838521,
          0.6223598055465379,
          0.5766940739463821,
          1.355567983001298,
          -0.4679608448477689,
          -0.4400613901138157,
          -1.3310223817525753,
          -0.8755271323754789,
          0.6197069606377154,
          1.4410149209822796,
          -0.14775880614740602,
          -1.1989896338434585,
          0.8030412590191057,
          0.11810621881639764,
          1.705029039681729,
          -2.009349513148917,
          -1.1579539361380786,
          -0.21682015326728335,
          0.018930436667645812,
          -0.31797119351666403,
          -0.8411642149311813,
          0.3495781033263939,
          -0.9349822805499162,
          -0.3114537226336073,
          -0.27159842048918575,
          0.8369615864242455,
          0.7858872047734048,
          -1.7845289249109602,
          1.0115271820947205,
          0.11688723804189248,
          0.4384478782073346,
          0.008889099217462877,
          -1.2107890685045604,
          -0.4071907027266032,
          0.6536957941340616
         ],
         "yaxis": "y10"
        },
        {
         "histfunc": "count",
         "histnorm": "",
         "marker": {
          "color": "rgba(50, 171, 96, 1.0)",
          "line": {
           "color": "#4D5663",
           "width": 1.3
          }
         },
         "name": "C",
         "nbinsx": 10,
         "opacity": 0.8,
         "orientation": "v",
         "type": "histogram",
         "x": [
          1.0574435496930406,
          1.4921564787890202,
          -1.7661487698322937,
          0.5468034187042222,
          -0.47026472549686354,
          0.028866797470123048,
          0.3139952672131217,
          1.0668782081292985,
          0.09238728722526235,
          0.283247834274512,
          0.4487993866836888,
          0.9132713227316623,
          0.008592406413361182,
          -0.7173373816876694,
          -0.037214402351031156,
          -2.8949439095111407,
          0.4140767599284732,
          -1.3715577493217457,
          1.2411017703319136,
          -0.7750902687746185,
          -1.3369518346870932,
          -1.1874007524465737,
          0.3681246871113735,
          -0.29296405505946915,
          -0.4120491294340162,
          -0.6393549290429247,
          -1.6252105983283975,
          -1.3122854422321009,
          -1.9360909602917662,
          1.2027910029886157,
          -0.4518326104029993,
          -2.29567896659763,
          -2.2027365357952218,
          -0.9495835357613918,
          -0.7322557769196346,
          -0.9241767204331726,
          0.5631995965443728,
          -0.6312706493382001,
          1.024196030529535,
          0.4297610318922039,
          -0.7504142855157657,
          1.0706424815592872,
          -0.31772007630060434,
          0.6705110936808703,
          0.4534108865873891,
          1.5475342889743962,
          0.3660711004823217,
          1.2934499121707412,
          0.7491633869777687,
          0.09037087793335094,
          0.3709638152711295,
          -1.351420359786962,
          -0.4203974223630586,
          0.18498829849810838,
          -1.6876380183562545,
          -1.131961576340599,
          -0.6104901531877899,
          -2.2658956080934023,
          -0.186352790636565,
          1.9137723635641175,
          0.13508744155143304,
          1.0159023595649985,
          -1.8165198631533503,
          0.29210575387975946,
          -2.520194559655417,
          0.2127339800838521,
          0.6223598055465379,
          0.5766940739463821,
          1.355567983001298,
          -0.4679608448477689,
          -0.4400613901138157,
          -1.3310223817525753,
          -0.8755271323754789,
          0.6197069606377154,
          1.4410149209822796,
          -0.14775880614740602,
          -1.1989896338434585,
          0.8030412590191057,
          0.11810621881639764,
          1.705029039681729,
          -2.009349513148917,
          -1.1579539361380786,
          -0.21682015326728335,
          0.018930436667645812,
          -0.31797119351666403,
          -0.8411642149311813,
          0.3495781033263939,
          -0.9349822805499162,
          -0.3114537226336073,
          -0.27159842048918575,
          0.8369615864242455,
          0.7858872047734048,
          -1.7845289249109602,
          1.0115271820947205,
          0.11688723804189248,
          0.4384478782073346,
          0.008889099217462877,
          -1.2107890685045604,
          -0.4071907027266032,
          0.6536957941340616
         ],
         "xaxis": "x11",
         "yaxis": "y11"
        },
        {
         "line": {
          "color": "rgba(128, 128, 128, 1.0)",
          "dash": "solid",
          "shape": "linear",
          "width": 1.3
         },
         "marker": {
          "size": 2,
          "symbol": "circle"
         },
         "mode": "markers",
         "name": "C",
         "text": "",
         "type": "scatter",
         "x": [
          0.3798783138869394,
          0.5325642324025878,
          -1.8891938479625277,
          -0.03444831396935892,
          1.4104072642934369,
          -0.3503592139676249,
          -0.4518190931196363,
          -0.3526980962729689,
          -0.13644755472497294,
          0.956469914017513,
          0.2766338633851785,
          0.48679215566673106,
          0.6305138639396141,
          0.670662053678759,
          0.17246341882456473,
          1.6896887579244286,
          -0.09568047093000441,
          0.37002779584454143,
          -0.5889076792874218,
          -0.993264289903829,
          0.032929627729489694,
          2.459806536192735,
          -0.5300658412981611,
          -0.5462519759274664,
          2.2185127174957526,
          -1.2873566015766316,
          1.1085631311275275,
          0.7540336592440204,
          -2.405117365648385,
          0.7519527988408649,
          0.960740272412522,
          0.6661987152882016,
          0.09604344180668174,
          0.19791457794456077,
          -0.5767798450403657,
          -0.6094379212386503,
          0.9635133288340161,
          -0.1916057929549026,
          0.2822548631386541,
          -0.39170312163360355,
          1.0553270001104484,
          -0.8883354765977708,
          0.14339533089131373,
          1.4340419022520996,
          1.5387313432423801,
          -0.4491124148977889,
          0.24097568616595325,
          -1.0952678381537415,
          -1.3070247606070595,
          0.3665277479805535,
          -0.2783540192377507,
          0.629501823076368,
          0.6849483439792226,
          -0.5315032934853802,
          1.0444660828634182,
          1.538436301126394,
          0.4319327354213975,
          -0.14084430545192075,
          1.7219787146097316,
          1.3972112919116941,
          -0.20272716886416664,
          0.07143726678942765,
          -0.363681910844145,
          -1.5668551317424237,
          0.378403314966072,
          0.43504543706164983,
          -0.10889111832006396,
          -0.791434625542699,
          1.6099239399808436,
          0.5452652674536136,
          -1.4854687171382646,
          0.8676730513097982,
          1.1204485778757485,
          0.6843594944768051,
          -0.7510865824027254,
          -0.2332906102221231,
          0.8787493888412986,
          0.6480584613902357,
          -0.42944843729204674,
          1.1820664129266354,
          -0.3372464499840548,
          0.9756828395663479,
          -0.4664566749827974,
          0.619425782469263,
          0.7089529472891641,
          -0.5008345898697598,
          0.9463043227431527,
          -0.011880002448478146,
          0.23520814180111044,
          -0.18531967636238048,
          0.03318441552433788,
          -0.6339369120426261,
          -0.3350870887531984,
          0.5644887956088116,
          0.6160211323302354,
          0.6940017094073261,
          -0.14109006224355106,
          0.8750595947946054,
          0.4015732140810989,
          -0.5021013131557769
         ],
         "xaxis": "x12",
         "y": [
          1.0574435496930406,
          1.4921564787890202,
          -1.7661487698322937,
          0.5468034187042222,
          -0.47026472549686354,
          0.028866797470123048,
          0.3139952672131217,
          1.0668782081292985,
          0.09238728722526235,
          0.283247834274512,
          0.4487993866836888,
          0.9132713227316623,
          0.008592406413361182,
          -0.7173373816876694,
          -0.037214402351031156,
          -2.8949439095111407,
          0.4140767599284732,
          -1.3715577493217457,
          1.2411017703319136,
          -0.7750902687746185,
          -1.3369518346870932,
          -1.1874007524465737,
          0.3681246871113735,
          -0.29296405505946915,
          -0.4120491294340162,
          -0.6393549290429247,
          -1.6252105983283975,
          -1.3122854422321009,
          -1.9360909602917662,
          1.2027910029886157,
          -0.4518326104029993,
          -2.29567896659763,
          -2.2027365357952218,
          -0.9495835357613918,
          -0.7322557769196346,
          -0.9241767204331726,
          0.5631995965443728,
          -0.6312706493382001,
          1.024196030529535,
          0.4297610318922039,
          -0.7504142855157657,
          1.0706424815592872,
          -0.31772007630060434,
          0.6705110936808703,
          0.4534108865873891,
          1.5475342889743962,
          0.3660711004823217,
          1.2934499121707412,
          0.7491633869777687,
          0.09037087793335094,
          0.3709638152711295,
          -1.351420359786962,
          -0.4203974223630586,
          0.18498829849810838,
          -1.6876380183562545,
          -1.131961576340599,
          -0.6104901531877899,
          -2.2658956080934023,
          -0.186352790636565,
          1.9137723635641175,
          0.13508744155143304,
          1.0159023595649985,
          -1.8165198631533503,
          0.29210575387975946,
          -2.520194559655417,
          0.2127339800838521,
          0.6223598055465379,
          0.5766940739463821,
          1.355567983001298,
          -0.4679608448477689,
          -0.4400613901138157,
          -1.3310223817525753,
          -0.8755271323754789,
          0.6197069606377154,
          1.4410149209822796,
          -0.14775880614740602,
          -1.1989896338434585,
          0.8030412590191057,
          0.11810621881639764,
          1.705029039681729,
          -2.009349513148917,
          -1.1579539361380786,
          -0.21682015326728335,
          0.018930436667645812,
          -0.31797119351666403,
          -0.8411642149311813,
          0.3495781033263939,
          -0.9349822805499162,
          -0.3114537226336073,
          -0.27159842048918575,
          0.8369615864242455,
          0.7858872047734048,
          -1.7845289249109602,
          1.0115271820947205,
          0.11688723804189248,
          0.4384478782073346,
          0.008889099217462877,
          -1.2107890685045604,
          -0.4071907027266032,
          0.6536957941340616
         ],
         "yaxis": "y12"
        },
        {
         "line": {
          "color": "rgba(128, 128, 128, 1.0)",
          "dash": "solid",
          "shape": "linear",
          "width": 1.3
         },
         "marker": {
          "size": 2,
          "symbol": "circle"
         },
         "mode": "markers",
         "name": "D",
         "text": "",
         "type": "scatter",
         "x": [
          -0.8224878330406368,
          -0.10471106442069328,
          -2.769584391084238,
          -2.2424162672391885,
          0.490203066976595,
          2.8691407911563673,
          -0.0803435729235115,
          -0.12115858301628984,
          1.0499603993850388,
          1.1283694551511767,
          1.8380934783110614,
          0.4645233310960621,
          -0.3486835398494006,
          0.9664744927848891,
          -0.33835704495058144,
          -1.28473461375488,
          1.7985504608251153,
          1.1553157661273779,
          0.4134915078299442,
          0.7475612530709317,
          0.4201660768259774,
          0.07722115747936044,
          1.0221609726299972,
          -1.077323357084743,
          -0.34977897732417185,
          1.3733646137384052,
          -0.15833165590252143,
          1.4947517994373962,
          -0.38989674078583964,
          -0.5243134691725355,
          -1.097052749096775,
          1.054960626543361,
          1.5146706425888474,
          0.40891220981344617,
          -0.03669418351965464,
          -0.13067256359666868,
          -1.3643656789650926,
          1.3642052302623737,
          0.3013624226546742,
          -1.604831448237099,
          1.9936387069916879,
          -0.7344022390099565,
          -1.0909182813824605,
          0.7899232933086707,
          -0.7888330616466801,
          0.24423391011295395,
          -1.433561400695055,
          -0.8051710423228607,
          1.3878930883952874,
          -0.23677373547589425,
          1.4198942689724774,
          -0.8583559909421177,
          -0.5094931311348392,
          -0.29723488125835085,
          1.4666563744515433,
          -0.5961247866543091,
          0.38967071033631834,
          0.9968517939347469,
          -1.2518718953723809,
          0.25183778792382366,
          0.6679256901564015,
          0.996754273254323,
          0.12748412059035386,
          -0.3186507334386617,
          0.8058549264472583,
          0.793026285047879,
          0.2345960517139365,
          0.42175178151213183,
          -1.9211488472442586,
          0.1219224349688401,
          0.05176320596206913,
          -0.3497984577725166,
          0.456054887712555,
          0.07617950164554171,
          1.3404993482278846,
          0.14392955845017877,
          -1.138648683092966,
          1.494168391233162,
          0.029884199072675432,
          -0.10405794060352479,
          -0.28770790124207524,
          -1.4419491390038417,
          0.5682946601649805,
          0.21954096821881025,
          -0.16217288802578836,
          0.9521454603349894,
          0.13231876090108707,
          0.12117149081466017,
          -0.9367090923602004,
          1.264286886996742,
          1.9986274543811504,
          0.6872677252241897,
          0.23490617405340217,
          0.1779749622995297,
          0.20027271975265543,
          -1.7896732465301717,
          -0.38825505562436735,
          0.6518389289274054,
          1.4429880702473201,
          1.085490258313375
         ],
         "xaxis": "x13",
         "y": [
          0.3798783138869394,
          0.5325642324025878,
          -1.8891938479625277,
          -0.03444831396935892,
          1.4104072642934369,
          -0.3503592139676249,
          -0.4518190931196363,
          -0.3526980962729689,
          -0.13644755472497294,
          0.956469914017513,
          0.2766338633851785,
          0.48679215566673106,
          0.6305138639396141,
          0.670662053678759,
          0.17246341882456473,
          1.6896887579244286,
          -0.09568047093000441,
          0.37002779584454143,
          -0.5889076792874218,
          -0.993264289903829,
          0.032929627729489694,
          2.459806536192735,
          -0.5300658412981611,
          -0.5462519759274664,
          2.2185127174957526,
          -1.2873566015766316,
          1.1085631311275275,
          0.7540336592440204,
          -2.405117365648385,
          0.7519527988408649,
          0.960740272412522,
          0.6661987152882016,
          0.09604344180668174,
          0.19791457794456077,
          -0.5767798450403657,
          -0.6094379212386503,
          0.9635133288340161,
          -0.1916057929549026,
          0.2822548631386541,
          -0.39170312163360355,
          1.0553270001104484,
          -0.8883354765977708,
          0.14339533089131373,
          1.4340419022520996,
          1.5387313432423801,
          -0.4491124148977889,
          0.24097568616595325,
          -1.0952678381537415,
          -1.3070247606070595,
          0.3665277479805535,
          -0.2783540192377507,
          0.629501823076368,
          0.6849483439792226,
          -0.5315032934853802,
          1.0444660828634182,
          1.538436301126394,
          0.4319327354213975,
          -0.14084430545192075,
          1.7219787146097316,
          1.3972112919116941,
          -0.20272716886416664,
          0.07143726678942765,
          -0.363681910844145,
          -1.5668551317424237,
          0.378403314966072,
          0.43504543706164983,
          -0.10889111832006396,
          -0.791434625542699,
          1.6099239399808436,
          0.5452652674536136,
          -1.4854687171382646,
          0.8676730513097982,
          1.1204485778757485,
          0.6843594944768051,
          -0.7510865824027254,
          -0.2332906102221231,
          0.8787493888412986,
          0.6480584613902357,
          -0.42944843729204674,
          1.1820664129266354,
          -0.3372464499840548,
          0.9756828395663479,
          -0.4664566749827974,
          0.619425782469263,
          0.7089529472891641,
          -0.5008345898697598,
          0.9463043227431527,
          -0.011880002448478146,
          0.23520814180111044,
          -0.18531967636238048,
          0.03318441552433788,
          -0.6339369120426261,
          -0.3350870887531984,
          0.5644887956088116,
          0.6160211323302354,
          0.6940017094073261,
          -0.14109006224355106,
          0.8750595947946054,
          0.4015732140810989,
          -0.5021013131557769
         ],
         "yaxis": "y13"
        },
        {
         "line": {
          "color": "rgba(128, 128, 128, 1.0)",
          "dash": "solid",
          "shape": "linear",
          "width": 1.3
         },
         "marker": {
          "size": 2,
          "symbol": "circle"
         },
         "mode": "markers",
         "name": "D",
         "text": "",
         "type": "scatter",
         "x": [
          -0.10516366801878904,
          1.0053383313461546,
          0.7711355623806072,
          -0.9585361003596985,
          1.413791782075609,
          -0.011999672475143592,
          -0.2332276829472234,
          0.9994963176647628,
          0.8010134369014502,
          -0.462304224009063,
          1.1184462932071981,
          -0.589992861130369,
          -2.407485278886959,
          -0.7466993868046775,
          -0.4473733557949075,
          0.3805477134400745,
          2.336840387236904,
          0.43387049430242997,
          0.8152523192214589,
          0.6089888934661134,
          -1.526454646964997,
          -1.3206012488138623,
          -1.0431640274931064,
          0.7749127003189561,
          -0.2493808914655523,
          1.458109788045986,
          1.4404921519603873,
          -0.9441221138653232,
          0.2732931046600395,
          0.670748994079489,
          1.2851525315752468,
          -1.7303505300847168,
          0.2564344283676181,
          1.0512380697522659,
          0.7990793338822009,
          -0.8273449445815736,
          -0.13302628947133086,
          1.151813367457789,
          -0.8116827986139052,
          0.16250672924139484,
          0.6119741800924526,
          -0.12623253101768572,
          -0.645412471356651,
          0.21225836348979263,
          0.9828919578145259,
          -1.0640505904153608,
          0.8606516119398787,
          -0.03836903085700935,
          -1.029494471649252,
          1.5927070980793128,
          0.345091231227057,
          0.19380779779508553,
          -1.2171439092573397,
          -1.1221298763480816,
          -0.71548838463745,
          0.8618914945926935,
          0.8709948734880736,
          1.3214572814137557,
          0.3656583698395165,
          -1.0611358360980878,
          2.6045600811046117,
          0.29786624169468395,
          -1.2181968397107135,
          0.005947039893275675,
          -0.9217262323903322,
          0.43250191129540305,
          -2.059956112643729,
          -0.24783647778024964,
          -0.825755005236759,
          0.5104517899980096,
          0.7756766680790673,
          -0.6948728890863228,
          0.10526112030629592,
          0.595048497478357,
          -0.9684246545495997,
          0.9805904389899971,
          -0.5150824233574389,
          -1.8701413759264716,
          0.045707577044487815,
          -1.1812227615164517,
          -0.47919058861042635,
          0.2020800241922994,
          -1.0295277726875516,
          -0.8007147666280858,
          -1.1849668586810944,
          -1.8499115869420633,
          -0.5969137115751699,
          1.48710606342048,
          0.5010826710528153,
          0.23312570917424857,
          0.4466191745148875,
          -0.7773227430247127,
          0.05908523285531262,
          -0.411275094211949,
          -1.090825864124665,
          0.2214935949606966,
          1.3352016027920028,
          -0.11906672568050544,
          -1.7799645711470489,
          1.4945027836142082
         ],
         "xaxis": "x14",
         "y": [
          0.3798783138869394,
          0.5325642324025878,
          -1.8891938479625277,
          -0.03444831396935892,
          1.4104072642934369,
          -0.3503592139676249,
          -0.4518190931196363,
          -0.3526980962729689,
          -0.13644755472497294,
          0.956469914017513,
          0.2766338633851785,
          0.48679215566673106,
          0.6305138639396141,
          0.670662053678759,
          0.17246341882456473,
          1.6896887579244286,
          -0.09568047093000441,
          0.37002779584454143,
          -0.5889076792874218,
          -0.993264289903829,
          0.032929627729489694,
          2.459806536192735,
          -0.5300658412981611,
          -0.5462519759274664,
          2.2185127174957526,
          -1.2873566015766316,
          1.1085631311275275,
          0.7540336592440204,
          -2.405117365648385,
          0.7519527988408649,
          0.960740272412522,
          0.6661987152882016,
          0.09604344180668174,
          0.19791457794456077,
          -0.5767798450403657,
          -0.6094379212386503,
          0.9635133288340161,
          -0.1916057929549026,
          0.2822548631386541,
          -0.39170312163360355,
          1.0553270001104484,
          -0.8883354765977708,
          0.14339533089131373,
          1.4340419022520996,
          1.5387313432423801,
          -0.4491124148977889,
          0.24097568616595325,
          -1.0952678381537415,
          -1.3070247606070595,
          0.3665277479805535,
          -0.2783540192377507,
          0.629501823076368,
          0.6849483439792226,
          -0.5315032934853802,
          1.0444660828634182,
          1.538436301126394,
          0.4319327354213975,
          -0.14084430545192075,
          1.7219787146097316,
          1.3972112919116941,
          -0.20272716886416664,
          0.07143726678942765,
          -0.363681910844145,
          -1.5668551317424237,
          0.378403314966072,
          0.43504543706164983,
          -0.10889111832006396,
          -0.791434625542699,
          1.6099239399808436,
          0.5452652674536136,
          -1.4854687171382646,
          0.8676730513097982,
          1.1204485778757485,
          0.6843594944768051,
          -0.7510865824027254,
          -0.2332906102221231,
          0.8787493888412986,
          0.6480584613902357,
          -0.42944843729204674,
          1.1820664129266354,
          -0.3372464499840548,
          0.9756828395663479,
          -0.4664566749827974,
          0.619425782469263,
          0.7089529472891641,
          -0.5008345898697598,
          0.9463043227431527,
          -0.011880002448478146,
          0.23520814180111044,
          -0.18531967636238048,
          0.03318441552433788,
          -0.6339369120426261,
          -0.3350870887531984,
          0.5644887956088116,
          0.6160211323302354,
          0.6940017094073261,
          -0.14109006224355106,
          0.8750595947946054,
          0.4015732140810989,
          -0.5021013131557769
         ],
         "yaxis": "y14"
        },
        {
         "line": {
          "color": "rgba(128, 128, 128, 1.0)",
          "dash": "solid",
          "shape": "linear",
          "width": 1.3
         },
         "marker": {
          "size": 2,
          "symbol": "circle"
         },
         "mode": "markers",
         "name": "D",
         "text": "",
         "type": "scatter",
         "x": [
          1.0574435496930406,
          1.4921564787890202,
          -1.7661487698322937,
          0.5468034187042222,
          -0.47026472549686354,
          0.028866797470123048,
          0.3139952672131217,
          1.0668782081292985,
          0.09238728722526235,
          0.283247834274512,
          0.4487993866836888,
          0.9132713227316623,
          0.008592406413361182,
          -0.7173373816876694,
          -0.037214402351031156,
          -2.8949439095111407,
          0.4140767599284732,
          -1.3715577493217457,
          1.2411017703319136,
          -0.7750902687746185,
          -1.3369518346870932,
          -1.1874007524465737,
          0.3681246871113735,
          -0.29296405505946915,
          -0.4120491294340162,
          -0.6393549290429247,
          -1.6252105983283975,
          -1.3122854422321009,
          -1.9360909602917662,
          1.2027910029886157,
          -0.4518326104029993,
          -2.29567896659763,
          -2.2027365357952218,
          -0.9495835357613918,
          -0.7322557769196346,
          -0.9241767204331726,
          0.5631995965443728,
          -0.6312706493382001,
          1.024196030529535,
          0.4297610318922039,
          -0.7504142855157657,
          1.0706424815592872,
          -0.31772007630060434,
          0.6705110936808703,
          0.4534108865873891,
          1.5475342889743962,
          0.3660711004823217,
          1.2934499121707412,
          0.7491633869777687,
          0.09037087793335094,
          0.3709638152711295,
          -1.351420359786962,
          -0.4203974223630586,
          0.18498829849810838,
          -1.6876380183562545,
          -1.131961576340599,
          -0.6104901531877899,
          -2.2658956080934023,
          -0.186352790636565,
          1.9137723635641175,
          0.13508744155143304,
          1.0159023595649985,
          -1.8165198631533503,
          0.29210575387975946,
          -2.520194559655417,
          0.2127339800838521,
          0.6223598055465379,
          0.5766940739463821,
          1.355567983001298,
          -0.4679608448477689,
          -0.4400613901138157,
          -1.3310223817525753,
          -0.8755271323754789,
          0.6197069606377154,
          1.4410149209822796,
          -0.14775880614740602,
          -1.1989896338434585,
          0.8030412590191057,
          0.11810621881639764,
          1.705029039681729,
          -2.009349513148917,
          -1.1579539361380786,
          -0.21682015326728335,
          0.018930436667645812,
          -0.31797119351666403,
          -0.8411642149311813,
          0.3495781033263939,
          -0.9349822805499162,
          -0.3114537226336073,
          -0.27159842048918575,
          0.8369615864242455,
          0.7858872047734048,
          -1.7845289249109602,
          1.0115271820947205,
          0.11688723804189248,
          0.4384478782073346,
          0.008889099217462877,
          -1.2107890685045604,
          -0.4071907027266032,
          0.6536957941340616
         ],
         "xaxis": "x15",
         "y": [
          0.3798783138869394,
          0.5325642324025878,
          -1.8891938479625277,
          -0.03444831396935892,
          1.4104072642934369,
          -0.3503592139676249,
          -0.4518190931196363,
          -0.3526980962729689,
          -0.13644755472497294,
          0.956469914017513,
          0.2766338633851785,
          0.48679215566673106,
          0.6305138639396141,
          0.670662053678759,
          0.17246341882456473,
          1.6896887579244286,
          -0.09568047093000441,
          0.37002779584454143,
          -0.5889076792874218,
          -0.993264289903829,
          0.032929627729489694,
          2.459806536192735,
          -0.5300658412981611,
          -0.5462519759274664,
          2.2185127174957526,
          -1.2873566015766316,
          1.1085631311275275,
          0.7540336592440204,
          -2.405117365648385,
          0.7519527988408649,
          0.960740272412522,
          0.6661987152882016,
          0.09604344180668174,
          0.19791457794456077,
          -0.5767798450403657,
          -0.6094379212386503,
          0.9635133288340161,
          -0.1916057929549026,
          0.2822548631386541,
          -0.39170312163360355,
          1.0553270001104484,
          -0.8883354765977708,
          0.14339533089131373,
          1.4340419022520996,
          1.5387313432423801,
          -0.4491124148977889,
          0.24097568616595325,
          -1.0952678381537415,
          -1.3070247606070595,
          0.3665277479805535,
          -0.2783540192377507,
          0.629501823076368,
          0.6849483439792226,
          -0.5315032934853802,
          1.0444660828634182,
          1.538436301126394,
          0.4319327354213975,
          -0.14084430545192075,
          1.7219787146097316,
          1.3972112919116941,
          -0.20272716886416664,
          0.07143726678942765,
          -0.363681910844145,
          -1.5668551317424237,
          0.378403314966072,
          0.43504543706164983,
          -0.10889111832006396,
          -0.791434625542699,
          1.6099239399808436,
          0.5452652674536136,
          -1.4854687171382646,
          0.8676730513097982,
          1.1204485778757485,
          0.6843594944768051,
          -0.7510865824027254,
          -0.2332906102221231,
          0.8787493888412986,
          0.6480584613902357,
          -0.42944843729204674,
          1.1820664129266354,
          -0.3372464499840548,
          0.9756828395663479,
          -0.4664566749827974,
          0.619425782469263,
          0.7089529472891641,
          -0.5008345898697598,
          0.9463043227431527,
          -0.011880002448478146,
          0.23520814180111044,
          -0.18531967636238048,
          0.03318441552433788,
          -0.6339369120426261,
          -0.3350870887531984,
          0.5644887956088116,
          0.6160211323302354,
          0.6940017094073261,
          -0.14109006224355106,
          0.8750595947946054,
          0.4015732140810989,
          -0.5021013131557769
         ],
         "yaxis": "y15"
        },
        {
         "histfunc": "count",
         "histnorm": "",
         "marker": {
          "color": "rgba(128, 0, 128, 1.0)",
          "line": {
           "color": "#4D5663",
           "width": 1.3
          }
         },
         "name": "D",
         "nbinsx": 10,
         "opacity": 0.8,
         "orientation": "v",
         "type": "histogram",
         "x": [
          0.3798783138869394,
          0.5325642324025878,
          -1.8891938479625277,
          -0.03444831396935892,
          1.4104072642934369,
          -0.3503592139676249,
          -0.4518190931196363,
          -0.3526980962729689,
          -0.13644755472497294,
          0.956469914017513,
          0.2766338633851785,
          0.48679215566673106,
          0.6305138639396141,
          0.670662053678759,
          0.17246341882456473,
          1.6896887579244286,
          -0.09568047093000441,
          0.37002779584454143,
          -0.5889076792874218,
          -0.993264289903829,
          0.032929627729489694,
          2.459806536192735,
          -0.5300658412981611,
          -0.5462519759274664,
          2.2185127174957526,
          -1.2873566015766316,
          1.1085631311275275,
          0.7540336592440204,
          -2.405117365648385,
          0.7519527988408649,
          0.960740272412522,
          0.6661987152882016,
          0.09604344180668174,
          0.19791457794456077,
          -0.5767798450403657,
          -0.6094379212386503,
          0.9635133288340161,
          -0.1916057929549026,
          0.2822548631386541,
          -0.39170312163360355,
          1.0553270001104484,
          -0.8883354765977708,
          0.14339533089131373,
          1.4340419022520996,
          1.5387313432423801,
          -0.4491124148977889,
          0.24097568616595325,
          -1.0952678381537415,
          -1.3070247606070595,
          0.3665277479805535,
          -0.2783540192377507,
          0.629501823076368,
          0.6849483439792226,
          -0.5315032934853802,
          1.0444660828634182,
          1.538436301126394,
          0.4319327354213975,
          -0.14084430545192075,
          1.7219787146097316,
          1.3972112919116941,
          -0.20272716886416664,
          0.07143726678942765,
          -0.363681910844145,
          -1.5668551317424237,
          0.378403314966072,
          0.43504543706164983,
          -0.10889111832006396,
          -0.791434625542699,
          1.6099239399808436,
          0.5452652674536136,
          -1.4854687171382646,
          0.8676730513097982,
          1.1204485778757485,
          0.6843594944768051,
          -0.7510865824027254,
          -0.2332906102221231,
          0.8787493888412986,
          0.6480584613902357,
          -0.42944843729204674,
          1.1820664129266354,
          -0.3372464499840548,
          0.9756828395663479,
          -0.4664566749827974,
          0.619425782469263,
          0.7089529472891641,
          -0.5008345898697598,
          0.9463043227431527,
          -0.011880002448478146,
          0.23520814180111044,
          -0.18531967636238048,
          0.03318441552433788,
          -0.6339369120426261,
          -0.3350870887531984,
          0.5644887956088116,
          0.6160211323302354,
          0.6940017094073261,
          -0.14109006224355106,
          0.8750595947946054,
          0.4015732140810989,
          -0.5021013131557769
         ],
         "xaxis": "x16",
         "yaxis": "y16"
        }
       ],
       "layout": {
        "bargap": 0.02,
        "legend": {
         "bgcolor": "#F5F6F9",
         "font": {
          "color": "#4D5663"
         }
        },
        "paper_bgcolor": "#F5F6F9",
        "plot_bgcolor": "#F5F6F9",
        "showlegend": false,
        "template": {
         "data": {
          "bar": [
           {
            "error_x": {
             "color": "#2a3f5f"
            },
            "error_y": {
             "color": "#2a3f5f"
            },
            "marker": {
             "line": {
              "color": "#E5ECF6",
              "width": 0.5
             }
            },
            "type": "bar"
           }
          ],
          "barpolar": [
           {
            "marker": {
             "line": {
              "color": "#E5ECF6",
              "width": 0.5
             }
            },
            "type": "barpolar"
           }
          ],
          "carpet": [
           {
            "aaxis": {
             "endlinecolor": "#2a3f5f",
             "gridcolor": "white",
             "linecolor": "white",
             "minorgridcolor": "white",
             "startlinecolor": "#2a3f5f"
            },
            "baxis": {
             "endlinecolor": "#2a3f5f",
             "gridcolor": "white",
             "linecolor": "white",
             "minorgridcolor": "white",
             "startlinecolor": "#2a3f5f"
            },
            "type": "carpet"
           }
          ],
          "choropleth": [
           {
            "colorbar": {
             "outlinewidth": 0,
             "ticks": ""
            },
            "type": "choropleth"
           }
          ],
          "contour": [
           {
            "colorbar": {
             "outlinewidth": 0,
             "ticks": ""
            },
            "colorscale": [
             [
              0,
              "#0d0887"
             ],
             [
              0.1111111111111111,
              "#46039f"
             ],
             [
              0.2222222222222222,
              "#7201a8"
             ],
             [
              0.3333333333333333,
              "#9c179e"
             ],
             [
              0.4444444444444444,
              "#bd3786"
             ],
             [
              0.5555555555555556,
              "#d8576b"
             ],
             [
              0.6666666666666666,
              "#ed7953"
             ],
             [
              0.7777777777777778,
              "#fb9f3a"
             ],
             [
              0.8888888888888888,
              "#fdca26"
             ],
             [
              1,
              "#f0f921"
             ]
            ],
            "type": "contour"
           }
          ],
          "contourcarpet": [
           {
            "colorbar": {
             "outlinewidth": 0,
             "ticks": ""
            },
            "type": "contourcarpet"
           }
          ],
          "heatmap": [
           {
            "colorbar": {
             "outlinewidth": 0,
             "ticks": ""
            },
            "colorscale": [
             [
              0,
              "#0d0887"
             ],
             [
              0.1111111111111111,
              "#46039f"
             ],
             [
              0.2222222222222222,
              "#7201a8"
             ],
             [
              0.3333333333333333,
              "#9c179e"
             ],
             [
              0.4444444444444444,
              "#bd3786"
             ],
             [
              0.5555555555555556,
              "#d8576b"
             ],
             [
              0.6666666666666666,
              "#ed7953"
             ],
             [
              0.7777777777777778,
              "#fb9f3a"
             ],
             [
              0.8888888888888888,
              "#fdca26"
             ],
             [
              1,
              "#f0f921"
             ]
            ],
            "type": "heatmap"
           }
          ],
          "heatmapgl": [
           {
            "colorbar": {
             "outlinewidth": 0,
             "ticks": ""
            },
            "colorscale": [
             [
              0,
              "#0d0887"
             ],
             [
              0.1111111111111111,
              "#46039f"
             ],
             [
              0.2222222222222222,
              "#7201a8"
             ],
             [
              0.3333333333333333,
              "#9c179e"
             ],
             [
              0.4444444444444444,
              "#bd3786"
             ],
             [
              0.5555555555555556,
              "#d8576b"
             ],
             [
              0.6666666666666666,
              "#ed7953"
             ],
             [
              0.7777777777777778,
              "#fb9f3a"
             ],
             [
              0.8888888888888888,
              "#fdca26"
             ],
             [
              1,
              "#f0f921"
             ]
            ],
            "type": "heatmapgl"
           }
          ],
          "histogram": [
           {
            "marker": {
             "colorbar": {
              "outlinewidth": 0,
              "ticks": ""
             }
            },
            "type": "histogram"
           }
          ],
          "histogram2d": [
           {
            "colorbar": {
             "outlinewidth": 0,
             "ticks": ""
            },
            "colorscale": [
             [
              0,
              "#0d0887"
             ],
             [
              0.1111111111111111,
              "#46039f"
             ],
             [
              0.2222222222222222,
              "#7201a8"
             ],
             [
              0.3333333333333333,
              "#9c179e"
             ],
             [
              0.4444444444444444,
              "#bd3786"
             ],
             [
              0.5555555555555556,
              "#d8576b"
             ],
             [
              0.6666666666666666,
              "#ed7953"
             ],
             [
              0.7777777777777778,
              "#fb9f3a"
             ],
             [
              0.8888888888888888,
              "#fdca26"
             ],
             [
              1,
              "#f0f921"
             ]
            ],
            "type": "histogram2d"
           }
          ],
          "histogram2dcontour": [
           {
            "colorbar": {
             "outlinewidth": 0,
             "ticks": ""
            },
            "colorscale": [
             [
              0,
              "#0d0887"
             ],
             [
              0.1111111111111111,
              "#46039f"
             ],
             [
              0.2222222222222222,
              "#7201a8"
             ],
             [
              0.3333333333333333,
              "#9c179e"
             ],
             [
              0.4444444444444444,
              "#bd3786"
             ],
             [
              0.5555555555555556,
              "#d8576b"
             ],
             [
              0.6666666666666666,
              "#ed7953"
             ],
             [
              0.7777777777777778,
              "#fb9f3a"
             ],
             [
              0.8888888888888888,
              "#fdca26"
             ],
             [
              1,
              "#f0f921"
             ]
            ],
            "type": "histogram2dcontour"
           }
          ],
          "mesh3d": [
           {
            "colorbar": {
             "outlinewidth": 0,
             "ticks": ""
            },
            "type": "mesh3d"
           }
          ],
          "parcoords": [
           {
            "line": {
             "colorbar": {
              "outlinewidth": 0,
              "ticks": ""
             }
            },
            "type": "parcoords"
           }
          ],
          "pie": [
           {
            "automargin": true,
            "type": "pie"
           }
          ],
          "scatter": [
           {
            "marker": {
             "colorbar": {
              "outlinewidth": 0,
              "ticks": ""
             }
            },
            "type": "scatter"
           }
          ],
          "scatter3d": [
           {
            "line": {
             "colorbar": {
              "outlinewidth": 0,
              "ticks": ""
             }
            },
            "marker": {
             "colorbar": {
              "outlinewidth": 0,
              "ticks": ""
             }
            },
            "type": "scatter3d"
           }
          ],
          "scattercarpet": [
           {
            "marker": {
             "colorbar": {
              "outlinewidth": 0,
              "ticks": ""
             }
            },
            "type": "scattercarpet"
           }
          ],
          "scattergeo": [
           {
            "marker": {
             "colorbar": {
              "outlinewidth": 0,
              "ticks": ""
             }
            },
            "type": "scattergeo"
           }
          ],
          "scattergl": [
           {
            "marker": {
             "colorbar": {
              "outlinewidth": 0,
              "ticks": ""
             }
            },
            "type": "scattergl"
           }
          ],
          "scattermapbox": [
           {
            "marker": {
             "colorbar": {
              "outlinewidth": 0,
              "ticks": ""
             }
            },
            "type": "scattermapbox"
           }
          ],
          "scatterpolar": [
           {
            "marker": {
             "colorbar": {
              "outlinewidth": 0,
              "ticks": ""
             }
            },
            "type": "scatterpolar"
           }
          ],
          "scatterpolargl": [
           {
            "marker": {
             "colorbar": {
              "outlinewidth": 0,
              "ticks": ""
             }
            },
            "type": "scatterpolargl"
           }
          ],
          "scatterternary": [
           {
            "marker": {
             "colorbar": {
              "outlinewidth": 0,
              "ticks": ""
             }
            },
            "type": "scatterternary"
           }
          ],
          "surface": [
           {
            "colorbar": {
             "outlinewidth": 0,
             "ticks": ""
            },
            "colorscale": [
             [
              0,
              "#0d0887"
             ],
             [
              0.1111111111111111,
              "#46039f"
             ],
             [
              0.2222222222222222,
              "#7201a8"
             ],
             [
              0.3333333333333333,
              "#9c179e"
             ],
             [
              0.4444444444444444,
              "#bd3786"
             ],
             [
              0.5555555555555556,
              "#d8576b"
             ],
             [
              0.6666666666666666,
              "#ed7953"
             ],
             [
              0.7777777777777778,
              "#fb9f3a"
             ],
             [
              0.8888888888888888,
              "#fdca26"
             ],
             [
              1,
              "#f0f921"
             ]
            ],
            "type": "surface"
           }
          ],
          "table": [
           {
            "cells": {
             "fill": {
              "color": "#EBF0F8"
             },
             "line": {
              "color": "white"
             }
            },
            "header": {
             "fill": {
              "color": "#C8D4E3"
             },
             "line": {
              "color": "white"
             }
            },
            "type": "table"
           }
          ]
         },
         "layout": {
          "annotationdefaults": {
           "arrowcolor": "#2a3f5f",
           "arrowhead": 0,
           "arrowwidth": 1
          },
          "coloraxis": {
           "colorbar": {
            "outlinewidth": 0,
            "ticks": ""
           }
          },
          "colorscale": {
           "diverging": [
            [
             0,
             "#8e0152"
            ],
            [
             0.1,
             "#c51b7d"
            ],
            [
             0.2,
             "#de77ae"
            ],
            [
             0.3,
             "#f1b6da"
            ],
            [
             0.4,
             "#fde0ef"
            ],
            [
             0.5,
             "#f7f7f7"
            ],
            [
             0.6,
             "#e6f5d0"
            ],
            [
             0.7,
             "#b8e186"
            ],
            [
             0.8,
             "#7fbc41"
            ],
            [
             0.9,
             "#4d9221"
            ],
            [
             1,
             "#276419"
            ]
           ],
           "sequential": [
            [
             0,
             "#0d0887"
            ],
            [
             0.1111111111111111,
             "#46039f"
            ],
            [
             0.2222222222222222,
             "#7201a8"
            ],
            [
             0.3333333333333333,
             "#9c179e"
            ],
            [
             0.4444444444444444,
             "#bd3786"
            ],
            [
             0.5555555555555556,
             "#d8576b"
            ],
            [
             0.6666666666666666,
             "#ed7953"
            ],
            [
             0.7777777777777778,
             "#fb9f3a"
            ],
            [
             0.8888888888888888,
             "#fdca26"
            ],
            [
             1,
             "#f0f921"
            ]
           ],
           "sequentialminus": [
            [
             0,
             "#0d0887"
            ],
            [
             0.1111111111111111,
             "#46039f"
            ],
            [
             0.2222222222222222,
             "#7201a8"
            ],
            [
             0.3333333333333333,
             "#9c179e"
            ],
            [
             0.4444444444444444,
             "#bd3786"
            ],
            [
             0.5555555555555556,
             "#d8576b"
            ],
            [
             0.6666666666666666,
             "#ed7953"
            ],
            [
             0.7777777777777778,
             "#fb9f3a"
            ],
            [
             0.8888888888888888,
             "#fdca26"
            ],
            [
             1,
             "#f0f921"
            ]
           ]
          },
          "colorway": [
           "#636efa",
           "#EF553B",
           "#00cc96",
           "#ab63fa",
           "#FFA15A",
           "#19d3f3",
           "#FF6692",
           "#B6E880",
           "#FF97FF",
           "#FECB52"
          ],
          "font": {
           "color": "#2a3f5f"
          },
          "geo": {
           "bgcolor": "white",
           "lakecolor": "white",
           "landcolor": "#E5ECF6",
           "showlakes": true,
           "showland": true,
           "subunitcolor": "white"
          },
          "hoverlabel": {
           "align": "left"
          },
          "hovermode": "closest",
          "mapbox": {
           "style": "light"
          },
          "paper_bgcolor": "white",
          "plot_bgcolor": "#E5ECF6",
          "polar": {
           "angularaxis": {
            "gridcolor": "white",
            "linecolor": "white",
            "ticks": ""
           },
           "bgcolor": "#E5ECF6",
           "radialaxis": {
            "gridcolor": "white",
            "linecolor": "white",
            "ticks": ""
           }
          },
          "scene": {
           "xaxis": {
            "backgroundcolor": "#E5ECF6",
            "gridcolor": "white",
            "gridwidth": 2,
            "linecolor": "white",
            "showbackground": true,
            "ticks": "",
            "zerolinecolor": "white"
           },
           "yaxis": {
            "backgroundcolor": "#E5ECF6",
            "gridcolor": "white",
            "gridwidth": 2,
            "linecolor": "white",
            "showbackground": true,
            "ticks": "",
            "zerolinecolor": "white"
           },
           "zaxis": {
            "backgroundcolor": "#E5ECF6",
            "gridcolor": "white",
            "gridwidth": 2,
            "linecolor": "white",
            "showbackground": true,
            "ticks": "",
            "zerolinecolor": "white"
           }
          },
          "shapedefaults": {
           "line": {
            "color": "#2a3f5f"
           }
          },
          "ternary": {
           "aaxis": {
            "gridcolor": "white",
            "linecolor": "white",
            "ticks": ""
           },
           "baxis": {
            "gridcolor": "white",
            "linecolor": "white",
            "ticks": ""
           },
           "bgcolor": "#E5ECF6",
           "caxis": {
            "gridcolor": "white",
            "linecolor": "white",
            "ticks": ""
           }
          },
          "title": {
           "x": 0.05
          },
          "xaxis": {
           "automargin": true,
           "gridcolor": "white",
           "linecolor": "white",
           "ticks": "",
           "title": {
            "standoff": 15
           },
           "zerolinecolor": "white",
           "zerolinewidth": 2
          },
          "yaxis": {
           "automargin": true,
           "gridcolor": "white",
           "linecolor": "white",
           "ticks": "",
           "title": {
            "standoff": 15
           },
           "zerolinecolor": "white",
           "zerolinewidth": 2
          }
         }
        },
        "title": {
         "font": {
          "color": "#4D5663"
         }
        },
        "xaxis": {
         "anchor": "y",
         "domain": [
          0,
          0.2125
         ],
         "gridcolor": "#E1E5ED",
         "showgrid": false,
         "tickfont": {
          "color": "#4D5663"
         },
         "title": {
          "font": {
           "color": "#4D5663"
          },
          "text": ""
         },
         "zerolinecolor": "#E1E5ED"
        },
        "xaxis10": {
         "anchor": "y10",
         "domain": [
          0.2625,
          0.475
         ],
         "gridcolor": "#E1E5ED",
         "showgrid": false,
         "tickfont": {
          "color": "#4D5663"
         },
         "title": {
          "font": {
           "color": "#4D5663"
          },
          "text": ""
         },
         "zerolinecolor": "#E1E5ED"
        },
        "xaxis11": {
         "anchor": "y11",
         "domain": [
          0.525,
          0.7375
         ],
         "gridcolor": "#E1E5ED",
         "showgrid": false,
         "tickfont": {
          "color": "#4D5663"
         },
         "title": {
          "font": {
           "color": "#4D5663"
          },
          "text": ""
         },
         "zerolinecolor": "#E1E5ED"
        },
        "xaxis12": {
         "anchor": "y12",
         "domain": [
          0.7875,
          1
         ],
         "gridcolor": "#E1E5ED",
         "showgrid": false,
         "tickfont": {
          "color": "#4D5663"
         },
         "title": {
          "font": {
           "color": "#4D5663"
          },
          "text": ""
         },
         "zerolinecolor": "#E1E5ED"
        },
        "xaxis13": {
         "anchor": "y13",
         "domain": [
          0,
          0.2125
         ],
         "gridcolor": "#E1E5ED",
         "showgrid": false,
         "tickfont": {
          "color": "#4D5663"
         },
         "title": {
          "font": {
           "color": "#4D5663"
          },
          "text": ""
         },
         "zerolinecolor": "#E1E5ED"
        },
        "xaxis14": {
         "anchor": "y14",
         "domain": [
          0.2625,
          0.475
         ],
         "gridcolor": "#E1E5ED",
         "showgrid": false,
         "tickfont": {
          "color": "#4D5663"
         },
         "title": {
          "font": {
           "color": "#4D5663"
          },
          "text": ""
         },
         "zerolinecolor": "#E1E5ED"
        },
        "xaxis15": {
         "anchor": "y15",
         "domain": [
          0.525,
          0.7375
         ],
         "gridcolor": "#E1E5ED",
         "showgrid": false,
         "tickfont": {
          "color": "#4D5663"
         },
         "title": {
          "font": {
           "color": "#4D5663"
          },
          "text": ""
         },
         "zerolinecolor": "#E1E5ED"
        },
        "xaxis16": {
         "anchor": "y16",
         "domain": [
          0.7875,
          1
         ],
         "gridcolor": "#E1E5ED",
         "showgrid": false,
         "tickfont": {
          "color": "#4D5663"
         },
         "title": {
          "font": {
           "color": "#4D5663"
          },
          "text": ""
         },
         "zerolinecolor": "#E1E5ED"
        },
        "xaxis2": {
         "anchor": "y2",
         "domain": [
          0.2625,
          0.475
         ],
         "gridcolor": "#E1E5ED",
         "showgrid": false,
         "tickfont": {
          "color": "#4D5663"
         },
         "title": {
          "font": {
           "color": "#4D5663"
          },
          "text": ""
         },
         "zerolinecolor": "#E1E5ED"
        },
        "xaxis3": {
         "anchor": "y3",
         "domain": [
          0.525,
          0.7375
         ],
         "gridcolor": "#E1E5ED",
         "showgrid": false,
         "tickfont": {
          "color": "#4D5663"
         },
         "title": {
          "font": {
           "color": "#4D5663"
          },
          "text": ""
         },
         "zerolinecolor": "#E1E5ED"
        },
        "xaxis4": {
         "anchor": "y4",
         "domain": [
          0.7875,
          1
         ],
         "gridcolor": "#E1E5ED",
         "showgrid": false,
         "tickfont": {
          "color": "#4D5663"
         },
         "title": {
          "font": {
           "color": "#4D5663"
          },
          "text": ""
         },
         "zerolinecolor": "#E1E5ED"
        },
        "xaxis5": {
         "anchor": "y5",
         "domain": [
          0,
          0.2125
         ],
         "gridcolor": "#E1E5ED",
         "showgrid": false,
         "tickfont": {
          "color": "#4D5663"
         },
         "title": {
          "font": {
           "color": "#4D5663"
          },
          "text": ""
         },
         "zerolinecolor": "#E1E5ED"
        },
        "xaxis6": {
         "anchor": "y6",
         "domain": [
          0.2625,
          0.475
         ],
         "gridcolor": "#E1E5ED",
         "showgrid": false,
         "tickfont": {
          "color": "#4D5663"
         },
         "title": {
          "font": {
           "color": "#4D5663"
          },
          "text": ""
         },
         "zerolinecolor": "#E1E5ED"
        },
        "xaxis7": {
         "anchor": "y7",
         "domain": [
          0.525,
          0.7375
         ],
         "gridcolor": "#E1E5ED",
         "showgrid": false,
         "tickfont": {
          "color": "#4D5663"
         },
         "title": {
          "font": {
           "color": "#4D5663"
          },
          "text": ""
         },
         "zerolinecolor": "#E1E5ED"
        },
        "xaxis8": {
         "anchor": "y8",
         "domain": [
          0.7875,
          1
         ],
         "gridcolor": "#E1E5ED",
         "showgrid": false,
         "tickfont": {
          "color": "#4D5663"
         },
         "title": {
          "font": {
           "color": "#4D5663"
          },
          "text": ""
         },
         "zerolinecolor": "#E1E5ED"
        },
        "xaxis9": {
         "anchor": "y9",
         "domain": [
          0,
          0.2125
         ],
         "gridcolor": "#E1E5ED",
         "showgrid": false,
         "tickfont": {
          "color": "#4D5663"
         },
         "title": {
          "font": {
           "color": "#4D5663"
          },
          "text": ""
         },
         "zerolinecolor": "#E1E5ED"
        },
        "yaxis": {
         "anchor": "x",
         "domain": [
          0.8025,
          1
         ],
         "gridcolor": "#E1E5ED",
         "showgrid": false,
         "tickfont": {
          "color": "#4D5663"
         },
         "title": {
          "font": {
           "color": "#4D5663"
          },
          "text": ""
         },
         "zerolinecolor": "#E1E5ED"
        },
        "yaxis10": {
         "anchor": "x10",
         "domain": [
          0.2675,
          0.465
         ],
         "gridcolor": "#E1E5ED",
         "showgrid": false,
         "tickfont": {
          "color": "#4D5663"
         },
         "title": {
          "font": {
           "color": "#4D5663"
          },
          "text": ""
         },
         "zerolinecolor": "#E1E5ED"
        },
        "yaxis11": {
         "anchor": "x11",
         "domain": [
          0.2675,
          0.465
         ],
         "gridcolor": "#E1E5ED",
         "showgrid": false,
         "tickfont": {
          "color": "#4D5663"
         },
         "title": {
          "font": {
           "color": "#4D5663"
          },
          "text": ""
         },
         "zerolinecolor": "#E1E5ED"
        },
        "yaxis12": {
         "anchor": "x12",
         "domain": [
          0.2675,
          0.465
         ],
         "gridcolor": "#E1E5ED",
         "showgrid": false,
         "tickfont": {
          "color": "#4D5663"
         },
         "title": {
          "font": {
           "color": "#4D5663"
          },
          "text": ""
         },
         "zerolinecolor": "#E1E5ED"
        },
        "yaxis13": {
         "anchor": "x13",
         "domain": [
          0,
          0.1975
         ],
         "gridcolor": "#E1E5ED",
         "showgrid": false,
         "tickfont": {
          "color": "#4D5663"
         },
         "title": {
          "font": {
           "color": "#4D5663"
          },
          "text": ""
         },
         "zerolinecolor": "#E1E5ED"
        },
        "yaxis14": {
         "anchor": "x14",
         "domain": [
          0,
          0.1975
         ],
         "gridcolor": "#E1E5ED",
         "showgrid": false,
         "tickfont": {
          "color": "#4D5663"
         },
         "title": {
          "font": {
           "color": "#4D5663"
          },
          "text": ""
         },
         "zerolinecolor": "#E1E5ED"
        },
        "yaxis15": {
         "anchor": "x15",
         "domain": [
          0,
          0.1975
         ],
         "gridcolor": "#E1E5ED",
         "showgrid": false,
         "tickfont": {
          "color": "#4D5663"
         },
         "title": {
          "font": {
           "color": "#4D5663"
          },
          "text": ""
         },
         "zerolinecolor": "#E1E5ED"
        },
        "yaxis16": {
         "anchor": "x16",
         "domain": [
          0,
          0.1975
         ],
         "gridcolor": "#E1E5ED",
         "showgrid": false,
         "tickfont": {
          "color": "#4D5663"
         },
         "title": {
          "font": {
           "color": "#4D5663"
          },
          "text": ""
         },
         "zerolinecolor": "#E1E5ED"
        },
        "yaxis2": {
         "anchor": "x2",
         "domain": [
          0.8025,
          1
         ],
         "gridcolor": "#E1E5ED",
         "showgrid": false,
         "tickfont": {
          "color": "#4D5663"
         },
         "title": {
          "font": {
           "color": "#4D5663"
          },
          "text": ""
         },
         "zerolinecolor": "#E1E5ED"
        },
        "yaxis3": {
         "anchor": "x3",
         "domain": [
          0.8025,
          1
         ],
         "gridcolor": "#E1E5ED",
         "showgrid": false,
         "tickfont": {
          "color": "#4D5663"
         },
         "title": {
          "font": {
           "color": "#4D5663"
          },
          "text": ""
         },
         "zerolinecolor": "#E1E5ED"
        },
        "yaxis4": {
         "anchor": "x4",
         "domain": [
          0.8025,
          1
         ],
         "gridcolor": "#E1E5ED",
         "showgrid": false,
         "tickfont": {
          "color": "#4D5663"
         },
         "title": {
          "font": {
           "color": "#4D5663"
          },
          "text": ""
         },
         "zerolinecolor": "#E1E5ED"
        },
        "yaxis5": {
         "anchor": "x5",
         "domain": [
          0.535,
          0.7325
         ],
         "gridcolor": "#E1E5ED",
         "showgrid": false,
         "tickfont": {
          "color": "#4D5663"
         },
         "title": {
          "font": {
           "color": "#4D5663"
          },
          "text": ""
         },
         "zerolinecolor": "#E1E5ED"
        },
        "yaxis6": {
         "anchor": "x6",
         "domain": [
          0.535,
          0.7325
         ],
         "gridcolor": "#E1E5ED",
         "showgrid": false,
         "tickfont": {
          "color": "#4D5663"
         },
         "title": {
          "font": {
           "color": "#4D5663"
          },
          "text": ""
         },
         "zerolinecolor": "#E1E5ED"
        },
        "yaxis7": {
         "anchor": "x7",
         "domain": [
          0.535,
          0.7325
         ],
         "gridcolor": "#E1E5ED",
         "showgrid": false,
         "tickfont": {
          "color": "#4D5663"
         },
         "title": {
          "font": {
           "color": "#4D5663"
          },
          "text": ""
         },
         "zerolinecolor": "#E1E5ED"
        },
        "yaxis8": {
         "anchor": "x8",
         "domain": [
          0.535,
          0.7325
         ],
         "gridcolor": "#E1E5ED",
         "showgrid": false,
         "tickfont": {
          "color": "#4D5663"
         },
         "title": {
          "font": {
           "color": "#4D5663"
          },
          "text": ""
         },
         "zerolinecolor": "#E1E5ED"
        },
        "yaxis9": {
         "anchor": "x9",
         "domain": [
          0.2675,
          0.465
         ],
         "gridcolor": "#E1E5ED",
         "showgrid": false,
         "tickfont": {
          "color": "#4D5663"
         },
         "title": {
          "font": {
           "color": "#4D5663"
          },
          "text": ""
         },
         "zerolinecolor": "#E1E5ED"
        }
       }
      },
      "text/html": [
       "<div>\n",
       "        \n",
       "        \n",
       "            <div id=\"38c5671b-6e8d-469b-8666-bf594080c7a5\" class=\"plotly-graph-div\" style=\"height:525px; width:100%;\"></div>\n",
       "            <script type=\"text/javascript\">\n",
       "                require([\"plotly\"], function(Plotly) {\n",
       "                    window.PLOTLYENV=window.PLOTLYENV || {};\n",
       "                    window.PLOTLYENV.BASE_URL='https://plot.ly';\n",
       "                    \n",
       "                if (document.getElementById(\"38c5671b-6e8d-469b-8666-bf594080c7a5\")) {\n",
       "                    Plotly.newPlot(\n",
       "                        '38c5671b-6e8d-469b-8666-bf594080c7a5',\n",
       "                        [{\"histfunc\": \"count\", \"histnorm\": \"\", \"marker\": {\"color\": \"rgba(255, 153, 51, 1.0)\", \"line\": {\"color\": \"#4D5663\", \"width\": 1.3}}, \"name\": \"A\", \"nbinsx\": 10, \"opacity\": 0.8, \"orientation\": \"v\", \"type\": \"histogram\", \"x\": [-0.8224878330406368, -0.10471106442069328, -2.769584391084238, -2.2424162672391885, 0.490203066976595, 2.8691407911563673, -0.0803435729235115, -0.12115858301628984, 1.0499603993850388, 1.1283694551511767, 1.8380934783110614, 0.4645233310960621, -0.3486835398494006, 0.9664744927848891, -0.33835704495058144, -1.28473461375488, 1.7985504608251153, 1.1553157661273779, 0.4134915078299442, 0.7475612530709317, 0.4201660768259774, 0.07722115747936044, 1.0221609726299972, -1.077323357084743, -0.34977897732417185, 1.3733646137384052, -0.15833165590252143, 1.4947517994373962, -0.38989674078583964, -0.5243134691725355, -1.097052749096775, 1.054960626543361, 1.5146706425888474, 0.40891220981344617, -0.03669418351965464, -0.13067256359666868, -1.3643656789650926, 1.3642052302623737, 0.3013624226546742, -1.604831448237099, 1.9936387069916879, -0.7344022390099565, -1.0909182813824605, 0.7899232933086707, -0.7888330616466801, 0.24423391011295395, -1.433561400695055, -0.8051710423228607, 1.3878930883952874, -0.23677373547589425, 1.4198942689724774, -0.8583559909421177, -0.5094931311348392, -0.29723488125835085, 1.4666563744515433, -0.5961247866543091, 0.38967071033631834, 0.9968517939347469, -1.2518718953723809, 0.25183778792382366, 0.6679256901564015, 0.996754273254323, 0.12748412059035386, -0.3186507334386617, 0.8058549264472583, 0.793026285047879, 0.2345960517139365, 0.42175178151213183, -1.9211488472442586, 0.1219224349688401, 0.05176320596206913, -0.3497984577725166, 0.456054887712555, 0.07617950164554171, 1.3404993482278846, 0.14392955845017877, -1.138648683092966, 1.494168391233162, 0.029884199072675432, -0.10405794060352479, -0.28770790124207524, -1.4419491390038417, 0.5682946601649805, 0.21954096821881025, -0.16217288802578836, 0.9521454603349894, 0.13231876090108707, 0.12117149081466017, -0.9367090923602004, 1.264286886996742, 1.9986274543811504, 0.6872677252241897, 0.23490617405340217, 0.1779749622995297, 0.20027271975265543, -1.7896732465301717, -0.38825505562436735, 0.6518389289274054, 1.4429880702473201, 1.085490258313375], \"xaxis\": \"x\", \"yaxis\": \"y\"}, {\"line\": {\"color\": \"rgba(128, 128, 128, 1.0)\", \"dash\": \"solid\", \"shape\": \"linear\", \"width\": 1.3}, \"marker\": {\"size\": 2, \"symbol\": \"circle\"}, \"mode\": \"markers\", \"name\": \"A\", \"text\": \"\", \"type\": \"scatter\", \"x\": [-0.10516366801878904, 1.0053383313461546, 0.7711355623806072, -0.9585361003596985, 1.413791782075609, -0.011999672475143592, -0.2332276829472234, 0.9994963176647628, 0.8010134369014502, -0.462304224009063, 1.1184462932071981, -0.589992861130369, -2.407485278886959, -0.7466993868046775, -0.4473733557949075, 0.3805477134400745, 2.336840387236904, 0.43387049430242997, 0.8152523192214589, 0.6089888934661134, -1.526454646964997, -1.3206012488138623, -1.0431640274931064, 0.7749127003189561, -0.2493808914655523, 1.458109788045986, 1.4404921519603873, -0.9441221138653232, 0.2732931046600395, 0.670748994079489, 1.2851525315752468, -1.7303505300847168, 0.2564344283676181, 1.0512380697522659, 0.7990793338822009, -0.8273449445815736, -0.13302628947133086, 1.151813367457789, -0.8116827986139052, 0.16250672924139484, 0.6119741800924526, -0.12623253101768572, -0.645412471356651, 0.21225836348979263, 0.9828919578145259, -1.0640505904153608, 0.8606516119398787, -0.03836903085700935, -1.029494471649252, 1.5927070980793128, 0.345091231227057, 0.19380779779508553, -1.2171439092573397, -1.1221298763480816, -0.71548838463745, 0.8618914945926935, 0.8709948734880736, 1.3214572814137557, 0.3656583698395165, -1.0611358360980878, 2.6045600811046117, 0.29786624169468395, -1.2181968397107135, 0.005947039893275675, -0.9217262323903322, 0.43250191129540305, -2.059956112643729, -0.24783647778024964, -0.825755005236759, 0.5104517899980096, 0.7756766680790673, -0.6948728890863228, 0.10526112030629592, 0.595048497478357, -0.9684246545495997, 0.9805904389899971, -0.5150824233574389, -1.8701413759264716, 0.045707577044487815, -1.1812227615164517, -0.47919058861042635, 0.2020800241922994, -1.0295277726875516, -0.8007147666280858, -1.1849668586810944, -1.8499115869420633, -0.5969137115751699, 1.48710606342048, 0.5010826710528153, 0.23312570917424857, 0.4466191745148875, -0.7773227430247127, 0.05908523285531262, -0.411275094211949, -1.090825864124665, 0.2214935949606966, 1.3352016027920028, -0.11906672568050544, -1.7799645711470489, 1.4945027836142082], \"xaxis\": \"x2\", \"y\": [-0.8224878330406368, -0.10471106442069328, -2.769584391084238, -2.2424162672391885, 0.490203066976595, 2.8691407911563673, -0.0803435729235115, -0.12115858301628984, 1.0499603993850388, 1.1283694551511767, 1.8380934783110614, 0.4645233310960621, -0.3486835398494006, 0.9664744927848891, -0.33835704495058144, -1.28473461375488, 1.7985504608251153, 1.1553157661273779, 0.4134915078299442, 0.7475612530709317, 0.4201660768259774, 0.07722115747936044, 1.0221609726299972, -1.077323357084743, -0.34977897732417185, 1.3733646137384052, -0.15833165590252143, 1.4947517994373962, -0.38989674078583964, -0.5243134691725355, -1.097052749096775, 1.054960626543361, 1.5146706425888474, 0.40891220981344617, -0.03669418351965464, -0.13067256359666868, -1.3643656789650926, 1.3642052302623737, 0.3013624226546742, -1.604831448237099, 1.9936387069916879, -0.7344022390099565, -1.0909182813824605, 0.7899232933086707, -0.7888330616466801, 0.24423391011295395, -1.433561400695055, -0.8051710423228607, 1.3878930883952874, -0.23677373547589425, 1.4198942689724774, -0.8583559909421177, -0.5094931311348392, -0.29723488125835085, 1.4666563744515433, -0.5961247866543091, 0.38967071033631834, 0.9968517939347469, -1.2518718953723809, 0.25183778792382366, 0.6679256901564015, 0.996754273254323, 0.12748412059035386, -0.3186507334386617, 0.8058549264472583, 0.793026285047879, 0.2345960517139365, 0.42175178151213183, -1.9211488472442586, 0.1219224349688401, 0.05176320596206913, -0.3497984577725166, 0.456054887712555, 0.07617950164554171, 1.3404993482278846, 0.14392955845017877, -1.138648683092966, 1.494168391233162, 0.029884199072675432, -0.10405794060352479, -0.28770790124207524, -1.4419491390038417, 0.5682946601649805, 0.21954096821881025, -0.16217288802578836, 0.9521454603349894, 0.13231876090108707, 0.12117149081466017, -0.9367090923602004, 1.264286886996742, 1.9986274543811504, 0.6872677252241897, 0.23490617405340217, 0.1779749622995297, 0.20027271975265543, -1.7896732465301717, -0.38825505562436735, 0.6518389289274054, 1.4429880702473201, 1.085490258313375], \"yaxis\": \"y2\"}, {\"line\": {\"color\": \"rgba(128, 128, 128, 1.0)\", \"dash\": \"solid\", \"shape\": \"linear\", \"width\": 1.3}, \"marker\": {\"size\": 2, \"symbol\": \"circle\"}, \"mode\": \"markers\", \"name\": \"A\", \"text\": \"\", \"type\": \"scatter\", \"x\": [1.0574435496930406, 1.4921564787890202, -1.7661487698322937, 0.5468034187042222, -0.47026472549686354, 0.028866797470123048, 0.3139952672131217, 1.0668782081292985, 0.09238728722526235, 0.283247834274512, 0.4487993866836888, 0.9132713227316623, 0.008592406413361182, -0.7173373816876694, -0.037214402351031156, -2.8949439095111407, 0.4140767599284732, -1.3715577493217457, 1.2411017703319136, -0.7750902687746185, -1.3369518346870932, -1.1874007524465737, 0.3681246871113735, -0.29296405505946915, -0.4120491294340162, -0.6393549290429247, -1.6252105983283975, -1.3122854422321009, -1.9360909602917662, 1.2027910029886157, -0.4518326104029993, -2.29567896659763, -2.2027365357952218, -0.9495835357613918, -0.7322557769196346, -0.9241767204331726, 0.5631995965443728, -0.6312706493382001, 1.024196030529535, 0.4297610318922039, -0.7504142855157657, 1.0706424815592872, -0.31772007630060434, 0.6705110936808703, 0.4534108865873891, 1.5475342889743962, 0.3660711004823217, 1.2934499121707412, 0.7491633869777687, 0.09037087793335094, 0.3709638152711295, -1.351420359786962, -0.4203974223630586, 0.18498829849810838, -1.6876380183562545, -1.131961576340599, -0.6104901531877899, -2.2658956080934023, -0.186352790636565, 1.9137723635641175, 0.13508744155143304, 1.0159023595649985, -1.8165198631533503, 0.29210575387975946, -2.520194559655417, 0.2127339800838521, 0.6223598055465379, 0.5766940739463821, 1.355567983001298, -0.4679608448477689, -0.4400613901138157, -1.3310223817525753, -0.8755271323754789, 0.6197069606377154, 1.4410149209822796, -0.14775880614740602, -1.1989896338434585, 0.8030412590191057, 0.11810621881639764, 1.705029039681729, -2.009349513148917, -1.1579539361380786, -0.21682015326728335, 0.018930436667645812, -0.31797119351666403, -0.8411642149311813, 0.3495781033263939, -0.9349822805499162, -0.3114537226336073, -0.27159842048918575, 0.8369615864242455, 0.7858872047734048, -1.7845289249109602, 1.0115271820947205, 0.11688723804189248, 0.4384478782073346, 0.008889099217462877, -1.2107890685045604, -0.4071907027266032, 0.6536957941340616], \"xaxis\": \"x3\", \"y\": [-0.8224878330406368, -0.10471106442069328, -2.769584391084238, -2.2424162672391885, 0.490203066976595, 2.8691407911563673, -0.0803435729235115, -0.12115858301628984, 1.0499603993850388, 1.1283694551511767, 1.8380934783110614, 0.4645233310960621, -0.3486835398494006, 0.9664744927848891, -0.33835704495058144, -1.28473461375488, 1.7985504608251153, 1.1553157661273779, 0.4134915078299442, 0.7475612530709317, 0.4201660768259774, 0.07722115747936044, 1.0221609726299972, -1.077323357084743, -0.34977897732417185, 1.3733646137384052, -0.15833165590252143, 1.4947517994373962, -0.38989674078583964, -0.5243134691725355, -1.097052749096775, 1.054960626543361, 1.5146706425888474, 0.40891220981344617, -0.03669418351965464, -0.13067256359666868, -1.3643656789650926, 1.3642052302623737, 0.3013624226546742, -1.604831448237099, 1.9936387069916879, -0.7344022390099565, -1.0909182813824605, 0.7899232933086707, -0.7888330616466801, 0.24423391011295395, -1.433561400695055, -0.8051710423228607, 1.3878930883952874, -0.23677373547589425, 1.4198942689724774, -0.8583559909421177, -0.5094931311348392, -0.29723488125835085, 1.4666563744515433, -0.5961247866543091, 0.38967071033631834, 0.9968517939347469, -1.2518718953723809, 0.25183778792382366, 0.6679256901564015, 0.996754273254323, 0.12748412059035386, -0.3186507334386617, 0.8058549264472583, 0.793026285047879, 0.2345960517139365, 0.42175178151213183, -1.9211488472442586, 0.1219224349688401, 0.05176320596206913, -0.3497984577725166, 0.456054887712555, 0.07617950164554171, 1.3404993482278846, 0.14392955845017877, -1.138648683092966, 1.494168391233162, 0.029884199072675432, -0.10405794060352479, -0.28770790124207524, -1.4419491390038417, 0.5682946601649805, 0.21954096821881025, -0.16217288802578836, 0.9521454603349894, 0.13231876090108707, 0.12117149081466017, -0.9367090923602004, 1.264286886996742, 1.9986274543811504, 0.6872677252241897, 0.23490617405340217, 0.1779749622995297, 0.20027271975265543, -1.7896732465301717, -0.38825505562436735, 0.6518389289274054, 1.4429880702473201, 1.085490258313375], \"yaxis\": \"y3\"}, {\"line\": {\"color\": \"rgba(128, 128, 128, 1.0)\", \"dash\": \"solid\", \"shape\": \"linear\", \"width\": 1.3}, \"marker\": {\"size\": 2, \"symbol\": \"circle\"}, \"mode\": \"markers\", \"name\": \"A\", \"text\": \"\", \"type\": \"scatter\", \"x\": [0.3798783138869394, 0.5325642324025878, -1.8891938479625277, -0.03444831396935892, 1.4104072642934369, -0.3503592139676249, -0.4518190931196363, -0.3526980962729689, -0.13644755472497294, 0.956469914017513, 0.2766338633851785, 0.48679215566673106, 0.6305138639396141, 0.670662053678759, 0.17246341882456473, 1.6896887579244286, -0.09568047093000441, 0.37002779584454143, -0.5889076792874218, -0.993264289903829, 0.032929627729489694, 2.459806536192735, -0.5300658412981611, -0.5462519759274664, 2.2185127174957526, -1.2873566015766316, 1.1085631311275275, 0.7540336592440204, -2.405117365648385, 0.7519527988408649, 0.960740272412522, 0.6661987152882016, 0.09604344180668174, 0.19791457794456077, -0.5767798450403657, -0.6094379212386503, 0.9635133288340161, -0.1916057929549026, 0.2822548631386541, -0.39170312163360355, 1.0553270001104484, -0.8883354765977708, 0.14339533089131373, 1.4340419022520996, 1.5387313432423801, -0.4491124148977889, 0.24097568616595325, -1.0952678381537415, -1.3070247606070595, 0.3665277479805535, -0.2783540192377507, 0.629501823076368, 0.6849483439792226, -0.5315032934853802, 1.0444660828634182, 1.538436301126394, 0.4319327354213975, -0.14084430545192075, 1.7219787146097316, 1.3972112919116941, -0.20272716886416664, 0.07143726678942765, -0.363681910844145, -1.5668551317424237, 0.378403314966072, 0.43504543706164983, -0.10889111832006396, -0.791434625542699, 1.6099239399808436, 0.5452652674536136, -1.4854687171382646, 0.8676730513097982, 1.1204485778757485, 0.6843594944768051, -0.7510865824027254, -0.2332906102221231, 0.8787493888412986, 0.6480584613902357, -0.42944843729204674, 1.1820664129266354, -0.3372464499840548, 0.9756828395663479, -0.4664566749827974, 0.619425782469263, 0.7089529472891641, -0.5008345898697598, 0.9463043227431527, -0.011880002448478146, 0.23520814180111044, -0.18531967636238048, 0.03318441552433788, -0.6339369120426261, -0.3350870887531984, 0.5644887956088116, 0.6160211323302354, 0.6940017094073261, -0.14109006224355106, 0.8750595947946054, 0.4015732140810989, -0.5021013131557769], \"xaxis\": \"x4\", \"y\": [-0.8224878330406368, -0.10471106442069328, -2.769584391084238, -2.2424162672391885, 0.490203066976595, 2.8691407911563673, -0.0803435729235115, -0.12115858301628984, 1.0499603993850388, 1.1283694551511767, 1.8380934783110614, 0.4645233310960621, -0.3486835398494006, 0.9664744927848891, -0.33835704495058144, -1.28473461375488, 1.7985504608251153, 1.1553157661273779, 0.4134915078299442, 0.7475612530709317, 0.4201660768259774, 0.07722115747936044, 1.0221609726299972, -1.077323357084743, -0.34977897732417185, 1.3733646137384052, -0.15833165590252143, 1.4947517994373962, -0.38989674078583964, -0.5243134691725355, -1.097052749096775, 1.054960626543361, 1.5146706425888474, 0.40891220981344617, -0.03669418351965464, -0.13067256359666868, -1.3643656789650926, 1.3642052302623737, 0.3013624226546742, -1.604831448237099, 1.9936387069916879, -0.7344022390099565, -1.0909182813824605, 0.7899232933086707, -0.7888330616466801, 0.24423391011295395, -1.433561400695055, -0.8051710423228607, 1.3878930883952874, -0.23677373547589425, 1.4198942689724774, -0.8583559909421177, -0.5094931311348392, -0.29723488125835085, 1.4666563744515433, -0.5961247866543091, 0.38967071033631834, 0.9968517939347469, -1.2518718953723809, 0.25183778792382366, 0.6679256901564015, 0.996754273254323, 0.12748412059035386, -0.3186507334386617, 0.8058549264472583, 0.793026285047879, 0.2345960517139365, 0.42175178151213183, -1.9211488472442586, 0.1219224349688401, 0.05176320596206913, -0.3497984577725166, 0.456054887712555, 0.07617950164554171, 1.3404993482278846, 0.14392955845017877, -1.138648683092966, 1.494168391233162, 0.029884199072675432, -0.10405794060352479, -0.28770790124207524, -1.4419491390038417, 0.5682946601649805, 0.21954096821881025, -0.16217288802578836, 0.9521454603349894, 0.13231876090108707, 0.12117149081466017, -0.9367090923602004, 1.264286886996742, 1.9986274543811504, 0.6872677252241897, 0.23490617405340217, 0.1779749622995297, 0.20027271975265543, -1.7896732465301717, -0.38825505562436735, 0.6518389289274054, 1.4429880702473201, 1.085490258313375], \"yaxis\": \"y4\"}, {\"line\": {\"color\": \"rgba(128, 128, 128, 1.0)\", \"dash\": \"solid\", \"shape\": \"linear\", \"width\": 1.3}, \"marker\": {\"size\": 2, \"symbol\": \"circle\"}, \"mode\": \"markers\", \"name\": \"B\", \"text\": \"\", \"type\": \"scatter\", \"x\": [-0.8224878330406368, -0.10471106442069328, -2.769584391084238, -2.2424162672391885, 0.490203066976595, 2.8691407911563673, -0.0803435729235115, -0.12115858301628984, 1.0499603993850388, 1.1283694551511767, 1.8380934783110614, 0.4645233310960621, -0.3486835398494006, 0.9664744927848891, -0.33835704495058144, -1.28473461375488, 1.7985504608251153, 1.1553157661273779, 0.4134915078299442, 0.7475612530709317, 0.4201660768259774, 0.07722115747936044, 1.0221609726299972, -1.077323357084743, -0.34977897732417185, 1.3733646137384052, -0.15833165590252143, 1.4947517994373962, -0.38989674078583964, -0.5243134691725355, -1.097052749096775, 1.054960626543361, 1.5146706425888474, 0.40891220981344617, -0.03669418351965464, -0.13067256359666868, -1.3643656789650926, 1.3642052302623737, 0.3013624226546742, -1.604831448237099, 1.9936387069916879, -0.7344022390099565, -1.0909182813824605, 0.7899232933086707, -0.7888330616466801, 0.24423391011295395, -1.433561400695055, -0.8051710423228607, 1.3878930883952874, -0.23677373547589425, 1.4198942689724774, -0.8583559909421177, -0.5094931311348392, -0.29723488125835085, 1.4666563744515433, -0.5961247866543091, 0.38967071033631834, 0.9968517939347469, -1.2518718953723809, 0.25183778792382366, 0.6679256901564015, 0.996754273254323, 0.12748412059035386, -0.3186507334386617, 0.8058549264472583, 0.793026285047879, 0.2345960517139365, 0.42175178151213183, -1.9211488472442586, 0.1219224349688401, 0.05176320596206913, -0.3497984577725166, 0.456054887712555, 0.07617950164554171, 1.3404993482278846, 0.14392955845017877, -1.138648683092966, 1.494168391233162, 0.029884199072675432, -0.10405794060352479, -0.28770790124207524, -1.4419491390038417, 0.5682946601649805, 0.21954096821881025, -0.16217288802578836, 0.9521454603349894, 0.13231876090108707, 0.12117149081466017, -0.9367090923602004, 1.264286886996742, 1.9986274543811504, 0.6872677252241897, 0.23490617405340217, 0.1779749622995297, 0.20027271975265543, -1.7896732465301717, -0.38825505562436735, 0.6518389289274054, 1.4429880702473201, 1.085490258313375], \"xaxis\": \"x5\", \"y\": [-0.10516366801878904, 1.0053383313461546, 0.7711355623806072, -0.9585361003596985, 1.413791782075609, -0.011999672475143592, -0.2332276829472234, 0.9994963176647628, 0.8010134369014502, -0.462304224009063, 1.1184462932071981, -0.589992861130369, -2.407485278886959, -0.7466993868046775, -0.4473733557949075, 0.3805477134400745, 2.336840387236904, 0.43387049430242997, 0.8152523192214589, 0.6089888934661134, -1.526454646964997, -1.3206012488138623, -1.0431640274931064, 0.7749127003189561, -0.2493808914655523, 1.458109788045986, 1.4404921519603873, -0.9441221138653232, 0.2732931046600395, 0.670748994079489, 1.2851525315752468, -1.7303505300847168, 0.2564344283676181, 1.0512380697522659, 0.7990793338822009, -0.8273449445815736, -0.13302628947133086, 1.151813367457789, -0.8116827986139052, 0.16250672924139484, 0.6119741800924526, -0.12623253101768572, -0.645412471356651, 0.21225836348979263, 0.9828919578145259, -1.0640505904153608, 0.8606516119398787, -0.03836903085700935, -1.029494471649252, 1.5927070980793128, 0.345091231227057, 0.19380779779508553, -1.2171439092573397, -1.1221298763480816, -0.71548838463745, 0.8618914945926935, 0.8709948734880736, 1.3214572814137557, 0.3656583698395165, -1.0611358360980878, 2.6045600811046117, 0.29786624169468395, -1.2181968397107135, 0.005947039893275675, -0.9217262323903322, 0.43250191129540305, -2.059956112643729, -0.24783647778024964, -0.825755005236759, 0.5104517899980096, 0.7756766680790673, -0.6948728890863228, 0.10526112030629592, 0.595048497478357, -0.9684246545495997, 0.9805904389899971, -0.5150824233574389, -1.8701413759264716, 0.045707577044487815, -1.1812227615164517, -0.47919058861042635, 0.2020800241922994, -1.0295277726875516, -0.8007147666280858, -1.1849668586810944, -1.8499115869420633, -0.5969137115751699, 1.48710606342048, 0.5010826710528153, 0.23312570917424857, 0.4466191745148875, -0.7773227430247127, 0.05908523285531262, -0.411275094211949, -1.090825864124665, 0.2214935949606966, 1.3352016027920028, -0.11906672568050544, -1.7799645711470489, 1.4945027836142082], \"yaxis\": \"y5\"}, {\"histfunc\": \"count\", \"histnorm\": \"\", \"marker\": {\"color\": \"rgba(55, 128, 191, 1.0)\", \"line\": {\"color\": \"#4D5663\", \"width\": 1.3}}, \"name\": \"B\", \"nbinsx\": 10, \"opacity\": 0.8, \"orientation\": \"v\", \"type\": \"histogram\", \"x\": [-0.10516366801878904, 1.0053383313461546, 0.7711355623806072, -0.9585361003596985, 1.413791782075609, -0.011999672475143592, -0.2332276829472234, 0.9994963176647628, 0.8010134369014502, -0.462304224009063, 1.1184462932071981, -0.589992861130369, -2.407485278886959, -0.7466993868046775, -0.4473733557949075, 0.3805477134400745, 2.336840387236904, 0.43387049430242997, 0.8152523192214589, 0.6089888934661134, -1.526454646964997, -1.3206012488138623, -1.0431640274931064, 0.7749127003189561, -0.2493808914655523, 1.458109788045986, 1.4404921519603873, -0.9441221138653232, 0.2732931046600395, 0.670748994079489, 1.2851525315752468, -1.7303505300847168, 0.2564344283676181, 1.0512380697522659, 0.7990793338822009, -0.8273449445815736, -0.13302628947133086, 1.151813367457789, -0.8116827986139052, 0.16250672924139484, 0.6119741800924526, -0.12623253101768572, -0.645412471356651, 0.21225836348979263, 0.9828919578145259, -1.0640505904153608, 0.8606516119398787, -0.03836903085700935, -1.029494471649252, 1.5927070980793128, 0.345091231227057, 0.19380779779508553, -1.2171439092573397, -1.1221298763480816, -0.71548838463745, 0.8618914945926935, 0.8709948734880736, 1.3214572814137557, 0.3656583698395165, -1.0611358360980878, 2.6045600811046117, 0.29786624169468395, -1.2181968397107135, 0.005947039893275675, -0.9217262323903322, 0.43250191129540305, -2.059956112643729, -0.24783647778024964, -0.825755005236759, 0.5104517899980096, 0.7756766680790673, -0.6948728890863228, 0.10526112030629592, 0.595048497478357, -0.9684246545495997, 0.9805904389899971, -0.5150824233574389, -1.8701413759264716, 0.045707577044487815, -1.1812227615164517, -0.47919058861042635, 0.2020800241922994, -1.0295277726875516, -0.8007147666280858, -1.1849668586810944, -1.8499115869420633, -0.5969137115751699, 1.48710606342048, 0.5010826710528153, 0.23312570917424857, 0.4466191745148875, -0.7773227430247127, 0.05908523285531262, -0.411275094211949, -1.090825864124665, 0.2214935949606966, 1.3352016027920028, -0.11906672568050544, -1.7799645711470489, 1.4945027836142082], \"xaxis\": \"x6\", \"yaxis\": \"y6\"}, {\"line\": {\"color\": \"rgba(128, 128, 128, 1.0)\", \"dash\": \"solid\", \"shape\": \"linear\", \"width\": 1.3}, \"marker\": {\"size\": 2, \"symbol\": \"circle\"}, \"mode\": \"markers\", \"name\": \"B\", \"text\": \"\", \"type\": \"scatter\", \"x\": [1.0574435496930406, 1.4921564787890202, -1.7661487698322937, 0.5468034187042222, -0.47026472549686354, 0.028866797470123048, 0.3139952672131217, 1.0668782081292985, 0.09238728722526235, 0.283247834274512, 0.4487993866836888, 0.9132713227316623, 0.008592406413361182, -0.7173373816876694, -0.037214402351031156, -2.8949439095111407, 0.4140767599284732, -1.3715577493217457, 1.2411017703319136, -0.7750902687746185, -1.3369518346870932, -1.1874007524465737, 0.3681246871113735, -0.29296405505946915, -0.4120491294340162, -0.6393549290429247, -1.6252105983283975, -1.3122854422321009, -1.9360909602917662, 1.2027910029886157, -0.4518326104029993, -2.29567896659763, -2.2027365357952218, -0.9495835357613918, -0.7322557769196346, -0.9241767204331726, 0.5631995965443728, -0.6312706493382001, 1.024196030529535, 0.4297610318922039, -0.7504142855157657, 1.0706424815592872, -0.31772007630060434, 0.6705110936808703, 0.4534108865873891, 1.5475342889743962, 0.3660711004823217, 1.2934499121707412, 0.7491633869777687, 0.09037087793335094, 0.3709638152711295, -1.351420359786962, -0.4203974223630586, 0.18498829849810838, -1.6876380183562545, -1.131961576340599, -0.6104901531877899, -2.2658956080934023, -0.186352790636565, 1.9137723635641175, 0.13508744155143304, 1.0159023595649985, -1.8165198631533503, 0.29210575387975946, -2.520194559655417, 0.2127339800838521, 0.6223598055465379, 0.5766940739463821, 1.355567983001298, -0.4679608448477689, -0.4400613901138157, -1.3310223817525753, -0.8755271323754789, 0.6197069606377154, 1.4410149209822796, -0.14775880614740602, -1.1989896338434585, 0.8030412590191057, 0.11810621881639764, 1.705029039681729, -2.009349513148917, -1.1579539361380786, -0.21682015326728335, 0.018930436667645812, -0.31797119351666403, -0.8411642149311813, 0.3495781033263939, -0.9349822805499162, -0.3114537226336073, -0.27159842048918575, 0.8369615864242455, 0.7858872047734048, -1.7845289249109602, 1.0115271820947205, 0.11688723804189248, 0.4384478782073346, 0.008889099217462877, -1.2107890685045604, -0.4071907027266032, 0.6536957941340616], \"xaxis\": \"x7\", \"y\": [-0.10516366801878904, 1.0053383313461546, 0.7711355623806072, -0.9585361003596985, 1.413791782075609, -0.011999672475143592, -0.2332276829472234, 0.9994963176647628, 0.8010134369014502, -0.462304224009063, 1.1184462932071981, -0.589992861130369, -2.407485278886959, -0.7466993868046775, -0.4473733557949075, 0.3805477134400745, 2.336840387236904, 0.43387049430242997, 0.8152523192214589, 0.6089888934661134, -1.526454646964997, -1.3206012488138623, -1.0431640274931064, 0.7749127003189561, -0.2493808914655523, 1.458109788045986, 1.4404921519603873, -0.9441221138653232, 0.2732931046600395, 0.670748994079489, 1.2851525315752468, -1.7303505300847168, 0.2564344283676181, 1.0512380697522659, 0.7990793338822009, -0.8273449445815736, -0.13302628947133086, 1.151813367457789, -0.8116827986139052, 0.16250672924139484, 0.6119741800924526, -0.12623253101768572, -0.645412471356651, 0.21225836348979263, 0.9828919578145259, -1.0640505904153608, 0.8606516119398787, -0.03836903085700935, -1.029494471649252, 1.5927070980793128, 0.345091231227057, 0.19380779779508553, -1.2171439092573397, -1.1221298763480816, -0.71548838463745, 0.8618914945926935, 0.8709948734880736, 1.3214572814137557, 0.3656583698395165, -1.0611358360980878, 2.6045600811046117, 0.29786624169468395, -1.2181968397107135, 0.005947039893275675, -0.9217262323903322, 0.43250191129540305, -2.059956112643729, -0.24783647778024964, -0.825755005236759, 0.5104517899980096, 0.7756766680790673, -0.6948728890863228, 0.10526112030629592, 0.595048497478357, -0.9684246545495997, 0.9805904389899971, -0.5150824233574389, -1.8701413759264716, 0.045707577044487815, -1.1812227615164517, -0.47919058861042635, 0.2020800241922994, -1.0295277726875516, -0.8007147666280858, -1.1849668586810944, -1.8499115869420633, -0.5969137115751699, 1.48710606342048, 0.5010826710528153, 0.23312570917424857, 0.4466191745148875, -0.7773227430247127, 0.05908523285531262, -0.411275094211949, -1.090825864124665, 0.2214935949606966, 1.3352016027920028, -0.11906672568050544, -1.7799645711470489, 1.4945027836142082], \"yaxis\": \"y7\"}, {\"line\": {\"color\": \"rgba(128, 128, 128, 1.0)\", \"dash\": \"solid\", \"shape\": \"linear\", \"width\": 1.3}, \"marker\": {\"size\": 2, \"symbol\": \"circle\"}, \"mode\": \"markers\", \"name\": \"B\", \"text\": \"\", \"type\": \"scatter\", \"x\": [0.3798783138869394, 0.5325642324025878, -1.8891938479625277, -0.03444831396935892, 1.4104072642934369, -0.3503592139676249, -0.4518190931196363, -0.3526980962729689, -0.13644755472497294, 0.956469914017513, 0.2766338633851785, 0.48679215566673106, 0.6305138639396141, 0.670662053678759, 0.17246341882456473, 1.6896887579244286, -0.09568047093000441, 0.37002779584454143, -0.5889076792874218, -0.993264289903829, 0.032929627729489694, 2.459806536192735, -0.5300658412981611, -0.5462519759274664, 2.2185127174957526, -1.2873566015766316, 1.1085631311275275, 0.7540336592440204, -2.405117365648385, 0.7519527988408649, 0.960740272412522, 0.6661987152882016, 0.09604344180668174, 0.19791457794456077, -0.5767798450403657, -0.6094379212386503, 0.9635133288340161, -0.1916057929549026, 0.2822548631386541, -0.39170312163360355, 1.0553270001104484, -0.8883354765977708, 0.14339533089131373, 1.4340419022520996, 1.5387313432423801, -0.4491124148977889, 0.24097568616595325, -1.0952678381537415, -1.3070247606070595, 0.3665277479805535, -0.2783540192377507, 0.629501823076368, 0.6849483439792226, -0.5315032934853802, 1.0444660828634182, 1.538436301126394, 0.4319327354213975, -0.14084430545192075, 1.7219787146097316, 1.3972112919116941, -0.20272716886416664, 0.07143726678942765, -0.363681910844145, -1.5668551317424237, 0.378403314966072, 0.43504543706164983, -0.10889111832006396, -0.791434625542699, 1.6099239399808436, 0.5452652674536136, -1.4854687171382646, 0.8676730513097982, 1.1204485778757485, 0.6843594944768051, -0.7510865824027254, -0.2332906102221231, 0.8787493888412986, 0.6480584613902357, -0.42944843729204674, 1.1820664129266354, -0.3372464499840548, 0.9756828395663479, -0.4664566749827974, 0.619425782469263, 0.7089529472891641, -0.5008345898697598, 0.9463043227431527, -0.011880002448478146, 0.23520814180111044, -0.18531967636238048, 0.03318441552433788, -0.6339369120426261, -0.3350870887531984, 0.5644887956088116, 0.6160211323302354, 0.6940017094073261, -0.14109006224355106, 0.8750595947946054, 0.4015732140810989, -0.5021013131557769], \"xaxis\": \"x8\", \"y\": [-0.10516366801878904, 1.0053383313461546, 0.7711355623806072, -0.9585361003596985, 1.413791782075609, -0.011999672475143592, -0.2332276829472234, 0.9994963176647628, 0.8010134369014502, -0.462304224009063, 1.1184462932071981, -0.589992861130369, -2.407485278886959, -0.7466993868046775, -0.4473733557949075, 0.3805477134400745, 2.336840387236904, 0.43387049430242997, 0.8152523192214589, 0.6089888934661134, -1.526454646964997, -1.3206012488138623, -1.0431640274931064, 0.7749127003189561, -0.2493808914655523, 1.458109788045986, 1.4404921519603873, -0.9441221138653232, 0.2732931046600395, 0.670748994079489, 1.2851525315752468, -1.7303505300847168, 0.2564344283676181, 1.0512380697522659, 0.7990793338822009, -0.8273449445815736, -0.13302628947133086, 1.151813367457789, -0.8116827986139052, 0.16250672924139484, 0.6119741800924526, -0.12623253101768572, -0.645412471356651, 0.21225836348979263, 0.9828919578145259, -1.0640505904153608, 0.8606516119398787, -0.03836903085700935, -1.029494471649252, 1.5927070980793128, 0.345091231227057, 0.19380779779508553, -1.2171439092573397, -1.1221298763480816, -0.71548838463745, 0.8618914945926935, 0.8709948734880736, 1.3214572814137557, 0.3656583698395165, -1.0611358360980878, 2.6045600811046117, 0.29786624169468395, -1.2181968397107135, 0.005947039893275675, -0.9217262323903322, 0.43250191129540305, -2.059956112643729, -0.24783647778024964, -0.825755005236759, 0.5104517899980096, 0.7756766680790673, -0.6948728890863228, 0.10526112030629592, 0.595048497478357, -0.9684246545495997, 0.9805904389899971, -0.5150824233574389, -1.8701413759264716, 0.045707577044487815, -1.1812227615164517, -0.47919058861042635, 0.2020800241922994, -1.0295277726875516, -0.8007147666280858, -1.1849668586810944, -1.8499115869420633, -0.5969137115751699, 1.48710606342048, 0.5010826710528153, 0.23312570917424857, 0.4466191745148875, -0.7773227430247127, 0.05908523285531262, -0.411275094211949, -1.090825864124665, 0.2214935949606966, 1.3352016027920028, -0.11906672568050544, -1.7799645711470489, 1.4945027836142082], \"yaxis\": \"y8\"}, {\"line\": {\"color\": \"rgba(128, 128, 128, 1.0)\", \"dash\": \"solid\", \"shape\": \"linear\", \"width\": 1.3}, \"marker\": {\"size\": 2, \"symbol\": \"circle\"}, \"mode\": \"markers\", \"name\": \"C\", \"text\": \"\", \"type\": \"scatter\", \"x\": [-0.8224878330406368, -0.10471106442069328, -2.769584391084238, -2.2424162672391885, 0.490203066976595, 2.8691407911563673, -0.0803435729235115, -0.12115858301628984, 1.0499603993850388, 1.1283694551511767, 1.8380934783110614, 0.4645233310960621, -0.3486835398494006, 0.9664744927848891, -0.33835704495058144, -1.28473461375488, 1.7985504608251153, 1.1553157661273779, 0.4134915078299442, 0.7475612530709317, 0.4201660768259774, 0.07722115747936044, 1.0221609726299972, -1.077323357084743, -0.34977897732417185, 1.3733646137384052, -0.15833165590252143, 1.4947517994373962, -0.38989674078583964, -0.5243134691725355, -1.097052749096775, 1.054960626543361, 1.5146706425888474, 0.40891220981344617, -0.03669418351965464, -0.13067256359666868, -1.3643656789650926, 1.3642052302623737, 0.3013624226546742, -1.604831448237099, 1.9936387069916879, -0.7344022390099565, -1.0909182813824605, 0.7899232933086707, -0.7888330616466801, 0.24423391011295395, -1.433561400695055, -0.8051710423228607, 1.3878930883952874, -0.23677373547589425, 1.4198942689724774, -0.8583559909421177, -0.5094931311348392, -0.29723488125835085, 1.4666563744515433, -0.5961247866543091, 0.38967071033631834, 0.9968517939347469, -1.2518718953723809, 0.25183778792382366, 0.6679256901564015, 0.996754273254323, 0.12748412059035386, -0.3186507334386617, 0.8058549264472583, 0.793026285047879, 0.2345960517139365, 0.42175178151213183, -1.9211488472442586, 0.1219224349688401, 0.05176320596206913, -0.3497984577725166, 0.456054887712555, 0.07617950164554171, 1.3404993482278846, 0.14392955845017877, -1.138648683092966, 1.494168391233162, 0.029884199072675432, -0.10405794060352479, -0.28770790124207524, -1.4419491390038417, 0.5682946601649805, 0.21954096821881025, -0.16217288802578836, 0.9521454603349894, 0.13231876090108707, 0.12117149081466017, -0.9367090923602004, 1.264286886996742, 1.9986274543811504, 0.6872677252241897, 0.23490617405340217, 0.1779749622995297, 0.20027271975265543, -1.7896732465301717, -0.38825505562436735, 0.6518389289274054, 1.4429880702473201, 1.085490258313375], \"xaxis\": \"x9\", \"y\": [1.0574435496930406, 1.4921564787890202, -1.7661487698322937, 0.5468034187042222, -0.47026472549686354, 0.028866797470123048, 0.3139952672131217, 1.0668782081292985, 0.09238728722526235, 0.283247834274512, 0.4487993866836888, 0.9132713227316623, 0.008592406413361182, -0.7173373816876694, -0.037214402351031156, -2.8949439095111407, 0.4140767599284732, -1.3715577493217457, 1.2411017703319136, -0.7750902687746185, -1.3369518346870932, -1.1874007524465737, 0.3681246871113735, -0.29296405505946915, -0.4120491294340162, -0.6393549290429247, -1.6252105983283975, -1.3122854422321009, -1.9360909602917662, 1.2027910029886157, -0.4518326104029993, -2.29567896659763, -2.2027365357952218, -0.9495835357613918, -0.7322557769196346, -0.9241767204331726, 0.5631995965443728, -0.6312706493382001, 1.024196030529535, 0.4297610318922039, -0.7504142855157657, 1.0706424815592872, -0.31772007630060434, 0.6705110936808703, 0.4534108865873891, 1.5475342889743962, 0.3660711004823217, 1.2934499121707412, 0.7491633869777687, 0.09037087793335094, 0.3709638152711295, -1.351420359786962, -0.4203974223630586, 0.18498829849810838, -1.6876380183562545, -1.131961576340599, -0.6104901531877899, -2.2658956080934023, -0.186352790636565, 1.9137723635641175, 0.13508744155143304, 1.0159023595649985, -1.8165198631533503, 0.29210575387975946, -2.520194559655417, 0.2127339800838521, 0.6223598055465379, 0.5766940739463821, 1.355567983001298, -0.4679608448477689, -0.4400613901138157, -1.3310223817525753, -0.8755271323754789, 0.6197069606377154, 1.4410149209822796, -0.14775880614740602, -1.1989896338434585, 0.8030412590191057, 0.11810621881639764, 1.705029039681729, -2.009349513148917, -1.1579539361380786, -0.21682015326728335, 0.018930436667645812, -0.31797119351666403, -0.8411642149311813, 0.3495781033263939, -0.9349822805499162, -0.3114537226336073, -0.27159842048918575, 0.8369615864242455, 0.7858872047734048, -1.7845289249109602, 1.0115271820947205, 0.11688723804189248, 0.4384478782073346, 0.008889099217462877, -1.2107890685045604, -0.4071907027266032, 0.6536957941340616], \"yaxis\": \"y9\"}, {\"line\": {\"color\": \"rgba(128, 128, 128, 1.0)\", \"dash\": \"solid\", \"shape\": \"linear\", \"width\": 1.3}, \"marker\": {\"size\": 2, \"symbol\": \"circle\"}, \"mode\": \"markers\", \"name\": \"C\", \"text\": \"\", \"type\": \"scatter\", \"x\": [-0.10516366801878904, 1.0053383313461546, 0.7711355623806072, -0.9585361003596985, 1.413791782075609, -0.011999672475143592, -0.2332276829472234, 0.9994963176647628, 0.8010134369014502, -0.462304224009063, 1.1184462932071981, -0.589992861130369, -2.407485278886959, -0.7466993868046775, -0.4473733557949075, 0.3805477134400745, 2.336840387236904, 0.43387049430242997, 0.8152523192214589, 0.6089888934661134, -1.526454646964997, -1.3206012488138623, -1.0431640274931064, 0.7749127003189561, -0.2493808914655523, 1.458109788045986, 1.4404921519603873, -0.9441221138653232, 0.2732931046600395, 0.670748994079489, 1.2851525315752468, -1.7303505300847168, 0.2564344283676181, 1.0512380697522659, 0.7990793338822009, -0.8273449445815736, -0.13302628947133086, 1.151813367457789, -0.8116827986139052, 0.16250672924139484, 0.6119741800924526, -0.12623253101768572, -0.645412471356651, 0.21225836348979263, 0.9828919578145259, -1.0640505904153608, 0.8606516119398787, -0.03836903085700935, -1.029494471649252, 1.5927070980793128, 0.345091231227057, 0.19380779779508553, -1.2171439092573397, -1.1221298763480816, -0.71548838463745, 0.8618914945926935, 0.8709948734880736, 1.3214572814137557, 0.3656583698395165, -1.0611358360980878, 2.6045600811046117, 0.29786624169468395, -1.2181968397107135, 0.005947039893275675, -0.9217262323903322, 0.43250191129540305, -2.059956112643729, -0.24783647778024964, -0.825755005236759, 0.5104517899980096, 0.7756766680790673, -0.6948728890863228, 0.10526112030629592, 0.595048497478357, -0.9684246545495997, 0.9805904389899971, -0.5150824233574389, -1.8701413759264716, 0.045707577044487815, -1.1812227615164517, -0.47919058861042635, 0.2020800241922994, -1.0295277726875516, -0.8007147666280858, -1.1849668586810944, -1.8499115869420633, -0.5969137115751699, 1.48710606342048, 0.5010826710528153, 0.23312570917424857, 0.4466191745148875, -0.7773227430247127, 0.05908523285531262, -0.411275094211949, -1.090825864124665, 0.2214935949606966, 1.3352016027920028, -0.11906672568050544, -1.7799645711470489, 1.4945027836142082], \"xaxis\": \"x10\", \"y\": [1.0574435496930406, 1.4921564787890202, -1.7661487698322937, 0.5468034187042222, -0.47026472549686354, 0.028866797470123048, 0.3139952672131217, 1.0668782081292985, 0.09238728722526235, 0.283247834274512, 0.4487993866836888, 0.9132713227316623, 0.008592406413361182, -0.7173373816876694, -0.037214402351031156, -2.8949439095111407, 0.4140767599284732, -1.3715577493217457, 1.2411017703319136, -0.7750902687746185, -1.3369518346870932, -1.1874007524465737, 0.3681246871113735, -0.29296405505946915, -0.4120491294340162, -0.6393549290429247, -1.6252105983283975, -1.3122854422321009, -1.9360909602917662, 1.2027910029886157, -0.4518326104029993, -2.29567896659763, -2.2027365357952218, -0.9495835357613918, -0.7322557769196346, -0.9241767204331726, 0.5631995965443728, -0.6312706493382001, 1.024196030529535, 0.4297610318922039, -0.7504142855157657, 1.0706424815592872, -0.31772007630060434, 0.6705110936808703, 0.4534108865873891, 1.5475342889743962, 0.3660711004823217, 1.2934499121707412, 0.7491633869777687, 0.09037087793335094, 0.3709638152711295, -1.351420359786962, -0.4203974223630586, 0.18498829849810838, -1.6876380183562545, -1.131961576340599, -0.6104901531877899, -2.2658956080934023, -0.186352790636565, 1.9137723635641175, 0.13508744155143304, 1.0159023595649985, -1.8165198631533503, 0.29210575387975946, -2.520194559655417, 0.2127339800838521, 0.6223598055465379, 0.5766940739463821, 1.355567983001298, -0.4679608448477689, -0.4400613901138157, -1.3310223817525753, -0.8755271323754789, 0.6197069606377154, 1.4410149209822796, -0.14775880614740602, -1.1989896338434585, 0.8030412590191057, 0.11810621881639764, 1.705029039681729, -2.009349513148917, -1.1579539361380786, -0.21682015326728335, 0.018930436667645812, -0.31797119351666403, -0.8411642149311813, 0.3495781033263939, -0.9349822805499162, -0.3114537226336073, -0.27159842048918575, 0.8369615864242455, 0.7858872047734048, -1.7845289249109602, 1.0115271820947205, 0.11688723804189248, 0.4384478782073346, 0.008889099217462877, -1.2107890685045604, -0.4071907027266032, 0.6536957941340616], \"yaxis\": \"y10\"}, {\"histfunc\": \"count\", \"histnorm\": \"\", \"marker\": {\"color\": \"rgba(50, 171, 96, 1.0)\", \"line\": {\"color\": \"#4D5663\", \"width\": 1.3}}, \"name\": \"C\", \"nbinsx\": 10, \"opacity\": 0.8, \"orientation\": \"v\", \"type\": \"histogram\", \"x\": [1.0574435496930406, 1.4921564787890202, -1.7661487698322937, 0.5468034187042222, -0.47026472549686354, 0.028866797470123048, 0.3139952672131217, 1.0668782081292985, 0.09238728722526235, 0.283247834274512, 0.4487993866836888, 0.9132713227316623, 0.008592406413361182, -0.7173373816876694, -0.037214402351031156, -2.8949439095111407, 0.4140767599284732, -1.3715577493217457, 1.2411017703319136, -0.7750902687746185, -1.3369518346870932, -1.1874007524465737, 0.3681246871113735, -0.29296405505946915, -0.4120491294340162, -0.6393549290429247, -1.6252105983283975, -1.3122854422321009, -1.9360909602917662, 1.2027910029886157, -0.4518326104029993, -2.29567896659763, -2.2027365357952218, -0.9495835357613918, -0.7322557769196346, -0.9241767204331726, 0.5631995965443728, -0.6312706493382001, 1.024196030529535, 0.4297610318922039, -0.7504142855157657, 1.0706424815592872, -0.31772007630060434, 0.6705110936808703, 0.4534108865873891, 1.5475342889743962, 0.3660711004823217, 1.2934499121707412, 0.7491633869777687, 0.09037087793335094, 0.3709638152711295, -1.351420359786962, -0.4203974223630586, 0.18498829849810838, -1.6876380183562545, -1.131961576340599, -0.6104901531877899, -2.2658956080934023, -0.186352790636565, 1.9137723635641175, 0.13508744155143304, 1.0159023595649985, -1.8165198631533503, 0.29210575387975946, -2.520194559655417, 0.2127339800838521, 0.6223598055465379, 0.5766940739463821, 1.355567983001298, -0.4679608448477689, -0.4400613901138157, -1.3310223817525753, -0.8755271323754789, 0.6197069606377154, 1.4410149209822796, -0.14775880614740602, -1.1989896338434585, 0.8030412590191057, 0.11810621881639764, 1.705029039681729, -2.009349513148917, -1.1579539361380786, -0.21682015326728335, 0.018930436667645812, -0.31797119351666403, -0.8411642149311813, 0.3495781033263939, -0.9349822805499162, -0.3114537226336073, -0.27159842048918575, 0.8369615864242455, 0.7858872047734048, -1.7845289249109602, 1.0115271820947205, 0.11688723804189248, 0.4384478782073346, 0.008889099217462877, -1.2107890685045604, -0.4071907027266032, 0.6536957941340616], \"xaxis\": \"x11\", \"yaxis\": \"y11\"}, {\"line\": {\"color\": \"rgba(128, 128, 128, 1.0)\", \"dash\": \"solid\", \"shape\": \"linear\", \"width\": 1.3}, \"marker\": {\"size\": 2, \"symbol\": \"circle\"}, \"mode\": \"markers\", \"name\": \"C\", \"text\": \"\", \"type\": \"scatter\", \"x\": [0.3798783138869394, 0.5325642324025878, -1.8891938479625277, -0.03444831396935892, 1.4104072642934369, -0.3503592139676249, -0.4518190931196363, -0.3526980962729689, -0.13644755472497294, 0.956469914017513, 0.2766338633851785, 0.48679215566673106, 0.6305138639396141, 0.670662053678759, 0.17246341882456473, 1.6896887579244286, -0.09568047093000441, 0.37002779584454143, -0.5889076792874218, -0.993264289903829, 0.032929627729489694, 2.459806536192735, -0.5300658412981611, -0.5462519759274664, 2.2185127174957526, -1.2873566015766316, 1.1085631311275275, 0.7540336592440204, -2.405117365648385, 0.7519527988408649, 0.960740272412522, 0.6661987152882016, 0.09604344180668174, 0.19791457794456077, -0.5767798450403657, -0.6094379212386503, 0.9635133288340161, -0.1916057929549026, 0.2822548631386541, -0.39170312163360355, 1.0553270001104484, -0.8883354765977708, 0.14339533089131373, 1.4340419022520996, 1.5387313432423801, -0.4491124148977889, 0.24097568616595325, -1.0952678381537415, -1.3070247606070595, 0.3665277479805535, -0.2783540192377507, 0.629501823076368, 0.6849483439792226, -0.5315032934853802, 1.0444660828634182, 1.538436301126394, 0.4319327354213975, -0.14084430545192075, 1.7219787146097316, 1.3972112919116941, -0.20272716886416664, 0.07143726678942765, -0.363681910844145, -1.5668551317424237, 0.378403314966072, 0.43504543706164983, -0.10889111832006396, -0.791434625542699, 1.6099239399808436, 0.5452652674536136, -1.4854687171382646, 0.8676730513097982, 1.1204485778757485, 0.6843594944768051, -0.7510865824027254, -0.2332906102221231, 0.8787493888412986, 0.6480584613902357, -0.42944843729204674, 1.1820664129266354, -0.3372464499840548, 0.9756828395663479, -0.4664566749827974, 0.619425782469263, 0.7089529472891641, -0.5008345898697598, 0.9463043227431527, -0.011880002448478146, 0.23520814180111044, -0.18531967636238048, 0.03318441552433788, -0.6339369120426261, -0.3350870887531984, 0.5644887956088116, 0.6160211323302354, 0.6940017094073261, -0.14109006224355106, 0.8750595947946054, 0.4015732140810989, -0.5021013131557769], \"xaxis\": \"x12\", \"y\": [1.0574435496930406, 1.4921564787890202, -1.7661487698322937, 0.5468034187042222, -0.47026472549686354, 0.028866797470123048, 0.3139952672131217, 1.0668782081292985, 0.09238728722526235, 0.283247834274512, 0.4487993866836888, 0.9132713227316623, 0.008592406413361182, -0.7173373816876694, -0.037214402351031156, -2.8949439095111407, 0.4140767599284732, -1.3715577493217457, 1.2411017703319136, -0.7750902687746185, -1.3369518346870932, -1.1874007524465737, 0.3681246871113735, -0.29296405505946915, -0.4120491294340162, -0.6393549290429247, -1.6252105983283975, -1.3122854422321009, -1.9360909602917662, 1.2027910029886157, -0.4518326104029993, -2.29567896659763, -2.2027365357952218, -0.9495835357613918, -0.7322557769196346, -0.9241767204331726, 0.5631995965443728, -0.6312706493382001, 1.024196030529535, 0.4297610318922039, -0.7504142855157657, 1.0706424815592872, -0.31772007630060434, 0.6705110936808703, 0.4534108865873891, 1.5475342889743962, 0.3660711004823217, 1.2934499121707412, 0.7491633869777687, 0.09037087793335094, 0.3709638152711295, -1.351420359786962, -0.4203974223630586, 0.18498829849810838, -1.6876380183562545, -1.131961576340599, -0.6104901531877899, -2.2658956080934023, -0.186352790636565, 1.9137723635641175, 0.13508744155143304, 1.0159023595649985, -1.8165198631533503, 0.29210575387975946, -2.520194559655417, 0.2127339800838521, 0.6223598055465379, 0.5766940739463821, 1.355567983001298, -0.4679608448477689, -0.4400613901138157, -1.3310223817525753, -0.8755271323754789, 0.6197069606377154, 1.4410149209822796, -0.14775880614740602, -1.1989896338434585, 0.8030412590191057, 0.11810621881639764, 1.705029039681729, -2.009349513148917, -1.1579539361380786, -0.21682015326728335, 0.018930436667645812, -0.31797119351666403, -0.8411642149311813, 0.3495781033263939, -0.9349822805499162, -0.3114537226336073, -0.27159842048918575, 0.8369615864242455, 0.7858872047734048, -1.7845289249109602, 1.0115271820947205, 0.11688723804189248, 0.4384478782073346, 0.008889099217462877, -1.2107890685045604, -0.4071907027266032, 0.6536957941340616], \"yaxis\": \"y12\"}, {\"line\": {\"color\": \"rgba(128, 128, 128, 1.0)\", \"dash\": \"solid\", \"shape\": \"linear\", \"width\": 1.3}, \"marker\": {\"size\": 2, \"symbol\": \"circle\"}, \"mode\": \"markers\", \"name\": \"D\", \"text\": \"\", \"type\": \"scatter\", \"x\": [-0.8224878330406368, -0.10471106442069328, -2.769584391084238, -2.2424162672391885, 0.490203066976595, 2.8691407911563673, -0.0803435729235115, -0.12115858301628984, 1.0499603993850388, 1.1283694551511767, 1.8380934783110614, 0.4645233310960621, -0.3486835398494006, 0.9664744927848891, -0.33835704495058144, -1.28473461375488, 1.7985504608251153, 1.1553157661273779, 0.4134915078299442, 0.7475612530709317, 0.4201660768259774, 0.07722115747936044, 1.0221609726299972, -1.077323357084743, -0.34977897732417185, 1.3733646137384052, -0.15833165590252143, 1.4947517994373962, -0.38989674078583964, -0.5243134691725355, -1.097052749096775, 1.054960626543361, 1.5146706425888474, 0.40891220981344617, -0.03669418351965464, -0.13067256359666868, -1.3643656789650926, 1.3642052302623737, 0.3013624226546742, -1.604831448237099, 1.9936387069916879, -0.7344022390099565, -1.0909182813824605, 0.7899232933086707, -0.7888330616466801, 0.24423391011295395, -1.433561400695055, -0.8051710423228607, 1.3878930883952874, -0.23677373547589425, 1.4198942689724774, -0.8583559909421177, -0.5094931311348392, -0.29723488125835085, 1.4666563744515433, -0.5961247866543091, 0.38967071033631834, 0.9968517939347469, -1.2518718953723809, 0.25183778792382366, 0.6679256901564015, 0.996754273254323, 0.12748412059035386, -0.3186507334386617, 0.8058549264472583, 0.793026285047879, 0.2345960517139365, 0.42175178151213183, -1.9211488472442586, 0.1219224349688401, 0.05176320596206913, -0.3497984577725166, 0.456054887712555, 0.07617950164554171, 1.3404993482278846, 0.14392955845017877, -1.138648683092966, 1.494168391233162, 0.029884199072675432, -0.10405794060352479, -0.28770790124207524, -1.4419491390038417, 0.5682946601649805, 0.21954096821881025, -0.16217288802578836, 0.9521454603349894, 0.13231876090108707, 0.12117149081466017, -0.9367090923602004, 1.264286886996742, 1.9986274543811504, 0.6872677252241897, 0.23490617405340217, 0.1779749622995297, 0.20027271975265543, -1.7896732465301717, -0.38825505562436735, 0.6518389289274054, 1.4429880702473201, 1.085490258313375], \"xaxis\": \"x13\", \"y\": [0.3798783138869394, 0.5325642324025878, -1.8891938479625277, -0.03444831396935892, 1.4104072642934369, -0.3503592139676249, -0.4518190931196363, -0.3526980962729689, -0.13644755472497294, 0.956469914017513, 0.2766338633851785, 0.48679215566673106, 0.6305138639396141, 0.670662053678759, 0.17246341882456473, 1.6896887579244286, -0.09568047093000441, 0.37002779584454143, -0.5889076792874218, -0.993264289903829, 0.032929627729489694, 2.459806536192735, -0.5300658412981611, -0.5462519759274664, 2.2185127174957526, -1.2873566015766316, 1.1085631311275275, 0.7540336592440204, -2.405117365648385, 0.7519527988408649, 0.960740272412522, 0.6661987152882016, 0.09604344180668174, 0.19791457794456077, -0.5767798450403657, -0.6094379212386503, 0.9635133288340161, -0.1916057929549026, 0.2822548631386541, -0.39170312163360355, 1.0553270001104484, -0.8883354765977708, 0.14339533089131373, 1.4340419022520996, 1.5387313432423801, -0.4491124148977889, 0.24097568616595325, -1.0952678381537415, -1.3070247606070595, 0.3665277479805535, -0.2783540192377507, 0.629501823076368, 0.6849483439792226, -0.5315032934853802, 1.0444660828634182, 1.538436301126394, 0.4319327354213975, -0.14084430545192075, 1.7219787146097316, 1.3972112919116941, -0.20272716886416664, 0.07143726678942765, -0.363681910844145, -1.5668551317424237, 0.378403314966072, 0.43504543706164983, -0.10889111832006396, -0.791434625542699, 1.6099239399808436, 0.5452652674536136, -1.4854687171382646, 0.8676730513097982, 1.1204485778757485, 0.6843594944768051, -0.7510865824027254, -0.2332906102221231, 0.8787493888412986, 0.6480584613902357, -0.42944843729204674, 1.1820664129266354, -0.3372464499840548, 0.9756828395663479, -0.4664566749827974, 0.619425782469263, 0.7089529472891641, -0.5008345898697598, 0.9463043227431527, -0.011880002448478146, 0.23520814180111044, -0.18531967636238048, 0.03318441552433788, -0.6339369120426261, -0.3350870887531984, 0.5644887956088116, 0.6160211323302354, 0.6940017094073261, -0.14109006224355106, 0.8750595947946054, 0.4015732140810989, -0.5021013131557769], \"yaxis\": \"y13\"}, {\"line\": {\"color\": \"rgba(128, 128, 128, 1.0)\", \"dash\": \"solid\", \"shape\": \"linear\", \"width\": 1.3}, \"marker\": {\"size\": 2, \"symbol\": \"circle\"}, \"mode\": \"markers\", \"name\": \"D\", \"text\": \"\", \"type\": \"scatter\", \"x\": [-0.10516366801878904, 1.0053383313461546, 0.7711355623806072, -0.9585361003596985, 1.413791782075609, -0.011999672475143592, -0.2332276829472234, 0.9994963176647628, 0.8010134369014502, -0.462304224009063, 1.1184462932071981, -0.589992861130369, -2.407485278886959, -0.7466993868046775, -0.4473733557949075, 0.3805477134400745, 2.336840387236904, 0.43387049430242997, 0.8152523192214589, 0.6089888934661134, -1.526454646964997, -1.3206012488138623, -1.0431640274931064, 0.7749127003189561, -0.2493808914655523, 1.458109788045986, 1.4404921519603873, -0.9441221138653232, 0.2732931046600395, 0.670748994079489, 1.2851525315752468, -1.7303505300847168, 0.2564344283676181, 1.0512380697522659, 0.7990793338822009, -0.8273449445815736, -0.13302628947133086, 1.151813367457789, -0.8116827986139052, 0.16250672924139484, 0.6119741800924526, -0.12623253101768572, -0.645412471356651, 0.21225836348979263, 0.9828919578145259, -1.0640505904153608, 0.8606516119398787, -0.03836903085700935, -1.029494471649252, 1.5927070980793128, 0.345091231227057, 0.19380779779508553, -1.2171439092573397, -1.1221298763480816, -0.71548838463745, 0.8618914945926935, 0.8709948734880736, 1.3214572814137557, 0.3656583698395165, -1.0611358360980878, 2.6045600811046117, 0.29786624169468395, -1.2181968397107135, 0.005947039893275675, -0.9217262323903322, 0.43250191129540305, -2.059956112643729, -0.24783647778024964, -0.825755005236759, 0.5104517899980096, 0.7756766680790673, -0.6948728890863228, 0.10526112030629592, 0.595048497478357, -0.9684246545495997, 0.9805904389899971, -0.5150824233574389, -1.8701413759264716, 0.045707577044487815, -1.1812227615164517, -0.47919058861042635, 0.2020800241922994, -1.0295277726875516, -0.8007147666280858, -1.1849668586810944, -1.8499115869420633, -0.5969137115751699, 1.48710606342048, 0.5010826710528153, 0.23312570917424857, 0.4466191745148875, -0.7773227430247127, 0.05908523285531262, -0.411275094211949, -1.090825864124665, 0.2214935949606966, 1.3352016027920028, -0.11906672568050544, -1.7799645711470489, 1.4945027836142082], \"xaxis\": \"x14\", \"y\": [0.3798783138869394, 0.5325642324025878, -1.8891938479625277, -0.03444831396935892, 1.4104072642934369, -0.3503592139676249, -0.4518190931196363, -0.3526980962729689, -0.13644755472497294, 0.956469914017513, 0.2766338633851785, 0.48679215566673106, 0.6305138639396141, 0.670662053678759, 0.17246341882456473, 1.6896887579244286, -0.09568047093000441, 0.37002779584454143, -0.5889076792874218, -0.993264289903829, 0.032929627729489694, 2.459806536192735, -0.5300658412981611, -0.5462519759274664, 2.2185127174957526, -1.2873566015766316, 1.1085631311275275, 0.7540336592440204, -2.405117365648385, 0.7519527988408649, 0.960740272412522, 0.6661987152882016, 0.09604344180668174, 0.19791457794456077, -0.5767798450403657, -0.6094379212386503, 0.9635133288340161, -0.1916057929549026, 0.2822548631386541, -0.39170312163360355, 1.0553270001104484, -0.8883354765977708, 0.14339533089131373, 1.4340419022520996, 1.5387313432423801, -0.4491124148977889, 0.24097568616595325, -1.0952678381537415, -1.3070247606070595, 0.3665277479805535, -0.2783540192377507, 0.629501823076368, 0.6849483439792226, -0.5315032934853802, 1.0444660828634182, 1.538436301126394, 0.4319327354213975, -0.14084430545192075, 1.7219787146097316, 1.3972112919116941, -0.20272716886416664, 0.07143726678942765, -0.363681910844145, -1.5668551317424237, 0.378403314966072, 0.43504543706164983, -0.10889111832006396, -0.791434625542699, 1.6099239399808436, 0.5452652674536136, -1.4854687171382646, 0.8676730513097982, 1.1204485778757485, 0.6843594944768051, -0.7510865824027254, -0.2332906102221231, 0.8787493888412986, 0.6480584613902357, -0.42944843729204674, 1.1820664129266354, -0.3372464499840548, 0.9756828395663479, -0.4664566749827974, 0.619425782469263, 0.7089529472891641, -0.5008345898697598, 0.9463043227431527, -0.011880002448478146, 0.23520814180111044, -0.18531967636238048, 0.03318441552433788, -0.6339369120426261, -0.3350870887531984, 0.5644887956088116, 0.6160211323302354, 0.6940017094073261, -0.14109006224355106, 0.8750595947946054, 0.4015732140810989, -0.5021013131557769], \"yaxis\": \"y14\"}, {\"line\": {\"color\": \"rgba(128, 128, 128, 1.0)\", \"dash\": \"solid\", \"shape\": \"linear\", \"width\": 1.3}, \"marker\": {\"size\": 2, \"symbol\": \"circle\"}, \"mode\": \"markers\", \"name\": \"D\", \"text\": \"\", \"type\": \"scatter\", \"x\": [1.0574435496930406, 1.4921564787890202, -1.7661487698322937, 0.5468034187042222, -0.47026472549686354, 0.028866797470123048, 0.3139952672131217, 1.0668782081292985, 0.09238728722526235, 0.283247834274512, 0.4487993866836888, 0.9132713227316623, 0.008592406413361182, -0.7173373816876694, -0.037214402351031156, -2.8949439095111407, 0.4140767599284732, -1.3715577493217457, 1.2411017703319136, -0.7750902687746185, -1.3369518346870932, -1.1874007524465737, 0.3681246871113735, -0.29296405505946915, -0.4120491294340162, -0.6393549290429247, -1.6252105983283975, -1.3122854422321009, -1.9360909602917662, 1.2027910029886157, -0.4518326104029993, -2.29567896659763, -2.2027365357952218, -0.9495835357613918, -0.7322557769196346, -0.9241767204331726, 0.5631995965443728, -0.6312706493382001, 1.024196030529535, 0.4297610318922039, -0.7504142855157657, 1.0706424815592872, -0.31772007630060434, 0.6705110936808703, 0.4534108865873891, 1.5475342889743962, 0.3660711004823217, 1.2934499121707412, 0.7491633869777687, 0.09037087793335094, 0.3709638152711295, -1.351420359786962, -0.4203974223630586, 0.18498829849810838, -1.6876380183562545, -1.131961576340599, -0.6104901531877899, -2.2658956080934023, -0.186352790636565, 1.9137723635641175, 0.13508744155143304, 1.0159023595649985, -1.8165198631533503, 0.29210575387975946, -2.520194559655417, 0.2127339800838521, 0.6223598055465379, 0.5766940739463821, 1.355567983001298, -0.4679608448477689, -0.4400613901138157, -1.3310223817525753, -0.8755271323754789, 0.6197069606377154, 1.4410149209822796, -0.14775880614740602, -1.1989896338434585, 0.8030412590191057, 0.11810621881639764, 1.705029039681729, -2.009349513148917, -1.1579539361380786, -0.21682015326728335, 0.018930436667645812, -0.31797119351666403, -0.8411642149311813, 0.3495781033263939, -0.9349822805499162, -0.3114537226336073, -0.27159842048918575, 0.8369615864242455, 0.7858872047734048, -1.7845289249109602, 1.0115271820947205, 0.11688723804189248, 0.4384478782073346, 0.008889099217462877, -1.2107890685045604, -0.4071907027266032, 0.6536957941340616], \"xaxis\": \"x15\", \"y\": [0.3798783138869394, 0.5325642324025878, -1.8891938479625277, -0.03444831396935892, 1.4104072642934369, -0.3503592139676249, -0.4518190931196363, -0.3526980962729689, -0.13644755472497294, 0.956469914017513, 0.2766338633851785, 0.48679215566673106, 0.6305138639396141, 0.670662053678759, 0.17246341882456473, 1.6896887579244286, -0.09568047093000441, 0.37002779584454143, -0.5889076792874218, -0.993264289903829, 0.032929627729489694, 2.459806536192735, -0.5300658412981611, -0.5462519759274664, 2.2185127174957526, -1.2873566015766316, 1.1085631311275275, 0.7540336592440204, -2.405117365648385, 0.7519527988408649, 0.960740272412522, 0.6661987152882016, 0.09604344180668174, 0.19791457794456077, -0.5767798450403657, -0.6094379212386503, 0.9635133288340161, -0.1916057929549026, 0.2822548631386541, -0.39170312163360355, 1.0553270001104484, -0.8883354765977708, 0.14339533089131373, 1.4340419022520996, 1.5387313432423801, -0.4491124148977889, 0.24097568616595325, -1.0952678381537415, -1.3070247606070595, 0.3665277479805535, -0.2783540192377507, 0.629501823076368, 0.6849483439792226, -0.5315032934853802, 1.0444660828634182, 1.538436301126394, 0.4319327354213975, -0.14084430545192075, 1.7219787146097316, 1.3972112919116941, -0.20272716886416664, 0.07143726678942765, -0.363681910844145, -1.5668551317424237, 0.378403314966072, 0.43504543706164983, -0.10889111832006396, -0.791434625542699, 1.6099239399808436, 0.5452652674536136, -1.4854687171382646, 0.8676730513097982, 1.1204485778757485, 0.6843594944768051, -0.7510865824027254, -0.2332906102221231, 0.8787493888412986, 0.6480584613902357, -0.42944843729204674, 1.1820664129266354, -0.3372464499840548, 0.9756828395663479, -0.4664566749827974, 0.619425782469263, 0.7089529472891641, -0.5008345898697598, 0.9463043227431527, -0.011880002448478146, 0.23520814180111044, -0.18531967636238048, 0.03318441552433788, -0.6339369120426261, -0.3350870887531984, 0.5644887956088116, 0.6160211323302354, 0.6940017094073261, -0.14109006224355106, 0.8750595947946054, 0.4015732140810989, -0.5021013131557769], \"yaxis\": \"y15\"}, {\"histfunc\": \"count\", \"histnorm\": \"\", \"marker\": {\"color\": \"rgba(128, 0, 128, 1.0)\", \"line\": {\"color\": \"#4D5663\", \"width\": 1.3}}, \"name\": \"D\", \"nbinsx\": 10, \"opacity\": 0.8, \"orientation\": \"v\", \"type\": \"histogram\", \"x\": [0.3798783138869394, 0.5325642324025878, -1.8891938479625277, -0.03444831396935892, 1.4104072642934369, -0.3503592139676249, -0.4518190931196363, -0.3526980962729689, -0.13644755472497294, 0.956469914017513, 0.2766338633851785, 0.48679215566673106, 0.6305138639396141, 0.670662053678759, 0.17246341882456473, 1.6896887579244286, -0.09568047093000441, 0.37002779584454143, -0.5889076792874218, -0.993264289903829, 0.032929627729489694, 2.459806536192735, -0.5300658412981611, -0.5462519759274664, 2.2185127174957526, -1.2873566015766316, 1.1085631311275275, 0.7540336592440204, -2.405117365648385, 0.7519527988408649, 0.960740272412522, 0.6661987152882016, 0.09604344180668174, 0.19791457794456077, -0.5767798450403657, -0.6094379212386503, 0.9635133288340161, -0.1916057929549026, 0.2822548631386541, -0.39170312163360355, 1.0553270001104484, -0.8883354765977708, 0.14339533089131373, 1.4340419022520996, 1.5387313432423801, -0.4491124148977889, 0.24097568616595325, -1.0952678381537415, -1.3070247606070595, 0.3665277479805535, -0.2783540192377507, 0.629501823076368, 0.6849483439792226, -0.5315032934853802, 1.0444660828634182, 1.538436301126394, 0.4319327354213975, -0.14084430545192075, 1.7219787146097316, 1.3972112919116941, -0.20272716886416664, 0.07143726678942765, -0.363681910844145, -1.5668551317424237, 0.378403314966072, 0.43504543706164983, -0.10889111832006396, -0.791434625542699, 1.6099239399808436, 0.5452652674536136, -1.4854687171382646, 0.8676730513097982, 1.1204485778757485, 0.6843594944768051, -0.7510865824027254, -0.2332906102221231, 0.8787493888412986, 0.6480584613902357, -0.42944843729204674, 1.1820664129266354, -0.3372464499840548, 0.9756828395663479, -0.4664566749827974, 0.619425782469263, 0.7089529472891641, -0.5008345898697598, 0.9463043227431527, -0.011880002448478146, 0.23520814180111044, -0.18531967636238048, 0.03318441552433788, -0.6339369120426261, -0.3350870887531984, 0.5644887956088116, 0.6160211323302354, 0.6940017094073261, -0.14109006224355106, 0.8750595947946054, 0.4015732140810989, -0.5021013131557769], \"xaxis\": \"x16\", \"yaxis\": \"y16\"}],\n",
       "                        {\"bargap\": 0.02, \"legend\": {\"bgcolor\": \"#F5F6F9\", \"font\": {\"color\": \"#4D5663\"}}, \"paper_bgcolor\": \"#F5F6F9\", \"plot_bgcolor\": \"#F5F6F9\", \"showlegend\": false, \"template\": {\"data\": {\"bar\": [{\"error_x\": {\"color\": \"#2a3f5f\"}, \"error_y\": {\"color\": \"#2a3f5f\"}, \"marker\": {\"line\": {\"color\": \"#E5ECF6\", \"width\": 0.5}}, \"type\": \"bar\"}], \"barpolar\": [{\"marker\": {\"line\": {\"color\": \"#E5ECF6\", \"width\": 0.5}}, \"type\": \"barpolar\"}], \"carpet\": [{\"aaxis\": {\"endlinecolor\": \"#2a3f5f\", \"gridcolor\": \"white\", \"linecolor\": \"white\", \"minorgridcolor\": \"white\", \"startlinecolor\": \"#2a3f5f\"}, \"baxis\": {\"endlinecolor\": \"#2a3f5f\", \"gridcolor\": \"white\", \"linecolor\": \"white\", \"minorgridcolor\": \"white\", \"startlinecolor\": \"#2a3f5f\"}, \"type\": \"carpet\"}], \"choropleth\": [{\"colorbar\": {\"outlinewidth\": 0, \"ticks\": \"\"}, \"type\": \"choropleth\"}], \"contour\": [{\"colorbar\": {\"outlinewidth\": 0, \"ticks\": \"\"}, \"colorscale\": [[0.0, \"#0d0887\"], [0.1111111111111111, \"#46039f\"], [0.2222222222222222, \"#7201a8\"], [0.3333333333333333, \"#9c179e\"], [0.4444444444444444, \"#bd3786\"], [0.5555555555555556, \"#d8576b\"], [0.6666666666666666, \"#ed7953\"], [0.7777777777777778, \"#fb9f3a\"], [0.8888888888888888, \"#fdca26\"], [1.0, \"#f0f921\"]], \"type\": \"contour\"}], \"contourcarpet\": [{\"colorbar\": {\"outlinewidth\": 0, \"ticks\": \"\"}, \"type\": \"contourcarpet\"}], \"heatmap\": [{\"colorbar\": {\"outlinewidth\": 0, \"ticks\": \"\"}, \"colorscale\": [[0.0, \"#0d0887\"], [0.1111111111111111, \"#46039f\"], [0.2222222222222222, \"#7201a8\"], [0.3333333333333333, \"#9c179e\"], [0.4444444444444444, \"#bd3786\"], [0.5555555555555556, \"#d8576b\"], [0.6666666666666666, \"#ed7953\"], [0.7777777777777778, \"#fb9f3a\"], [0.8888888888888888, \"#fdca26\"], [1.0, \"#f0f921\"]], \"type\": \"heatmap\"}], \"heatmapgl\": [{\"colorbar\": {\"outlinewidth\": 0, \"ticks\": \"\"}, \"colorscale\": [[0.0, \"#0d0887\"], [0.1111111111111111, \"#46039f\"], [0.2222222222222222, \"#7201a8\"], [0.3333333333333333, \"#9c179e\"], [0.4444444444444444, \"#bd3786\"], [0.5555555555555556, \"#d8576b\"], [0.6666666666666666, \"#ed7953\"], [0.7777777777777778, \"#fb9f3a\"], [0.8888888888888888, \"#fdca26\"], [1.0, \"#f0f921\"]], \"type\": \"heatmapgl\"}], \"histogram\": [{\"marker\": {\"colorbar\": {\"outlinewidth\": 0, \"ticks\": \"\"}}, \"type\": \"histogram\"}], \"histogram2d\": [{\"colorbar\": {\"outlinewidth\": 0, \"ticks\": \"\"}, \"colorscale\": [[0.0, \"#0d0887\"], [0.1111111111111111, \"#46039f\"], [0.2222222222222222, \"#7201a8\"], [0.3333333333333333, \"#9c179e\"], [0.4444444444444444, \"#bd3786\"], [0.5555555555555556, \"#d8576b\"], [0.6666666666666666, \"#ed7953\"], [0.7777777777777778, \"#fb9f3a\"], [0.8888888888888888, \"#fdca26\"], [1.0, \"#f0f921\"]], \"type\": \"histogram2d\"}], \"histogram2dcontour\": [{\"colorbar\": {\"outlinewidth\": 0, \"ticks\": \"\"}, \"colorscale\": [[0.0, \"#0d0887\"], [0.1111111111111111, \"#46039f\"], [0.2222222222222222, \"#7201a8\"], [0.3333333333333333, \"#9c179e\"], [0.4444444444444444, \"#bd3786\"], [0.5555555555555556, \"#d8576b\"], [0.6666666666666666, \"#ed7953\"], [0.7777777777777778, \"#fb9f3a\"], [0.8888888888888888, \"#fdca26\"], [1.0, \"#f0f921\"]], \"type\": \"histogram2dcontour\"}], \"mesh3d\": [{\"colorbar\": {\"outlinewidth\": 0, \"ticks\": \"\"}, \"type\": \"mesh3d\"}], \"parcoords\": [{\"line\": {\"colorbar\": {\"outlinewidth\": 0, \"ticks\": \"\"}}, \"type\": \"parcoords\"}], \"pie\": [{\"automargin\": true, \"type\": \"pie\"}], \"scatter\": [{\"marker\": {\"colorbar\": {\"outlinewidth\": 0, \"ticks\": \"\"}}, \"type\": \"scatter\"}], \"scatter3d\": [{\"line\": {\"colorbar\": {\"outlinewidth\": 0, \"ticks\": \"\"}}, \"marker\": {\"colorbar\": {\"outlinewidth\": 0, \"ticks\": \"\"}}, \"type\": \"scatter3d\"}], \"scattercarpet\": [{\"marker\": {\"colorbar\": {\"outlinewidth\": 0, \"ticks\": \"\"}}, \"type\": \"scattercarpet\"}], \"scattergeo\": [{\"marker\": {\"colorbar\": {\"outlinewidth\": 0, \"ticks\": \"\"}}, \"type\": \"scattergeo\"}], \"scattergl\": [{\"marker\": {\"colorbar\": {\"outlinewidth\": 0, \"ticks\": \"\"}}, \"type\": \"scattergl\"}], \"scattermapbox\": [{\"marker\": {\"colorbar\": {\"outlinewidth\": 0, \"ticks\": \"\"}}, \"type\": \"scattermapbox\"}], \"scatterpolar\": [{\"marker\": {\"colorbar\": {\"outlinewidth\": 0, \"ticks\": \"\"}}, \"type\": \"scatterpolar\"}], \"scatterpolargl\": [{\"marker\": {\"colorbar\": {\"outlinewidth\": 0, \"ticks\": \"\"}}, \"type\": \"scatterpolargl\"}], \"scatterternary\": [{\"marker\": {\"colorbar\": {\"outlinewidth\": 0, \"ticks\": \"\"}}, \"type\": \"scatterternary\"}], \"surface\": [{\"colorbar\": {\"outlinewidth\": 0, \"ticks\": \"\"}, \"colorscale\": [[0.0, \"#0d0887\"], [0.1111111111111111, \"#46039f\"], [0.2222222222222222, \"#7201a8\"], [0.3333333333333333, \"#9c179e\"], [0.4444444444444444, \"#bd3786\"], [0.5555555555555556, \"#d8576b\"], [0.6666666666666666, \"#ed7953\"], [0.7777777777777778, \"#fb9f3a\"], [0.8888888888888888, \"#fdca26\"], [1.0, \"#f0f921\"]], \"type\": \"surface\"}], \"table\": [{\"cells\": {\"fill\": {\"color\": \"#EBF0F8\"}, \"line\": {\"color\": \"white\"}}, \"header\": {\"fill\": {\"color\": \"#C8D4E3\"}, \"line\": {\"color\": \"white\"}}, \"type\": \"table\"}]}, \"layout\": {\"annotationdefaults\": {\"arrowcolor\": \"#2a3f5f\", \"arrowhead\": 0, \"arrowwidth\": 1}, \"coloraxis\": {\"colorbar\": {\"outlinewidth\": 0, \"ticks\": \"\"}}, \"colorscale\": {\"diverging\": [[0, \"#8e0152\"], [0.1, \"#c51b7d\"], [0.2, \"#de77ae\"], [0.3, \"#f1b6da\"], [0.4, \"#fde0ef\"], [0.5, \"#f7f7f7\"], [0.6, \"#e6f5d0\"], [0.7, \"#b8e186\"], [0.8, \"#7fbc41\"], [0.9, \"#4d9221\"], [1, \"#276419\"]], \"sequential\": [[0.0, \"#0d0887\"], [0.1111111111111111, \"#46039f\"], [0.2222222222222222, \"#7201a8\"], [0.3333333333333333, \"#9c179e\"], [0.4444444444444444, \"#bd3786\"], [0.5555555555555556, \"#d8576b\"], [0.6666666666666666, \"#ed7953\"], [0.7777777777777778, \"#fb9f3a\"], [0.8888888888888888, \"#fdca26\"], [1.0, \"#f0f921\"]], \"sequentialminus\": [[0.0, \"#0d0887\"], [0.1111111111111111, \"#46039f\"], [0.2222222222222222, \"#7201a8\"], [0.3333333333333333, \"#9c179e\"], [0.4444444444444444, \"#bd3786\"], [0.5555555555555556, \"#d8576b\"], [0.6666666666666666, \"#ed7953\"], [0.7777777777777778, \"#fb9f3a\"], [0.8888888888888888, \"#fdca26\"], [1.0, \"#f0f921\"]]}, \"colorway\": [\"#636efa\", \"#EF553B\", \"#00cc96\", \"#ab63fa\", \"#FFA15A\", \"#19d3f3\", \"#FF6692\", \"#B6E880\", \"#FF97FF\", \"#FECB52\"], \"font\": {\"color\": \"#2a3f5f\"}, \"geo\": {\"bgcolor\": \"white\", \"lakecolor\": \"white\", \"landcolor\": \"#E5ECF6\", \"showlakes\": true, \"showland\": true, \"subunitcolor\": \"white\"}, \"hoverlabel\": {\"align\": \"left\"}, \"hovermode\": \"closest\", \"mapbox\": {\"style\": \"light\"}, \"paper_bgcolor\": \"white\", \"plot_bgcolor\": \"#E5ECF6\", \"polar\": {\"angularaxis\": {\"gridcolor\": \"white\", \"linecolor\": \"white\", \"ticks\": \"\"}, \"bgcolor\": \"#E5ECF6\", \"radialaxis\": {\"gridcolor\": \"white\", \"linecolor\": \"white\", \"ticks\": \"\"}}, \"scene\": {\"xaxis\": {\"backgroundcolor\": \"#E5ECF6\", \"gridcolor\": \"white\", \"gridwidth\": 2, \"linecolor\": \"white\", \"showbackground\": true, \"ticks\": \"\", \"zerolinecolor\": \"white\"}, \"yaxis\": {\"backgroundcolor\": \"#E5ECF6\", \"gridcolor\": \"white\", \"gridwidth\": 2, \"linecolor\": \"white\", \"showbackground\": true, \"ticks\": \"\", \"zerolinecolor\": \"white\"}, \"zaxis\": {\"backgroundcolor\": \"#E5ECF6\", \"gridcolor\": \"white\", \"gridwidth\": 2, \"linecolor\": \"white\", \"showbackground\": true, \"ticks\": \"\", \"zerolinecolor\": \"white\"}}, \"shapedefaults\": {\"line\": {\"color\": \"#2a3f5f\"}}, \"ternary\": {\"aaxis\": {\"gridcolor\": \"white\", \"linecolor\": \"white\", \"ticks\": \"\"}, \"baxis\": {\"gridcolor\": \"white\", \"linecolor\": \"white\", \"ticks\": \"\"}, \"bgcolor\": \"#E5ECF6\", \"caxis\": {\"gridcolor\": \"white\", \"linecolor\": \"white\", \"ticks\": \"\"}}, \"title\": {\"x\": 0.05}, \"xaxis\": {\"automargin\": true, \"gridcolor\": \"white\", \"linecolor\": \"white\", \"ticks\": \"\", \"title\": {\"standoff\": 15}, \"zerolinecolor\": \"white\", \"zerolinewidth\": 2}, \"yaxis\": {\"automargin\": true, \"gridcolor\": \"white\", \"linecolor\": \"white\", \"ticks\": \"\", \"title\": {\"standoff\": 15}, \"zerolinecolor\": \"white\", \"zerolinewidth\": 2}}}, \"title\": {\"font\": {\"color\": \"#4D5663\"}}, \"xaxis\": {\"anchor\": \"y\", \"domain\": [0.0, 0.2125], \"gridcolor\": \"#E1E5ED\", \"showgrid\": false, \"tickfont\": {\"color\": \"#4D5663\"}, \"title\": {\"font\": {\"color\": \"#4D5663\"}, \"text\": \"\"}, \"zerolinecolor\": \"#E1E5ED\"}, \"xaxis10\": {\"anchor\": \"y10\", \"domain\": [0.2625, 0.475], \"gridcolor\": \"#E1E5ED\", \"showgrid\": false, \"tickfont\": {\"color\": \"#4D5663\"}, \"title\": {\"font\": {\"color\": \"#4D5663\"}, \"text\": \"\"}, \"zerolinecolor\": \"#E1E5ED\"}, \"xaxis11\": {\"anchor\": \"y11\", \"domain\": [0.525, 0.7375], \"gridcolor\": \"#E1E5ED\", \"showgrid\": false, \"tickfont\": {\"color\": \"#4D5663\"}, \"title\": {\"font\": {\"color\": \"#4D5663\"}, \"text\": \"\"}, \"zerolinecolor\": \"#E1E5ED\"}, \"xaxis12\": {\"anchor\": \"y12\", \"domain\": [0.7875, 1.0], \"gridcolor\": \"#E1E5ED\", \"showgrid\": false, \"tickfont\": {\"color\": \"#4D5663\"}, \"title\": {\"font\": {\"color\": \"#4D5663\"}, \"text\": \"\"}, \"zerolinecolor\": \"#E1E5ED\"}, \"xaxis13\": {\"anchor\": \"y13\", \"domain\": [0.0, 0.2125], \"gridcolor\": \"#E1E5ED\", \"showgrid\": false, \"tickfont\": {\"color\": \"#4D5663\"}, \"title\": {\"font\": {\"color\": \"#4D5663\"}, \"text\": \"\"}, \"zerolinecolor\": \"#E1E5ED\"}, \"xaxis14\": {\"anchor\": \"y14\", \"domain\": [0.2625, 0.475], \"gridcolor\": \"#E1E5ED\", \"showgrid\": false, \"tickfont\": {\"color\": \"#4D5663\"}, \"title\": {\"font\": {\"color\": \"#4D5663\"}, \"text\": \"\"}, \"zerolinecolor\": \"#E1E5ED\"}, \"xaxis15\": {\"anchor\": \"y15\", \"domain\": [0.525, 0.7375], \"gridcolor\": \"#E1E5ED\", \"showgrid\": false, \"tickfont\": {\"color\": \"#4D5663\"}, \"title\": {\"font\": {\"color\": \"#4D5663\"}, \"text\": \"\"}, \"zerolinecolor\": \"#E1E5ED\"}, \"xaxis16\": {\"anchor\": \"y16\", \"domain\": [0.7875, 1.0], \"gridcolor\": \"#E1E5ED\", \"showgrid\": false, \"tickfont\": {\"color\": \"#4D5663\"}, \"title\": {\"font\": {\"color\": \"#4D5663\"}, \"text\": \"\"}, \"zerolinecolor\": \"#E1E5ED\"}, \"xaxis2\": {\"anchor\": \"y2\", \"domain\": [0.2625, 0.475], \"gridcolor\": \"#E1E5ED\", \"showgrid\": false, \"tickfont\": {\"color\": \"#4D5663\"}, \"title\": {\"font\": {\"color\": \"#4D5663\"}, \"text\": \"\"}, \"zerolinecolor\": \"#E1E5ED\"}, \"xaxis3\": {\"anchor\": \"y3\", \"domain\": [0.525, 0.7375], \"gridcolor\": \"#E1E5ED\", \"showgrid\": false, \"tickfont\": {\"color\": \"#4D5663\"}, \"title\": {\"font\": {\"color\": \"#4D5663\"}, \"text\": \"\"}, \"zerolinecolor\": \"#E1E5ED\"}, \"xaxis4\": {\"anchor\": \"y4\", \"domain\": [0.7875, 1.0], \"gridcolor\": \"#E1E5ED\", \"showgrid\": false, \"tickfont\": {\"color\": \"#4D5663\"}, \"title\": {\"font\": {\"color\": \"#4D5663\"}, \"text\": \"\"}, \"zerolinecolor\": \"#E1E5ED\"}, \"xaxis5\": {\"anchor\": \"y5\", \"domain\": [0.0, 0.2125], \"gridcolor\": \"#E1E5ED\", \"showgrid\": false, \"tickfont\": {\"color\": \"#4D5663\"}, \"title\": {\"font\": {\"color\": \"#4D5663\"}, \"text\": \"\"}, \"zerolinecolor\": \"#E1E5ED\"}, \"xaxis6\": {\"anchor\": \"y6\", \"domain\": [0.2625, 0.475], \"gridcolor\": \"#E1E5ED\", \"showgrid\": false, \"tickfont\": {\"color\": \"#4D5663\"}, \"title\": {\"font\": {\"color\": \"#4D5663\"}, \"text\": \"\"}, \"zerolinecolor\": \"#E1E5ED\"}, \"xaxis7\": {\"anchor\": \"y7\", \"domain\": [0.525, 0.7375], \"gridcolor\": \"#E1E5ED\", \"showgrid\": false, \"tickfont\": {\"color\": \"#4D5663\"}, \"title\": {\"font\": {\"color\": \"#4D5663\"}, \"text\": \"\"}, \"zerolinecolor\": \"#E1E5ED\"}, \"xaxis8\": {\"anchor\": \"y8\", \"domain\": [0.7875, 1.0], \"gridcolor\": \"#E1E5ED\", \"showgrid\": false, \"tickfont\": {\"color\": \"#4D5663\"}, \"title\": {\"font\": {\"color\": \"#4D5663\"}, \"text\": \"\"}, \"zerolinecolor\": \"#E1E5ED\"}, \"xaxis9\": {\"anchor\": \"y9\", \"domain\": [0.0, 0.2125], \"gridcolor\": \"#E1E5ED\", \"showgrid\": false, \"tickfont\": {\"color\": \"#4D5663\"}, \"title\": {\"font\": {\"color\": \"#4D5663\"}, \"text\": \"\"}, \"zerolinecolor\": \"#E1E5ED\"}, \"yaxis\": {\"anchor\": \"x\", \"domain\": [0.8025, 1.0], \"gridcolor\": \"#E1E5ED\", \"showgrid\": false, \"tickfont\": {\"color\": \"#4D5663\"}, \"title\": {\"font\": {\"color\": \"#4D5663\"}, \"text\": \"\"}, \"zerolinecolor\": \"#E1E5ED\"}, \"yaxis10\": {\"anchor\": \"x10\", \"domain\": [0.2675, 0.465], \"gridcolor\": \"#E1E5ED\", \"showgrid\": false, \"tickfont\": {\"color\": \"#4D5663\"}, \"title\": {\"font\": {\"color\": \"#4D5663\"}, \"text\": \"\"}, \"zerolinecolor\": \"#E1E5ED\"}, \"yaxis11\": {\"anchor\": \"x11\", \"domain\": [0.2675, 0.465], \"gridcolor\": \"#E1E5ED\", \"showgrid\": false, \"tickfont\": {\"color\": \"#4D5663\"}, \"title\": {\"font\": {\"color\": \"#4D5663\"}, \"text\": \"\"}, \"zerolinecolor\": \"#E1E5ED\"}, \"yaxis12\": {\"anchor\": \"x12\", \"domain\": [0.2675, 0.465], \"gridcolor\": \"#E1E5ED\", \"showgrid\": false, \"tickfont\": {\"color\": \"#4D5663\"}, \"title\": {\"font\": {\"color\": \"#4D5663\"}, \"text\": \"\"}, \"zerolinecolor\": \"#E1E5ED\"}, \"yaxis13\": {\"anchor\": \"x13\", \"domain\": [0.0, 0.1975], \"gridcolor\": \"#E1E5ED\", \"showgrid\": false, \"tickfont\": {\"color\": \"#4D5663\"}, \"title\": {\"font\": {\"color\": \"#4D5663\"}, \"text\": \"\"}, \"zerolinecolor\": \"#E1E5ED\"}, \"yaxis14\": {\"anchor\": \"x14\", \"domain\": [0.0, 0.1975], \"gridcolor\": \"#E1E5ED\", \"showgrid\": false, \"tickfont\": {\"color\": \"#4D5663\"}, \"title\": {\"font\": {\"color\": \"#4D5663\"}, \"text\": \"\"}, \"zerolinecolor\": \"#E1E5ED\"}, \"yaxis15\": {\"anchor\": \"x15\", \"domain\": [0.0, 0.1975], \"gridcolor\": \"#E1E5ED\", \"showgrid\": false, \"tickfont\": {\"color\": \"#4D5663\"}, \"title\": {\"font\": {\"color\": \"#4D5663\"}, \"text\": \"\"}, \"zerolinecolor\": \"#E1E5ED\"}, \"yaxis16\": {\"anchor\": \"x16\", \"domain\": [0.0, 0.1975], \"gridcolor\": \"#E1E5ED\", \"showgrid\": false, \"tickfont\": {\"color\": \"#4D5663\"}, \"title\": {\"font\": {\"color\": \"#4D5663\"}, \"text\": \"\"}, \"zerolinecolor\": \"#E1E5ED\"}, \"yaxis2\": {\"anchor\": \"x2\", \"domain\": [0.8025, 1.0], \"gridcolor\": \"#E1E5ED\", \"showgrid\": false, \"tickfont\": {\"color\": \"#4D5663\"}, \"title\": {\"font\": {\"color\": \"#4D5663\"}, \"text\": \"\"}, \"zerolinecolor\": \"#E1E5ED\"}, \"yaxis3\": {\"anchor\": \"x3\", \"domain\": [0.8025, 1.0], \"gridcolor\": \"#E1E5ED\", \"showgrid\": false, \"tickfont\": {\"color\": \"#4D5663\"}, \"title\": {\"font\": {\"color\": \"#4D5663\"}, \"text\": \"\"}, \"zerolinecolor\": \"#E1E5ED\"}, \"yaxis4\": {\"anchor\": \"x4\", \"domain\": [0.8025, 1.0], \"gridcolor\": \"#E1E5ED\", \"showgrid\": false, \"tickfont\": {\"color\": \"#4D5663\"}, \"title\": {\"font\": {\"color\": \"#4D5663\"}, \"text\": \"\"}, \"zerolinecolor\": \"#E1E5ED\"}, \"yaxis5\": {\"anchor\": \"x5\", \"domain\": [0.535, 0.7325], \"gridcolor\": \"#E1E5ED\", \"showgrid\": false, \"tickfont\": {\"color\": \"#4D5663\"}, \"title\": {\"font\": {\"color\": \"#4D5663\"}, \"text\": \"\"}, \"zerolinecolor\": \"#E1E5ED\"}, \"yaxis6\": {\"anchor\": \"x6\", \"domain\": [0.535, 0.7325], \"gridcolor\": \"#E1E5ED\", \"showgrid\": false, \"tickfont\": {\"color\": \"#4D5663\"}, \"title\": {\"font\": {\"color\": \"#4D5663\"}, \"text\": \"\"}, \"zerolinecolor\": \"#E1E5ED\"}, \"yaxis7\": {\"anchor\": \"x7\", \"domain\": [0.535, 0.7325], \"gridcolor\": \"#E1E5ED\", \"showgrid\": false, \"tickfont\": {\"color\": \"#4D5663\"}, \"title\": {\"font\": {\"color\": \"#4D5663\"}, \"text\": \"\"}, \"zerolinecolor\": \"#E1E5ED\"}, \"yaxis8\": {\"anchor\": \"x8\", \"domain\": [0.535, 0.7325], \"gridcolor\": \"#E1E5ED\", \"showgrid\": false, \"tickfont\": {\"color\": \"#4D5663\"}, \"title\": {\"font\": {\"color\": \"#4D5663\"}, \"text\": \"\"}, \"zerolinecolor\": \"#E1E5ED\"}, \"yaxis9\": {\"anchor\": \"x9\", \"domain\": [0.2675, 0.465], \"gridcolor\": \"#E1E5ED\", \"showgrid\": false, \"tickfont\": {\"color\": \"#4D5663\"}, \"title\": {\"font\": {\"color\": \"#4D5663\"}, \"text\": \"\"}, \"zerolinecolor\": \"#E1E5ED\"}},\n",
       "                        {\"showLink\": true, \"linkText\": \"Export to plot.ly\", \"plotlyServerURL\": \"https://plot.ly\", \"responsive\": true}\n",
       "                    ).then(function(){\n",
       "                            \n",
       "var gd = document.getElementById('38c5671b-6e8d-469b-8666-bf594080c7a5');\n",
       "var x = new MutationObserver(function (mutations, observer) {{\n",
       "        var display = window.getComputedStyle(gd).display;\n",
       "        if (!display || display === 'none') {{\n",
       "            console.log([gd, 'removed!']);\n",
       "            Plotly.purge(gd);\n",
       "            observer.disconnect();\n",
       "        }}\n",
       "}});\n",
       "\n",
       "// Listen for the removal of the full notebook cells\n",
       "var notebookContainer = gd.closest('#notebook-container');\n",
       "if (notebookContainer) {{\n",
       "    x.observe(notebookContainer, {childList: true});\n",
       "}}\n",
       "\n",
       "// Listen for the clearing of the current output cell\n",
       "var outputEl = gd.closest('.output');\n",
       "if (outputEl) {{\n",
       "    x.observe(outputEl, {childList: true});\n",
       "}}\n",
       "\n",
       "                        })\n",
       "                };\n",
       "                });\n",
       "            </script>\n",
       "        </div>"
      ]
     },
     "metadata": {},
     "output_type": "display_data"
    }
   ],
   "source": [
    "df.scatter_matrix()"
   ]
  },
  {
   "cell_type": "markdown",
   "metadata": {},
   "source": [
    "# Great Job!"
   ]
  }
 ],
 "metadata": {
  "kernelspec": {
   "display_name": "Python 3",
   "language": "python",
   "name": "python3"
  },
  "language_info": {
   "codemirror_mode": {
    "name": "ipython",
    "version": 3
   },
   "file_extension": ".py",
   "mimetype": "text/x-python",
   "name": "python",
   "nbconvert_exporter": "python",
   "pygments_lexer": "ipython3",
   "version": "3.7.9"
  }
 },
 "nbformat": 4,
 "nbformat_minor": 4
}
